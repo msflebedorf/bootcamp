{
 "cells": [
  {
   "cell_type": "markdown",
   "metadata": {},
   "source": [
    "### Thinkful  Unit 4, Lesson 1, Section 4: Supervised or Unsupervised?"
   ]
  },
  {
   "cell_type": "markdown",
   "metadata": {},
   "source": [
    "#### Define the likelihood that an individual will contract a specific disease\n",
    "\n",
    "\n",
    "The key word seems to be \"likelihood\" (i.e. probability). \"Will/will not contract a disease\" is a binary variable; this is a classification problem. This could be a *supervised*, logistic regression model. It does not have to be logistic regression, however. Check to determine if the variables have a linear relationship before choosing logistic regression. "
   ]
  },
  {
   "cell_type": "markdown",
   "metadata": {},
   "source": [
    "#### Translate a set of images into variables for modeling\n",
    "\n",
    "This could be an *unsupervised* neural network model. There is no outcome to predict; rather, this is finding latent variables in the image data that aren't explicitly defined in the initial dataset. This is an application for feature extraction. After features are extracted, they could be sent to another model."
   ]
  },
  {
   "cell_type": "markdown",
   "metadata": {},
   "source": [
    "#### An ecommerce company wants to identify power users\n",
    "\n",
    "Assuming a 'power user' has a clear definition, then 'power user yes/no' is the target variable. This could be a *supervised* model. "
   ]
  },
  {
   "cell_type": "markdown",
   "metadata": {},
   "source": [
    "#### That same company wants to see shopping patterns in users\n",
    "\n",
    "This could be an *unsupervised* clustering model, since we are searching for related observations."
   ]
  },
  {
   "cell_type": "markdown",
   "metadata": {},
   "source": [
    "#### You want to reduce the number of variables inputting into your random forest model\n",
    "\n",
    "This may be an application for PCA, which is an *unsupervised* learning method. PCA will help identify those variables that are most influential in a dataset. It could be used prior to running a random forest model, a *supervised* model. Or, we could start with a random forest model and look at feature importances."
   ]
  },
  {
   "cell_type": "markdown",
   "metadata": {},
   "source": [
    "### Generalizations"
   ]
  },
  {
   "cell_type": "markdown",
   "metadata": {},
   "source": [
    "Unsupervised learning involves a collection of unlabelled variables.\n",
    "\n",
    "Supervised learning algorithms use the dataset to produce a model that allows deducing a label (output) based on some features (inputs)."
   ]
  },
  {
   "cell_type": "code",
   "execution_count": null,
   "metadata": {},
   "outputs": [],
   "source": []
  }
 ],
 "metadata": {
  "kernelspec": {
   "display_name": "Python 3",
   "language": "python",
   "name": "python3"
  },
  "language_info": {
   "codemirror_mode": {
    "name": "ipython",
    "version": 3
   },
   "file_extension": ".py",
   "mimetype": "text/x-python",
   "name": "python",
   "nbconvert_exporter": "python",
   "pygments_lexer": "ipython3",
   "version": "3.6.1"
  }
 },
 "nbformat": 4,
 "nbformat_minor": 2
}
