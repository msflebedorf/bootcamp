{
 "cells": [
  {
   "cell_type": "markdown",
   "metadata": {},
   "source": [
    "## Thinkful Unit 4 Section 2, Clustering Challenge"
   ]
  },
  {
   "cell_type": "markdown",
   "metadata": {},
   "source": [
    "Thinkful project description:\n",
    "\n",
    "There is a lot of information on runners and their performance for the Boston Marathon. Pick a year (post-2012 has more info) and do some clustering.\n",
    "\n",
    "Specifically, use the tools at hand to determine which clustering solution, including number of clusters and algorithm used, is best for the marathon data. Once you have a solution you like, write a data story, including visualizations, where you teach the reader something about the Boston Marathon based on your clusters. Write up your report, including your process from start to finish, in a Jupyter notebook and submit it below."
   ]
  },
  {
   "cell_type": "code",
   "execution_count": 1,
   "metadata": {
    "ExecuteTime": {
     "end_time": "2019-08-23T01:45:12.139013Z",
     "start_time": "2019-08-23T01:45:11.556639Z"
    }
   },
   "outputs": [],
   "source": [
    "import numpy as np\n",
    "import pandas as pd\n",
    "\n",
    "import matplotlib.pyplot as plt\n",
    "%matplotlib inline"
   ]
  },
  {
   "cell_type": "markdown",
   "metadata": {},
   "source": [
    "### Explore and prepare the data\n"
   ]
  },
  {
   "cell_type": "code",
   "execution_count": 2,
   "metadata": {
    "ExecuteTime": {
     "end_time": "2019-08-23T01:45:12.232397Z",
     "start_time": "2019-08-23T01:45:12.142642Z"
    }
   },
   "outputs": [],
   "source": [
    "#Read marathon data for 2013\n",
    "boston13 = pd.read_csv('../Datafiles/boston_marathon_results_2013.csv')"
   ]
  },
  {
   "cell_type": "code",
   "execution_count": 3,
   "metadata": {
    "ExecuteTime": {
     "end_time": "2019-08-23T01:45:12.241251Z",
     "start_time": "2019-08-23T01:45:12.234628Z"
    }
   },
   "outputs": [
    {
     "data": {
      "text/plain": [
       "(16164, 21)"
      ]
     },
     "execution_count": 3,
     "metadata": {},
     "output_type": "execute_result"
    }
   ],
   "source": [
    "boston13.shape"
   ]
  },
  {
   "cell_type": "markdown",
   "metadata": {
    "ExecuteTime": {
     "end_time": "2019-08-22T00:08:43.077173Z",
     "start_time": "2019-08-22T00:08:43.071788Z"
    }
   },
   "source": [
    "####  Notes about the dataset\n",
    "\n",
    "I selected Boston Marathon race data for the year 2013.\n",
    "\n",
    "According to the Boston Athletic Association, 17,600 runners and 52 wheelchair racers finished the race. \n",
    "Source: http://registration.baa.org/2013/cf/public/iframe_Statistics.htm]\n",
    "\n",
    "The 2013 Marathon was the scene of a bombing that killed 3 people and injured an estimated 264 people. [Source: https://www.cbsnews.com/pictures/boston-marathon-bombing-victims/\n",
    "\n",
    "It appears as if we have fewer records than finishers in this dataset (16,164 records vs 17,600 finishers). I'm going to continue working with this dataset anyway. Examining the csv file in a text editor, I don't see a mis-placed end of file marker. Viewing the raw data on Github, the last record matches the last record in my dataframe (see below).\n",
    "\n",
    "According to the Github data source, wheelchair racers are included but other special groups, such as hand cyclists, are not. \n",
    "\n",
    "I could not find a data dictionary or data description for this source."
   ]
  },
  {
   "cell_type": "code",
   "execution_count": 4,
   "metadata": {
    "ExecuteTime": {
     "end_time": "2019-08-23T01:45:12.274566Z",
     "start_time": "2019-08-23T01:45:12.245076Z"
    }
   },
   "outputs": [
    {
     "name": "stdout",
     "output_type": "stream",
     "text": [
      "<class 'pandas.core.frame.DataFrame'>\n",
      "RangeIndex: 16164 entries, 0 to 16163\n",
      "Data columns (total 21 columns):\n",
      "25k          16164 non-null object\n",
      "age          16164 non-null int64\n",
      "name         16164 non-null object\n",
      "division     16164 non-null int64\n",
      "10k          16164 non-null object\n",
      "gender       16164 non-null object\n",
      "half         16164 non-null object\n",
      "official     16164 non-null float64\n",
      "bib          16164 non-null object\n",
      "ctz          757 non-null object\n",
      "country      16164 non-null object\n",
      "overall      16164 non-null int64\n",
      "pace         16164 non-null float64\n",
      "state        14701 non-null object\n",
      "30k          16164 non-null object\n",
      "5k           16164 non-null object\n",
      "genderdiv    16164 non-null int64\n",
      "20k          16164 non-null object\n",
      "35k          16164 non-null object\n",
      "city         16163 non-null object\n",
      "40k          16164 non-null object\n",
      "dtypes: float64(2), int64(4), object(15)\n",
      "memory usage: 2.6+ MB\n"
     ]
    }
   ],
   "source": [
    "boston13.info()"
   ]
  },
  {
   "cell_type": "code",
   "execution_count": 5,
   "metadata": {
    "ExecuteTime": {
     "end_time": "2019-08-23T01:45:12.316974Z",
     "start_time": "2019-08-23T01:45:12.278216Z"
    }
   },
   "outputs": [
    {
     "data": {
      "text/html": [
       "<div>\n",
       "<style scoped>\n",
       "    .dataframe tbody tr th:only-of-type {\n",
       "        vertical-align: middle;\n",
       "    }\n",
       "\n",
       "    .dataframe tbody tr th {\n",
       "        vertical-align: top;\n",
       "    }\n",
       "\n",
       "    .dataframe thead th {\n",
       "        text-align: right;\n",
       "    }\n",
       "</style>\n",
       "<table border=\"1\" class=\"dataframe\">\n",
       "  <thead>\n",
       "    <tr style=\"text-align: right;\">\n",
       "      <th></th>\n",
       "      <th>25k</th>\n",
       "      <th>age</th>\n",
       "      <th>name</th>\n",
       "      <th>division</th>\n",
       "      <th>10k</th>\n",
       "      <th>gender</th>\n",
       "      <th>half</th>\n",
       "      <th>official</th>\n",
       "      <th>bib</th>\n",
       "      <th>ctz</th>\n",
       "      <th>...</th>\n",
       "      <th>overall</th>\n",
       "      <th>pace</th>\n",
       "      <th>state</th>\n",
       "      <th>30k</th>\n",
       "      <th>5k</th>\n",
       "      <th>genderdiv</th>\n",
       "      <th>20k</th>\n",
       "      <th>35k</th>\n",
       "      <th>city</th>\n",
       "      <th>40k</th>\n",
       "    </tr>\n",
       "  </thead>\n",
       "  <tbody>\n",
       "    <tr>\n",
       "      <th>0</th>\n",
       "      <td>49.87</td>\n",
       "      <td>28</td>\n",
       "      <td>Cassidy, Josh R.</td>\n",
       "      <td>9</td>\n",
       "      <td>18.18</td>\n",
       "      <td>M</td>\n",
       "      <td>40.93</td>\n",
       "      <td>90.90</td>\n",
       "      <td>W1</td>\n",
       "      <td>NaN</td>\n",
       "      <td>...</td>\n",
       "      <td>9</td>\n",
       "      <td>3.47</td>\n",
       "      <td>ON</td>\n",
       "      <td>62.07</td>\n",
       "      <td>8.90</td>\n",
       "      <td>9</td>\n",
       "      <td>38.80</td>\n",
       "      <td>74.73</td>\n",
       "      <td>Toronto</td>\n",
       "      <td>85.55</td>\n",
       "    </tr>\n",
       "    <tr>\n",
       "      <th>1</th>\n",
       "      <td>77.27</td>\n",
       "      <td>30</td>\n",
       "      <td>Korir, Wesley</td>\n",
       "      <td>5</td>\n",
       "      <td>30.90</td>\n",
       "      <td>M</td>\n",
       "      <td>64.90</td>\n",
       "      <td>132.50</td>\n",
       "      <td>1</td>\n",
       "      <td>NaN</td>\n",
       "      <td>...</td>\n",
       "      <td>5</td>\n",
       "      <td>5.07</td>\n",
       "      <td>NaN</td>\n",
       "      <td>92.97</td>\n",
       "      <td>15.90</td>\n",
       "      <td>5</td>\n",
       "      <td>61.52</td>\n",
       "      <td>108.78</td>\n",
       "      <td>Kenya</td>\n",
       "      <td>124.77</td>\n",
       "    </tr>\n",
       "    <tr>\n",
       "      <th>2</th>\n",
       "      <td>77.23</td>\n",
       "      <td>23</td>\n",
       "      <td>Desisa, Lelisa</td>\n",
       "      <td>1</td>\n",
       "      <td>30.90</td>\n",
       "      <td>M</td>\n",
       "      <td>64.92</td>\n",
       "      <td>130.37</td>\n",
       "      <td>2</td>\n",
       "      <td>NaN</td>\n",
       "      <td>...</td>\n",
       "      <td>1</td>\n",
       "      <td>4.98</td>\n",
       "      <td>NaN</td>\n",
       "      <td>92.72</td>\n",
       "      <td>15.93</td>\n",
       "      <td>1</td>\n",
       "      <td>61.53</td>\n",
       "      <td>108.68</td>\n",
       "      <td>Ambo</td>\n",
       "      <td>123.78</td>\n",
       "    </tr>\n",
       "    <tr>\n",
       "      <th>3</th>\n",
       "      <td>50.50</td>\n",
       "      <td>32</td>\n",
       "      <td>Fearnley, Kurt H.</td>\n",
       "      <td>5</td>\n",
       "      <td>18.73</td>\n",
       "      <td>M</td>\n",
       "      <td>42.00</td>\n",
       "      <td>88.43</td>\n",
       "      <td>W2</td>\n",
       "      <td>NaN</td>\n",
       "      <td>...</td>\n",
       "      <td>5</td>\n",
       "      <td>3.38</td>\n",
       "      <td>NaN</td>\n",
       "      <td>61.35</td>\n",
       "      <td>8.98</td>\n",
       "      <td>5</td>\n",
       "      <td>39.88</td>\n",
       "      <td>73.00</td>\n",
       "      <td>Hamilton</td>\n",
       "      <td>83.43</td>\n",
       "    </tr>\n",
       "    <tr>\n",
       "      <th>4</th>\n",
       "      <td>48.75</td>\n",
       "      <td>39</td>\n",
       "      <td>Hokinoue, Kota</td>\n",
       "      <td>3</td>\n",
       "      <td>18.18</td>\n",
       "      <td>M</td>\n",
       "      <td>40.57</td>\n",
       "      <td>87.22</td>\n",
       "      <td>W3</td>\n",
       "      <td>NaN</td>\n",
       "      <td>...</td>\n",
       "      <td>3</td>\n",
       "      <td>3.33</td>\n",
       "      <td>NaN</td>\n",
       "      <td>59.92</td>\n",
       "      <td>8.92</td>\n",
       "      <td>3</td>\n",
       "      <td>38.55</td>\n",
       "      <td>71.68</td>\n",
       "      <td>Iizuka</td>\n",
       "      <td>81.88</td>\n",
       "    </tr>\n",
       "  </tbody>\n",
       "</table>\n",
       "<p>5 rows × 21 columns</p>\n",
       "</div>"
      ],
      "text/plain": [
       "     25k  age               name  division    10k gender   half  official bib  \\\n",
       "0  49.87   28   Cassidy, Josh R.         9  18.18      M  40.93     90.90  W1   \n",
       "1  77.27   30      Korir, Wesley         5  30.90      M  64.90    132.50   1   \n",
       "2  77.23   23     Desisa, Lelisa         1  30.90      M  64.92    130.37   2   \n",
       "3  50.50   32  Fearnley, Kurt H.         5  18.73      M  42.00     88.43  W2   \n",
       "4  48.75   39     Hokinoue, Kota         3  18.18      M  40.57     87.22  W3   \n",
       "\n",
       "   ctz   ...   overall  pace  state    30k     5k genderdiv    20k     35k  \\\n",
       "0  NaN   ...         9  3.47     ON  62.07   8.90         9  38.80   74.73   \n",
       "1  NaN   ...         5  5.07    NaN  92.97  15.90         5  61.52  108.78   \n",
       "2  NaN   ...         1  4.98    NaN  92.72  15.93         1  61.53  108.68   \n",
       "3  NaN   ...         5  3.38    NaN  61.35   8.98         5  39.88   73.00   \n",
       "4  NaN   ...         3  3.33    NaN  59.92   8.92         3  38.55   71.68   \n",
       "\n",
       "       city     40k  \n",
       "0   Toronto   85.55  \n",
       "1     Kenya  124.77  \n",
       "2      Ambo  123.78  \n",
       "3  Hamilton   83.43  \n",
       "4    Iizuka   81.88  \n",
       "\n",
       "[5 rows x 21 columns]"
      ]
     },
     "execution_count": 5,
     "metadata": {},
     "output_type": "execute_result"
    }
   ],
   "source": [
    "#Check for non-data records at top and bottom of file\n",
    "boston13.head(5)"
   ]
  },
  {
   "cell_type": "code",
   "execution_count": 6,
   "metadata": {
    "ExecuteTime": {
     "end_time": "2019-08-23T01:45:12.355645Z",
     "start_time": "2019-08-23T01:45:12.319507Z"
    },
    "scrolled": true
   },
   "outputs": [
    {
     "data": {
      "text/html": [
       "<div>\n",
       "<style scoped>\n",
       "    .dataframe tbody tr th:only-of-type {\n",
       "        vertical-align: middle;\n",
       "    }\n",
       "\n",
       "    .dataframe tbody tr th {\n",
       "        vertical-align: top;\n",
       "    }\n",
       "\n",
       "    .dataframe thead th {\n",
       "        text-align: right;\n",
       "    }\n",
       "</style>\n",
       "<table border=\"1\" class=\"dataframe\">\n",
       "  <thead>\n",
       "    <tr style=\"text-align: right;\">\n",
       "      <th></th>\n",
       "      <th>25k</th>\n",
       "      <th>age</th>\n",
       "      <th>name</th>\n",
       "      <th>division</th>\n",
       "      <th>10k</th>\n",
       "      <th>gender</th>\n",
       "      <th>half</th>\n",
       "      <th>official</th>\n",
       "      <th>bib</th>\n",
       "      <th>ctz</th>\n",
       "      <th>...</th>\n",
       "      <th>overall</th>\n",
       "      <th>pace</th>\n",
       "      <th>state</th>\n",
       "      <th>30k</th>\n",
       "      <th>5k</th>\n",
       "      <th>genderdiv</th>\n",
       "      <th>20k</th>\n",
       "      <th>35k</th>\n",
       "      <th>city</th>\n",
       "      <th>40k</th>\n",
       "    </tr>\n",
       "  </thead>\n",
       "  <tbody>\n",
       "    <tr>\n",
       "      <th>16159</th>\n",
       "      <td>144.85</td>\n",
       "      <td>65</td>\n",
       "      <td>Loy, Judy</td>\n",
       "      <td>6</td>\n",
       "      <td>57.57</td>\n",
       "      <td>F</td>\n",
       "      <td>121.98</td>\n",
       "      <td>247.47</td>\n",
       "      <td>20854</td>\n",
       "      <td>NaN</td>\n",
       "      <td>...</td>\n",
       "      <td>17014</td>\n",
       "      <td>9.45</td>\n",
       "      <td>WA</td>\n",
       "      <td>174.75</td>\n",
       "      <td>28.50</td>\n",
       "      <td>6686</td>\n",
       "      <td>115.63</td>\n",
       "      <td>204.83</td>\n",
       "      <td>Vancouver</td>\n",
       "      <td>234.48</td>\n",
       "    </tr>\n",
       "    <tr>\n",
       "      <th>16160</th>\n",
       "      <td>133.32</td>\n",
       "      <td>64</td>\n",
       "      <td>Homeyer, Thomas F.</td>\n",
       "      <td>258</td>\n",
       "      <td>52.80</td>\n",
       "      <td>M</td>\n",
       "      <td>112.27</td>\n",
       "      <td>229.72</td>\n",
       "      <td>20856</td>\n",
       "      <td>NaN</td>\n",
       "      <td>...</td>\n",
       "      <td>13796</td>\n",
       "      <td>8.77</td>\n",
       "      <td>NY</td>\n",
       "      <td>161.00</td>\n",
       "      <td>26.57</td>\n",
       "      <td>9024</td>\n",
       "      <td>106.38</td>\n",
       "      <td>189.82</td>\n",
       "      <td>Tully</td>\n",
       "      <td>217.88</td>\n",
       "    </tr>\n",
       "    <tr>\n",
       "      <th>16161</th>\n",
       "      <td>139.83</td>\n",
       "      <td>75</td>\n",
       "      <td>Pain, Malcolm A</td>\n",
       "      <td>3</td>\n",
       "      <td>54.97</td>\n",
       "      <td>M</td>\n",
       "      <td>117.58</td>\n",
       "      <td>239.97</td>\n",
       "      <td>20870</td>\n",
       "      <td>NaN</td>\n",
       "      <td>...</td>\n",
       "      <td>16083</td>\n",
       "      <td>9.17</td>\n",
       "      <td>NS</td>\n",
       "      <td>168.82</td>\n",
       "      <td>27.48</td>\n",
       "      <td>9994</td>\n",
       "      <td>111.45</td>\n",
       "      <td>198.42</td>\n",
       "      <td>Halifax</td>\n",
       "      <td>227.53</td>\n",
       "    </tr>\n",
       "    <tr>\n",
       "      <th>16162</th>\n",
       "      <td>135.38</td>\n",
       "      <td>80</td>\n",
       "      <td>Wilson, Harold W</td>\n",
       "      <td>1</td>\n",
       "      <td>53.13</td>\n",
       "      <td>M</td>\n",
       "      <td>113.80</td>\n",
       "      <td>233.90</td>\n",
       "      <td>20907</td>\n",
       "      <td>NaN</td>\n",
       "      <td>...</td>\n",
       "      <td>14768</td>\n",
       "      <td>8.93</td>\n",
       "      <td>TX</td>\n",
       "      <td>164.02</td>\n",
       "      <td>26.93</td>\n",
       "      <td>9434</td>\n",
       "      <td>107.85</td>\n",
       "      <td>192.80</td>\n",
       "      <td>Tyler</td>\n",
       "      <td>221.42</td>\n",
       "    </tr>\n",
       "    <tr>\n",
       "      <th>16163</th>\n",
       "      <td>144.95</td>\n",
       "      <td>61</td>\n",
       "      <td>Collins, Laurel M</td>\n",
       "      <td>49</td>\n",
       "      <td>57.57</td>\n",
       "      <td>F</td>\n",
       "      <td>121.55</td>\n",
       "      <td>249.15</td>\n",
       "      <td>20908</td>\n",
       "      <td>NaN</td>\n",
       "      <td>...</td>\n",
       "      <td>17144</td>\n",
       "      <td>9.52</td>\n",
       "      <td>CA</td>\n",
       "      <td>175.82</td>\n",
       "      <td>28.93</td>\n",
       "      <td>6762</td>\n",
       "      <td>115.32</td>\n",
       "      <td>206.67</td>\n",
       "      <td>Berkeley</td>\n",
       "      <td>235.85</td>\n",
       "    </tr>\n",
       "  </tbody>\n",
       "</table>\n",
       "<p>5 rows × 21 columns</p>\n",
       "</div>"
      ],
      "text/plain": [
       "          25k  age                name  division    10k gender    half  \\\n",
       "16159  144.85   65           Loy, Judy         6  57.57      F  121.98   \n",
       "16160  133.32   64  Homeyer, Thomas F.       258  52.80      M  112.27   \n",
       "16161  139.83   75     Pain, Malcolm A         3  54.97      M  117.58   \n",
       "16162  135.38   80    Wilson, Harold W         1  53.13      M  113.80   \n",
       "16163  144.95   61   Collins, Laurel M        49  57.57      F  121.55   \n",
       "\n",
       "       official    bib  ctz   ...   overall  pace  state     30k     5k  \\\n",
       "16159    247.47  20854  NaN   ...     17014  9.45     WA  174.75  28.50   \n",
       "16160    229.72  20856  NaN   ...     13796  8.77     NY  161.00  26.57   \n",
       "16161    239.97  20870  NaN   ...     16083  9.17     NS  168.82  27.48   \n",
       "16162    233.90  20907  NaN   ...     14768  8.93     TX  164.02  26.93   \n",
       "16163    249.15  20908  NaN   ...     17144  9.52     CA  175.82  28.93   \n",
       "\n",
       "      genderdiv     20k     35k       city     40k  \n",
       "16159      6686  115.63  204.83  Vancouver  234.48  \n",
       "16160      9024  106.38  189.82      Tully  217.88  \n",
       "16161      9994  111.45  198.42    Halifax  227.53  \n",
       "16162      9434  107.85  192.80      Tyler  221.42  \n",
       "16163      6762  115.32  206.67   Berkeley  235.85  \n",
       "\n",
       "[5 rows x 21 columns]"
      ]
     },
     "execution_count": 6,
     "metadata": {},
     "output_type": "execute_result"
    }
   ],
   "source": [
    "boston13.tail(5)"
   ]
  },
  {
   "cell_type": "code",
   "execution_count": 7,
   "metadata": {
    "ExecuteTime": {
     "end_time": "2019-08-23T01:45:12.368335Z",
     "start_time": "2019-08-23T01:45:12.357934Z"
    },
    "scrolled": true
   },
   "outputs": [
    {
     "data": {
      "text/plain": [
       "ctz\n",
       "GBR    99\n",
       "CAN    87\n",
       "USA    69\n",
       "JPN    67\n",
       "GER    50\n",
       "IRL    35\n",
       "FRA    31\n",
       "MEX    27\n",
       "AUS    24\n",
       "VEN    19\n",
       "Name: 25k, dtype: int64"
      ]
     },
     "execution_count": 7,
     "metadata": {},
     "output_type": "execute_result"
    }
   ],
   "source": [
    "\n",
    "boston13.groupby(['ctz'])['25k'].count().sort_values(ascending = False).head(10)"
   ]
  },
  {
   "cell_type": "markdown",
   "metadata": {},
   "source": [
    "#### Only 757 records have a value in the Country of Citizenship (?) (ctz) column. The values for country are fully populated, however.  I can't use the 'country' variable in a clustering algorithm, but I can use it for analysis after clusters are identified."
   ]
  },
  {
   "cell_type": "code",
   "execution_count": 8,
   "metadata": {
    "ExecuteTime": {
     "end_time": "2019-08-23T01:45:12.380704Z",
     "start_time": "2019-08-23T01:45:12.370634Z"
    },
    "scrolled": true
   },
   "outputs": [
    {
     "data": {
      "text/plain": [
       "country\n",
       "USA    13167\n",
       "CAN     1533\n",
       "GBR      179\n",
       "JPN      109\n",
       "MEX      108\n",
       "GER       86\n",
       "BRA       81\n",
       "AUS       78\n",
       "ITA       76\n",
       "FRA       66\n",
       "Name: 25k, dtype: int64"
      ]
     },
     "execution_count": 8,
     "metadata": {},
     "output_type": "execute_result"
    }
   ],
   "source": [
    "boston13.groupby(['country'])['25k'].count().sort_values(ascending = False).head(10)"
   ]
  },
  {
   "cell_type": "code",
   "execution_count": 9,
   "metadata": {
    "ExecuteTime": {
     "end_time": "2019-08-23T01:45:12.409947Z",
     "start_time": "2019-08-23T01:45:12.383320Z"
    },
    "scrolled": true
   },
   "outputs": [
    {
     "data": {
      "text/plain": [
       "division  gender  genderdiv\n",
       "5         M       5            9\n",
       "14        M       14           2\n",
       "3         M       3            2\n",
       "12        M       12           2\n",
       "13        M       13           2\n",
       "2         M       2            2\n",
       "8         M       8            2\n",
       "6         M       6            2\n",
       "4         M       4            2\n",
       "11        M       11           2\n",
       "9         M       9            2\n",
       "1         M       1            2\n",
       "10        M       10           2\n",
       "7         M       7            2\n",
       "501       M       10589        1\n",
       "                  5505         1\n",
       "503       M       619          1\n",
       "          F       6585         1\n",
       "501       F       3282         1\n",
       "                  4469         1\n",
       "503       F       4477         1\n",
       "                  3285         1\n",
       "                  608          1\n",
       "502       M       10595        1\n",
       "                  7950         1\n",
       "                  5508         1\n",
       "501       F       6571         1\n",
       "502       F       607          1\n",
       "          M       4062         1\n",
       "501       M       4059         1\n",
       "                              ..\n",
       "1254      M       1682         1\n",
       "                  6619         1\n",
       "1260      M       1690         1\n",
       "          F       1604         1\n",
       "1259      M       8766         1\n",
       "                  6996         1\n",
       "                  1689         1\n",
       "          F       1603         1\n",
       "1258      M       8764         1\n",
       "                  6995         1\n",
       "                  6642         1\n",
       "                  1688         1\n",
       "          F       1602         1\n",
       "1257      M       8757         1\n",
       "                  6990         1\n",
       "                  6636         1\n",
       "                  1687         1\n",
       "          F       1600         1\n",
       "1256      M       8756         1\n",
       "                  6983         1\n",
       "                  6625         1\n",
       "                  1684         1\n",
       "          F       1599         1\n",
       "1255      M       8746         1\n",
       "                  6982         1\n",
       "                  6624         1\n",
       "                  1683         1\n",
       "          F       1598         1\n",
       "1254      M       6974         1\n",
       "1         F       1            1\n",
       "Name: 25k, Length: 16143, dtype: int64"
      ]
     },
     "execution_count": 9,
     "metadata": {},
     "output_type": "execute_result"
    }
   ],
   "source": [
    "\n",
    "#I think gender division has the most information, so I'll keep that and drop the division \\\n",
    "# and overall finishing positions for modeling.\n",
    "boston13.groupby(['division', 'gender', 'genderdiv'])['25k'].count().sort_values(ascending = False)"
   ]
  },
  {
   "cell_type": "code",
   "execution_count": 10,
   "metadata": {
    "ExecuteTime": {
     "end_time": "2019-08-23T01:45:12.425315Z",
     "start_time": "2019-08-23T01:45:12.412494Z"
    },
    "scrolled": true
   },
   "outputs": [
    {
     "data": {
      "text/plain": [
       "count    16164.000000\n",
       "mean      8429.373422\n",
       "std       5052.024116\n",
       "min          1.000000\n",
       "25%       4061.750000\n",
       "50%       8247.500000\n",
       "75%      12662.250000\n",
       "max      17598.000000\n",
       "Name: overall, dtype: float64"
      ]
     },
     "execution_count": 10,
     "metadata": {},
     "output_type": "execute_result"
    }
   ],
   "source": [
    "#What does the overall rank data look like?\n",
    "boston13['overall'].describe()"
   ]
  },
  {
   "cell_type": "code",
   "execution_count": 11,
   "metadata": {
    "ExecuteTime": {
     "end_time": "2019-08-23T01:45:12.432726Z",
     "start_time": "2019-08-23T01:45:12.427232Z"
    }
   },
   "outputs": [],
   "source": [
    "#Take a look at the top 100 finishers based on overall rank\n",
    "top_finishers = boston13.loc[boston13['overall'] <= 100]"
   ]
  },
  {
   "cell_type": "code",
   "execution_count": 12,
   "metadata": {
    "ExecuteTime": {
     "end_time": "2019-08-23T01:45:12.441773Z",
     "start_time": "2019-08-23T01:45:12.435040Z"
    },
    "scrolled": true
   },
   "outputs": [
    {
     "data": {
      "text/plain": [
       "(149, 21)"
      ]
     },
     "execution_count": 12,
     "metadata": {},
     "output_type": "execute_result"
    }
   ],
   "source": [
    "top_finishers.shape"
   ]
  },
  {
   "cell_type": "code",
   "execution_count": 13,
   "metadata": {
    "ExecuteTime": {
     "end_time": "2019-08-23T01:45:12.482691Z",
     "start_time": "2019-08-23T01:45:12.444879Z"
    }
   },
   "outputs": [
    {
     "data": {
      "text/html": [
       "<div>\n",
       "<style scoped>\n",
       "    .dataframe tbody tr th:only-of-type {\n",
       "        vertical-align: middle;\n",
       "    }\n",
       "\n",
       "    .dataframe tbody tr th {\n",
       "        vertical-align: top;\n",
       "    }\n",
       "\n",
       "    .dataframe thead th {\n",
       "        text-align: right;\n",
       "    }\n",
       "</style>\n",
       "<table border=\"1\" class=\"dataframe\">\n",
       "  <thead>\n",
       "    <tr style=\"text-align: right;\">\n",
       "      <th></th>\n",
       "      <th>25k</th>\n",
       "      <th>age</th>\n",
       "      <th>name</th>\n",
       "      <th>division</th>\n",
       "      <th>10k</th>\n",
       "      <th>gender</th>\n",
       "      <th>half</th>\n",
       "      <th>official</th>\n",
       "      <th>bib</th>\n",
       "      <th>ctz</th>\n",
       "      <th>...</th>\n",
       "      <th>overall</th>\n",
       "      <th>pace</th>\n",
       "      <th>state</th>\n",
       "      <th>30k</th>\n",
       "      <th>5k</th>\n",
       "      <th>genderdiv</th>\n",
       "      <th>20k</th>\n",
       "      <th>35k</th>\n",
       "      <th>city</th>\n",
       "      <th>40k</th>\n",
       "    </tr>\n",
       "  </thead>\n",
       "  <tbody>\n",
       "    <tr>\n",
       "      <th>0</th>\n",
       "      <td>49.87</td>\n",
       "      <td>28</td>\n",
       "      <td>Cassidy, Josh R.</td>\n",
       "      <td>9</td>\n",
       "      <td>18.18</td>\n",
       "      <td>M</td>\n",
       "      <td>40.93</td>\n",
       "      <td>90.90</td>\n",
       "      <td>W1</td>\n",
       "      <td>NaN</td>\n",
       "      <td>...</td>\n",
       "      <td>9</td>\n",
       "      <td>3.47</td>\n",
       "      <td>ON</td>\n",
       "      <td>62.07</td>\n",
       "      <td>8.90</td>\n",
       "      <td>9</td>\n",
       "      <td>38.80</td>\n",
       "      <td>74.73</td>\n",
       "      <td>Toronto</td>\n",
       "      <td>85.55</td>\n",
       "    </tr>\n",
       "    <tr>\n",
       "      <th>1</th>\n",
       "      <td>77.27</td>\n",
       "      <td>30</td>\n",
       "      <td>Korir, Wesley</td>\n",
       "      <td>5</td>\n",
       "      <td>30.90</td>\n",
       "      <td>M</td>\n",
       "      <td>64.90</td>\n",
       "      <td>132.50</td>\n",
       "      <td>1</td>\n",
       "      <td>NaN</td>\n",
       "      <td>...</td>\n",
       "      <td>5</td>\n",
       "      <td>5.07</td>\n",
       "      <td>NaN</td>\n",
       "      <td>92.97</td>\n",
       "      <td>15.90</td>\n",
       "      <td>5</td>\n",
       "      <td>61.52</td>\n",
       "      <td>108.78</td>\n",
       "      <td>Kenya</td>\n",
       "      <td>124.77</td>\n",
       "    </tr>\n",
       "    <tr>\n",
       "      <th>2</th>\n",
       "      <td>77.23</td>\n",
       "      <td>23</td>\n",
       "      <td>Desisa, Lelisa</td>\n",
       "      <td>1</td>\n",
       "      <td>30.90</td>\n",
       "      <td>M</td>\n",
       "      <td>64.92</td>\n",
       "      <td>130.37</td>\n",
       "      <td>2</td>\n",
       "      <td>NaN</td>\n",
       "      <td>...</td>\n",
       "      <td>1</td>\n",
       "      <td>4.98</td>\n",
       "      <td>NaN</td>\n",
       "      <td>92.72</td>\n",
       "      <td>15.93</td>\n",
       "      <td>1</td>\n",
       "      <td>61.53</td>\n",
       "      <td>108.68</td>\n",
       "      <td>Ambo</td>\n",
       "      <td>123.78</td>\n",
       "    </tr>\n",
       "    <tr>\n",
       "      <th>3</th>\n",
       "      <td>50.50</td>\n",
       "      <td>32</td>\n",
       "      <td>Fearnley, Kurt H.</td>\n",
       "      <td>5</td>\n",
       "      <td>18.73</td>\n",
       "      <td>M</td>\n",
       "      <td>42.00</td>\n",
       "      <td>88.43</td>\n",
       "      <td>W2</td>\n",
       "      <td>NaN</td>\n",
       "      <td>...</td>\n",
       "      <td>5</td>\n",
       "      <td>3.38</td>\n",
       "      <td>NaN</td>\n",
       "      <td>61.35</td>\n",
       "      <td>8.98</td>\n",
       "      <td>5</td>\n",
       "      <td>39.88</td>\n",
       "      <td>73.00</td>\n",
       "      <td>Hamilton</td>\n",
       "      <td>83.43</td>\n",
       "    </tr>\n",
       "    <tr>\n",
       "      <th>4</th>\n",
       "      <td>48.75</td>\n",
       "      <td>39</td>\n",
       "      <td>Hokinoue, Kota</td>\n",
       "      <td>3</td>\n",
       "      <td>18.18</td>\n",
       "      <td>M</td>\n",
       "      <td>40.57</td>\n",
       "      <td>87.22</td>\n",
       "      <td>W3</td>\n",
       "      <td>NaN</td>\n",
       "      <td>...</td>\n",
       "      <td>3</td>\n",
       "      <td>3.33</td>\n",
       "      <td>NaN</td>\n",
       "      <td>59.92</td>\n",
       "      <td>8.92</td>\n",
       "      <td>3</td>\n",
       "      <td>38.55</td>\n",
       "      <td>71.68</td>\n",
       "      <td>Iizuka</td>\n",
       "      <td>81.88</td>\n",
       "    </tr>\n",
       "  </tbody>\n",
       "</table>\n",
       "<p>5 rows × 21 columns</p>\n",
       "</div>"
      ],
      "text/plain": [
       "     25k  age               name  division    10k gender   half  official bib  \\\n",
       "0  49.87   28   Cassidy, Josh R.         9  18.18      M  40.93     90.90  W1   \n",
       "1  77.27   30      Korir, Wesley         5  30.90      M  64.90    132.50   1   \n",
       "2  77.23   23     Desisa, Lelisa         1  30.90      M  64.92    130.37   2   \n",
       "3  50.50   32  Fearnley, Kurt H.         5  18.73      M  42.00     88.43  W2   \n",
       "4  48.75   39     Hokinoue, Kota         3  18.18      M  40.57     87.22  W3   \n",
       "\n",
       "   ctz   ...   overall  pace  state    30k     5k genderdiv    20k     35k  \\\n",
       "0  NaN   ...         9  3.47     ON  62.07   8.90         9  38.80   74.73   \n",
       "1  NaN   ...         5  5.07    NaN  92.97  15.90         5  61.52  108.78   \n",
       "2  NaN   ...         1  4.98    NaN  92.72  15.93         1  61.53  108.68   \n",
       "3  NaN   ...         5  3.38    NaN  61.35   8.98         5  39.88   73.00   \n",
       "4  NaN   ...         3  3.33    NaN  59.92   8.92         3  38.55   71.68   \n",
       "\n",
       "       city     40k  \n",
       "0   Toronto   85.55  \n",
       "1     Kenya  124.77  \n",
       "2      Ambo  123.78  \n",
       "3  Hamilton   83.43  \n",
       "4    Iizuka   81.88  \n",
       "\n",
       "[5 rows x 21 columns]"
      ]
     },
     "execution_count": 13,
     "metadata": {},
     "output_type": "execute_result"
    }
   ],
   "source": [
    "top_finishers.head()"
   ]
  },
  {
   "cell_type": "markdown",
   "metadata": {},
   "source": [
    "Why are there 2 finishers with overall rank 5? One of them is a wheelchair racer, denoted by the bib number starting with 'W'.\n",
    "\n",
    "I will look more closely at the finisher with the overall rank 5."
   ]
  },
  {
   "cell_type": "code",
   "execution_count": 14,
   "metadata": {
    "ExecuteTime": {
     "end_time": "2019-08-23T01:45:12.526860Z",
     "start_time": "2019-08-23T01:45:12.485521Z"
    },
    "scrolled": true
   },
   "outputs": [
    {
     "data": {
      "text/html": [
       "<div>\n",
       "<style scoped>\n",
       "    .dataframe tbody tr th:only-of-type {\n",
       "        vertical-align: middle;\n",
       "    }\n",
       "\n",
       "    .dataframe tbody tr th {\n",
       "        vertical-align: top;\n",
       "    }\n",
       "\n",
       "    .dataframe thead th {\n",
       "        text-align: right;\n",
       "    }\n",
       "</style>\n",
       "<table border=\"1\" class=\"dataframe\">\n",
       "  <thead>\n",
       "    <tr style=\"text-align: right;\">\n",
       "      <th></th>\n",
       "      <th>25k</th>\n",
       "      <th>age</th>\n",
       "      <th>name</th>\n",
       "      <th>division</th>\n",
       "      <th>10k</th>\n",
       "      <th>gender</th>\n",
       "      <th>half</th>\n",
       "      <th>official</th>\n",
       "      <th>bib</th>\n",
       "      <th>ctz</th>\n",
       "      <th>...</th>\n",
       "      <th>overall</th>\n",
       "      <th>pace</th>\n",
       "      <th>state</th>\n",
       "      <th>30k</th>\n",
       "      <th>5k</th>\n",
       "      <th>genderdiv</th>\n",
       "      <th>20k</th>\n",
       "      <th>35k</th>\n",
       "      <th>city</th>\n",
       "      <th>40k</th>\n",
       "    </tr>\n",
       "  </thead>\n",
       "  <tbody>\n",
       "    <tr>\n",
       "      <th>1</th>\n",
       "      <td>77.27</td>\n",
       "      <td>30</td>\n",
       "      <td>Korir, Wesley</td>\n",
       "      <td>5</td>\n",
       "      <td>30.90</td>\n",
       "      <td>M</td>\n",
       "      <td>64.90</td>\n",
       "      <td>132.50</td>\n",
       "      <td>1</td>\n",
       "      <td>NaN</td>\n",
       "      <td>...</td>\n",
       "      <td>5</td>\n",
       "      <td>5.07</td>\n",
       "      <td>NaN</td>\n",
       "      <td>92.97</td>\n",
       "      <td>15.90</td>\n",
       "      <td>5</td>\n",
       "      <td>61.52</td>\n",
       "      <td>108.78</td>\n",
       "      <td>Kenya</td>\n",
       "      <td>124.77</td>\n",
       "    </tr>\n",
       "    <tr>\n",
       "      <th>3</th>\n",
       "      <td>50.50</td>\n",
       "      <td>32</td>\n",
       "      <td>Fearnley, Kurt H.</td>\n",
       "      <td>5</td>\n",
       "      <td>18.73</td>\n",
       "      <td>M</td>\n",
       "      <td>42.00</td>\n",
       "      <td>88.43</td>\n",
       "      <td>W2</td>\n",
       "      <td>NaN</td>\n",
       "      <td>...</td>\n",
       "      <td>5</td>\n",
       "      <td>3.38</td>\n",
       "      <td>NaN</td>\n",
       "      <td>61.35</td>\n",
       "      <td>8.98</td>\n",
       "      <td>5</td>\n",
       "      <td>39.88</td>\n",
       "      <td>73.00</td>\n",
       "      <td>Hamilton</td>\n",
       "      <td>83.43</td>\n",
       "    </tr>\n",
       "    <tr>\n",
       "      <th>1330</th>\n",
       "      <td>77.27</td>\n",
       "      <td>30</td>\n",
       "      <td>Korir, Wesley</td>\n",
       "      <td>5</td>\n",
       "      <td>30.90</td>\n",
       "      <td>M</td>\n",
       "      <td>64.90</td>\n",
       "      <td>132.50</td>\n",
       "      <td>1</td>\n",
       "      <td>NaN</td>\n",
       "      <td>...</td>\n",
       "      <td>5</td>\n",
       "      <td>5.07</td>\n",
       "      <td>NaN</td>\n",
       "      <td>92.97</td>\n",
       "      <td>15.90</td>\n",
       "      <td>5</td>\n",
       "      <td>61.52</td>\n",
       "      <td>108.78</td>\n",
       "      <td>Kenya</td>\n",
       "      <td>124.77</td>\n",
       "    </tr>\n",
       "    <tr>\n",
       "      <th>5366</th>\n",
       "      <td>77.27</td>\n",
       "      <td>30</td>\n",
       "      <td>Korir, Wesley</td>\n",
       "      <td>5</td>\n",
       "      <td>30.90</td>\n",
       "      <td>M</td>\n",
       "      <td>64.90</td>\n",
       "      <td>132.50</td>\n",
       "      <td>1</td>\n",
       "      <td>NaN</td>\n",
       "      <td>...</td>\n",
       "      <td>5</td>\n",
       "      <td>5.07</td>\n",
       "      <td>NaN</td>\n",
       "      <td>92.97</td>\n",
       "      <td>15.90</td>\n",
       "      <td>5</td>\n",
       "      <td>61.52</td>\n",
       "      <td>108.78</td>\n",
       "      <td>Kenya</td>\n",
       "      <td>124.77</td>\n",
       "    </tr>\n",
       "    <tr>\n",
       "      <th>9014</th>\n",
       "      <td>77.27</td>\n",
       "      <td>30</td>\n",
       "      <td>Korir, Wesley</td>\n",
       "      <td>5</td>\n",
       "      <td>30.90</td>\n",
       "      <td>M</td>\n",
       "      <td>64.90</td>\n",
       "      <td>132.50</td>\n",
       "      <td>1</td>\n",
       "      <td>NaN</td>\n",
       "      <td>...</td>\n",
       "      <td>5</td>\n",
       "      <td>5.07</td>\n",
       "      <td>NaN</td>\n",
       "      <td>92.97</td>\n",
       "      <td>15.90</td>\n",
       "      <td>5</td>\n",
       "      <td>61.52</td>\n",
       "      <td>108.78</td>\n",
       "      <td>Kenya</td>\n",
       "      <td>124.77</td>\n",
       "    </tr>\n",
       "    <tr>\n",
       "      <th>10053</th>\n",
       "      <td>77.27</td>\n",
       "      <td>30</td>\n",
       "      <td>Korir, Wesley</td>\n",
       "      <td>5</td>\n",
       "      <td>30.90</td>\n",
       "      <td>M</td>\n",
       "      <td>64.90</td>\n",
       "      <td>132.50</td>\n",
       "      <td>1</td>\n",
       "      <td>NaN</td>\n",
       "      <td>...</td>\n",
       "      <td>5</td>\n",
       "      <td>5.07</td>\n",
       "      <td>NaN</td>\n",
       "      <td>92.97</td>\n",
       "      <td>15.90</td>\n",
       "      <td>5</td>\n",
       "      <td>61.52</td>\n",
       "      <td>108.78</td>\n",
       "      <td>Kenya</td>\n",
       "      <td>124.77</td>\n",
       "    </tr>\n",
       "    <tr>\n",
       "      <th>14637</th>\n",
       "      <td>77.27</td>\n",
       "      <td>30</td>\n",
       "      <td>Korir, Wesley</td>\n",
       "      <td>5</td>\n",
       "      <td>30.90</td>\n",
       "      <td>M</td>\n",
       "      <td>64.90</td>\n",
       "      <td>132.50</td>\n",
       "      <td>1</td>\n",
       "      <td>NaN</td>\n",
       "      <td>...</td>\n",
       "      <td>5</td>\n",
       "      <td>5.07</td>\n",
       "      <td>NaN</td>\n",
       "      <td>92.97</td>\n",
       "      <td>15.90</td>\n",
       "      <td>5</td>\n",
       "      <td>61.52</td>\n",
       "      <td>108.78</td>\n",
       "      <td>Kenya</td>\n",
       "      <td>124.77</td>\n",
       "    </tr>\n",
       "    <tr>\n",
       "      <th>15110</th>\n",
       "      <td>77.27</td>\n",
       "      <td>30</td>\n",
       "      <td>Korir, Wesley</td>\n",
       "      <td>5</td>\n",
       "      <td>30.90</td>\n",
       "      <td>M</td>\n",
       "      <td>64.90</td>\n",
       "      <td>132.50</td>\n",
       "      <td>1</td>\n",
       "      <td>NaN</td>\n",
       "      <td>...</td>\n",
       "      <td>5</td>\n",
       "      <td>5.07</td>\n",
       "      <td>NaN</td>\n",
       "      <td>92.97</td>\n",
       "      <td>15.90</td>\n",
       "      <td>5</td>\n",
       "      <td>61.52</td>\n",
       "      <td>108.78</td>\n",
       "      <td>Kenya</td>\n",
       "      <td>124.77</td>\n",
       "    </tr>\n",
       "    <tr>\n",
       "      <th>15468</th>\n",
       "      <td>77.27</td>\n",
       "      <td>30</td>\n",
       "      <td>Korir, Wesley</td>\n",
       "      <td>5</td>\n",
       "      <td>30.90</td>\n",
       "      <td>M</td>\n",
       "      <td>64.90</td>\n",
       "      <td>132.50</td>\n",
       "      <td>1</td>\n",
       "      <td>NaN</td>\n",
       "      <td>...</td>\n",
       "      <td>5</td>\n",
       "      <td>5.07</td>\n",
       "      <td>NaN</td>\n",
       "      <td>92.97</td>\n",
       "      <td>15.90</td>\n",
       "      <td>5</td>\n",
       "      <td>61.52</td>\n",
       "      <td>108.78</td>\n",
       "      <td>Kenya</td>\n",
       "      <td>124.77</td>\n",
       "    </tr>\n",
       "  </tbody>\n",
       "</table>\n",
       "<p>9 rows × 21 columns</p>\n",
       "</div>"
      ],
      "text/plain": [
       "         25k  age               name  division    10k gender   half  official  \\\n",
       "1      77.27   30      Korir, Wesley         5  30.90      M  64.90    132.50   \n",
       "3      50.50   32  Fearnley, Kurt H.         5  18.73      M  42.00     88.43   \n",
       "1330   77.27   30      Korir, Wesley         5  30.90      M  64.90    132.50   \n",
       "5366   77.27   30      Korir, Wesley         5  30.90      M  64.90    132.50   \n",
       "9014   77.27   30      Korir, Wesley         5  30.90      M  64.90    132.50   \n",
       "10053  77.27   30      Korir, Wesley         5  30.90      M  64.90    132.50   \n",
       "14637  77.27   30      Korir, Wesley         5  30.90      M  64.90    132.50   \n",
       "15110  77.27   30      Korir, Wesley         5  30.90      M  64.90    132.50   \n",
       "15468  77.27   30      Korir, Wesley         5  30.90      M  64.90    132.50   \n",
       "\n",
       "      bib  ctz   ...   overall  pace  state    30k     5k genderdiv    20k  \\\n",
       "1       1  NaN   ...         5  5.07    NaN  92.97  15.90         5  61.52   \n",
       "3      W2  NaN   ...         5  3.38    NaN  61.35   8.98         5  39.88   \n",
       "1330    1  NaN   ...         5  5.07    NaN  92.97  15.90         5  61.52   \n",
       "5366    1  NaN   ...         5  5.07    NaN  92.97  15.90         5  61.52   \n",
       "9014    1  NaN   ...         5  5.07    NaN  92.97  15.90         5  61.52   \n",
       "10053   1  NaN   ...         5  5.07    NaN  92.97  15.90         5  61.52   \n",
       "14637   1  NaN   ...         5  5.07    NaN  92.97  15.90         5  61.52   \n",
       "15110   1  NaN   ...         5  5.07    NaN  92.97  15.90         5  61.52   \n",
       "15468   1  NaN   ...         5  5.07    NaN  92.97  15.90         5  61.52   \n",
       "\n",
       "          35k      city     40k  \n",
       "1      108.78     Kenya  124.77  \n",
       "3       73.00  Hamilton   83.43  \n",
       "1330   108.78     Kenya  124.77  \n",
       "5366   108.78     Kenya  124.77  \n",
       "9014   108.78     Kenya  124.77  \n",
       "10053  108.78     Kenya  124.77  \n",
       "14637  108.78     Kenya  124.77  \n",
       "15110  108.78     Kenya  124.77  \n",
       "15468  108.78     Kenya  124.77  \n",
       "\n",
       "[9 rows x 21 columns]"
      ]
     },
     "execution_count": 14,
     "metadata": {},
     "output_type": "execute_result"
    }
   ],
   "source": [
    "top_finishers.loc[top_finishers['overall'] == 5]"
   ]
  },
  {
   "cell_type": "markdown",
   "metadata": {},
   "source": [
    "Why does Korir appear multiple times? Here I examine 3 rows to determine if there are any clues about which is the correct row."
   ]
  },
  {
   "cell_type": "code",
   "execution_count": 15,
   "metadata": {
    "ExecuteTime": {
     "end_time": "2019-08-23T01:45:12.548762Z",
     "start_time": "2019-08-23T01:45:12.528881Z"
    },
    "scrolled": true
   },
   "outputs": [
    {
     "name": "stdout",
     "output_type": "stream",
     "text": [
      "        25k  age           name  division    10k gender   half  official bib  \\\n",
      "1     77.27   30  Korir, Wesley         5  30.90      M  64.90     132.5   1   \n",
      "1330  77.27   30  Korir, Wesley         5  30.90      M  64.90     132.5   1   \n",
      "9014  77.27   30  Korir, Wesley         5  30.90      M  64.90     132.5   1   \n",
      "\n",
      "      ctz   ...   overall  pace  state    30k     5k genderdiv    20k     35k  \\\n",
      "1     NaN   ...         5  5.07    NaN  92.97  15.90         5  61.52  108.78   \n",
      "1330  NaN   ...         5  5.07    NaN  92.97  15.90         5  61.52  108.78   \n",
      "9014  NaN   ...         5  5.07    NaN  92.97  15.90         5  61.52  108.78   \n",
      "\n",
      "       city     40k  \n",
      "1     Kenya  124.77  \n",
      "1330  Kenya  124.77  \n",
      "9014  Kenya  124.77  \n",
      "\n",
      "[3 rows x 21 columns]\n"
     ]
    }
   ],
   "source": [
    "print(boston13.iloc[[1, 1330, 9014]])"
   ]
  },
  {
   "cell_type": "markdown",
   "metadata": {},
   "source": [
    "The duplicate records appear to be identical. I will drop the duplicates, retaining the first duplicate row."
   ]
  },
  {
   "cell_type": "code",
   "execution_count": 16,
   "metadata": {
    "ExecuteTime": {
     "end_time": "2019-08-23T01:45:12.597493Z",
     "start_time": "2019-08-23T01:45:12.550766Z"
    }
   },
   "outputs": [],
   "source": [
    "#Drop duplicate rows from the original dataset, keeping the first row in the duplicate set\n",
    "boston13 = boston13.drop_duplicates(keep = 'first')"
   ]
  },
  {
   "cell_type": "code",
   "execution_count": 17,
   "metadata": {
    "ExecuteTime": {
     "end_time": "2019-08-23T01:45:12.606163Z",
     "start_time": "2019-08-23T01:45:12.600543Z"
    }
   },
   "outputs": [
    {
     "data": {
      "text/plain": [
       "(16157, 21)"
      ]
     },
     "execution_count": 17,
     "metadata": {},
     "output_type": "execute_result"
    }
   ],
   "source": [
    "boston13.shape"
   ]
  },
  {
   "cell_type": "markdown",
   "metadata": {},
   "source": [
    "Binary values for 'wheelchair racer' and 'gender' can't be used successfully in k-means or means shift. But I can use those values in a later analysis once I have cluster labels."
   ]
  },
  {
   "cell_type": "code",
   "execution_count": 18,
   "metadata": {
    "ExecuteTime": {
     "end_time": "2019-08-23T01:45:12.659500Z",
     "start_time": "2019-08-23T01:45:12.613922Z"
    }
   },
   "outputs": [],
   "source": [
    "boston13['wheelchair'] = np.where(boston13['bib'].str.startswith('W'), 1, 0)\n",
    "boston13['gender_num'] = np.where(boston13['gender'] == 'M', 1, 0)"
   ]
  },
  {
   "cell_type": "code",
   "execution_count": 19,
   "metadata": {
    "ExecuteTime": {
     "end_time": "2019-08-23T01:45:12.672267Z",
     "start_time": "2019-08-23T01:45:12.662897Z"
    }
   },
   "outputs": [
    {
     "data": {
      "text/plain": [
       "wheelchair\n",
       "0    16105\n",
       "1       52\n",
       "Name: 25k, dtype: int64"
      ]
     },
     "execution_count": 19,
     "metadata": {},
     "output_type": "execute_result"
    }
   ],
   "source": [
    "boston13.groupby('wheelchair')['25k'].count()"
   ]
  },
  {
   "cell_type": "markdown",
   "metadata": {
    "ExecuteTime": {
     "end_time": "2019-08-22T01:41:13.773803Z",
     "start_time": "2019-08-22T01:41:13.770327Z"
    }
   },
   "source": [
    "There are too few wheelchair records to analyze them separately. Wheelchair race times are faster than runners' times, so in a sense they are outliers. I could consider dropping wheelchair race times for a subsequent analysis."
   ]
  },
  {
   "cell_type": "markdown",
   "metadata": {},
   "source": [
    "\n",
    "Lacking a data dictionary, I'd like to confirm that gender division contains the finish rank \n",
    "within each gender division. Including the 'wheelchair racer' indicator explains why there is more than one record for a specific finishing rank. I've elected to use gender division finis rank because it contains more information (i.e. data about gender is included in it) than division finish rank or overall finish rank."
   ]
  },
  {
   "cell_type": "code",
   "execution_count": 20,
   "metadata": {
    "ExecuteTime": {
     "end_time": "2019-08-23T01:45:12.686446Z",
     "start_time": "2019-08-23T01:45:12.675831Z"
    },
    "scrolled": true
   },
   "outputs": [
    {
     "data": {
      "text/plain": [
       "count    16157.000000\n",
       "mean      4353.567927\n",
       "std       2771.521698\n",
       "min          1.000000\n",
       "25%       2036.000000\n",
       "50%       4115.000000\n",
       "75%       6317.000000\n",
       "max      10648.000000\n",
       "Name: genderdiv, dtype: float64"
      ]
     },
     "execution_count": 20,
     "metadata": {},
     "output_type": "execute_result"
    }
   ],
   "source": [
    "boston13['genderdiv'].describe()"
   ]
  },
  {
   "cell_type": "code",
   "execution_count": 21,
   "metadata": {
    "ExecuteTime": {
     "end_time": "2019-08-23T01:45:12.707031Z",
     "start_time": "2019-08-23T01:45:12.688270Z"
    },
    "scrolled": true
   },
   "outputs": [
    {
     "data": {
      "text/plain": [
       "genderdiv  gender  wheelchair\n",
       "1          F       1             1\n",
       "           M       0             1\n",
       "                   1             1\n",
       "2          F       1             1\n",
       "           M       0             1\n",
       "                   1             1\n",
       "3          F       1             1\n",
       "           M       0             1\n",
       "                   1             1\n",
       "4          F       1             1\n",
       "           M       0             1\n",
       "                   1             1\n",
       "5          F       1             1\n",
       "           M       0             1\n",
       "                   1             1\n",
       "6          F       1             1\n",
       "           M       0             1\n",
       "                   1             1\n",
       "7          F       1             1\n",
       "           M       0             1\n",
       "                   1             1\n",
       "8          F       1             1\n",
       "           M       0             1\n",
       "                   1             1\n",
       "9          F       1             1\n",
       "           M       0             1\n",
       "                   1             1\n",
       "10         M       0             1\n",
       "                   1             1\n",
       "11         M       0             1\n",
       "                   1             1\n",
       "12         M       0             1\n",
       "                   1             1\n",
       "13         M       0             1\n",
       "                   1             1\n",
       "14         M       0             1\n",
       "                   1             1\n",
       "15         M       0             1\n",
       "                   1             1\n",
       "16         M       0             1\n",
       "                   1             1\n",
       "17         M       0             1\n",
       "                   1             1\n",
       "18         M       0             1\n",
       "                   1             1\n",
       "Name: genderdiv, dtype: int64"
      ]
     },
     "execution_count": 21,
     "metadata": {},
     "output_type": "execute_result"
    }
   ],
   "source": [
    "boston13.groupby(['genderdiv', 'gender', 'wheelchair'])['genderdiv'].count().head(45)"
   ]
  },
  {
   "cell_type": "markdown",
   "metadata": {},
   "source": [
    "#### Data exploration summary"
   ]
  },
  {
   "cell_type": "markdown",
   "metadata": {},
   "source": [
    "Intuitively, we know that gender and country influence marathon finish times. Marathon top finishers are often from Ethiopia or Kenya, for example. Race categories often have different cut-off times for men and women. Wheelchair racers' times are faster than runners' times. Gender, country and wheelchair racer are variables that are either binary or categorical and cannot be used effectively in a clustering algorithm. \n",
    "\n",
    "I consider the split times to be redundant data to the finishing time. Since bib number is assigned based on qualifying time, it is also somewhat redundant to finishing time. It also has no meaning as a number. I am left with age, finish time, and gender division finishing rank to use in clustering algoritms. "
   ]
  },
  {
   "cell_type": "code",
   "execution_count": 22,
   "metadata": {
    "ExecuteTime": {
     "end_time": "2019-08-23T01:45:12.715220Z",
     "start_time": "2019-08-23T01:45:12.708934Z"
    }
   },
   "outputs": [],
   "source": [
    "dropcols = ['name', 'city', 'state', 'ctz','division', '20k', '25k', '10k', '30k', '35k', '5k', '30k', \\\n",
    "            '40k', 'half', 'gender', \\\n",
    "            'bib', 'pace', 'overall', 'gender_num', 'wheelchair', 'country']\n",
    "X = boston13.drop(dropcols, axis = 1)"
   ]
  },
  {
   "cell_type": "markdown",
   "metadata": {},
   "source": [
    "#### Run clustering algorithms"
   ]
  },
  {
   "cell_type": "code",
   "execution_count": 23,
   "metadata": {
    "ExecuteTime": {
     "end_time": "2019-08-23T01:45:12.730923Z",
     "start_time": "2019-08-23T01:45:12.719165Z"
    },
    "scrolled": false
   },
   "outputs": [
    {
     "name": "stdout",
     "output_type": "stream",
     "text": [
      "<class 'pandas.core.frame.DataFrame'>\n",
      "Int64Index: 16157 entries, 0 to 16163\n",
      "Data columns (total 3 columns):\n",
      "age          16157 non-null int64\n",
      "official     16157 non-null float64\n",
      "genderdiv    16157 non-null int64\n",
      "dtypes: float64(1), int64(2)\n",
      "memory usage: 504.9 KB\n"
     ]
    }
   ],
   "source": [
    "X.info()"
   ]
  },
  {
   "cell_type": "code",
   "execution_count": 24,
   "metadata": {
    "ExecuteTime": {
     "end_time": "2019-08-23T01:45:13.412759Z",
     "start_time": "2019-08-23T01:45:12.732933Z"
    }
   },
   "outputs": [],
   "source": [
    "from sklearn.preprocessing import normalize\n",
    "from sklearn.decomposition import PCA\n",
    "\n",
    "X_norm = pd.DataFrame(normalize(X))\n",
    "X_pca = PCA(2).fit_transform(X_norm)\n",
    "                "
   ]
  },
  {
   "cell_type": "code",
   "execution_count": 25,
   "metadata": {
    "ExecuteTime": {
     "end_time": "2019-08-23T01:45:13.454242Z",
     "start_time": "2019-08-23T01:45:13.415735Z"
    }
   },
   "outputs": [],
   "source": [
    "from sklearn.cluster import MiniBatchKMeans\n",
    "from sklearn.cluster import MeanShift, estimate_bandwidth\n",
    "from sklearn import metrics\n",
    "from sklearn.metrics import pairwise_distances"
   ]
  },
  {
   "cell_type": "code",
   "execution_count": 26,
   "metadata": {
    "ExecuteTime": {
     "end_time": "2019-08-23T01:45:17.958735Z",
     "start_time": "2019-08-23T01:45:13.456737Z"
    }
   },
   "outputs": [
    {
     "name": "stdout",
     "output_type": "stream",
     "text": [
      "Silhouette score for Minibatch k-Means, 3 clusters:\n",
      "0.717176531754\n"
     ]
    }
   ],
   "source": [
    "#Minibatch k-means using 3 clusters\n",
    "minib = MiniBatchKMeans(\n",
    "    init='random',\n",
    "    random_state = 42,\n",
    "    n_clusters=3,\n",
    "    batch_size=200)\n",
    "\n",
    "minib.fit(X_norm)\n",
    "\n",
    "minib_pred = minib.predict(X_norm)\n",
    "minib_labels = minib.labels_\n",
    "\n",
    "print('Silhouette score for Minibatch k-Means, 3 clusters:')\n",
    "print(metrics.silhouette_score(X_norm, minib_labels))"
   ]
  },
  {
   "cell_type": "code",
   "execution_count": 27,
   "metadata": {
    "ExecuteTime": {
     "end_time": "2019-08-23T01:45:23.761065Z",
     "start_time": "2019-08-23T01:45:17.961206Z"
    },
    "scrolled": true
   },
   "outputs": [
    {
     "name": "stdout",
     "output_type": "stream",
     "text": [
      "Silhouette score for Minibatch k-means using PCA, 2 features, 3 clusters:\n",
      "0.721050720422\n"
     ]
    },
    {
     "data": {
      "image/png": "[encoded data removed]",
      "text/plain": [
       "<matplotlib.figure.Figure at 0x1149271d0>"
      ]
     },
     "metadata": {
      "needs_background": "light"
     },
     "output_type": "display_data"
    }
   ],
   "source": [
    "# Minibatch k-means using PCA\n",
    "\n",
    "pca_minib = MiniBatchKMeans(\n",
    "    init='random',\n",
    "    random_state = 42,\n",
    "    n_clusters=3,\n",
    "    batch_size=200)\n",
    "\n",
    "pca_minib.fit(X_pca)\n",
    "\n",
    "pca_minib_pred = pca_minib.predict(X_pca)\n",
    "\n",
    "pca_minib_labels = minib.labels_\n",
    "\n",
    "print('Silhouette score for Minibatch k-means using PCA, 2 features, 3 clusters:')\n",
    "print(metrics.silhouette_score(X_pca, pca_minib_labels))\n",
    "\n",
    "# Plot the solution.\n",
    "#Robin: c = is a color parameter\n",
    "plt.scatter(X_pca[:, 0], X_pca[:, 1], c=pca_minib_pred)\n",
    "plt.show()"
   ]
  },
  {
   "cell_type": "code",
   "execution_count": 28,
   "metadata": {
    "ExecuteTime": {
     "end_time": "2019-08-23T01:45:28.581843Z",
     "start_time": "2019-08-23T01:45:23.763656Z"
    }
   },
   "outputs": [
    {
     "name": "stdout",
     "output_type": "stream",
     "text": [
      "Silhouette score for Minibatch k-Means, 2 clusters:\n",
      "0.84959665071\n"
     ]
    }
   ],
   "source": [
    "#Minibatch k-means using 3 features  - 2 clusters\n",
    "\n",
    "minib = MiniBatchKMeans(\n",
    "    init='random',\n",
    "    random_state = 42,\n",
    "    n_clusters=2,\n",
    "    batch_size=200)\n",
    "\n",
    "minib.fit(X_norm)\n",
    "\n",
    "minib_pred = minib.predict(X_norm)\n",
    "minib_labels = minib.labels_\n",
    "\n",
    "print('Silhouette score for Minibatch k-Means, 2 clusters:')\n",
    "print(metrics.silhouette_score(X_norm, minib_labels))"
   ]
  },
  {
   "cell_type": "code",
   "execution_count": 29,
   "metadata": {
    "ExecuteTime": {
     "end_time": "2019-08-23T01:45:28.594434Z",
     "start_time": "2019-08-23T01:45:28.585402Z"
    },
    "scrolled": true
   },
   "outputs": [
    {
     "data": {
      "text/plain": [
       "array([[    0,     1],\n",
       "       [ 1317, 14840]])"
      ]
     },
     "execution_count": 29,
     "metadata": {},
     "output_type": "execute_result"
    }
   ],
   "source": [
    "#How many observations are in each cluster?\n",
    "unique_labels, label_counts = np.unique(minib_labels, return_counts=True)\n",
    "np.asarray((unique_labels, label_counts))"
   ]
  },
  {
   "cell_type": "code",
   "execution_count": 30,
   "metadata": {
    "ExecuteTime": {
     "end_time": "2019-08-23T01:45:28.603129Z",
     "start_time": "2019-08-23T01:45:28.596678Z"
    }
   },
   "outputs": [],
   "source": [
    "#Add the cluster labels to the dataframe with all features\n",
    "boston13['cluster_id'] = minib_labels"
   ]
  },
  {
   "cell_type": "markdown",
   "metadata": {
    "ExecuteTime": {
     "end_time": "2019-08-22T23:40:49.165946Z",
     "start_time": "2019-08-22T23:40:49.161911Z"
    }
   },
   "source": [
    "#### Descriptive statistics about finishing times"
   ]
  },
  {
   "cell_type": "code",
   "execution_count": 31,
   "metadata": {
    "ExecuteTime": {
     "end_time": "2019-08-23T01:45:28.646454Z",
     "start_time": "2019-08-23T01:45:28.606869Z"
    }
   },
   "outputs": [
    {
     "data": {
      "text/plain": [
       "count    16157.000000\n",
       "mean       208.192250\n",
       "std         23.696453\n",
       "min         85.530000\n",
       "25%        191.750000\n",
       "50%        209.230000\n",
       "75%        225.230000\n",
       "max        284.230000\n",
       "Name: official, dtype: float64"
      ]
     },
     "execution_count": 31,
     "metadata": {},
     "output_type": "execute_result"
    }
   ],
   "source": [
    "boston13['official'].describe()"
   ]
  },
  {
   "cell_type": "markdown",
   "metadata": {},
   "source": [
    "In the 2013 Boston Marathon, the women's winner finished in 146.25 minutes. The men's winner finished in 130.22 minutes. The wheelchair race winner finished in 85.33 minutes.\n",
    "\n",
    "In 2018 - 19, elite runners are often defined as 155 minutes for men and 185 minutes for women.\n",
    "\n",
    "#### How well did the two defined clusters discriminate between elite and non-elite runners?"
   ]
  },
  {
   "cell_type": "code",
   "execution_count": 32,
   "metadata": {
    "ExecuteTime": {
     "end_time": "2019-08-23T01:45:28.687028Z",
     "start_time": "2019-08-23T01:45:28.650141Z"
    }
   },
   "outputs": [
    {
     "data": {
      "text/html": [
       "<div>\n",
       "<style scoped>\n",
       "    .dataframe tbody tr th:only-of-type {\n",
       "        vertical-align: middle;\n",
       "    }\n",
       "\n",
       "    .dataframe tbody tr th {\n",
       "        vertical-align: top;\n",
       "    }\n",
       "\n",
       "    .dataframe thead th {\n",
       "        text-align: right;\n",
       "    }\n",
       "</style>\n",
       "<table border=\"1\" class=\"dataframe\">\n",
       "  <thead>\n",
       "    <tr style=\"text-align: right;\">\n",
       "      <th></th>\n",
       "      <th>count</th>\n",
       "      <th>mean</th>\n",
       "      <th>std</th>\n",
       "      <th>min</th>\n",
       "      <th>25%</th>\n",
       "      <th>50%</th>\n",
       "      <th>75%</th>\n",
       "      <th>max</th>\n",
       "    </tr>\n",
       "    <tr>\n",
       "      <th>cluster_id</th>\n",
       "      <th></th>\n",
       "      <th></th>\n",
       "      <th></th>\n",
       "      <th></th>\n",
       "      <th></th>\n",
       "      <th></th>\n",
       "      <th></th>\n",
       "      <th></th>\n",
       "    </tr>\n",
       "  </thead>\n",
       "  <tbody>\n",
       "    <tr>\n",
       "      <th>0</th>\n",
       "      <td>1317.0</td>\n",
       "      <td>172.504495</td>\n",
       "      <td>20.928765</td>\n",
       "      <td>85.53</td>\n",
       "      <td>160.480</td>\n",
       "      <td>167.88</td>\n",
       "      <td>191.53</td>\n",
       "      <td>202.40</td>\n",
       "    </tr>\n",
       "    <tr>\n",
       "      <th>1</th>\n",
       "      <td>14840.0</td>\n",
       "      <td>211.359418</td>\n",
       "      <td>21.200113</td>\n",
       "      <td>167.77</td>\n",
       "      <td>196.145</td>\n",
       "      <td>211.82</td>\n",
       "      <td>226.75</td>\n",
       "      <td>284.23</td>\n",
       "    </tr>\n",
       "  </tbody>\n",
       "</table>\n",
       "</div>"
      ],
      "text/plain": [
       "              count        mean        std     min      25%     50%     75%  \\\n",
       "cluster_id                                                                    \n",
       "0            1317.0  172.504495  20.928765   85.53  160.480  167.88  191.53   \n",
       "1           14840.0  211.359418  21.200113  167.77  196.145  211.82  226.75   \n",
       "\n",
       "               max  \n",
       "cluster_id          \n",
       "0           202.40  \n",
       "1           284.23  "
      ]
     },
     "execution_count": 32,
     "metadata": {},
     "output_type": "execute_result"
    }
   ],
   "source": [
    "boston13.groupby(['cluster_id'])['official'].describe()"
   ]
  },
  {
   "cell_type": "markdown",
   "metadata": {
    "ExecuteTime": {
     "end_time": "2019-08-22T23:46:44.042428Z",
     "start_time": "2019-08-22T23:46:44.036902Z"
    }
   },
   "source": [
    "#### Now try the mean shift clustering algorithm. "
   ]
  },
  {
   "cell_type": "code",
   "execution_count": 33,
   "metadata": {
    "ExecuteTime": {
     "end_time": "2019-08-23T01:45:34.837766Z",
     "start_time": "2019-08-23T01:45:28.690921Z"
    }
   },
   "outputs": [
    {
     "name": "stdout",
     "output_type": "stream",
     "text": [
      "Number of estimated clusters using mean shift: 9\n",
      "Silhouette score for Mean shift:\n",
      "0.845921939811\n"
     ]
    }
   ],
   "source": [
    "#Mean shift\n",
    "\n",
    "#Use default quantile (0.3)\n",
    "bandwidth = estimate_bandwidth(X_norm, n_samples=1200)\n",
    "\n",
    "meanshft = MeanShift(bandwidth = bandwidth, bin_seeding = True)\n",
    "meanshft.fit(X_norm)\n",
    "\n",
    "# Extract cluster assignments for each data point.\n",
    "meanshft_labels = meanshft.labels_\n",
    "\n",
    "# Coordinates of the cluster centers.m\n",
    "meanshft_centers = meanshft.cluster_centers_\n",
    "\n",
    "# Count our clusters.\n",
    "meanshft_nclusters_ = len(np.unique(meanshft_labels))\n",
    "\n",
    "print(\"Number of estimated clusters using mean shift: {}\".format(meanshft_nclusters_))\n",
    "\n",
    "print('Silhouette score for Mean shift:')\n",
    "print(metrics.silhouette_score(X_norm, meanshft_labels))"
   ]
  },
  {
   "cell_type": "code",
   "execution_count": 34,
   "metadata": {
    "ExecuteTime": {
     "end_time": "2019-08-23T01:45:34.849141Z",
     "start_time": "2019-08-23T01:45:34.841098Z"
    }
   },
   "outputs": [
    {
     "data": {
      "text/plain": [
       "array([[    0,     1,     2,     3,     4,     5,     6,     7,     8],\n",
       "       [15478,   444,    46,    48,    79,    31,    16,     7,     8]])"
      ]
     },
     "execution_count": 34,
     "metadata": {},
     "output_type": "execute_result"
    }
   ],
   "source": [
    "mnshft_labels, mnshft_lbl_cts = np.unique(meanshft_labels, return_counts=True)\n",
    "np.asarray((mnshft_labels, mnshft_lbl_cts))"
   ]
  },
  {
   "cell_type": "code",
   "execution_count": 35,
   "metadata": {
    "ExecuteTime": {
     "end_time": "2019-08-23T01:45:34.857484Z",
     "start_time": "2019-08-23T01:45:34.852021Z"
    }
   },
   "outputs": [],
   "source": [
    "boston13['mnshft_cluster'] = meanshft_labels"
   ]
  },
  {
   "cell_type": "code",
   "execution_count": 36,
   "metadata": {
    "ExecuteTime": {
     "end_time": "2019-08-23T01:45:34.908142Z",
     "start_time": "2019-08-23T01:45:34.861391Z"
    }
   },
   "outputs": [
    {
     "data": {
      "text/html": [
       "<div>\n",
       "<style scoped>\n",
       "    .dataframe tbody tr th:only-of-type {\n",
       "        vertical-align: middle;\n",
       "    }\n",
       "\n",
       "    .dataframe tbody tr th {\n",
       "        vertical-align: top;\n",
       "    }\n",
       "\n",
       "    .dataframe thead th {\n",
       "        text-align: right;\n",
       "    }\n",
       "</style>\n",
       "<table border=\"1\" class=\"dataframe\">\n",
       "  <thead>\n",
       "    <tr style=\"text-align: right;\">\n",
       "      <th></th>\n",
       "      <th>count</th>\n",
       "      <th>mean</th>\n",
       "      <th>std</th>\n",
       "      <th>min</th>\n",
       "      <th>25%</th>\n",
       "      <th>50%</th>\n",
       "      <th>75%</th>\n",
       "      <th>max</th>\n",
       "    </tr>\n",
       "    <tr>\n",
       "      <th>mnshft_cluster</th>\n",
       "      <th></th>\n",
       "      <th></th>\n",
       "      <th></th>\n",
       "      <th></th>\n",
       "      <th></th>\n",
       "      <th></th>\n",
       "      <th></th>\n",
       "      <th></th>\n",
       "    </tr>\n",
       "  </thead>\n",
       "  <tbody>\n",
       "    <tr>\n",
       "      <th>0</th>\n",
       "      <td>15478.0</td>\n",
       "      <td>210.107431</td>\n",
       "      <td>21.836343</td>\n",
       "      <td>161.52</td>\n",
       "      <td>194.3200</td>\n",
       "      <td>210.510</td>\n",
       "      <td>225.9800</td>\n",
       "      <td>284.23</td>\n",
       "    </tr>\n",
       "    <tr>\n",
       "      <th>1</th>\n",
       "      <td>444.0</td>\n",
       "      <td>173.125856</td>\n",
       "      <td>14.259671</td>\n",
       "      <td>153.80</td>\n",
       "      <td>158.3725</td>\n",
       "      <td>180.395</td>\n",
       "      <td>186.5825</td>\n",
       "      <td>191.17</td>\n",
       "    </tr>\n",
       "    <tr>\n",
       "      <th>2</th>\n",
       "      <td>46.0</td>\n",
       "      <td>165.339130</td>\n",
       "      <td>13.159120</td>\n",
       "      <td>150.78</td>\n",
       "      <td>152.3550</td>\n",
       "      <td>165.620</td>\n",
       "      <td>178.2850</td>\n",
       "      <td>179.30</td>\n",
       "    </tr>\n",
       "    <tr>\n",
       "      <th>3</th>\n",
       "      <td>48.0</td>\n",
       "      <td>163.947292</td>\n",
       "      <td>13.556181</td>\n",
       "      <td>148.05</td>\n",
       "      <td>149.5100</td>\n",
       "      <td>174.740</td>\n",
       "      <td>176.5075</td>\n",
       "      <td>177.45</td>\n",
       "    </tr>\n",
       "    <tr>\n",
       "      <th>4</th>\n",
       "      <td>79.0</td>\n",
       "      <td>151.747089</td>\n",
       "      <td>19.664296</td>\n",
       "      <td>104.68</td>\n",
       "      <td>142.9400</td>\n",
       "      <td>147.680</td>\n",
       "      <td>170.8000</td>\n",
       "      <td>202.40</td>\n",
       "    </tr>\n",
       "    <tr>\n",
       "      <th>5</th>\n",
       "      <td>31.0</td>\n",
       "      <td>133.943226</td>\n",
       "      <td>14.875451</td>\n",
       "      <td>97.58</td>\n",
       "      <td>131.3350</td>\n",
       "      <td>135.550</td>\n",
       "      <td>139.4900</td>\n",
       "      <td>171.38</td>\n",
       "    </tr>\n",
       "    <tr>\n",
       "      <th>6</th>\n",
       "      <td>16.0</td>\n",
       "      <td>109.412500</td>\n",
       "      <td>20.600899</td>\n",
       "      <td>88.32</td>\n",
       "      <td>94.3275</td>\n",
       "      <td>100.145</td>\n",
       "      <td>124.1825</td>\n",
       "      <td>142.45</td>\n",
       "    </tr>\n",
       "    <tr>\n",
       "      <th>7</th>\n",
       "      <td>7.0</td>\n",
       "      <td>89.392857</td>\n",
       "      <td>2.788265</td>\n",
       "      <td>85.53</td>\n",
       "      <td>87.2100</td>\n",
       "      <td>90.020</td>\n",
       "      <td>91.3300</td>\n",
       "      <td>93.12</td>\n",
       "    </tr>\n",
       "    <tr>\n",
       "      <th>8</th>\n",
       "      <td>8.0</td>\n",
       "      <td>107.476250</td>\n",
       "      <td>19.106377</td>\n",
       "      <td>91.78</td>\n",
       "      <td>97.0475</td>\n",
       "      <td>102.975</td>\n",
       "      <td>107.1500</td>\n",
       "      <td>152.33</td>\n",
       "    </tr>\n",
       "  </tbody>\n",
       "</table>\n",
       "</div>"
      ],
      "text/plain": [
       "                  count        mean        std     min       25%      50%  \\\n",
       "mnshft_cluster                                                              \n",
       "0               15478.0  210.107431  21.836343  161.52  194.3200  210.510   \n",
       "1                 444.0  173.125856  14.259671  153.80  158.3725  180.395   \n",
       "2                  46.0  165.339130  13.159120  150.78  152.3550  165.620   \n",
       "3                  48.0  163.947292  13.556181  148.05  149.5100  174.740   \n",
       "4                  79.0  151.747089  19.664296  104.68  142.9400  147.680   \n",
       "5                  31.0  133.943226  14.875451   97.58  131.3350  135.550   \n",
       "6                  16.0  109.412500  20.600899   88.32   94.3275  100.145   \n",
       "7                   7.0   89.392857   2.788265   85.53   87.2100   90.020   \n",
       "8                   8.0  107.476250  19.106377   91.78   97.0475  102.975   \n",
       "\n",
       "                     75%     max  \n",
       "mnshft_cluster                    \n",
       "0               225.9800  284.23  \n",
       "1               186.5825  191.17  \n",
       "2               178.2850  179.30  \n",
       "3               176.5075  177.45  \n",
       "4               170.8000  202.40  \n",
       "5               139.4900  171.38  \n",
       "6               124.1825  142.45  \n",
       "7                91.3300   93.12  \n",
       "8               107.1500  152.33  "
      ]
     },
     "execution_count": 36,
     "metadata": {},
     "output_type": "execute_result"
    }
   ],
   "source": [
    "boston13.groupby(['mnshft_cluster'])['official'].describe()"
   ]
  },
  {
   "cell_type": "code",
   "execution_count": 37,
   "metadata": {
    "ExecuteTime": {
     "end_time": "2019-08-23T01:45:34.914993Z",
     "start_time": "2019-08-23T01:45:34.910572Z"
    }
   },
   "outputs": [],
   "source": [
    "boston13['mnshft_cluster'] = pd.to_numeric(boston13['mnshft_cluster'])"
   ]
  },
  {
   "cell_type": "code",
   "execution_count": 38,
   "metadata": {
    "ExecuteTime": {
     "end_time": "2019-08-23T01:45:34.922681Z",
     "start_time": "2019-08-23T01:45:34.917139Z"
    }
   },
   "outputs": [],
   "source": [
    "top_clusters = boston13.loc[boston13['mnshft_cluster'] >= 5]"
   ]
  },
  {
   "cell_type": "code",
   "execution_count": 39,
   "metadata": {
    "ExecuteTime": {
     "end_time": "2019-08-23T01:45:34.945693Z",
     "start_time": "2019-08-23T01:45:34.925068Z"
    },
    "scrolled": true
   },
   "outputs": [
    {
     "name": "stdout",
     "output_type": "stream",
     "text": [
      "     age gender  wheelchair  official  genderdiv  mnshft_cluster\n",
      "1     30      M           0    132.50          5               5\n",
      "2     23      M           0    130.37          1               5\n",
      "5     28      M           0    130.47          3               5\n",
      "7     28      M           0    132.73          6               5\n",
      "10    23      M           0    135.70         12               5\n",
      "14    26      M           0    134.13          7               5\n",
      "21    30      M           0    134.47          8               5\n",
      "23    32      M           0    132.20          4               5\n",
      "25    30      M           0    138.38         16               5\n",
      "28    29      M           0    135.55         11               5\n",
      "30    26      M           0    130.45          2               5\n",
      "33    27      M           0    139.40         19               5\n",
      "35    26      M           0    134.50          9               5\n",
      "37    28      M           0    134.63         10               5\n",
      "42    34      M           0    140.63         22               5\n",
      "48    30      M           0    137.08         14               5\n",
      "50    30      M           0    138.98         18               5\n",
      "53    26      M           0    140.93         23               5\n",
      "71    29      M           0    138.75         17               5\n",
      "72    25      M           0    141.52         25               5\n",
      "73    24      M           0    136.95         13               5\n",
      "93    30      M           0    139.58         20               5\n",
      "97    33      M           0    139.92         21               5\n",
      "935   32      F           0    166.62         29               5\n",
      "34    18      M           1     97.58         17               5\n",
      "88    27      F           1    112.32          4               5\n",
      "90    26      F           1    109.32          3               5\n",
      "94    23      F           1    105.40          1               5\n",
      "98    21      F           1    113.47          6               5\n",
      "100   20      F           1    146.33          8               5\n",
      "..   ...    ...         ...       ...        ...             ...\n",
      "78    40      M           0    137.87         15               6\n",
      "80    47      M           0    142.45         31               6\n",
      "84    43      M           0    141.38         24               6\n",
      "0     28      M           1     90.90          9               6\n",
      "3     32      M           1     88.43          5               6\n",
      "13    27      M           1     88.32          4               6\n",
      "15    34      M           1     95.47         13               6\n",
      "18    35      M           1    101.07         20               6\n",
      "19    33      M           1     90.90          8               6\n",
      "22    29      M           1     95.98         15               6\n",
      "26    29      M           1     97.68         18               6\n",
      "27    26      M           1     99.22         19               6\n",
      "91    42      F           1    119.62          7               6\n",
      "95    43      F           1    106.90          2               6\n",
      "96    32      F           1    112.33          5               6\n",
      "4     39      M           1     87.22          3               7\n",
      "6     42      M           1     90.02          6               7\n",
      "8     49      M           1     91.78         11               7\n",
      "11    40      M           1     87.20          2               7\n",
      "16    55      M           1     93.12         12               7\n",
      "20    48      M           1     90.88          7               7\n",
      "31    46      M           1     85.53          1               7\n",
      "12    37      M           1     91.78         10               8\n",
      "17    46      M           1     95.48         14               8\n",
      "24    48      M           1    103.85         22               8\n",
      "29    37      M           1    105.95         24               8\n",
      "32    41      M           1     97.57         16               8\n",
      "36    40      M           1    102.10         21               8\n",
      "40    44      M           1    110.75         26               8\n",
      "68    54      M           1    152.33         41               8\n",
      "\n",
      "[62 rows x 6 columns]\n"
     ]
    }
   ],
   "source": [
    "print(top_clusters[['age', 'gender', 'wheelchair', 'official', 'genderdiv', 'mnshft_cluster']].sort_values(by = ['mnshft_cluster', 'wheelchair']))"
   ]
  },
  {
   "cell_type": "code",
   "execution_count": 40,
   "metadata": {
    "ExecuteTime": {
     "end_time": "2019-08-23T01:45:34.959310Z",
     "start_time": "2019-08-23T01:45:34.948106Z"
    },
    "scrolled": true
   },
   "outputs": [
    {
     "data": {
      "text/plain": [
       "wheelchair  mnshft_cluster\n",
       "0           0                 15478\n",
       "            1                   444\n",
       "            2                    46\n",
       "            3                    48\n",
       "            4                    61\n",
       "            5                    24\n",
       "            6                     4\n",
       "1           4                    18\n",
       "            5                     7\n",
       "            6                    12\n",
       "            7                     7\n",
       "            8                     8\n",
       "Name: genderdiv, dtype: int64"
      ]
     },
     "execution_count": 40,
     "metadata": {},
     "output_type": "execute_result"
    }
   ],
   "source": [
    "boston13.groupby(['wheelchair', 'mnshft_cluster'])['genderdiv'].count()"
   ]
  },
  {
   "cell_type": "code",
   "execution_count": 41,
   "metadata": {
    "ExecuteTime": {
     "end_time": "2019-08-23T01:45:34.972785Z",
     "start_time": "2019-08-23T01:45:34.961186Z"
    },
    "scrolled": true
   },
   "outputs": [
    {
     "data": {
      "text/plain": [
       "gender  mnshft_cluster\n",
       "F       0                 6155\n",
       "        1                  240\n",
       "        2                   23\n",
       "        3                   26\n",
       "        4                   30\n",
       "        5                    7\n",
       "        6                    3\n",
       "M       0                 9323\n",
       "        1                  204\n",
       "        2                   23\n",
       "        3                   22\n",
       "        4                   49\n",
       "        5                   24\n",
       "        6                   13\n",
       "        7                    7\n",
       "        8                    8\n",
       "Name: genderdiv, dtype: int64"
      ]
     },
     "execution_count": 41,
     "metadata": {},
     "output_type": "execute_result"
    }
   ],
   "source": [
    "boston13.groupby(['gender', 'mnshft_cluster'])['genderdiv'].count()"
   ]
  },
  {
   "cell_type": "code",
   "execution_count": 42,
   "metadata": {
    "ExecuteTime": {
     "end_time": "2019-08-23T01:45:34.988026Z",
     "start_time": "2019-08-23T01:45:34.976075Z"
    },
    "scrolled": false
   },
   "outputs": [
    {
     "data": {
      "text/plain": [
       "gender  mnshft_cluster\n",
       "F       0                 221.669937\n",
       "        1                 185.975708\n",
       "        2                 178.336087\n",
       "        3                 176.263846\n",
       "        4                 171.316333\n",
       "        5                 132.120000\n",
       "        6                 112.950000\n",
       "M       0                 202.473919\n",
       "        1                 158.008382\n",
       "        2                 152.342174\n",
       "        3                 149.391364\n",
       "        4                 139.765918\n",
       "        5                 134.475000\n",
       "        6                 108.596154\n",
       "        7                  89.392857\n",
       "        8                 107.476250\n",
       "Name: official, dtype: float64"
      ]
     },
     "execution_count": 42,
     "metadata": {},
     "output_type": "execute_result"
    }
   ],
   "source": [
    "boston13.groupby(['gender', 'mnshft_cluster'])['official'].mean()"
   ]
  },
  {
   "cell_type": "code",
   "execution_count": 43,
   "metadata": {
    "ExecuteTime": {
     "end_time": "2019-08-23T01:45:35.001802Z",
     "start_time": "2019-08-23T01:45:34.991031Z"
    }
   },
   "outputs": [],
   "source": [
    "#See what happens if wheelchair racers are removed from the dataset\n",
    "X_nowheel = boston13.loc[boston13['wheelchair'] == 0]"
   ]
  },
  {
   "cell_type": "code",
   "execution_count": 44,
   "metadata": {
    "ExecuteTime": {
     "end_time": "2019-08-23T01:45:35.010408Z",
     "start_time": "2019-08-23T01:45:35.004884Z"
    }
   },
   "outputs": [
    {
     "data": {
      "text/plain": [
       "(16105, 25)"
      ]
     },
     "execution_count": 44,
     "metadata": {},
     "output_type": "execute_result"
    }
   ],
   "source": [
    "X_nowheel.shape"
   ]
  },
  {
   "cell_type": "code",
   "execution_count": 45,
   "metadata": {
    "ExecuteTime": {
     "end_time": "2019-08-23T01:45:35.023140Z",
     "start_time": "2019-08-23T01:45:35.013609Z"
    }
   },
   "outputs": [],
   "source": [
    "X_nowhl = X_nowheel.drop(dropcols, axis = 1)"
   ]
  },
  {
   "cell_type": "code",
   "execution_count": 46,
   "metadata": {
    "ExecuteTime": {
     "end_time": "2019-08-23T01:45:35.034012Z",
     "start_time": "2019-08-23T01:45:35.026569Z"
    }
   },
   "outputs": [],
   "source": [
    "X_nowhl_norm = pd.DataFrame(normalize(X_nowhl))"
   ]
  },
  {
   "cell_type": "code",
   "execution_count": 47,
   "metadata": {
    "ExecuteTime": {
     "end_time": "2019-08-23T01:45:41.223777Z",
     "start_time": "2019-08-23T01:45:35.037416Z"
    },
    "scrolled": true
   },
   "outputs": [
    {
     "name": "stdout",
     "output_type": "stream",
     "text": [
      "Number of estimated clusters using mean shift without wheelchair racers: 7\n",
      "Silhouette score for Mean shift without wheelchair racers:\n",
      "0.848328159505\n"
     ]
    }
   ],
   "source": [
    "#Re-run mean shift w/o wheelchair racers\n",
    "\n",
    "#Use default quantile (0.3)\n",
    "bandwidth = estimate_bandwidth(X_nowhl_norm, n_samples=1200)\n",
    "\n",
    "meanshft = MeanShift(bandwidth = bandwidth, bin_seeding = True)\n",
    "meanshft.fit(X_nowhl_norm)\n",
    "\n",
    "# Extract cluster assignments for each data point.\n",
    "meanshft_nowhl_labels = meanshft.labels_\n",
    "\n",
    "# Coordinates of the cluster centers.m\n",
    "meanshft_nowhl_centers = meanshft.cluster_centers_\n",
    "\n",
    "# Count our clusters.\n",
    "meanshft_nowhl_nclusters_ = len(np.unique(meanshft_nowhl_labels))\n",
    "\n",
    "print(\"Number of estimated clusters using mean shift without wheelchair racers: {}\".format(meanshft_nowhl_nclusters_))\n",
    "\n",
    "print('Silhouette score for Mean shift without wheelchair racers:')\n",
    "print(metrics.silhouette_score(X_nowhl_norm, meanshft_nowhl_labels))"
   ]
  },
  {
   "cell_type": "code",
   "execution_count": 48,
   "metadata": {
    "ExecuteTime": {
     "end_time": "2019-08-23T01:45:41.233627Z",
     "start_time": "2019-08-23T01:45:41.225931Z"
    }
   },
   "outputs": [
    {
     "data": {
      "text/plain": [
       "array([array([0, 1, 2, 3, 4, 5, 6]),\n",
       "       array([15478,   444,    46,    48,    79,    31,    16,     7,     8])], dtype=object)"
      ]
     },
     "execution_count": 48,
     "metadata": {},
     "output_type": "execute_result"
    }
   ],
   "source": [
    "mnshft_nowhl_labels, mnshft_nowhl_lbl_cts = np.unique(meanshft_nowhl_labels, return_counts=True)\n",
    "np.asarray((mnshft_nowhl_labels, mnshft_lbl_cts))"
   ]
  },
  {
   "cell_type": "code",
   "execution_count": 49,
   "metadata": {
    "ExecuteTime": {
     "end_time": "2019-08-23T01:45:41.284301Z",
     "start_time": "2019-08-23T01:45:41.237368Z"
    },
    "scrolled": true
   },
   "outputs": [
    {
     "name": "stderr",
     "output_type": "stream",
     "text": [
      "/Users/robin/anaconda3/envs/data_sci/lib/python3.6/site-packages/ipykernel_launcher.py:1: SettingWithCopyWarning: \n",
      "A value is trying to be set on a copy of a slice from a DataFrame.\n",
      "Try using .loc[row_indexer,col_indexer] = value instead\n",
      "\n",
      "See the caveats in the documentation: http://pandas.pydata.org/pandas-docs/stable/indexing.html#indexing-view-versus-copy\n",
      "  \"\"\"Entry point for launching an IPython kernel.\n"
     ]
    }
   ],
   "source": [
    "X_nowheel['mnshft_nowhl_cluster'] = meanshft_nowhl_labels"
   ]
  },
  {
   "cell_type": "code",
   "execution_count": 51,
   "metadata": {
    "ExecuteTime": {
     "end_time": "2019-08-23T01:46:13.607275Z",
     "start_time": "2019-08-23T01:46:13.598396Z"
    }
   },
   "outputs": [
    {
     "data": {
      "text/plain": [
       "mnshft_nowhl_cluster\n",
       "0    210.107431\n",
       "1    173.125856\n",
       "2    165.283509\n",
       "3    163.060000\n",
       "4    156.427429\n",
       "5    146.550000\n",
       "6    134.248750\n",
       "Name: official, dtype: float64"
      ]
     },
     "execution_count": 51,
     "metadata": {},
     "output_type": "execute_result"
    }
   ],
   "source": [
    "X_nowheel.groupby('mnshft_nowhl_cluster')['official'].mean()"
   ]
  },
  {
   "cell_type": "code",
   "execution_count": 52,
   "metadata": {
    "ExecuteTime": {
     "end_time": "2019-08-23T01:46:15.529727Z",
     "start_time": "2019-08-23T01:46:15.517283Z"
    }
   },
   "outputs": [
    {
     "data": {
      "text/plain": [
       "gender  mnshft_nowhl_cluster\n",
       "F       0                       221.669937\n",
       "        1                       185.975708\n",
       "        2                       178.105862\n",
       "        3                       175.178065\n",
       "        4                       170.495000\n",
       "        5                       166.797500\n",
       "M       0                       202.473919\n",
       "        1                       158.008382\n",
       "        2                       152.003214\n",
       "        3                       148.611538\n",
       "        4                       144.581053\n",
       "        5                       140.765000\n",
       "        6                       134.248750\n",
       "Name: official, dtype: float64"
      ]
     },
     "execution_count": 52,
     "metadata": {},
     "output_type": "execute_result"
    }
   ],
   "source": [
    "X_nowheel.groupby(['gender', 'mnshft_nowhl_cluster'])['official'].mean()"
   ]
  },
  {
   "cell_type": "markdown",
   "metadata": {
    "ExecuteTime": {
     "end_time": "2019-08-22T18:50:01.041750Z",
     "start_time": "2019-08-22T18:50:01.037955Z"
    }
   },
   "source": [
    "### Selected solution\n",
    "\n",
    "Silhouette coefficients measure the similarity within clusters compared with the similarity between cluster. The silhouette score for mini-batch k-means with 2 clusters is similar to that using the mean shift algorithm producing 9 clusters. The silhouette coefficients in both cases have a reasonable value of about 0.85.\n",
    "\n",
    "The mean shift algorithm seems to cluster runners accurately based on finish time, particularly when wheelchair racers are excluded. Dividing the field of 16,157 runners in this dataset into more than 2 clusters gives us more information about the range of finish times. Using the eight cluster definitions, we can analyze age, gender and country distribution with more granularity. Therefore, the mean shift algorithm is my selected solution."
   ]
  },
  {
   "cell_type": "markdown",
   "metadata": {},
   "source": [
    "### Data story"
   ]
  },
  {
   "cell_type": "code",
   "execution_count": null,
   "metadata": {},
   "outputs": [],
   "source": []
  }
 ],
 "metadata": {
  "kernelspec": {
   "display_name": "Python 3",
   "language": "python",
   "name": "python3"
  },
  "language_info": {
   "codemirror_mode": {
    "name": "ipython",
    "version": 3
   },
   "file_extension": ".py",
   "mimetype": "text/x-python",
   "name": "python",
   "nbconvert_exporter": "python",
   "pygments_lexer": "ipython3",
   "version": "3.6.1"
  }
 },
 "nbformat": 4,
 "nbformat_minor": 2
}
