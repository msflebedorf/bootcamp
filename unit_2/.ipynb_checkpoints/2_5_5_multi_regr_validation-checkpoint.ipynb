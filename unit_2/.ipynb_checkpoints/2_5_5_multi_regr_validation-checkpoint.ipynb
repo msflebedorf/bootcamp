{
 "cells": [
  {
   "cell_type": "markdown",
   "metadata": {},
   "source": [
    "## Multivariable Regression"
   ]
  },
  {
   "cell_type": "markdown",
   "metadata": {},
   "source": [
    "### Prepared by Robin Fladebo     December 2018"
   ]
  },
  {
   "cell_type": "markdown",
   "metadata": {},
   "source": [
    "### Introduction"
   ]
  },
  {
   "cell_type": "markdown",
   "metadata": {},
   "source": [
    "Prepare FBI Uniform Crime Reporting data, for the State of New York for 2013, for use in a model with multivariable regression (including data cleaning if necessary) according to this specification:\n",
    "\n",
    "Propertycrime=α+Population+Population^2+Murder+Robbery\n",
    "\n",
    "The 'population' variable is already set for you, but you will need to create the last three features. Robbery and Murder are currently continuous variables. For this model, please use these variables to create categorical features where values greater than 0 are coded 1, and values equal to 0 are coded 0. Don't forget basic data cleaning procedures. Do some graphing to see if there are any anomalous cases, and decide how you want to deal with them."
   ]
  },
  {
   "cell_type": "markdown",
   "metadata": {},
   "source": [
    "#### Notes on data content"
   ]
  },
  {
   "cell_type": "markdown",
   "metadata": {},
   "source": [
    "Property crime includes burglary, larceny-theft and vehicle theft.\n",
    "Data can be retrieved here: https://ucr.fbi.gov/crime-in-the-u.s/2013/crime-in-the-u.s.-2013/tables/table-8/table-8-state-cuts/table_8_offenses_known_to_law_enforcement_new_york_by_city_2013.xls\n",
    "\n",
    "Violent crime includes murder, non-negligent homicide, rape, robbery and aggravated assault."
   ]
  },
  {
   "cell_type": "markdown",
   "metadata": {},
   "source": [
    "### Data preparation"
   ]
  },
  {
   "cell_type": "code",
   "execution_count": 356,
   "metadata": {},
   "outputs": [],
   "source": [
    "import warnings\n",
    "import math\n",
    "import numpy as np\n",
    "import pandas as pd\n",
    "pd.set_option('display.max_rows', 100)\n",
    "import matplotlib.pyplot as plt\n",
    "plt.rcParams['figure.figsize'] = (20.0, 10.0)\n",
    "%matplotlib inline\n",
    "import seaborn as sns"
   ]
  },
  {
   "cell_type": "code",
   "execution_count": 357,
   "metadata": {},
   "outputs": [],
   "source": [
    "from sklearn import linear_model\n",
    "import statsmodels.formula.api as smf\n",
    "from statsmodels.sandbox.regression.predstd import wls_prediction_std"
   ]
  },
  {
   "cell_type": "code",
   "execution_count": 358,
   "metadata": {},
   "outputs": [],
   "source": [
    "with warnings.catch_warnings():\n",
    "    warnings.filterwarnings(\"ignore\",category=DeprecationWarning)"
   ]
  },
  {
   "cell_type": "code",
   "execution_count": 359,
   "metadata": {
    "scrolled": true
   },
   "outputs": [],
   "source": [
    "df = pd.read_excel('../Datafiles/fbi_nyxcity_2013.xlsx',sheet_name='fbi_nyxcity_2013')\n",
    "df_test = pd.read_excel('../Datafiles/fbi_nyxcity_2017.xlsx',sheet_name='fbi_nyxcity_2017')"
   ]
  },
  {
   "cell_type": "code",
   "execution_count": 360,
   "metadata": {},
   "outputs": [],
   "source": [
    "df.rename(columns=lambda x: x.replace('\\n', '_'), inplace=True)\n",
    "df_test.rename(columns=lambda x: x.replace('\\n', '_'), inplace=True)"
   ]
  },
  {
   "cell_type": "code",
   "execution_count": 361,
   "metadata": {},
   "outputs": [],
   "source": [
    "df.rename(columns=lambda x: x.lower(), inplace=True)\n",
    "df_test.rename(columns=lambda x: x.lower(), inplace=True)"
   ]
  },
  {
   "cell_type": "code",
   "execution_count": 362,
   "metadata": {
    "scrolled": true
   },
   "outputs": [],
   "source": [
    "df.rename(columns={'rape_(revised_definition)1':'rape_def_1','rape_(legacy_definition)2':'rape_legacy_def'}, inplace=True)\n",
    "df_test.rename(columns={'rape_(revised_definition)1':'rape_def_1','rape_(legacy_definition)2':'rape_legacy_def'}, inplace=True)"
   ]
  },
  {
   "cell_type": "code",
   "execution_count": 363,
   "metadata": {
    "scrolled": true
   },
   "outputs": [],
   "source": [
    "df.rename(columns={'murder and_nonnegligent_manslaughter':'murder'}, inplace=True)\n",
    "df_test.rename(columns={'murder and_nonnegligent_manslaughter':'murder'}, inplace=True)"
   ]
  },
  {
   "cell_type": "code",
   "execution_count": 364,
   "metadata": {},
   "outputs": [],
   "source": [
    "df.rename(columns={'rape_(revised_definition)1':'rape_def_1','rape_(legacy_definition)2':'rape_legacy_def', 'larceny-_theft':'larceny_theft'}, inplace=True)\n",
    "df_test.rename(columns={'rape_(revised_definition)1':'rape_def_1','rape_(legacy_definition)2':'rape_legacy_def', 'larceny-_theft':'larceny_theft'}, inplace=True)"
   ]
  },
  {
   "cell_type": "code",
   "execution_count": 365,
   "metadata": {},
   "outputs": [],
   "source": [
    "# Drop any column that is filled with NA values\n",
    "df.dropna(how='all', axis=1, inplace=True)\n",
    "df_test.dropna(how='all', axis=1, inplace=True)"
   ]
  },
  {
   "cell_type": "code",
   "execution_count": 366,
   "metadata": {},
   "outputs": [],
   "source": [
    "# Keep rows with at least 2 non-NA values (i.e., drop Notes rows)\n",
    "df.dropna(how='any', thresh=2, inplace=True)\n",
    "df_test.dropna(how='any', thresh=2, inplace=True)"
   ]
  },
  {
   "cell_type": "code",
   "execution_count": 367,
   "metadata": {},
   "outputs": [],
   "source": [
    "df.drop(df[df['property_crime'] == 0].index, inplace=True)\n",
    "df_test.drop(df_test[df_test['property_crime'] == 0].index, inplace=True)"
   ]
  },
  {
   "cell_type": "markdown",
   "metadata": {},
   "source": [
    "Create new features"
   ]
  },
  {
   "cell_type": "code",
   "execution_count": 368,
   "metadata": {
    "scrolled": true
   },
   "outputs": [],
   "source": [
    "df['pop_log'] = np.log(df['population'])\n",
    "df_test['pop_log'] = np.log(df_test['population'])"
   ]
  },
  {
   "cell_type": "code",
   "execution_count": 369,
   "metadata": {},
   "outputs": [],
   "source": [
    "df['pty_crime_log'] = np.log(df['property_crime'])\n",
    "df_test['pty_crime_log'] = np.log(df_test['property_crime'])"
   ]
  },
  {
   "cell_type": "code",
   "execution_count": 370,
   "metadata": {},
   "outputs": [],
   "source": [
    "def set_ind(var,new_val):\n",
    "    df[new_val]=np.where(df[var]>0, 1, 0)\n",
    "    return df\n",
    "df = set_ind('murder', 'murder_ind')\n",
    "df = set_ind('robbery', 'robbery_ind')"
   ]
  },
  {
   "cell_type": "code",
   "execution_count": 371,
   "metadata": {},
   "outputs": [],
   "source": [
    "def set_ind_t(var_t,new_val_t):\n",
    "    df_test[new_val_t]=np.where(df_test[var_t]>0, 1, 0)\n",
    "    return df_test\n",
    "df_test = set_ind_t('murder', 'murder_ind')\n",
    "df_test = set_ind_t('robbery', 'robbery_ind')"
   ]
  },
  {
   "cell_type": "code",
   "execution_count": 372,
   "metadata": {},
   "outputs": [],
   "source": [
    "df['qrtl_1']=np.where(df['population']<3004, 1, 0)\n",
    "df['qrtl_2']=np.where((df['population']>3003) & (df['population']<7234), 1, 0)\n",
    "df['qrtl_3']=np.where((df['population']>7233) & (df['population']<184270), 1, 0)\n",
    "df['qrtl_4']=np.where(df['population']>184271, 1, 0)\n",
    "df_test['qrtl_1']=np.where(df_test['population']<3004, 1, 0)\n",
    "df_test['qrtl_2']=np.where((df_test['population']>3003) & (df_test['population']<7234), 1, 0)\n",
    "df_test['qrtl_3']=np.where((df_test['population']>7233) & (df_test['population']<184270), 1, 0)\n",
    "df_test['qrtl_4']=np.where(df_test['population']>184271, 1, 0)"
   ]
  },
  {
   "cell_type": "markdown",
   "metadata": {},
   "source": [
    "### Running the model on two datasets"
   ]
  },
  {
   "cell_type": "code",
   "execution_count": 373,
   "metadata": {},
   "outputs": [],
   "source": [
    "df_m6 = df.filter(['population', 'pop_log','murder_ind','robbery_ind', 'pty_crime_log', 'property_crime', 'qrtl_1', 'qrtl_4'])\n",
    "df_m6_t = df_test.filter(['population', 'pop_log','murder_ind','robbery_ind', 'pty_crime_log', 'property_crime', 'qrtl_1', 'qrtl_4'])"
   ]
  },
  {
   "cell_type": "markdown",
   "metadata": {},
   "source": [
    "The training set (2013 data)"
   ]
  },
  {
   "cell_type": "code",
   "execution_count": 374,
   "metadata": {
    "scrolled": false
   },
   "outputs": [
    {
     "name": "stdout",
     "output_type": "stream",
     "text": [
      "\n",
      "Coefficients: \n",
      " [[0.89506238 0.28601834 0.88751512 0.41483977]]\n",
      "\n",
      "Intercept: \n",
      " [-3.84769376]\n",
      "\n",
      "R-squared:\n",
      "0.8037651400654878\n"
     ]
    }
   ],
   "source": [
    "m6 = linear_model.LinearRegression()\n",
    "Y = df_m6['pty_crime_log'].values.reshape(-1, 1)\n",
    "X = df_m6[['pop_log','murder_ind', 'robbery_ind', 'qrtl_4']]\n",
    "m6.fit(X, Y)\n",
    "\n",
    "print('\\nCoefficients: \\n', m6.coef_)\n",
    "print('\\nIntercept: \\n', m6.intercept_)\n",
    "print('\\nR-squared:')\n",
    "print(m6.score(X, Y))"
   ]
  },
  {
   "cell_type": "markdown",
   "metadata": {},
   "source": [
    "The test set (2017 data)"
   ]
  },
  {
   "cell_type": "markdown",
   "metadata": {},
   "source": [
    "m6_t = linear_model.LinearRegression()\n",
    "Y = df_m6_t['pty_crime_log'].values.reshape(-1, 1)\n",
    "X = df_m6_t[['pop_log','murder_ind', 'robbery_ind', 'qrtl_4']]\n",
    "m6_t.fit(X, Y)\n",
    "\n",
    "print('\\nCoefficients: \\n', m6_t.coef_)\n",
    "print('\\nIntercept: \\n', m6_t.intercept_)\n",
    "print('\\nR-squared:')\n",
    "print(m6_t.score(X, Y))"
   ]
  },
  {
   "cell_type": "markdown",
   "metadata": {},
   "source": [
    "### Model statistics"
   ]
  },
  {
   "cell_type": "code",
   "execution_count": 376,
   "metadata": {},
   "outputs": [],
   "source": [
    "linear_formula = 'pty_crime_log ~ pop_log+murder_ind+robbery_ind+qrtl_4'\n",
    "\n",
    "# Fit the model to our data using the formula.\n",
    "lm = smf.ols(formula=linear_formula, data=df_m6).fit()"
   ]
  },
  {
   "cell_type": "code",
   "execution_count": 377,
   "metadata": {},
   "outputs": [
    {
     "data": {
      "text/plain": [
       "Intercept     -3.847694\n",
       "pop_log        0.895062\n",
       "murder_ind     0.286018\n",
       "robbery_ind    0.887515\n",
       "qrtl_4         0.414840\n",
       "dtype: float64"
      ]
     },
     "execution_count": 377,
     "metadata": {},
     "output_type": "execute_result"
    }
   ],
   "source": [
    "lm.params"
   ]
  },
  {
   "cell_type": "code",
   "execution_count": 378,
   "metadata": {},
   "outputs": [
    {
     "data": {
      "text/plain": [
       "Intercept      7.580649e-22\n",
       "pop_log        4.066809e-58\n",
       "murder_ind     2.904965e-02\n",
       "robbery_ind    2.955388e-17\n",
       "qrtl_4         3.023886e-01\n",
       "dtype: float64"
      ]
     },
     "execution_count": 378,
     "metadata": {},
     "output_type": "execute_result"
    }
   ],
   "source": [
    "lm.pvalues"
   ]
  },
  {
   "cell_type": "code",
   "execution_count": 379,
   "metadata": {},
   "outputs": [
    {
     "data": {
      "text/plain": [
       "0.8037651400654878"
      ]
     },
     "execution_count": 379,
     "metadata": {},
     "output_type": "execute_result"
    }
   ],
   "source": [
    "lm.rsquared"
   ]
  },
  {
   "cell_type": "code",
   "execution_count": 380,
   "metadata": {},
   "outputs": [
    {
     "data": {
      "text/html": [
       "<div>\n",
       "<style scoped>\n",
       "    .dataframe tbody tr th:only-of-type {\n",
       "        vertical-align: middle;\n",
       "    }\n",
       "\n",
       "    .dataframe tbody tr th {\n",
       "        vertical-align: top;\n",
       "    }\n",
       "\n",
       "    .dataframe thead th {\n",
       "        text-align: right;\n",
       "    }\n",
       "</style>\n",
       "<table border=\"1\" class=\"dataframe\">\n",
       "  <thead>\n",
       "    <tr style=\"text-align: right;\">\n",
       "      <th></th>\n",
       "      <th>0</th>\n",
       "      <th>1</th>\n",
       "    </tr>\n",
       "  </thead>\n",
       "  <tbody>\n",
       "    <tr>\n",
       "      <th>Intercept</th>\n",
       "      <td>-4.581749</td>\n",
       "      <td>-3.113638</td>\n",
       "    </tr>\n",
       "    <tr>\n",
       "      <th>pop_log</th>\n",
       "      <td>0.805797</td>\n",
       "      <td>0.984328</td>\n",
       "    </tr>\n",
       "    <tr>\n",
       "      <th>murder_ind</th>\n",
       "      <td>0.029377</td>\n",
       "      <td>0.542660</td>\n",
       "    </tr>\n",
       "    <tr>\n",
       "      <th>robbery_ind</th>\n",
       "      <td>0.691872</td>\n",
       "      <td>1.083158</td>\n",
       "    </tr>\n",
       "    <tr>\n",
       "      <th>qrtl_4</th>\n",
       "      <td>-0.375166</td>\n",
       "      <td>1.204845</td>\n",
       "    </tr>\n",
       "  </tbody>\n",
       "</table>\n",
       "</div>"
      ],
      "text/plain": [
       "                    0         1\n",
       "Intercept   -4.581749 -3.113638\n",
       "pop_log      0.805797  0.984328\n",
       "murder_ind   0.029377  0.542660\n",
       "robbery_ind  0.691872  1.083158\n",
       "qrtl_4      -0.375166  1.204845"
      ]
     },
     "execution_count": 380,
     "metadata": {},
     "output_type": "execute_result"
    }
   ],
   "source": [
    "lm.conf_int()"
   ]
  },
  {
   "cell_type": "markdown",
   "metadata": {},
   "source": [
    "The qrtl_4 value is not statistically significant."
   ]
  },
  {
   "cell_type": "code",
   "execution_count": 381,
   "metadata": {},
   "outputs": [
    {
     "data": {
      "text/plain": [
       "345.08248469775475"
      ]
     },
     "execution_count": 381,
     "metadata": {},
     "output_type": "execute_result"
    }
   ],
   "source": [
    "lm.fvalue\n"
   ]
  },
  {
   "cell_type": "code",
   "execution_count": 382,
   "metadata": {
    "scrolled": true
   },
   "outputs": [
    {
     "data": {
      "text/plain": [
       "9.283395965210341e-118"
      ]
     },
     "execution_count": 382,
     "metadata": {},
     "output_type": "execute_result"
    }
   ],
   "source": [
    "lm.f_pvalue"
   ]
  },
  {
   "cell_type": "markdown",
   "metadata": {},
   "source": [
    "Show confidence intervals graphically"
   ]
  },
  {
   "cell_type": "code",
   "execution_count": 383,
   "metadata": {},
   "outputs": [
    {
     "data": {
      "image/png": "[encoded data removed]",
      "text/plain": [
       "<Figure size 432x288 with 1 Axes>"
      ]
     },
     "metadata": {},
     "output_type": "display_data"
    }
   ],
   "source": [
    "prstd, iv_l, iv_u = wls_prediction_std(lm)\n",
    "\n",
    "plt.figure()\n",
    "plt.plot(iv_u[0:15], 'o', color='r')\n",
    "plt.plot(iv_l[0:15], 'o', color='r')\n",
    "plt.plot(lm.fittedvalues[0:15], 'o', color='b')\n",
    "plt.title('blue: predicted, red: 95% CI')\n",
    "plt.show()"
   ]
  },
  {
   "cell_type": "code",
   "execution_count": 384,
   "metadata": {},
   "outputs": [],
   "source": [
    "linear_formula2 = 'pty_crime_log ~ pop_log+murder_ind+robbery_ind'\n",
    "\n",
    "# Fit the model to our data using the formula.\n",
    "lm2 = smf.ols(formula=linear_formula2, data=df_m6).fit()"
   ]
  },
  {
   "cell_type": "code",
   "execution_count": 385,
   "metadata": {},
   "outputs": [
    {
     "data": {
      "text/plain": [
       "0.8031438881167701"
      ]
     },
     "execution_count": 385,
     "metadata": {},
     "output_type": "execute_result"
    }
   ],
   "source": [
    "lm2.rsquared"
   ]
  },
  {
   "cell_type": "code",
   "execution_count": 386,
   "metadata": {},
   "outputs": [
    {
     "data": {
      "text/html": [
       "<div>\n",
       "<style scoped>\n",
       "    .dataframe tbody tr th:only-of-type {\n",
       "        vertical-align: middle;\n",
       "    }\n",
       "\n",
       "    .dataframe tbody tr th {\n",
       "        vertical-align: top;\n",
       "    }\n",
       "\n",
       "    .dataframe thead th {\n",
       "        text-align: right;\n",
       "    }\n",
       "</style>\n",
       "<table border=\"1\" class=\"dataframe\">\n",
       "  <thead>\n",
       "    <tr style=\"text-align: right;\">\n",
       "      <th></th>\n",
       "      <th>0</th>\n",
       "      <th>1</th>\n",
       "    </tr>\n",
       "  </thead>\n",
       "  <tbody>\n",
       "    <tr>\n",
       "      <th>Intercept</th>\n",
       "      <td>-4.667526</td>\n",
       "      <td>-3.280103</td>\n",
       "    </tr>\n",
       "    <tr>\n",
       "      <th>pop_log</th>\n",
       "      <td>0.826365</td>\n",
       "      <td>0.994825</td>\n",
       "    </tr>\n",
       "    <tr>\n",
       "      <th>murder_ind</th>\n",
       "      <td>0.044707</td>\n",
       "      <td>0.555270</td>\n",
       "    </tr>\n",
       "    <tr>\n",
       "      <th>robbery_ind</th>\n",
       "      <td>0.677261</td>\n",
       "      <td>1.062907</td>\n",
       "    </tr>\n",
       "  </tbody>\n",
       "</table>\n",
       "</div>"
      ],
      "text/plain": [
       "                    0         1\n",
       "Intercept   -4.667526 -3.280103\n",
       "pop_log      0.826365  0.994825\n",
       "murder_ind   0.044707  0.555270\n",
       "robbery_ind  0.677261  1.062907"
      ]
     },
     "execution_count": 386,
     "metadata": {},
     "output_type": "execute_result"
    }
   ],
   "source": [
    "lm2.conf_int()"
   ]
  },
  {
   "cell_type": "code",
   "execution_count": 387,
   "metadata": {},
   "outputs": [
    {
     "data": {
      "image/png": "[encoded data removed]",
      "text/plain": [
       "<Figure size 432x288 with 1 Axes>"
      ]
     },
     "metadata": {},
     "output_type": "display_data"
    }
   ],
   "source": [
    "prstd, iv_l, iv_u = wls_prediction_std(lm2)\n",
    "\n",
    "plt.figure()\n",
    "plt.plot(iv_u[0:15], 'o', color='r')\n",
    "plt.plot(iv_l[0:15], 'o', color='r')\n",
    "plt.plot(lm2.fittedvalues[0:15], 'o', color='b')\n",
    "plt.title('blue: predicted, red: 95% CI - without added pop indicator')\n",
    "plt.show()"
   ]
  },
  {
   "cell_type": "code",
   "execution_count": 391,
   "metadata": {},
   "outputs": [],
   "source": [
    "lm_t = smf.ols(formula=linear_formula2, data=df_m6_t).fit()"
   ]
  },
  {
   "cell_type": "code",
   "execution_count": 392,
   "metadata": {},
   "outputs": [
    {
     "data": {
      "text/plain": [
       "0.779033346385718"
      ]
     },
     "execution_count": 392,
     "metadata": {},
     "output_type": "execute_result"
    }
   ],
   "source": [
    "lm_t.rsquared"
   ]
  },
  {
   "cell_type": "code",
   "execution_count": 393,
   "metadata": {},
   "outputs": [
    {
     "data": {
      "text/html": [
       "<div>\n",
       "<style scoped>\n",
       "    .dataframe tbody tr th:only-of-type {\n",
       "        vertical-align: middle;\n",
       "    }\n",
       "\n",
       "    .dataframe tbody tr th {\n",
       "        vertical-align: top;\n",
       "    }\n",
       "\n",
       "    .dataframe thead th {\n",
       "        text-align: right;\n",
       "    }\n",
       "</style>\n",
       "<table border=\"1\" class=\"dataframe\">\n",
       "  <thead>\n",
       "    <tr style=\"text-align: right;\">\n",
       "      <th></th>\n",
       "      <th>0</th>\n",
       "      <th>1</th>\n",
       "    </tr>\n",
       "  </thead>\n",
       "  <tbody>\n",
       "    <tr>\n",
       "      <th>Intercept</th>\n",
       "      <td>-5.688654</td>\n",
       "      <td>-4.077578</td>\n",
       "    </tr>\n",
       "    <tr>\n",
       "      <th>pop_log</th>\n",
       "      <td>0.858152</td>\n",
       "      <td>1.058763</td>\n",
       "    </tr>\n",
       "    <tr>\n",
       "      <th>murder_ind</th>\n",
       "      <td>0.265706</td>\n",
       "      <td>0.860285</td>\n",
       "    </tr>\n",
       "    <tr>\n",
       "      <th>robbery_ind</th>\n",
       "      <td>0.627433</td>\n",
       "      <td>1.120523</td>\n",
       "    </tr>\n",
       "  </tbody>\n",
       "</table>\n",
       "</div>"
      ],
      "text/plain": [
       "                    0         1\n",
       "Intercept   -5.688654 -4.077578\n",
       "pop_log      0.858152  1.058763\n",
       "murder_ind   0.265706  0.860285\n",
       "robbery_ind  0.627433  1.120523"
      ]
     },
     "execution_count": 393,
     "metadata": {},
     "output_type": "execute_result"
    }
   ],
   "source": [
    "lm_t.conf_int()"
   ]
  },
  {
   "cell_type": "code",
   "execution_count": 395,
   "metadata": {},
   "outputs": [
    {
     "data": {
      "image/png": "[encoded data removed]",
      "text/plain": [
       "<Figure size 432x288 with 1 Axes>"
      ]
     },
     "metadata": {},
     "output_type": "display_data"
    }
   ],
   "source": [
    "prstd, iv_l, iv_u = wls_prediction_std(lm_t)\n",
    "\n",
    "plt.figure()\n",
    "plt.plot(iv_u[0:15], 'o', color='r')\n",
    "plt.plot(iv_l[0:15], 'o', color='r')\n",
    "plt.plot(lm_t.fittedvalues[0:15], 'o', color='b')\n",
    "plt.title('blue: predicted, red: 95% CI - 2017 test data')\n",
    "plt.show()"
   ]
  },
  {
   "cell_type": "code",
   "execution_count": null,
   "metadata": {},
   "outputs": [],
   "source": [
    "# from sklearn.model_selection import train_test_split\n",
    "# # Use train_test_split to create the necessary training and test groups\n",
    "# X_train, X_test, y_train, y_test = train_test_split(data, target, test_size=0.2, random_state=20)\n",
    "# print('With 20% Holdout: ' + str(bnb.fit(X_train, y_train).score(X_test, y_test)))\n",
    "# print('Testing on Sample: ' + str(bnb.fit(data, target).score(data, target)))"
   ]
  },
  {
   "cell_type": "code",
   "execution_count": null,
   "metadata": {},
   "outputs": [],
   "source": [
    "# from sklearn.model_selection import cross_val_score\n",
    "# cross_val_score(m6, data, target, cv=10)"
   ]
  }
 ],
 "metadata": {
  "kernelspec": {
   "display_name": "Python 3",
   "language": "python",
   "name": "python3"
  },
  "language_info": {
   "codemirror_mode": {
    "name": "ipython",
    "version": 3
   },
   "file_extension": ".py",
   "mimetype": "text/x-python",
   "name": "python",
   "nbconvert_exporter": "python",
   "pygments_lexer": "ipython3",
   "version": "3.6.5"
  }
 },
 "nbformat": 4,
 "nbformat_minor": 2
}
