{
 "cells": [
  {
   "cell_type": "markdown",
   "metadata": {},
   "source": [
    "## Multivariable Regression"
   ]
  },
  {
   "cell_type": "markdown",
   "metadata": {},
   "source": [
    "### Data preparation"
   ]
  },
  {
   "cell_type": "markdown",
   "metadata": {},
   "source": [
    "Prepare this data to model with multivariable regression (including data cleaning if necessary) according to this specification:\n",
    "\n",
    "Propertycrime=α+Population+Population^2+Murder+Robbery\n",
    "\n",
    "The 'population' variable is already set for you, but you will need to create the last three features. Robbery and Murder are currently continuous variables. For this model, please use these variables to create categorical features where values greater than 0 are coded 1, and values equal to 0 are coded 0. You'll use this data and model in a later assignment- for now, just write the code you need to get the data ready. Don't forget basic data cleaning procedures, either! Do some graphing to see if there are any anomalous cases, and decide how you want to deal with them."
   ]
  },
  {
   "cell_type": "code",
   "execution_count": 347,
   "metadata": {},
   "outputs": [],
   "source": [
    "import warnings\n",
    "import numpy as np\n",
    "import pandas as pd\n",
    "pd.set_option('display.max_rows', 100)\n",
    "import seaborn as sns\n",
    "%matplotlib inline"
   ]
  },
  {
   "cell_type": "code",
   "execution_count": 348,
   "metadata": {},
   "outputs": [],
   "source": [
    "from sklearn import linear_model\n",
    "import statsmodels.formula.api as smf"
   ]
  },
  {
   "cell_type": "code",
   "execution_count": 349,
   "metadata": {},
   "outputs": [],
   "source": [
    "with warnings.catch_warnings():\n",
    "    warnings.filterwarnings(\"ignore\",category=DeprecationWarning)"
   ]
  },
  {
   "cell_type": "code",
   "execution_count": 350,
   "metadata": {
    "scrolled": true
   },
   "outputs": [],
   "source": [
    "df = pd.read_excel('fbi_nyc_2013.xlsx',sheet_name='fbi_nyc_2013')"
   ]
  },
  {
   "cell_type": "code",
   "execution_count": 351,
   "metadata": {},
   "outputs": [
    {
     "data": {
      "text/plain": [
       "(351, 13)"
      ]
     },
     "execution_count": 351,
     "metadata": {},
     "output_type": "execute_result"
    }
   ],
   "source": [
    "df.shape"
   ]
  },
  {
   "cell_type": "code",
   "execution_count": 352,
   "metadata": {},
   "outputs": [
    {
     "data": {
      "text/plain": [
       "Index(['City', 'Population', 'Violent\\ncrime',\n",
       "       'Murder and\\nnonnegligent\\nmanslaughter',\n",
       "       'Rape\\n(revised\\ndefinition)1', 'Rape\\n(legacy\\ndefinition)2',\n",
       "       'Robbery', 'Aggravated\\nassault', 'Property\\ncrime', 'Burglary',\n",
       "       'Larceny-\\ntheft', 'Motor\\nvehicle\\ntheft', 'Arson'],\n",
       "      dtype='object')"
      ]
     },
     "execution_count": 352,
     "metadata": {},
     "output_type": "execute_result"
    }
   ],
   "source": [
    "df.columns"
   ]
  },
  {
   "cell_type": "code",
   "execution_count": 353,
   "metadata": {},
   "outputs": [
    {
     "data": {
      "text/plain": [
       "City                                       object\n",
       "Population                                float64\n",
       "Violent\\ncrime                            float64\n",
       "Murder and\\nnonnegligent\\nmanslaughter    float64\n",
       "Rape\\n(revised\\ndefinition)1              float64\n",
       "Rape\\n(legacy\\ndefinition)2               float64\n",
       "Robbery                                   float64\n",
       "Aggravated\\nassault                       float64\n",
       "Property\\ncrime                           float64\n",
       "Burglary                                  float64\n",
       "Larceny-\\ntheft                           float64\n",
       "Motor\\nvehicle\\ntheft                     float64\n",
       "Arson                                     float64\n",
       "dtype: object"
      ]
     },
     "execution_count": 353,
     "metadata": {},
     "output_type": "execute_result"
    }
   ],
   "source": [
    "df.dtypes"
   ]
  },
  {
   "cell_type": "code",
   "execution_count": 354,
   "metadata": {},
   "outputs": [],
   "source": [
    "df.rename(columns=lambda x: x.replace('\\n', '_'), inplace=True)"
   ]
  },
  {
   "cell_type": "code",
   "execution_count": 355,
   "metadata": {},
   "outputs": [],
   "source": [
    "df.rename(columns=lambda x: x.lower(), inplace=True)"
   ]
  },
  {
   "cell_type": "code",
   "execution_count": 356,
   "metadata": {
    "scrolled": true
   },
   "outputs": [],
   "source": [
    "df.rename(columns={'rape_(revised_definition)1':'rape_def_1','rape_(legacy_definition)2':'rape_legacy_def'}, inplace=True)"
   ]
  },
  {
   "cell_type": "code",
   "execution_count": 357,
   "metadata": {
    "scrolled": true
   },
   "outputs": [],
   "source": [
    "df.rename(columns={'murder and_nonnegligent_manslaughter':'murder'}, inplace=True)"
   ]
  },
  {
   "cell_type": "code",
   "execution_count": 358,
   "metadata": {},
   "outputs": [],
   "source": [
    "df.rename(columns={'rape_(revised_definition)1':'rape_def_1','rape_(legacy_definition)2':'rape_legacy_def', 'larceny-_theft':'larceny_theft'}, inplace=True)"
   ]
  },
  {
   "cell_type": "code",
   "execution_count": 359,
   "metadata": {},
   "outputs": [],
   "source": [
    "# Drop any column that is filled with NA values\n",
    "df.dropna(how='all', axis=1, inplace=True)"
   ]
  },
  {
   "cell_type": "code",
   "execution_count": 360,
   "metadata": {},
   "outputs": [],
   "source": [
    "# Keep rows with at least 2 non-NA values (i.e., drop Notes rows)\n",
    "df.dropna(how='any', thresh=2, inplace=True)"
   ]
  },
  {
   "cell_type": "code",
   "execution_count": 361,
   "metadata": {},
   "outputs": [],
   "source": [
    "df['pop_sq'] = df['population']**2"
   ]
  },
  {
   "cell_type": "code",
   "execution_count": 362,
   "metadata": {},
   "outputs": [],
   "source": [
    "def set_ind(var,new_val):\n",
    "    df[new_val]=np.where(df[var]>0, 1, 0)\n",
    "    return df\n",
    "df = set_ind('murder', 'murder_ind')\n",
    "df = set_ind('robbery', 'robbery_ind')"
   ]
  },
  {
   "cell_type": "code",
   "execution_count": 363,
   "metadata": {},
   "outputs": [],
   "source": [
    "df['outlier_flag'] = np.where(df['population']>200000, 1, 0)"
   ]
  },
  {
   "cell_type": "code",
   "execution_count": 364,
   "metadata": {},
   "outputs": [],
   "source": [
    "df['low_outlier'] = np.where(df['population']<5000, 1, 0 )"
   ]
  },
  {
   "cell_type": "code",
   "execution_count": 365,
   "metadata": {
    "scrolled": false
   },
   "outputs": [
    {
     "data": {
      "text/html": [
       "<div>\n",
       "<style scoped>\n",
       "    .dataframe tbody tr th:only-of-type {\n",
       "        vertical-align: middle;\n",
       "    }\n",
       "\n",
       "    .dataframe tbody tr th {\n",
       "        vertical-align: top;\n",
       "    }\n",
       "\n",
       "    .dataframe thead th {\n",
       "        text-align: right;\n",
       "    }\n",
       "</style>\n",
       "<table border=\"1\" class=\"dataframe\">\n",
       "  <thead>\n",
       "    <tr style=\"text-align: right;\">\n",
       "      <th></th>\n",
       "      <th>city</th>\n",
       "      <th>population</th>\n",
       "      <th>violent_crime</th>\n",
       "      <th>murder</th>\n",
       "      <th>rape_legacy_def</th>\n",
       "      <th>robbery</th>\n",
       "      <th>aggravated_assault</th>\n",
       "      <th>property_crime</th>\n",
       "      <th>burglary</th>\n",
       "      <th>larceny_theft</th>\n",
       "      <th>motor_vehicle_theft</th>\n",
       "      <th>arson</th>\n",
       "      <th>pop_sq</th>\n",
       "      <th>murder_ind</th>\n",
       "      <th>robbery_ind</th>\n",
       "      <th>outlier_flag</th>\n",
       "      <th>low_outlier</th>\n",
       "    </tr>\n",
       "    <tr>\n",
       "      <th>outlier_flag</th>\n",
       "      <th></th>\n",
       "      <th></th>\n",
       "      <th></th>\n",
       "      <th></th>\n",
       "      <th></th>\n",
       "      <th></th>\n",
       "      <th></th>\n",
       "      <th></th>\n",
       "      <th></th>\n",
       "      <th></th>\n",
       "      <th></th>\n",
       "      <th></th>\n",
       "      <th></th>\n",
       "      <th></th>\n",
       "      <th></th>\n",
       "      <th></th>\n",
       "      <th></th>\n",
       "    </tr>\n",
       "  </thead>\n",
       "  <tbody>\n",
       "    <tr>\n",
       "      <th>0</th>\n",
       "      <td>345</td>\n",
       "      <td>345</td>\n",
       "      <td>345</td>\n",
       "      <td>345</td>\n",
       "      <td>345</td>\n",
       "      <td>345</td>\n",
       "      <td>345</td>\n",
       "      <td>345</td>\n",
       "      <td>345</td>\n",
       "      <td>345</td>\n",
       "      <td>345</td>\n",
       "      <td>186</td>\n",
       "      <td>345</td>\n",
       "      <td>345</td>\n",
       "      <td>345</td>\n",
       "      <td>345</td>\n",
       "      <td>345</td>\n",
       "    </tr>\n",
       "    <tr>\n",
       "      <th>1</th>\n",
       "      <td>3</td>\n",
       "      <td>3</td>\n",
       "      <td>3</td>\n",
       "      <td>3</td>\n",
       "      <td>3</td>\n",
       "      <td>3</td>\n",
       "      <td>3</td>\n",
       "      <td>3</td>\n",
       "      <td>3</td>\n",
       "      <td>3</td>\n",
       "      <td>3</td>\n",
       "      <td>1</td>\n",
       "      <td>3</td>\n",
       "      <td>3</td>\n",
       "      <td>3</td>\n",
       "      <td>3</td>\n",
       "      <td>3</td>\n",
       "    </tr>\n",
       "  </tbody>\n",
       "</table>\n",
       "</div>"
      ],
      "text/plain": [
       "              city  population  violent_crime  murder  rape_legacy_def  \\\n",
       "outlier_flag                                                             \n",
       "0              345         345            345     345              345   \n",
       "1                3           3              3       3                3   \n",
       "\n",
       "              robbery  aggravated_assault  property_crime  burglary  \\\n",
       "outlier_flag                                                          \n",
       "0                 345                 345             345       345   \n",
       "1                   3                   3               3         3   \n",
       "\n",
       "              larceny_theft  motor_vehicle_theft  arson  pop_sq  murder_ind  \\\n",
       "outlier_flag                                                                  \n",
       "0                       345                  345    186     345         345   \n",
       "1                         3                    3      1       3           3   \n",
       "\n",
       "              robbery_ind  outlier_flag  low_outlier  \n",
       "outlier_flag                                          \n",
       "0                     345           345          345  \n",
       "1                       3             3            3  "
      ]
     },
     "execution_count": 365,
     "metadata": {},
     "output_type": "execute_result"
    }
   ],
   "source": [
    "df.groupby(df['outlier_flag']).count()"
   ]
  },
  {
   "cell_type": "code",
   "execution_count": 366,
   "metadata": {},
   "outputs": [],
   "source": [
    "df.drop(df[df['outlier_flag'] == 1].index, inplace=True)"
   ]
  },
  {
   "cell_type": "code",
   "execution_count": 367,
   "metadata": {},
   "outputs": [],
   "source": [
    "df.drop(df[df['low_outlier'] == 1].index, inplace=True)"
   ]
  },
  {
   "cell_type": "code",
   "execution_count": 368,
   "metadata": {},
   "outputs": [
    {
     "data": {
      "text/html": [
       "<div>\n",
       "<style scoped>\n",
       "    .dataframe tbody tr th:only-of-type {\n",
       "        vertical-align: middle;\n",
       "    }\n",
       "\n",
       "    .dataframe tbody tr th {\n",
       "        vertical-align: top;\n",
       "    }\n",
       "\n",
       "    .dataframe thead th {\n",
       "        text-align: right;\n",
       "    }\n",
       "</style>\n",
       "<table border=\"1\" class=\"dataframe\">\n",
       "  <thead>\n",
       "    <tr style=\"text-align: right;\">\n",
       "      <th></th>\n",
       "      <th>population</th>\n",
       "      <th>violent_crime</th>\n",
       "      <th>murder</th>\n",
       "      <th>rape_legacy_def</th>\n",
       "      <th>robbery</th>\n",
       "      <th>aggravated_assault</th>\n",
       "      <th>property_crime</th>\n",
       "      <th>burglary</th>\n",
       "      <th>larceny_theft</th>\n",
       "      <th>motor_vehicle_theft</th>\n",
       "      <th>arson</th>\n",
       "      <th>pop_sq</th>\n",
       "      <th>murder_ind</th>\n",
       "      <th>robbery_ind</th>\n",
       "      <th>outlier_flag</th>\n",
       "      <th>low_outlier</th>\n",
       "    </tr>\n",
       "  </thead>\n",
       "  <tbody>\n",
       "    <tr>\n",
       "      <th>count</th>\n",
       "      <td>212.000000</td>\n",
       "      <td>212.000000</td>\n",
       "      <td>212.000000</td>\n",
       "      <td>212.000000</td>\n",
       "      <td>212.000000</td>\n",
       "      <td>212.000000</td>\n",
       "      <td>212.000000</td>\n",
       "      <td>212.000000</td>\n",
       "      <td>212.000000</td>\n",
       "      <td>212.000000</td>\n",
       "      <td>102.000000</td>\n",
       "      <td>2.120000e+02</td>\n",
       "      <td>212.000000</td>\n",
       "      <td>212.000000</td>\n",
       "      <td>212.0</td>\n",
       "      <td>212.0</td>\n",
       "    </tr>\n",
       "    <tr>\n",
       "      <th>mean</th>\n",
       "      <td>22302.202830</td>\n",
       "      <td>56.660377</td>\n",
       "      <td>0.570755</td>\n",
       "      <td>3.103774</td>\n",
       "      <td>18.429245</td>\n",
       "      <td>34.556604</td>\n",
       "      <td>493.943396</td>\n",
       "      <td>84.566038</td>\n",
       "      <td>393.566038</td>\n",
       "      <td>15.811321</td>\n",
       "      <td>2.068627</td>\n",
       "      <td>1.083735e+09</td>\n",
       "      <td>0.216981</td>\n",
       "      <td>0.801887</td>\n",
       "      <td>0.0</td>\n",
       "      <td>0.0</td>\n",
       "    </tr>\n",
       "    <tr>\n",
       "      <th>std</th>\n",
       "      <td>24271.900614</td>\n",
       "      <td>147.820782</td>\n",
       "      <td>1.995182</td>\n",
       "      <td>7.148962</td>\n",
       "      <td>51.934425</td>\n",
       "      <td>89.058113</td>\n",
       "      <td>729.729961</td>\n",
       "      <td>167.338917</td>\n",
       "      <td>544.198041</td>\n",
       "      <td>38.856673</td>\n",
       "      <td>6.337473</td>\n",
       "      <td>3.456912e+09</td>\n",
       "      <td>0.413165</td>\n",
       "      <td>0.399521</td>\n",
       "      <td>0.0</td>\n",
       "      <td>0.0</td>\n",
       "    </tr>\n",
       "    <tr>\n",
       "      <th>min</th>\n",
       "      <td>5016.000000</td>\n",
       "      <td>0.000000</td>\n",
       "      <td>0.000000</td>\n",
       "      <td>0.000000</td>\n",
       "      <td>0.000000</td>\n",
       "      <td>0.000000</td>\n",
       "      <td>1.000000</td>\n",
       "      <td>0.000000</td>\n",
       "      <td>1.000000</td>\n",
       "      <td>0.000000</td>\n",
       "      <td>0.000000</td>\n",
       "      <td>2.516026e+07</td>\n",
       "      <td>0.000000</td>\n",
       "      <td>0.000000</td>\n",
       "      <td>0.0</td>\n",
       "      <td>0.0</td>\n",
       "    </tr>\n",
       "    <tr>\n",
       "      <th>25%</th>\n",
       "      <td>7999.000000</td>\n",
       "      <td>5.000000</td>\n",
       "      <td>0.000000</td>\n",
       "      <td>0.000000</td>\n",
       "      <td>1.000000</td>\n",
       "      <td>3.000000</td>\n",
       "      <td>111.750000</td>\n",
       "      <td>16.000000</td>\n",
       "      <td>93.250000</td>\n",
       "      <td>2.000000</td>\n",
       "      <td>0.000000</td>\n",
       "      <td>6.398403e+07</td>\n",
       "      <td>0.000000</td>\n",
       "      <td>1.000000</td>\n",
       "      <td>0.0</td>\n",
       "      <td>0.0</td>\n",
       "    </tr>\n",
       "    <tr>\n",
       "      <th>50%</th>\n",
       "      <td>13987.500000</td>\n",
       "      <td>15.000000</td>\n",
       "      <td>0.000000</td>\n",
       "      <td>1.000000</td>\n",
       "      <td>3.000000</td>\n",
       "      <td>10.000000</td>\n",
       "      <td>249.500000</td>\n",
       "      <td>36.500000</td>\n",
       "      <td>206.000000</td>\n",
       "      <td>4.500000</td>\n",
       "      <td>0.000000</td>\n",
       "      <td>1.956766e+08</td>\n",
       "      <td>0.000000</td>\n",
       "      <td>1.000000</td>\n",
       "      <td>0.0</td>\n",
       "      <td>0.0</td>\n",
       "    </tr>\n",
       "    <tr>\n",
       "      <th>75%</th>\n",
       "      <td>27950.000000</td>\n",
       "      <td>38.000000</td>\n",
       "      <td>0.000000</td>\n",
       "      <td>3.000000</td>\n",
       "      <td>11.250000</td>\n",
       "      <td>23.250000</td>\n",
       "      <td>568.000000</td>\n",
       "      <td>83.000000</td>\n",
       "      <td>467.000000</td>\n",
       "      <td>12.250000</td>\n",
       "      <td>2.000000</td>\n",
       "      <td>7.812028e+08</td>\n",
       "      <td>0.000000</td>\n",
       "      <td>1.000000</td>\n",
       "      <td>0.0</td>\n",
       "      <td>0.0</td>\n",
       "    </tr>\n",
       "    <tr>\n",
       "      <th>max</th>\n",
       "      <td>199134.000000</td>\n",
       "      <td>1192.000000</td>\n",
       "      <td>21.000000</td>\n",
       "      <td>75.000000</td>\n",
       "      <td>400.000000</td>\n",
       "      <td>696.000000</td>\n",
       "      <td>6473.000000</td>\n",
       "      <td>1781.000000</td>\n",
       "      <td>4298.000000</td>\n",
       "      <td>394.000000</td>\n",
       "      <td>57.000000</td>\n",
       "      <td>3.965435e+10</td>\n",
       "      <td>1.000000</td>\n",
       "      <td>1.000000</td>\n",
       "      <td>0.0</td>\n",
       "      <td>0.0</td>\n",
       "    </tr>\n",
       "  </tbody>\n",
       "</table>\n",
       "</div>"
      ],
      "text/plain": [
       "          population  violent_crime      murder  rape_legacy_def     robbery  \\\n",
       "count     212.000000     212.000000  212.000000       212.000000  212.000000   \n",
       "mean    22302.202830      56.660377    0.570755         3.103774   18.429245   \n",
       "std     24271.900614     147.820782    1.995182         7.148962   51.934425   \n",
       "min      5016.000000       0.000000    0.000000         0.000000    0.000000   \n",
       "25%      7999.000000       5.000000    0.000000         0.000000    1.000000   \n",
       "50%     13987.500000      15.000000    0.000000         1.000000    3.000000   \n",
       "75%     27950.000000      38.000000    0.000000         3.000000   11.250000   \n",
       "max    199134.000000    1192.000000   21.000000        75.000000  400.000000   \n",
       "\n",
       "       aggravated_assault  property_crime     burglary  larceny_theft  \\\n",
       "count          212.000000      212.000000   212.000000     212.000000   \n",
       "mean            34.556604      493.943396    84.566038     393.566038   \n",
       "std             89.058113      729.729961   167.338917     544.198041   \n",
       "min              0.000000        1.000000     0.000000       1.000000   \n",
       "25%              3.000000      111.750000    16.000000      93.250000   \n",
       "50%             10.000000      249.500000    36.500000     206.000000   \n",
       "75%             23.250000      568.000000    83.000000     467.000000   \n",
       "max            696.000000     6473.000000  1781.000000    4298.000000   \n",
       "\n",
       "       motor_vehicle_theft       arson        pop_sq  murder_ind  robbery_ind  \\\n",
       "count           212.000000  102.000000  2.120000e+02  212.000000   212.000000   \n",
       "mean             15.811321    2.068627  1.083735e+09    0.216981     0.801887   \n",
       "std              38.856673    6.337473  3.456912e+09    0.413165     0.399521   \n",
       "min               0.000000    0.000000  2.516026e+07    0.000000     0.000000   \n",
       "25%               2.000000    0.000000  6.398403e+07    0.000000     1.000000   \n",
       "50%               4.500000    0.000000  1.956766e+08    0.000000     1.000000   \n",
       "75%              12.250000    2.000000  7.812028e+08    0.000000     1.000000   \n",
       "max             394.000000   57.000000  3.965435e+10    1.000000     1.000000   \n",
       "\n",
       "       outlier_flag  low_outlier  \n",
       "count         212.0        212.0  \n",
       "mean            0.0          0.0  \n",
       "std             0.0          0.0  \n",
       "min             0.0          0.0  \n",
       "25%             0.0          0.0  \n",
       "50%             0.0          0.0  \n",
       "75%             0.0          0.0  \n",
       "max             0.0          0.0  "
      ]
     },
     "execution_count": 368,
     "metadata": {},
     "output_type": "execute_result"
    }
   ],
   "source": [
    "df.describe()"
   ]
  },
  {
   "cell_type": "code",
   "execution_count": 369,
   "metadata": {},
   "outputs": [],
   "source": [
    "df_m1 = df.filter(['population', 'pop_sq', 'murder_ind','robbery_ind', 'property_crime'])"
   ]
  },
  {
   "cell_type": "code",
   "execution_count": 370,
   "metadata": {},
   "outputs": [
    {
     "data": {
      "text/html": [
       "<div>\n",
       "<style scoped>\n",
       "    .dataframe tbody tr th:only-of-type {\n",
       "        vertical-align: middle;\n",
       "    }\n",
       "\n",
       "    .dataframe tbody tr th {\n",
       "        vertical-align: top;\n",
       "    }\n",
       "\n",
       "    .dataframe thead th {\n",
       "        text-align: right;\n",
       "    }\n",
       "</style>\n",
       "<table border=\"1\" class=\"dataframe\">\n",
       "  <thead>\n",
       "    <tr style=\"text-align: right;\">\n",
       "      <th></th>\n",
       "      <th>population</th>\n",
       "      <th>pop_sq</th>\n",
       "      <th>murder_ind</th>\n",
       "      <th>robbery_ind</th>\n",
       "      <th>property_crime</th>\n",
       "    </tr>\n",
       "  </thead>\n",
       "  <tbody>\n",
       "    <tr>\n",
       "      <th>count</th>\n",
       "      <td>212.000000</td>\n",
       "      <td>2.120000e+02</td>\n",
       "      <td>212.000000</td>\n",
       "      <td>212.000000</td>\n",
       "      <td>212.000000</td>\n",
       "    </tr>\n",
       "    <tr>\n",
       "      <th>mean</th>\n",
       "      <td>22302.202830</td>\n",
       "      <td>1.083735e+09</td>\n",
       "      <td>0.216981</td>\n",
       "      <td>0.801887</td>\n",
       "      <td>493.943396</td>\n",
       "    </tr>\n",
       "    <tr>\n",
       "      <th>std</th>\n",
       "      <td>24271.900614</td>\n",
       "      <td>3.456912e+09</td>\n",
       "      <td>0.413165</td>\n",
       "      <td>0.399521</td>\n",
       "      <td>729.729961</td>\n",
       "    </tr>\n",
       "    <tr>\n",
       "      <th>min</th>\n",
       "      <td>5016.000000</td>\n",
       "      <td>2.516026e+07</td>\n",
       "      <td>0.000000</td>\n",
       "      <td>0.000000</td>\n",
       "      <td>1.000000</td>\n",
       "    </tr>\n",
       "    <tr>\n",
       "      <th>25%</th>\n",
       "      <td>7999.000000</td>\n",
       "      <td>6.398403e+07</td>\n",
       "      <td>0.000000</td>\n",
       "      <td>1.000000</td>\n",
       "      <td>111.750000</td>\n",
       "    </tr>\n",
       "    <tr>\n",
       "      <th>50%</th>\n",
       "      <td>13987.500000</td>\n",
       "      <td>1.956766e+08</td>\n",
       "      <td>0.000000</td>\n",
       "      <td>1.000000</td>\n",
       "      <td>249.500000</td>\n",
       "    </tr>\n",
       "    <tr>\n",
       "      <th>75%</th>\n",
       "      <td>27950.000000</td>\n",
       "      <td>7.812028e+08</td>\n",
       "      <td>0.000000</td>\n",
       "      <td>1.000000</td>\n",
       "      <td>568.000000</td>\n",
       "    </tr>\n",
       "    <tr>\n",
       "      <th>max</th>\n",
       "      <td>199134.000000</td>\n",
       "      <td>3.965435e+10</td>\n",
       "      <td>1.000000</td>\n",
       "      <td>1.000000</td>\n",
       "      <td>6473.000000</td>\n",
       "    </tr>\n",
       "  </tbody>\n",
       "</table>\n",
       "</div>"
      ],
      "text/plain": [
       "          population        pop_sq  murder_ind  robbery_ind  property_crime\n",
       "count     212.000000  2.120000e+02  212.000000   212.000000      212.000000\n",
       "mean    22302.202830  1.083735e+09    0.216981     0.801887      493.943396\n",
       "std     24271.900614  3.456912e+09    0.413165     0.399521      729.729961\n",
       "min      5016.000000  2.516026e+07    0.000000     0.000000        1.000000\n",
       "25%      7999.000000  6.398403e+07    0.000000     1.000000      111.750000\n",
       "50%     13987.500000  1.956766e+08    0.000000     1.000000      249.500000\n",
       "75%     27950.000000  7.812028e+08    0.000000     1.000000      568.000000\n",
       "max    199134.000000  3.965435e+10    1.000000     1.000000     6473.000000"
      ]
     },
     "execution_count": 370,
     "metadata": {},
     "output_type": "execute_result"
    }
   ],
   "source": [
    "df_m1.describe()"
   ]
  },
  {
   "cell_type": "markdown",
   "metadata": {},
   "source": [
    "### Visual analysis"
   ]
  },
  {
   "cell_type": "code",
   "execution_count": 371,
   "metadata": {},
   "outputs": [],
   "source": [
    "corrmap = df_m1.corr()"
   ]
  },
  {
   "cell_type": "code",
   "execution_count": 372,
   "metadata": {},
   "outputs": [
    {
     "data": {
      "text/html": [
       "<div>\n",
       "<style scoped>\n",
       "    .dataframe tbody tr th:only-of-type {\n",
       "        vertical-align: middle;\n",
       "    }\n",
       "\n",
       "    .dataframe tbody tr th {\n",
       "        vertical-align: top;\n",
       "    }\n",
       "\n",
       "    .dataframe thead th {\n",
       "        text-align: right;\n",
       "    }\n",
       "</style>\n",
       "<table border=\"1\" class=\"dataframe\">\n",
       "  <thead>\n",
       "    <tr style=\"text-align: right;\">\n",
       "      <th></th>\n",
       "      <th>population</th>\n",
       "      <th>pop_sq</th>\n",
       "      <th>murder_ind</th>\n",
       "      <th>robbery_ind</th>\n",
       "      <th>property_crime</th>\n",
       "    </tr>\n",
       "  </thead>\n",
       "  <tbody>\n",
       "    <tr>\n",
       "      <th>population</th>\n",
       "      <td>1.000000</td>\n",
       "      <td>0.895427</td>\n",
       "      <td>0.424968</td>\n",
       "      <td>0.257149</td>\n",
       "      <td>0.810656</td>\n",
       "    </tr>\n",
       "    <tr>\n",
       "      <th>pop_sq</th>\n",
       "      <td>0.895427</td>\n",
       "      <td>1.000000</td>\n",
       "      <td>0.315944</td>\n",
       "      <td>0.137706</td>\n",
       "      <td>0.669836</td>\n",
       "    </tr>\n",
       "    <tr>\n",
       "      <th>murder_ind</th>\n",
       "      <td>0.424968</td>\n",
       "      <td>0.315944</td>\n",
       "      <td>1.000000</td>\n",
       "      <td>0.232941</td>\n",
       "      <td>0.442145</td>\n",
       "    </tr>\n",
       "    <tr>\n",
       "      <th>robbery_ind</th>\n",
       "      <td>0.257149</td>\n",
       "      <td>0.137706</td>\n",
       "      <td>0.232941</td>\n",
       "      <td>1.000000</td>\n",
       "      <td>0.275989</td>\n",
       "    </tr>\n",
       "    <tr>\n",
       "      <th>property_crime</th>\n",
       "      <td>0.810656</td>\n",
       "      <td>0.669836</td>\n",
       "      <td>0.442145</td>\n",
       "      <td>0.275989</td>\n",
       "      <td>1.000000</td>\n",
       "    </tr>\n",
       "  </tbody>\n",
       "</table>\n",
       "</div>"
      ],
      "text/plain": [
       "                population    pop_sq  murder_ind  robbery_ind  property_crime\n",
       "population        1.000000  0.895427    0.424968     0.257149        0.810656\n",
       "pop_sq            0.895427  1.000000    0.315944     0.137706        0.669836\n",
       "murder_ind        0.424968  0.315944    1.000000     0.232941        0.442145\n",
       "robbery_ind       0.257149  0.137706    0.232941     1.000000        0.275989\n",
       "property_crime    0.810656  0.669836    0.442145     0.275989        1.000000"
      ]
     },
     "execution_count": 372,
     "metadata": {},
     "output_type": "execute_result"
    }
   ],
   "source": [
    "corrmap"
   ]
  },
  {
   "cell_type": "code",
   "execution_count": 373,
   "metadata": {},
   "outputs": [
    {
     "data": {
      "text/plain": [
       "<matplotlib.axes._subplots.AxesSubplot at 0x1a221a32b0>"
      ]
     },
     "execution_count": 373,
     "metadata": {},
     "output_type": "execute_result"
    },
    {
     "data": {
      "image/png": "[encoded data removed]",
      "text/plain": [
       "<Figure size 432x288 with 2 Axes>"
      ]
     },
     "metadata": {},
     "output_type": "display_data"
    }
   ],
   "source": [
    "sns.heatmap(corrmap)"
   ]
  },
  {
   "cell_type": "markdown",
   "metadata": {},
   "source": [
    "### Running model and fixing assumptions (Section 2.4.3)"
   ]
  },
  {
   "cell_type": "code",
   "execution_count": 374,
   "metadata": {},
   "outputs": [
    {
     "data": {
      "text/html": [
       "<div>\n",
       "<style scoped>\n",
       "    .dataframe tbody tr th:only-of-type {\n",
       "        vertical-align: middle;\n",
       "    }\n",
       "\n",
       "    .dataframe tbody tr th {\n",
       "        vertical-align: top;\n",
       "    }\n",
       "\n",
       "    .dataframe thead th {\n",
       "        text-align: right;\n",
       "    }\n",
       "</style>\n",
       "<table border=\"1\" class=\"dataframe\">\n",
       "  <thead>\n",
       "    <tr style=\"text-align: right;\">\n",
       "      <th></th>\n",
       "      <th>population</th>\n",
       "      <th>pop_sq</th>\n",
       "      <th>murder_ind</th>\n",
       "      <th>robbery_ind</th>\n",
       "      <th>property_crime</th>\n",
       "    </tr>\n",
       "  </thead>\n",
       "  <tbody>\n",
       "    <tr>\n",
       "      <th>3</th>\n",
       "      <td>97956.0</td>\n",
       "      <td>9.595378e+09</td>\n",
       "      <td>1</td>\n",
       "      <td>1</td>\n",
       "      <td>4090.0</td>\n",
       "    </tr>\n",
       "    <tr>\n",
       "      <th>4</th>\n",
       "      <td>6388.0</td>\n",
       "      <td>4.080654e+07</td>\n",
       "      <td>0</td>\n",
       "      <td>1</td>\n",
       "      <td>223.0</td>\n",
       "    </tr>\n",
       "    <tr>\n",
       "      <th>7</th>\n",
       "      <td>118296.0</td>\n",
       "      <td>1.399394e+10</td>\n",
       "      <td>1</td>\n",
       "      <td>1</td>\n",
       "      <td>2118.0</td>\n",
       "    </tr>\n",
       "    <tr>\n",
       "      <th>8</th>\n",
       "      <td>9519.0</td>\n",
       "      <td>9.061136e+07</td>\n",
       "      <td>0</td>\n",
       "      <td>1</td>\n",
       "      <td>210.0</td>\n",
       "    </tr>\n",
       "    <tr>\n",
       "      <th>9</th>\n",
       "      <td>18182.0</td>\n",
       "      <td>3.305851e+08</td>\n",
       "      <td>0</td>\n",
       "      <td>1</td>\n",
       "      <td>405.0</td>\n",
       "    </tr>\n",
       "    <tr>\n",
       "      <th>14</th>\n",
       "      <td>27270.0</td>\n",
       "      <td>7.436529e+08</td>\n",
       "      <td>1</td>\n",
       "      <td>1</td>\n",
       "      <td>859.0</td>\n",
       "    </tr>\n",
       "    <tr>\n",
       "      <th>16</th>\n",
       "      <td>7473.0</td>\n",
       "      <td>5.584573e+07</td>\n",
       "      <td>0</td>\n",
       "      <td>1</td>\n",
       "      <td>88.0</td>\n",
       "    </tr>\n",
       "    <tr>\n",
       "      <th>17</th>\n",
       "      <td>5418.0</td>\n",
       "      <td>2.935472e+07</td>\n",
       "      <td>0</td>\n",
       "      <td>1</td>\n",
       "      <td>94.0</td>\n",
       "    </tr>\n",
       "    <tr>\n",
       "      <th>18</th>\n",
       "      <td>15374.0</td>\n",
       "      <td>2.363599e+08</td>\n",
       "      <td>0</td>\n",
       "      <td>1</td>\n",
       "      <td>559.0</td>\n",
       "    </tr>\n",
       "    <tr>\n",
       "      <th>19</th>\n",
       "      <td>5733.0</td>\n",
       "      <td>3.286729e+07</td>\n",
       "      <td>0</td>\n",
       "      <td>1</td>\n",
       "      <td>191.0</td>\n",
       "    </tr>\n",
       "  </tbody>\n",
       "</table>\n",
       "</div>"
      ],
      "text/plain": [
       "    population        pop_sq  murder_ind  robbery_ind  property_crime\n",
       "3      97956.0  9.595378e+09           1            1          4090.0\n",
       "4       6388.0  4.080654e+07           0            1           223.0\n",
       "7     118296.0  1.399394e+10           1            1          2118.0\n",
       "8       9519.0  9.061136e+07           0            1           210.0\n",
       "9      18182.0  3.305851e+08           0            1           405.0\n",
       "14     27270.0  7.436529e+08           1            1           859.0\n",
       "16      7473.0  5.584573e+07           0            1            88.0\n",
       "17      5418.0  2.935472e+07           0            1            94.0\n",
       "18     15374.0  2.363599e+08           0            1           559.0\n",
       "19      5733.0  3.286729e+07           0            1           191.0"
      ]
     },
     "execution_count": 374,
     "metadata": {},
     "output_type": "execute_result"
    }
   ],
   "source": [
    "df_m1.head(10)"
   ]
  },
  {
   "cell_type": "code",
   "execution_count": 375,
   "metadata": {},
   "outputs": [
    {
     "name": "stdout",
     "output_type": "stream",
     "text": [
      "\n",
      "Coefficients: \n",
      " [[ 2.91940852e-02 -4.95525166e-08  1.68071819e+02  6.65689704e+01]]\n",
      "\n",
      "Intercept: \n",
      " [-193.29643189]\n",
      "\n",
      "R-squared:\n",
      "0.6820725800444736\n"
     ]
    }
   ],
   "source": [
    "# Instantiate and fit our model.\n",
    "m1 = linear_model.LinearRegression()\n",
    "Y = df_m1['property_crime'].values.reshape(-1, 1)\n",
    "X = df_m1[['population','pop_sq','murder_ind', 'robbery_ind']]\n",
    "m1.fit(X, Y)\n",
    "\n",
    "# Inspect the results.\n",
    "print('\\nCoefficients: \\n', m1.coef_)\n",
    "print('\\nIntercept: \\n', m1.intercept_)\n",
    "print('\\nR-squared:')\n",
    "print(m1.score(X, Y))"
   ]
  },
  {
   "cell_type": "markdown",
   "metadata": {},
   "source": [
    "#### Check multivariate normality by examining the distribution of errors"
   ]
  },
  {
   "cell_type": "code",
   "execution_count": 379,
   "metadata": {},
   "outputs": [
    {
     "data": {
      "image/png": "[encoded data removed]",
      "text/plain": [
       "<Figure size 432x288 with 1 Axes>"
      ]
     },
     "metadata": {},
     "output_type": "display_data"
    }
   ],
   "source": [
    "# Extract predicted values.\n",
    "predicted = m1.predict(X).ravel()\n",
    "actual = df_m1['property_crime']\n",
    "\n",
    "# Calculate the error, also called the residual.\n",
    "residual = actual - predicted\n",
    "df_m1['residual'] = residual\n",
    "\n",
    "plt.hist(df_m1['residual'], bins=20)\n",
    "plt.title('Residual counts')\n",
    "plt.xlabel('Residual')\n",
    "plt.ylabel('Count')\n",
    "plt.show()"
   ]
  },
  {
   "cell_type": "code",
   "execution_count": 377,
   "metadata": {},
   "outputs": [
    {
     "data": {
      "text/plain": [
       "count    2.120000e+02\n",
       "mean     3.700185e-14\n",
       "std      4.114586e+02\n",
       "min     -1.643361e+03\n",
       "25%     -1.350536e+02\n",
       "50%      4.761029e+00\n",
       "75%      1.076541e+02\n",
       "max      3.257707e+03\n",
       "Name: residual, dtype: float64"
      ]
     },
     "execution_count": 377,
     "metadata": {},
     "output_type": "execute_result"
    }
   ],
   "source": [
    "df_m1['residual'].describe()"
   ]
  },
  {
   "cell_type": "code",
   "execution_count": null,
   "metadata": {},
   "outputs": [],
   "source": []
  }
 ],
 "metadata": {
  "kernelspec": {
   "display_name": "Python 3",
   "language": "python",
   "name": "python3"
  },
  "language_info": {
   "codemirror_mode": {
    "name": "ipython",
    "version": 3
   },
   "file_extension": ".py",
   "mimetype": "text/x-python",
   "name": "python",
   "nbconvert_exporter": "python",
   "pygments_lexer": "ipython3",
   "version": "3.6.5"
  }
 },
 "nbformat": 4,
 "nbformat_minor": 2
}
