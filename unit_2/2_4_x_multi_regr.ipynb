{
 "cells": [
  {
   "cell_type": "markdown",
   "metadata": {},
   "source": [
    "## Multivariable Regression"
   ]
  },
  {
   "cell_type": "markdown",
   "metadata": {},
   "source": [
    "### Prepared by Robin Fladebo     December 2018"
   ]
  },
  {
   "cell_type": "markdown",
   "metadata": {},
   "source": [
    "### Introduction"
   ]
  },
  {
   "cell_type": "markdown",
   "metadata": {},
   "source": [
    "Prepare FBI Uniform Crime Reporting data, for the State of New York for 2013, for use in a model with multivariable regression (including data cleaning if necessary) according to this specification:\n",
    "\n",
    "Propertycrime=α+Population+Population^2+Murder+Robbery\n",
    "\n",
    "The 'population' variable is already set for you, but you will need to create the last three features. Robbery and Murder are currently continuous variables. For this model, please use these variables to create categorical features where values greater than 0 are coded 1, and values equal to 0 are coded 0. Don't forget basic data cleaning procedures. Do some graphing to see if there are any anomalous cases, and decide how you want to deal with them."
   ]
  },
  {
   "cell_type": "markdown",
   "metadata": {},
   "source": [
    "#### Notes on data content"
   ]
  },
  {
   "cell_type": "markdown",
   "metadata": {},
   "source": [
    "Property crime includes burglary, larceny-theft and vehicle theft.\n",
    "Data can be retrieved here: https://ucr.fbi.gov/crime-in-the-u.s/2013/crime-in-the-u.s.-2013/tables/table-8/table-8-state-cuts/table_8_offenses_known_to_law_enforcement_new_york_by_city_2013.xls\n",
    "\n",
    "Violent crime includes murder, non-negligent homicide, rape, robbery and aggravated assault."
   ]
  },
  {
   "cell_type": "markdown",
   "metadata": {},
   "source": [
    "### Data preparation"
   ]
  },
  {
   "cell_type": "code",
   "execution_count": 309,
   "metadata": {},
   "outputs": [],
   "source": [
    "import warnings\n",
    "import numpy as np\n",
    "import pandas as pd\n",
    "pd.set_option('display.max_rows', 100)\n",
    "import matplotlib.pyplot as plt\n",
    "plt.rcParams['figure.figsize'] = (20.0, 10.0)\n",
    "%matplotlib inline\n",
    "import seaborn as sns"
   ]
  },
  {
   "cell_type": "code",
   "execution_count": 310,
   "metadata": {},
   "outputs": [],
   "source": [
    "from sklearn import linear_model\n",
    "import statsmodels.formula.api as smf"
   ]
  },
  {
   "cell_type": "code",
   "execution_count": 311,
   "metadata": {},
   "outputs": [],
   "source": [
    "with warnings.catch_warnings():\n",
    "    warnings.filterwarnings(\"ignore\",category=DeprecationWarning)"
   ]
  },
  {
   "cell_type": "code",
   "execution_count": 312,
   "metadata": {
    "scrolled": true
   },
   "outputs": [],
   "source": [
    "df = pd.read_excel('../Datafiles/fbi_nyc_2013.xlsx',sheet_name='fbi_nyc_2013')"
   ]
  },
  {
   "cell_type": "code",
   "execution_count": 313,
   "metadata": {},
   "outputs": [
    {
     "data": {
      "text/plain": [
       "(351, 13)"
      ]
     },
     "execution_count": 313,
     "metadata": {},
     "output_type": "execute_result"
    }
   ],
   "source": [
    "df.shape"
   ]
  },
  {
   "cell_type": "code",
   "execution_count": 314,
   "metadata": {},
   "outputs": [
    {
     "data": {
      "text/plain": [
       "Index(['City', 'Population', 'Violent\\ncrime',\n",
       "       'Murder and\\nnonnegligent\\nmanslaughter',\n",
       "       'Rape\\n(revised\\ndefinition)1', 'Rape\\n(legacy\\ndefinition)2',\n",
       "       'Robbery', 'Aggravated\\nassault', 'Property\\ncrime', 'Burglary',\n",
       "       'Larceny-\\ntheft', 'Motor\\nvehicle\\ntheft', 'Arson'],\n",
       "      dtype='object')"
      ]
     },
     "execution_count": 314,
     "metadata": {},
     "output_type": "execute_result"
    }
   ],
   "source": [
    "df.columns"
   ]
  },
  {
   "cell_type": "code",
   "execution_count": 315,
   "metadata": {},
   "outputs": [
    {
     "data": {
      "text/plain": [
       "City                                       object\n",
       "Population                                float64\n",
       "Violent\\ncrime                            float64\n",
       "Murder and\\nnonnegligent\\nmanslaughter    float64\n",
       "Rape\\n(revised\\ndefinition)1              float64\n",
       "Rape\\n(legacy\\ndefinition)2               float64\n",
       "Robbery                                   float64\n",
       "Aggravated\\nassault                       float64\n",
       "Property\\ncrime                           float64\n",
       "Burglary                                  float64\n",
       "Larceny-\\ntheft                           float64\n",
       "Motor\\nvehicle\\ntheft                     float64\n",
       "Arson                                     float64\n",
       "dtype: object"
      ]
     },
     "execution_count": 315,
     "metadata": {},
     "output_type": "execute_result"
    }
   ],
   "source": [
    "df.dtypes"
   ]
  },
  {
   "cell_type": "code",
   "execution_count": 316,
   "metadata": {},
   "outputs": [],
   "source": [
    "df.rename(columns=lambda x: x.replace('\\n', '_'), inplace=True)"
   ]
  },
  {
   "cell_type": "code",
   "execution_count": 317,
   "metadata": {},
   "outputs": [],
   "source": [
    "df.rename(columns=lambda x: x.lower(), inplace=True)"
   ]
  },
  {
   "cell_type": "code",
   "execution_count": 318,
   "metadata": {
    "scrolled": true
   },
   "outputs": [],
   "source": [
    "df.rename(columns={'rape_(revised_definition)1':'rape_def_1','rape_(legacy_definition)2':'rape_legacy_def'}, inplace=True)"
   ]
  },
  {
   "cell_type": "code",
   "execution_count": 319,
   "metadata": {
    "scrolled": true
   },
   "outputs": [],
   "source": [
    "df.rename(columns={'murder and_nonnegligent_manslaughter':'murder'}, inplace=True)"
   ]
  },
  {
   "cell_type": "code",
   "execution_count": 320,
   "metadata": {},
   "outputs": [],
   "source": [
    "df.rename(columns={'rape_(revised_definition)1':'rape_def_1','rape_(legacy_definition)2':'rape_legacy_def', 'larceny-_theft':'larceny_theft'}, inplace=True)"
   ]
  },
  {
   "cell_type": "markdown",
   "metadata": {},
   "source": [
    "Deal with missing data and extraneous rows"
   ]
  },
  {
   "cell_type": "code",
   "execution_count": 321,
   "metadata": {},
   "outputs": [],
   "source": [
    "# Drop any column that is filled with NA values\n",
    "df.dropna(how='all', axis=1, inplace=True)"
   ]
  },
  {
   "cell_type": "code",
   "execution_count": 322,
   "metadata": {},
   "outputs": [],
   "source": [
    "# Keep rows with at least 2 non-NA values (i.e., drop Notes rows)\n",
    "df.dropna(how='any', thresh=2, inplace=True)"
   ]
  },
  {
   "cell_type": "code",
   "execution_count": 323,
   "metadata": {},
   "outputs": [],
   "source": [
    "df.drop(df[df['property_crime'] == 0].index, inplace=True)"
   ]
  },
  {
   "cell_type": "markdown",
   "metadata": {},
   "source": [
    "Create new features"
   ]
  },
  {
   "cell_type": "code",
   "execution_count": 324,
   "metadata": {
    "scrolled": true
   },
   "outputs": [],
   "source": [
    "df['pop_sq'] = df['population']**2"
   ]
  },
  {
   "cell_type": "code",
   "execution_count": 325,
   "metadata": {
    "scrolled": true
   },
   "outputs": [],
   "source": [
    "df['pop_log'] = np.log(df['population'])"
   ]
  },
  {
   "cell_type": "code",
   "execution_count": 326,
   "metadata": {},
   "outputs": [],
   "source": [
    "df['pty_crime_sqrt'] = np.sqrt(df['property_crime'])"
   ]
  },
  {
   "cell_type": "code",
   "execution_count": 327,
   "metadata": {},
   "outputs": [],
   "source": [
    "df['pty_crime_log'] = np.log(df['property_crime'])"
   ]
  },
  {
   "cell_type": "code",
   "execution_count": 328,
   "metadata": {},
   "outputs": [],
   "source": [
    "def set_ind(var,new_val):\n",
    "    df[new_val]=np.where(df[var]>0, 1, 0)\n",
    "    return df\n",
    "df = set_ind('murder', 'murder_ind')\n",
    "df = set_ind('robbery', 'robbery_ind')"
   ]
  },
  {
   "cell_type": "code",
   "execution_count": 329,
   "metadata": {},
   "outputs": [],
   "source": [
    "#compute per capita measures for each variable in use\n",
    "df['pty_crime_pc']=df['property_crime']/df['population']\n",
    "df['murder_pc']=df['murder']/df['population']\n",
    "df['robbery_pc']=df['robbery']/df['population']\n",
    "df['violent_pc']=df['violent_crime']/df['population']"
   ]
  },
  {
   "cell_type": "code",
   "execution_count": 330,
   "metadata": {},
   "outputs": [],
   "source": [
    "def set_ind(var,new_val):\n",
    "    df[new_val]=np.where(df[var]>=0, 1, 0)\n",
    "    return df\n",
    "df = set_ind('murder_pc', 'murder_pc_ind')\n",
    "df = set_ind('robbery_pc', 'robbery_pc_ind')\n",
    "df = set_ind('violent_pc', 'violent_pc_ind')"
   ]
  },
  {
   "cell_type": "code",
   "execution_count": 331,
   "metadata": {},
   "outputs": [],
   "source": [
    "df['outlier_flag'] = np.where(df['population']>200000, 1, 0)"
   ]
  },
  {
   "cell_type": "code",
   "execution_count": 332,
   "metadata": {},
   "outputs": [],
   "source": [
    "df['low_outlier'] = np.where(df['population']<5000, 1, 0 )"
   ]
  },
  {
   "cell_type": "code",
   "execution_count": 333,
   "metadata": {
    "scrolled": false
   },
   "outputs": [
    {
     "data": {
      "text/html": [
       "<div>\n",
       "<style scoped>\n",
       "    .dataframe tbody tr th:only-of-type {\n",
       "        vertical-align: middle;\n",
       "    }\n",
       "\n",
       "    .dataframe tbody tr th {\n",
       "        vertical-align: top;\n",
       "    }\n",
       "\n",
       "    .dataframe thead th {\n",
       "        text-align: right;\n",
       "    }\n",
       "</style>\n",
       "<table border=\"1\" class=\"dataframe\">\n",
       "  <thead>\n",
       "    <tr style=\"text-align: right;\">\n",
       "      <th></th>\n",
       "      <th>city</th>\n",
       "      <th>population</th>\n",
       "      <th>violent_crime</th>\n",
       "      <th>murder</th>\n",
       "      <th>rape_legacy_def</th>\n",
       "      <th>robbery</th>\n",
       "      <th>aggravated_assault</th>\n",
       "      <th>property_crime</th>\n",
       "      <th>burglary</th>\n",
       "      <th>larceny_theft</th>\n",
       "      <th>...</th>\n",
       "      <th>robbery_ind</th>\n",
       "      <th>pty_crime_pc</th>\n",
       "      <th>murder_pc</th>\n",
       "      <th>robbery_pc</th>\n",
       "      <th>violent_pc</th>\n",
       "      <th>murder_pc_ind</th>\n",
       "      <th>robbery_pc_ind</th>\n",
       "      <th>violent_pc_ind</th>\n",
       "      <th>outlier_flag</th>\n",
       "      <th>low_outlier</th>\n",
       "    </tr>\n",
       "    <tr>\n",
       "      <th>outlier_flag</th>\n",
       "      <th></th>\n",
       "      <th></th>\n",
       "      <th></th>\n",
       "      <th></th>\n",
       "      <th></th>\n",
       "      <th></th>\n",
       "      <th></th>\n",
       "      <th></th>\n",
       "      <th></th>\n",
       "      <th></th>\n",
       "      <th></th>\n",
       "      <th></th>\n",
       "      <th></th>\n",
       "      <th></th>\n",
       "      <th></th>\n",
       "      <th></th>\n",
       "      <th></th>\n",
       "      <th></th>\n",
       "      <th></th>\n",
       "      <th></th>\n",
       "      <th></th>\n",
       "    </tr>\n",
       "  </thead>\n",
       "  <tbody>\n",
       "    <tr>\n",
       "      <th>0</th>\n",
       "      <td>339</td>\n",
       "      <td>339</td>\n",
       "      <td>339</td>\n",
       "      <td>339</td>\n",
       "      <td>339</td>\n",
       "      <td>339</td>\n",
       "      <td>339</td>\n",
       "      <td>339</td>\n",
       "      <td>339</td>\n",
       "      <td>339</td>\n",
       "      <td>...</td>\n",
       "      <td>339</td>\n",
       "      <td>339</td>\n",
       "      <td>339</td>\n",
       "      <td>339</td>\n",
       "      <td>339</td>\n",
       "      <td>339</td>\n",
       "      <td>339</td>\n",
       "      <td>339</td>\n",
       "      <td>339</td>\n",
       "      <td>339</td>\n",
       "    </tr>\n",
       "    <tr>\n",
       "      <th>1</th>\n",
       "      <td>3</td>\n",
       "      <td>3</td>\n",
       "      <td>3</td>\n",
       "      <td>3</td>\n",
       "      <td>3</td>\n",
       "      <td>3</td>\n",
       "      <td>3</td>\n",
       "      <td>3</td>\n",
       "      <td>3</td>\n",
       "      <td>3</td>\n",
       "      <td>...</td>\n",
       "      <td>3</td>\n",
       "      <td>3</td>\n",
       "      <td>3</td>\n",
       "      <td>3</td>\n",
       "      <td>3</td>\n",
       "      <td>3</td>\n",
       "      <td>3</td>\n",
       "      <td>3</td>\n",
       "      <td>3</td>\n",
       "      <td>3</td>\n",
       "    </tr>\n",
       "  </tbody>\n",
       "</table>\n",
       "<p>2 rows × 27 columns</p>\n",
       "</div>"
      ],
      "text/plain": [
       "              city  population  violent_crime  murder  rape_legacy_def  \\\n",
       "outlier_flag                                                             \n",
       "0              339         339            339     339              339   \n",
       "1                3           3              3       3                3   \n",
       "\n",
       "              robbery  aggravated_assault  property_crime  burglary  \\\n",
       "outlier_flag                                                          \n",
       "0                 339                 339             339       339   \n",
       "1                   3                   3               3         3   \n",
       "\n",
       "              larceny_theft     ...       robbery_ind  pty_crime_pc  \\\n",
       "outlier_flag                    ...                                   \n",
       "0                       339     ...               339           339   \n",
       "1                         3     ...                 3             3   \n",
       "\n",
       "              murder_pc  robbery_pc  violent_pc  murder_pc_ind  \\\n",
       "outlier_flag                                                     \n",
       "0                   339         339         339            339   \n",
       "1                     3           3           3              3   \n",
       "\n",
       "              robbery_pc_ind  violent_pc_ind  outlier_flag  low_outlier  \n",
       "outlier_flag                                                             \n",
       "0                        339             339           339          339  \n",
       "1                          3               3             3            3  \n",
       "\n",
       "[2 rows x 27 columns]"
      ]
     },
     "execution_count": 333,
     "metadata": {},
     "output_type": "execute_result"
    }
   ],
   "source": [
    "df.groupby(df['outlier_flag']).count()"
   ]
  },
  {
   "cell_type": "code",
   "execution_count": 334,
   "metadata": {},
   "outputs": [
    {
     "data": {
      "text/html": [
       "<div>\n",
       "<style scoped>\n",
       "    .dataframe tbody tr th:only-of-type {\n",
       "        vertical-align: middle;\n",
       "    }\n",
       "\n",
       "    .dataframe tbody tr th {\n",
       "        vertical-align: top;\n",
       "    }\n",
       "\n",
       "    .dataframe thead th {\n",
       "        text-align: right;\n",
       "    }\n",
       "</style>\n",
       "<table border=\"1\" class=\"dataframe\">\n",
       "  <thead>\n",
       "    <tr style=\"text-align: right;\">\n",
       "      <th></th>\n",
       "      <th>city</th>\n",
       "      <th>population</th>\n",
       "      <th>violent_crime</th>\n",
       "      <th>murder</th>\n",
       "      <th>rape_legacy_def</th>\n",
       "      <th>robbery</th>\n",
       "      <th>aggravated_assault</th>\n",
       "      <th>property_crime</th>\n",
       "      <th>burglary</th>\n",
       "      <th>larceny_theft</th>\n",
       "      <th>...</th>\n",
       "      <th>murder_ind</th>\n",
       "      <th>robbery_ind</th>\n",
       "      <th>pty_crime_pc</th>\n",
       "      <th>murder_pc</th>\n",
       "      <th>robbery_pc</th>\n",
       "      <th>violent_pc</th>\n",
       "      <th>murder_pc_ind</th>\n",
       "      <th>robbery_pc_ind</th>\n",
       "      <th>violent_pc_ind</th>\n",
       "      <th>outlier_flag</th>\n",
       "    </tr>\n",
       "    <tr>\n",
       "      <th>low_outlier</th>\n",
       "      <th></th>\n",
       "      <th></th>\n",
       "      <th></th>\n",
       "      <th></th>\n",
       "      <th></th>\n",
       "      <th></th>\n",
       "      <th></th>\n",
       "      <th></th>\n",
       "      <th></th>\n",
       "      <th></th>\n",
       "      <th></th>\n",
       "      <th></th>\n",
       "      <th></th>\n",
       "      <th></th>\n",
       "      <th></th>\n",
       "      <th></th>\n",
       "      <th></th>\n",
       "      <th></th>\n",
       "      <th></th>\n",
       "      <th></th>\n",
       "      <th></th>\n",
       "    </tr>\n",
       "  </thead>\n",
       "  <tbody>\n",
       "    <tr>\n",
       "      <th>0</th>\n",
       "      <td>215</td>\n",
       "      <td>215</td>\n",
       "      <td>215</td>\n",
       "      <td>215</td>\n",
       "      <td>215</td>\n",
       "      <td>215</td>\n",
       "      <td>215</td>\n",
       "      <td>215</td>\n",
       "      <td>215</td>\n",
       "      <td>215</td>\n",
       "      <td>...</td>\n",
       "      <td>215</td>\n",
       "      <td>215</td>\n",
       "      <td>215</td>\n",
       "      <td>215</td>\n",
       "      <td>215</td>\n",
       "      <td>215</td>\n",
       "      <td>215</td>\n",
       "      <td>215</td>\n",
       "      <td>215</td>\n",
       "      <td>215</td>\n",
       "    </tr>\n",
       "    <tr>\n",
       "      <th>1</th>\n",
       "      <td>127</td>\n",
       "      <td>127</td>\n",
       "      <td>127</td>\n",
       "      <td>127</td>\n",
       "      <td>127</td>\n",
       "      <td>127</td>\n",
       "      <td>127</td>\n",
       "      <td>127</td>\n",
       "      <td>127</td>\n",
       "      <td>127</td>\n",
       "      <td>...</td>\n",
       "      <td>127</td>\n",
       "      <td>127</td>\n",
       "      <td>127</td>\n",
       "      <td>127</td>\n",
       "      <td>127</td>\n",
       "      <td>127</td>\n",
       "      <td>127</td>\n",
       "      <td>127</td>\n",
       "      <td>127</td>\n",
       "      <td>127</td>\n",
       "    </tr>\n",
       "  </tbody>\n",
       "</table>\n",
       "<p>2 rows × 26 columns</p>\n",
       "</div>"
      ],
      "text/plain": [
       "             city  population  violent_crime  murder  rape_legacy_def  \\\n",
       "low_outlier                                                             \n",
       "0             215         215            215     215              215   \n",
       "1             127         127            127     127              127   \n",
       "\n",
       "             robbery  aggravated_assault  property_crime  burglary  \\\n",
       "low_outlier                                                          \n",
       "0                215                 215             215       215   \n",
       "1                127                 127             127       127   \n",
       "\n",
       "             larceny_theft      ...       murder_ind  robbery_ind  \\\n",
       "low_outlier                     ...                                 \n",
       "0                      215      ...              215          215   \n",
       "1                      127      ...              127          127   \n",
       "\n",
       "             pty_crime_pc  murder_pc  robbery_pc  violent_pc  murder_pc_ind  \\\n",
       "low_outlier                                                                   \n",
       "0                     215        215         215         215            215   \n",
       "1                     127        127         127         127            127   \n",
       "\n",
       "             robbery_pc_ind  violent_pc_ind  outlier_flag  \n",
       "low_outlier                                                \n",
       "0                       215             215           215  \n",
       "1                       127             127           127  \n",
       "\n",
       "[2 rows x 26 columns]"
      ]
     },
     "execution_count": 334,
     "metadata": {},
     "output_type": "execute_result"
    }
   ],
   "source": [
    "df.groupby(df['low_outlier']).count()"
   ]
  },
  {
   "cell_type": "markdown",
   "metadata": {},
   "source": [
    "### Data analysis"
   ]
  },
  {
   "cell_type": "code",
   "execution_count": 335,
   "metadata": {
    "scrolled": false
   },
   "outputs": [
    {
     "data": {
      "text/html": [
       "<div>\n",
       "<style scoped>\n",
       "    .dataframe tbody tr th:only-of-type {\n",
       "        vertical-align: middle;\n",
       "    }\n",
       "\n",
       "    .dataframe tbody tr th {\n",
       "        vertical-align: top;\n",
       "    }\n",
       "\n",
       "    .dataframe thead th {\n",
       "        text-align: right;\n",
       "    }\n",
       "</style>\n",
       "<table border=\"1\" class=\"dataframe\">\n",
       "  <thead>\n",
       "    <tr style=\"text-align: right;\">\n",
       "      <th></th>\n",
       "      <th>population</th>\n",
       "      <th>violent_crime</th>\n",
       "      <th>murder</th>\n",
       "      <th>rape_legacy_def</th>\n",
       "      <th>robbery</th>\n",
       "      <th>aggravated_assault</th>\n",
       "      <th>property_crime</th>\n",
       "      <th>burglary</th>\n",
       "      <th>larceny_theft</th>\n",
       "      <th>motor_vehicle_theft</th>\n",
       "      <th>...</th>\n",
       "      <th>robbery_ind</th>\n",
       "      <th>pty_crime_pc</th>\n",
       "      <th>murder_pc</th>\n",
       "      <th>robbery_pc</th>\n",
       "      <th>violent_pc</th>\n",
       "      <th>murder_pc_ind</th>\n",
       "      <th>robbery_pc_ind</th>\n",
       "      <th>violent_pc_ind</th>\n",
       "      <th>outlier_flag</th>\n",
       "      <th>low_outlier</th>\n",
       "    </tr>\n",
       "  </thead>\n",
       "  <tbody>\n",
       "    <tr>\n",
       "      <th>count</th>\n",
       "      <td>3.420000e+02</td>\n",
       "      <td>342.000000</td>\n",
       "      <td>342.000000</td>\n",
       "      <td>342.000000</td>\n",
       "      <td>342.000000</td>\n",
       "      <td>342.000000</td>\n",
       "      <td>342.000000</td>\n",
       "      <td>342.000000</td>\n",
       "      <td>342.000000</td>\n",
       "      <td>342.000000</td>\n",
       "      <td>...</td>\n",
       "      <td>342.000000</td>\n",
       "      <td>342.000000</td>\n",
       "      <td>342.000000</td>\n",
       "      <td>342.000000</td>\n",
       "      <td>342.000000</td>\n",
       "      <td>342.0</td>\n",
       "      <td>342.0</td>\n",
       "      <td>342.0</td>\n",
       "      <td>342.000000</td>\n",
       "      <td>342.000000</td>\n",
       "    </tr>\n",
       "    <tr>\n",
       "      <th>mean</th>\n",
       "      <td>4.071809e+04</td>\n",
       "      <td>205.131579</td>\n",
       "      <td>1.593567</td>\n",
       "      <td>5.967836</td>\n",
       "      <td>74.181287</td>\n",
       "      <td>123.388889</td>\n",
       "      <td>806.511696</td>\n",
       "      <td>121.783626</td>\n",
       "      <td>648.192982</td>\n",
       "      <td>36.535088</td>\n",
       "      <td>...</td>\n",
       "      <td>0.611111</td>\n",
       "      <td>0.019823</td>\n",
       "      <td>0.000011</td>\n",
       "      <td>0.000383</td>\n",
       "      <td>0.001561</td>\n",
       "      <td>1.0</td>\n",
       "      <td>1.0</td>\n",
       "      <td>1.0</td>\n",
       "      <td>0.008772</td>\n",
       "      <td>0.371345</td>\n",
       "    </tr>\n",
       "    <tr>\n",
       "      <th>std</th>\n",
       "      <td>4.539497e+05</td>\n",
       "      <td>2839.800152</td>\n",
       "      <td>18.462811</td>\n",
       "      <td>60.949685</td>\n",
       "      <td>1040.018245</td>\n",
       "      <td>1720.999750</td>\n",
       "      <td>7726.090635</td>\n",
       "      <td>932.913244</td>\n",
       "      <td>6401.073911</td>\n",
       "      <td>406.929173</td>\n",
       "      <td>...</td>\n",
       "      <td>0.488212</td>\n",
       "      <td>0.014494</td>\n",
       "      <td>0.000035</td>\n",
       "      <td>0.000721</td>\n",
       "      <td>0.002082</td>\n",
       "      <td>0.0</td>\n",
       "      <td>0.0</td>\n",
       "      <td>0.0</td>\n",
       "      <td>0.093384</td>\n",
       "      <td>0.483872</td>\n",
       "    </tr>\n",
       "    <tr>\n",
       "      <th>min</th>\n",
       "      <td>5.260000e+02</td>\n",
       "      <td>0.000000</td>\n",
       "      <td>0.000000</td>\n",
       "      <td>0.000000</td>\n",
       "      <td>0.000000</td>\n",
       "      <td>0.000000</td>\n",
       "      <td>1.000000</td>\n",
       "      <td>0.000000</td>\n",
       "      <td>0.000000</td>\n",
       "      <td>0.000000</td>\n",
       "      <td>...</td>\n",
       "      <td>0.000000</td>\n",
       "      <td>0.000168</td>\n",
       "      <td>0.000000</td>\n",
       "      <td>0.000000</td>\n",
       "      <td>0.000000</td>\n",
       "      <td>1.0</td>\n",
       "      <td>1.0</td>\n",
       "      <td>1.0</td>\n",
       "      <td>0.000000</td>\n",
       "      <td>0.000000</td>\n",
       "    </tr>\n",
       "    <tr>\n",
       "      <th>25%</th>\n",
       "      <td>3.077500e+03</td>\n",
       "      <td>2.000000</td>\n",
       "      <td>0.000000</td>\n",
       "      <td>0.000000</td>\n",
       "      <td>0.000000</td>\n",
       "      <td>1.000000</td>\n",
       "      <td>42.000000</td>\n",
       "      <td>6.000000</td>\n",
       "      <td>32.000000</td>\n",
       "      <td>0.000000</td>\n",
       "      <td>...</td>\n",
       "      <td>0.000000</td>\n",
       "      <td>0.009439</td>\n",
       "      <td>0.000000</td>\n",
       "      <td>0.000000</td>\n",
       "      <td>0.000383</td>\n",
       "      <td>1.0</td>\n",
       "      <td>1.0</td>\n",
       "      <td>1.0</td>\n",
       "      <td>0.000000</td>\n",
       "      <td>0.000000</td>\n",
       "    </tr>\n",
       "    <tr>\n",
       "      <th>50%</th>\n",
       "      <td>7.465500e+03</td>\n",
       "      <td>6.000000</td>\n",
       "      <td>0.000000</td>\n",
       "      <td>0.000000</td>\n",
       "      <td>1.000000</td>\n",
       "      <td>5.000000</td>\n",
       "      <td>114.000000</td>\n",
       "      <td>18.000000</td>\n",
       "      <td>95.500000</td>\n",
       "      <td>2.000000</td>\n",
       "      <td>...</td>\n",
       "      <td>1.000000</td>\n",
       "      <td>0.016390</td>\n",
       "      <td>0.000000</td>\n",
       "      <td>0.000154</td>\n",
       "      <td>0.000867</td>\n",
       "      <td>1.0</td>\n",
       "      <td>1.0</td>\n",
       "      <td>1.0</td>\n",
       "      <td>0.000000</td>\n",
       "      <td>0.000000</td>\n",
       "    </tr>\n",
       "    <tr>\n",
       "      <th>75%</th>\n",
       "      <td>1.927950e+04</td>\n",
       "      <td>22.000000</td>\n",
       "      <td>0.000000</td>\n",
       "      <td>2.000000</td>\n",
       "      <td>5.000000</td>\n",
       "      <td>14.000000</td>\n",
       "      <td>342.500000</td>\n",
       "      <td>52.000000</td>\n",
       "      <td>288.750000</td>\n",
       "      <td>7.000000</td>\n",
       "      <td>...</td>\n",
       "      <td>1.000000</td>\n",
       "      <td>0.026201</td>\n",
       "      <td>0.000000</td>\n",
       "      <td>0.000451</td>\n",
       "      <td>0.001890</td>\n",
       "      <td>1.0</td>\n",
       "      <td>1.0</td>\n",
       "      <td>1.0</td>\n",
       "      <td>0.000000</td>\n",
       "      <td>1.000000</td>\n",
       "    </tr>\n",
       "    <tr>\n",
       "      <th>max</th>\n",
       "      <td>8.396126e+06</td>\n",
       "      <td>52384.000000</td>\n",
       "      <td>335.000000</td>\n",
       "      <td>1112.000000</td>\n",
       "      <td>19170.000000</td>\n",
       "      <td>31767.000000</td>\n",
       "      <td>141971.000000</td>\n",
       "      <td>16606.000000</td>\n",
       "      <td>117931.000000</td>\n",
       "      <td>7434.000000</td>\n",
       "      <td>...</td>\n",
       "      <td>1.000000</td>\n",
       "      <td>0.123624</td>\n",
       "      <td>0.000227</td>\n",
       "      <td>0.005250</td>\n",
       "      <td>0.015225</td>\n",
       "      <td>1.0</td>\n",
       "      <td>1.0</td>\n",
       "      <td>1.0</td>\n",
       "      <td>1.000000</td>\n",
       "      <td>1.000000</td>\n",
       "    </tr>\n",
       "  </tbody>\n",
       "</table>\n",
       "<p>8 rows × 26 columns</p>\n",
       "</div>"
      ],
      "text/plain": [
       "         population  violent_crime      murder  rape_legacy_def       robbery  \\\n",
       "count  3.420000e+02     342.000000  342.000000       342.000000    342.000000   \n",
       "mean   4.071809e+04     205.131579    1.593567         5.967836     74.181287   \n",
       "std    4.539497e+05    2839.800152   18.462811        60.949685   1040.018245   \n",
       "min    5.260000e+02       0.000000    0.000000         0.000000      0.000000   \n",
       "25%    3.077500e+03       2.000000    0.000000         0.000000      0.000000   \n",
       "50%    7.465500e+03       6.000000    0.000000         0.000000      1.000000   \n",
       "75%    1.927950e+04      22.000000    0.000000         2.000000      5.000000   \n",
       "max    8.396126e+06   52384.000000  335.000000      1112.000000  19170.000000   \n",
       "\n",
       "       aggravated_assault  property_crime      burglary  larceny_theft  \\\n",
       "count          342.000000      342.000000    342.000000     342.000000   \n",
       "mean           123.388889      806.511696    121.783626     648.192982   \n",
       "std           1720.999750     7726.090635    932.913244    6401.073911   \n",
       "min              0.000000        1.000000      0.000000       0.000000   \n",
       "25%              1.000000       42.000000      6.000000      32.000000   \n",
       "50%              5.000000      114.000000     18.000000      95.500000   \n",
       "75%             14.000000      342.500000     52.000000     288.750000   \n",
       "max          31767.000000   141971.000000  16606.000000  117931.000000   \n",
       "\n",
       "       motor_vehicle_theft     ...       robbery_ind  pty_crime_pc  \\\n",
       "count           342.000000     ...        342.000000    342.000000   \n",
       "mean             36.535088     ...          0.611111      0.019823   \n",
       "std             406.929173     ...          0.488212      0.014494   \n",
       "min               0.000000     ...          0.000000      0.000168   \n",
       "25%               0.000000     ...          0.000000      0.009439   \n",
       "50%               2.000000     ...          1.000000      0.016390   \n",
       "75%               7.000000     ...          1.000000      0.026201   \n",
       "max            7434.000000     ...          1.000000      0.123624   \n",
       "\n",
       "        murder_pc  robbery_pc  violent_pc  murder_pc_ind  robbery_pc_ind  \\\n",
       "count  342.000000  342.000000  342.000000          342.0           342.0   \n",
       "mean     0.000011    0.000383    0.001561            1.0             1.0   \n",
       "std      0.000035    0.000721    0.002082            0.0             0.0   \n",
       "min      0.000000    0.000000    0.000000            1.0             1.0   \n",
       "25%      0.000000    0.000000    0.000383            1.0             1.0   \n",
       "50%      0.000000    0.000154    0.000867            1.0             1.0   \n",
       "75%      0.000000    0.000451    0.001890            1.0             1.0   \n",
       "max      0.000227    0.005250    0.015225            1.0             1.0   \n",
       "\n",
       "       violent_pc_ind  outlier_flag  low_outlier  \n",
       "count           342.0    342.000000   342.000000  \n",
       "mean              1.0      0.008772     0.371345  \n",
       "std               0.0      0.093384     0.483872  \n",
       "min               1.0      0.000000     0.000000  \n",
       "25%               1.0      0.000000     0.000000  \n",
       "50%               1.0      0.000000     0.000000  \n",
       "75%               1.0      0.000000     1.000000  \n",
       "max               1.0      1.000000     1.000000  \n",
       "\n",
       "[8 rows x 26 columns]"
      ]
     },
     "execution_count": 335,
     "metadata": {},
     "output_type": "execute_result"
    }
   ],
   "source": [
    "df.describe()"
   ]
  },
  {
   "cell_type": "markdown",
   "metadata": {},
   "source": [
    "Create new features based on quartile distribution of population"
   ]
  },
  {
   "cell_type": "code",
   "execution_count": 336,
   "metadata": {},
   "outputs": [],
   "source": [
    "df['qrtl_1']=np.where(df['population']<3004, 1, 0)\n",
    "df['qrtl_2']=np.where((df['population']>3003) & (df['population']<7234), 1, 0)\n",
    "df['qrtl_3']=np.where((df['population']>7233) & (df['population']<184270), 1, 0)\n",
    "df['qrtl_4']=np.where(df['population']>184271, 1, 0)"
   ]
  },
  {
   "cell_type": "code",
   "execution_count": 337,
   "metadata": {},
   "outputs": [
    {
     "data": {
      "text/html": [
       "<div>\n",
       "<style scoped>\n",
       "    .dataframe tbody tr th:only-of-type {\n",
       "        vertical-align: middle;\n",
       "    }\n",
       "\n",
       "    .dataframe tbody tr th {\n",
       "        vertical-align: top;\n",
       "    }\n",
       "\n",
       "    .dataframe thead th {\n",
       "        text-align: right;\n",
       "    }\n",
       "</style>\n",
       "<table border=\"1\" class=\"dataframe\">\n",
       "  <thead>\n",
       "    <tr style=\"text-align: right;\">\n",
       "      <th></th>\n",
       "      <th>population</th>\n",
       "      <th>violent_crime</th>\n",
       "      <th>murder</th>\n",
       "      <th>rape_legacy_def</th>\n",
       "      <th>robbery</th>\n",
       "      <th>aggravated_assault</th>\n",
       "      <th>property_crime</th>\n",
       "      <th>burglary</th>\n",
       "      <th>larceny_theft</th>\n",
       "      <th>motor_vehicle_theft</th>\n",
       "      <th>...</th>\n",
       "      <th>violent_pc</th>\n",
       "      <th>murder_pc_ind</th>\n",
       "      <th>robbery_pc_ind</th>\n",
       "      <th>violent_pc_ind</th>\n",
       "      <th>outlier_flag</th>\n",
       "      <th>low_outlier</th>\n",
       "      <th>qrtl_1</th>\n",
       "      <th>qrtl_2</th>\n",
       "      <th>qrtl_3</th>\n",
       "      <th>qrtl_4</th>\n",
       "    </tr>\n",
       "  </thead>\n",
       "  <tbody>\n",
       "    <tr>\n",
       "      <th>population</th>\n",
       "      <td>1.000000</td>\n",
       "      <td>0.998855</td>\n",
       "      <td>0.986756</td>\n",
       "      <td>0.990839</td>\n",
       "      <td>0.998471</td>\n",
       "      <td>0.999136</td>\n",
       "      <td>0.996267</td>\n",
       "      <td>0.970588</td>\n",
       "      <td>0.997947</td>\n",
       "      <td>0.992420</td>\n",
       "      <td>...</td>\n",
       "      <td>0.150263</td>\n",
       "      <td>NaN</td>\n",
       "      <td>NaN</td>\n",
       "      <td>NaN</td>\n",
       "      <td>0.604845</td>\n",
       "      <td>-0.064607</td>\n",
       "      <td>-0.047670</td>\n",
       "      <td>-0.046178</td>\n",
       "      <td>-0.034089</td>\n",
       "      <td>0.534090</td>\n",
       "    </tr>\n",
       "    <tr>\n",
       "      <th>violent_crime</th>\n",
       "      <td>0.998855</td>\n",
       "      <td>1.000000</td>\n",
       "      <td>0.992099</td>\n",
       "      <td>0.994990</td>\n",
       "      <td>0.999923</td>\n",
       "      <td>0.999942</td>\n",
       "      <td>0.998068</td>\n",
       "      <td>0.978176</td>\n",
       "      <td>0.998769</td>\n",
       "      <td>0.996273</td>\n",
       "      <td>...</td>\n",
       "      <td>0.173540</td>\n",
       "      <td>NaN</td>\n",
       "      <td>NaN</td>\n",
       "      <td>NaN</td>\n",
       "      <td>0.631700</td>\n",
       "      <td>-0.054738</td>\n",
       "      <td>-0.039938</td>\n",
       "      <td>-0.040895</td>\n",
       "      <td>-0.049942</td>\n",
       "      <td>0.555846</td>\n",
       "    </tr>\n",
       "    <tr>\n",
       "      <th>murder</th>\n",
       "      <td>0.986756</td>\n",
       "      <td>0.992099</td>\n",
       "      <td>1.000000</td>\n",
       "      <td>0.997747</td>\n",
       "      <td>0.993105</td>\n",
       "      <td>0.990843</td>\n",
       "      <td>0.995405</td>\n",
       "      <td>0.993749</td>\n",
       "      <td>0.993176</td>\n",
       "      <td>0.997992</td>\n",
       "      <td>...</td>\n",
       "      <td>0.229588</td>\n",
       "      <td>NaN</td>\n",
       "      <td>NaN</td>\n",
       "      <td>NaN</td>\n",
       "      <td>0.713048</td>\n",
       "      <td>-0.066434</td>\n",
       "      <td>-0.048154</td>\n",
       "      <td>-0.049397</td>\n",
       "      <td>-0.050407</td>\n",
       "      <td>0.624931</td>\n",
       "    </tr>\n",
       "    <tr>\n",
       "      <th>rape_legacy_def</th>\n",
       "      <td>0.990839</td>\n",
       "      <td>0.994990</td>\n",
       "      <td>0.997747</td>\n",
       "      <td>1.000000</td>\n",
       "      <td>0.995444</td>\n",
       "      <td>0.994145</td>\n",
       "      <td>0.997843</td>\n",
       "      <td>0.992450</td>\n",
       "      <td>0.996259</td>\n",
       "      <td>0.998764</td>\n",
       "      <td>...</td>\n",
       "      <td>0.228631</td>\n",
       "      <td>NaN</td>\n",
       "      <td>NaN</td>\n",
       "      <td>NaN</td>\n",
       "      <td>0.685825</td>\n",
       "      <td>-0.071983</td>\n",
       "      <td>-0.054061</td>\n",
       "      <td>-0.051650</td>\n",
       "      <td>-0.038775</td>\n",
       "      <td>0.603325</td>\n",
       "    </tr>\n",
       "    <tr>\n",
       "      <th>robbery</th>\n",
       "      <td>0.998471</td>\n",
       "      <td>0.999923</td>\n",
       "      <td>0.993105</td>\n",
       "      <td>0.995444</td>\n",
       "      <td>1.000000</td>\n",
       "      <td>0.999742</td>\n",
       "      <td>0.998246</td>\n",
       "      <td>0.979551</td>\n",
       "      <td>0.998742</td>\n",
       "      <td>0.996930</td>\n",
       "      <td>...</td>\n",
       "      <td>0.174877</td>\n",
       "      <td>NaN</td>\n",
       "      <td>NaN</td>\n",
       "      <td>NaN</td>\n",
       "      <td>0.639754</td>\n",
       "      <td>-0.054591</td>\n",
       "      <td>-0.039674</td>\n",
       "      <td>-0.041057</td>\n",
       "      <td>-0.051593</td>\n",
       "      <td>0.563133</td>\n",
       "    </tr>\n",
       "    <tr>\n",
       "      <th>aggravated_assault</th>\n",
       "      <td>0.999136</td>\n",
       "      <td>0.999942</td>\n",
       "      <td>0.990843</td>\n",
       "      <td>0.994145</td>\n",
       "      <td>0.999742</td>\n",
       "      <td>1.000000</td>\n",
       "      <td>0.997631</td>\n",
       "      <td>0.976313</td>\n",
       "      <td>0.998568</td>\n",
       "      <td>0.995405</td>\n",
       "      <td>...</td>\n",
       "      <td>0.170117</td>\n",
       "      <td>NaN</td>\n",
       "      <td>NaN</td>\n",
       "      <td>NaN</td>\n",
       "      <td>0.623812</td>\n",
       "      <td>-0.054071</td>\n",
       "      <td>-0.039495</td>\n",
       "      <td>-0.040310</td>\n",
       "      <td>-0.049317</td>\n",
       "      <td>0.548815</td>\n",
       "    </tr>\n",
       "    <tr>\n",
       "      <th>property_crime</th>\n",
       "      <td>0.996267</td>\n",
       "      <td>0.998068</td>\n",
       "      <td>0.995405</td>\n",
       "      <td>0.997843</td>\n",
       "      <td>0.998246</td>\n",
       "      <td>0.997631</td>\n",
       "      <td>1.000000</td>\n",
       "      <td>0.987140</td>\n",
       "      <td>0.999666</td>\n",
       "      <td>0.998303</td>\n",
       "      <td>...</td>\n",
       "      <td>0.199832</td>\n",
       "      <td>NaN</td>\n",
       "      <td>NaN</td>\n",
       "      <td>NaN</td>\n",
       "      <td>0.658842</td>\n",
       "      <td>-0.075171</td>\n",
       "      <td>-0.055843</td>\n",
       "      <td>-0.053664</td>\n",
       "      <td>-0.029829</td>\n",
       "      <td>0.576922</td>\n",
       "    </tr>\n",
       "    <tr>\n",
       "      <th>burglary</th>\n",
       "      <td>0.970588</td>\n",
       "      <td>0.978176</td>\n",
       "      <td>0.993749</td>\n",
       "      <td>0.992450</td>\n",
       "      <td>0.979551</td>\n",
       "      <td>0.976313</td>\n",
       "      <td>0.987140</td>\n",
       "      <td>1.000000</td>\n",
       "      <td>0.982704</td>\n",
       "      <td>0.991477</td>\n",
       "      <td>...</td>\n",
       "      <td>0.286950</td>\n",
       "      <td>NaN</td>\n",
       "      <td>NaN</td>\n",
       "      <td>NaN</td>\n",
       "      <td>0.750170</td>\n",
       "      <td>-0.093519</td>\n",
       "      <td>-0.069632</td>\n",
       "      <td>-0.065810</td>\n",
       "      <td>-0.025558</td>\n",
       "      <td>0.660792</td>\n",
       "    </tr>\n",
       "    <tr>\n",
       "      <th>larceny_theft</th>\n",
       "      <td>0.997947</td>\n",
       "      <td>0.998769</td>\n",
       "      <td>0.993176</td>\n",
       "      <td>0.996259</td>\n",
       "      <td>0.998742</td>\n",
       "      <td>0.998568</td>\n",
       "      <td>0.999666</td>\n",
       "      <td>0.982704</td>\n",
       "      <td>1.000000</td>\n",
       "      <td>0.996878</td>\n",
       "      <td>...</td>\n",
       "      <td>0.185863</td>\n",
       "      <td>NaN</td>\n",
       "      <td>NaN</td>\n",
       "      <td>NaN</td>\n",
       "      <td>0.642273</td>\n",
       "      <td>-0.072844</td>\n",
       "      <td>-0.054142</td>\n",
       "      <td>-0.052010</td>\n",
       "      <td>-0.029370</td>\n",
       "      <td>0.561361</td>\n",
       "    </tr>\n",
       "    <tr>\n",
       "      <th>motor_vehicle_theft</th>\n",
       "      <td>0.992420</td>\n",
       "      <td>0.996273</td>\n",
       "      <td>0.997992</td>\n",
       "      <td>0.998764</td>\n",
       "      <td>0.996930</td>\n",
       "      <td>0.995405</td>\n",
       "      <td>0.998303</td>\n",
       "      <td>0.991477</td>\n",
       "      <td>0.996878</td>\n",
       "      <td>1.000000</td>\n",
       "      <td>...</td>\n",
       "      <td>0.212555</td>\n",
       "      <td>NaN</td>\n",
       "      <td>NaN</td>\n",
       "      <td>NaN</td>\n",
       "      <td>0.686084</td>\n",
       "      <td>-0.066975</td>\n",
       "      <td>-0.048956</td>\n",
       "      <td>-0.049875</td>\n",
       "      <td>-0.045752</td>\n",
       "      <td>0.608395</td>\n",
       "    </tr>\n",
       "    <tr>\n",
       "      <th>arson</th>\n",
       "      <td>0.702119</td>\n",
       "      <td>0.917727</td>\n",
       "      <td>0.963170</td>\n",
       "      <td>0.926264</td>\n",
       "      <td>0.931539</td>\n",
       "      <td>0.888190</td>\n",
       "      <td>0.921085</td>\n",
       "      <td>0.952184</td>\n",
       "      <td>0.894036</td>\n",
       "      <td>0.935173</td>\n",
       "      <td>...</td>\n",
       "      <td>0.512427</td>\n",
       "      <td>NaN</td>\n",
       "      <td>NaN</td>\n",
       "      <td>NaN</td>\n",
       "      <td>0.894781</td>\n",
       "      <td>-0.148104</td>\n",
       "      <td>-0.119763</td>\n",
       "      <td>-0.077432</td>\n",
       "      <td>0.033302</td>\n",
       "      <td>0.673819</td>\n",
       "    </tr>\n",
       "    <tr>\n",
       "      <th>pop_sq</th>\n",
       "      <td>0.998273</td>\n",
       "      <td>0.996577</td>\n",
       "      <td>0.979581</td>\n",
       "      <td>0.984346</td>\n",
       "      <td>0.995878</td>\n",
       "      <td>0.997250</td>\n",
       "      <td>0.991048</td>\n",
       "      <td>0.958606</td>\n",
       "      <td>0.993796</td>\n",
       "      <td>0.986087</td>\n",
       "      <td>...</td>\n",
       "      <td>0.122467</td>\n",
       "      <td>NaN</td>\n",
       "      <td>NaN</td>\n",
       "      <td>NaN</td>\n",
       "      <td>0.576555</td>\n",
       "      <td>-0.041821</td>\n",
       "      <td>-0.030314</td>\n",
       "      <td>-0.031781</td>\n",
       "      <td>-0.053810</td>\n",
       "      <td>0.498852</td>\n",
       "    </tr>\n",
       "    <tr>\n",
       "      <th>pop_log</th>\n",
       "      <td>0.348298</td>\n",
       "      <td>0.339243</td>\n",
       "      <td>0.369099</td>\n",
       "      <td>0.373857</td>\n",
       "      <td>0.340209</td>\n",
       "      <td>0.336988</td>\n",
       "      <td>0.374753</td>\n",
       "      <td>0.416733</td>\n",
       "      <td>0.368137</td>\n",
       "      <td>0.368936</td>\n",
       "      <td>...</td>\n",
       "      <td>0.369292</td>\n",
       "      <td>NaN</td>\n",
       "      <td>NaN</td>\n",
       "      <td>NaN</td>\n",
       "      <td>0.349738</td>\n",
       "      <td>-0.763857</td>\n",
       "      <td>-0.674522</td>\n",
       "      <td>-0.252546</td>\n",
       "      <td>0.713004</td>\n",
       "      <td>0.374474</td>\n",
       "    </tr>\n",
       "    <tr>\n",
       "      <th>pty_crime_sqrt</th>\n",
       "      <td>0.856179</td>\n",
       "      <td>0.860528</td>\n",
       "      <td>0.889158</td>\n",
       "      <td>0.891487</td>\n",
       "      <td>0.861926</td>\n",
       "      <td>0.857964</td>\n",
       "      <td>0.887410</td>\n",
       "      <td>0.921877</td>\n",
       "      <td>0.880388</td>\n",
       "      <td>0.886528</td>\n",
       "      <td>...</td>\n",
       "      <td>0.452417</td>\n",
       "      <td>NaN</td>\n",
       "      <td>NaN</td>\n",
       "      <td>NaN</td>\n",
       "      <td>0.719005</td>\n",
       "      <td>-0.303930</td>\n",
       "      <td>-0.249831</td>\n",
       "      <td>-0.162599</td>\n",
       "      <td>0.211827</td>\n",
       "      <td>0.661472</td>\n",
       "    </tr>\n",
       "    <tr>\n",
       "      <th>pty_crime_log</th>\n",
       "      <td>0.272845</td>\n",
       "      <td>0.268702</td>\n",
       "      <td>0.299941</td>\n",
       "      <td>0.307961</td>\n",
       "      <td>0.269320</td>\n",
       "      <td>0.266504</td>\n",
       "      <td>0.307423</td>\n",
       "      <td>0.354270</td>\n",
       "      <td>0.300437</td>\n",
       "      <td>0.298703</td>\n",
       "      <td>...</td>\n",
       "      <td>0.521089</td>\n",
       "      <td>NaN</td>\n",
       "      <td>NaN</td>\n",
       "      <td>NaN</td>\n",
       "      <td>0.311223</td>\n",
       "      <td>-0.631771</td>\n",
       "      <td>-0.596497</td>\n",
       "      <td>-0.191879</td>\n",
       "      <td>0.605577</td>\n",
       "      <td>0.319782</td>\n",
       "    </tr>\n",
       "    <tr>\n",
       "      <th>murder_ind</th>\n",
       "      <td>0.161939</td>\n",
       "      <td>0.165641</td>\n",
       "      <td>0.211370</td>\n",
       "      <td>0.200974</td>\n",
       "      <td>0.166226</td>\n",
       "      <td>0.163484</td>\n",
       "      <td>0.190226</td>\n",
       "      <td>0.240440</td>\n",
       "      <td>0.182388</td>\n",
       "      <td>0.191463</td>\n",
       "      <td>...</td>\n",
       "      <td>0.491268</td>\n",
       "      <td>NaN</td>\n",
       "      <td>NaN</td>\n",
       "      <td>NaN</td>\n",
       "      <td>0.230036</td>\n",
       "      <td>-0.314302</td>\n",
       "      <td>-0.227817</td>\n",
       "      <td>-0.181377</td>\n",
       "      <td>0.294500</td>\n",
       "      <td>0.266016</td>\n",
       "    </tr>\n",
       "    <tr>\n",
       "      <th>robbery_ind</th>\n",
       "      <td>0.063360</td>\n",
       "      <td>0.056929</td>\n",
       "      <td>0.068629</td>\n",
       "      <td>0.075463</td>\n",
       "      <td>0.056983</td>\n",
       "      <td>0.056094</td>\n",
       "      <td>0.078133</td>\n",
       "      <td>0.096865</td>\n",
       "      <td>0.075764</td>\n",
       "      <td>0.069616</td>\n",
       "      <td>...</td>\n",
       "      <td>0.325470</td>\n",
       "      <td>NaN</td>\n",
       "      <td>NaN</td>\n",
       "      <td>NaN</td>\n",
       "      <td>0.075044</td>\n",
       "      <td>-0.516554</td>\n",
       "      <td>-0.486725</td>\n",
       "      <td>-0.140015</td>\n",
       "      <td>0.517163</td>\n",
       "      <td>0.086781</td>\n",
       "    </tr>\n",
       "    <tr>\n",
       "      <th>pty_crime_pc</th>\n",
       "      <td>-0.000097</td>\n",
       "      <td>0.009675</td>\n",
       "      <td>0.031993</td>\n",
       "      <td>0.040472</td>\n",
       "      <td>0.009525</td>\n",
       "      <td>0.008432</td>\n",
       "      <td>0.034764</td>\n",
       "      <td>0.073580</td>\n",
       "      <td>0.029479</td>\n",
       "      <td>0.027644</td>\n",
       "      <td>...</td>\n",
       "      <td>0.525420</td>\n",
       "      <td>NaN</td>\n",
       "      <td>NaN</td>\n",
       "      <td>NaN</td>\n",
       "      <td>0.115786</td>\n",
       "      <td>-0.061581</td>\n",
       "      <td>-0.118799</td>\n",
       "      <td>0.023586</td>\n",
       "      <td>0.062082</td>\n",
       "      <td>0.085518</td>\n",
       "    </tr>\n",
       "    <tr>\n",
       "      <th>murder_pc</th>\n",
       "      <td>0.071554</td>\n",
       "      <td>0.090393</td>\n",
       "      <td>0.168540</td>\n",
       "      <td>0.141746</td>\n",
       "      <td>0.093333</td>\n",
       "      <td>0.085925</td>\n",
       "      <td>0.114931</td>\n",
       "      <td>0.196242</td>\n",
       "      <td>0.101879</td>\n",
       "      <td>0.129638</td>\n",
       "      <td>...</td>\n",
       "      <td>0.597686</td>\n",
       "      <td>NaN</td>\n",
       "      <td>NaN</td>\n",
       "      <td>NaN</td>\n",
       "      <td>0.346488</td>\n",
       "      <td>-0.245855</td>\n",
       "      <td>-0.178205</td>\n",
       "      <td>-0.094328</td>\n",
       "      <td>0.165917</td>\n",
       "      <td>0.315187</td>\n",
       "    </tr>\n",
       "    <tr>\n",
       "      <th>robbery_pc</th>\n",
       "      <td>0.179603</td>\n",
       "      <td>0.203247</td>\n",
       "      <td>0.272823</td>\n",
       "      <td>0.261736</td>\n",
       "      <td>0.207243</td>\n",
       "      <td>0.197940</td>\n",
       "      <td>0.235021</td>\n",
       "      <td>0.336189</td>\n",
       "      <td>0.218586</td>\n",
       "      <td>0.253045</td>\n",
       "      <td>...</td>\n",
       "      <td>0.862103</td>\n",
       "      <td>NaN</td>\n",
       "      <td>NaN</td>\n",
       "      <td>NaN</td>\n",
       "      <td>0.462060</td>\n",
       "      <td>-0.259834</td>\n",
       "      <td>-0.213081</td>\n",
       "      <td>-0.123982</td>\n",
       "      <td>0.190201</td>\n",
       "      <td>0.460290</td>\n",
       "    </tr>\n",
       "    <tr>\n",
       "      <th>violent_pc</th>\n",
       "      <td>0.150263</td>\n",
       "      <td>0.173540</td>\n",
       "      <td>0.229588</td>\n",
       "      <td>0.228631</td>\n",
       "      <td>0.174877</td>\n",
       "      <td>0.170117</td>\n",
       "      <td>0.199832</td>\n",
       "      <td>0.286950</td>\n",
       "      <td>0.185863</td>\n",
       "      <td>0.212555</td>\n",
       "      <td>...</td>\n",
       "      <td>1.000000</td>\n",
       "      <td>NaN</td>\n",
       "      <td>NaN</td>\n",
       "      <td>NaN</td>\n",
       "      <td>0.363822</td>\n",
       "      <td>-0.166598</td>\n",
       "      <td>-0.169104</td>\n",
       "      <td>-0.057621</td>\n",
       "      <td>0.115883</td>\n",
       "      <td>0.363193</td>\n",
       "    </tr>\n",
       "    <tr>\n",
       "      <th>murder_pc_ind</th>\n",
       "      <td>NaN</td>\n",
       "      <td>NaN</td>\n",
       "      <td>NaN</td>\n",
       "      <td>NaN</td>\n",
       "      <td>NaN</td>\n",
       "      <td>NaN</td>\n",
       "      <td>NaN</td>\n",
       "      <td>NaN</td>\n",
       "      <td>NaN</td>\n",
       "      <td>NaN</td>\n",
       "      <td>...</td>\n",
       "      <td>NaN</td>\n",
       "      <td>NaN</td>\n",
       "      <td>NaN</td>\n",
       "      <td>NaN</td>\n",
       "      <td>NaN</td>\n",
       "      <td>NaN</td>\n",
       "      <td>NaN</td>\n",
       "      <td>NaN</td>\n",
       "      <td>NaN</td>\n",
       "      <td>NaN</td>\n",
       "    </tr>\n",
       "    <tr>\n",
       "      <th>robbery_pc_ind</th>\n",
       "      <td>NaN</td>\n",
       "      <td>NaN</td>\n",
       "      <td>NaN</td>\n",
       "      <td>NaN</td>\n",
       "      <td>NaN</td>\n",
       "      <td>NaN</td>\n",
       "      <td>NaN</td>\n",
       "      <td>NaN</td>\n",
       "      <td>NaN</td>\n",
       "      <td>NaN</td>\n",
       "      <td>...</td>\n",
       "      <td>NaN</td>\n",
       "      <td>NaN</td>\n",
       "      <td>NaN</td>\n",
       "      <td>NaN</td>\n",
       "      <td>NaN</td>\n",
       "      <td>NaN</td>\n",
       "      <td>NaN</td>\n",
       "      <td>NaN</td>\n",
       "      <td>NaN</td>\n",
       "      <td>NaN</td>\n",
       "    </tr>\n",
       "    <tr>\n",
       "      <th>violent_pc_ind</th>\n",
       "      <td>NaN</td>\n",
       "      <td>NaN</td>\n",
       "      <td>NaN</td>\n",
       "      <td>NaN</td>\n",
       "      <td>NaN</td>\n",
       "      <td>NaN</td>\n",
       "      <td>NaN</td>\n",
       "      <td>NaN</td>\n",
       "      <td>NaN</td>\n",
       "      <td>NaN</td>\n",
       "      <td>...</td>\n",
       "      <td>NaN</td>\n",
       "      <td>NaN</td>\n",
       "      <td>NaN</td>\n",
       "      <td>NaN</td>\n",
       "      <td>NaN</td>\n",
       "      <td>NaN</td>\n",
       "      <td>NaN</td>\n",
       "      <td>NaN</td>\n",
       "      <td>NaN</td>\n",
       "      <td>NaN</td>\n",
       "    </tr>\n",
       "    <tr>\n",
       "      <th>outlier_flag</th>\n",
       "      <td>0.604845</td>\n",
       "      <td>0.631700</td>\n",
       "      <td>0.713048</td>\n",
       "      <td>0.685825</td>\n",
       "      <td>0.639754</td>\n",
       "      <td>0.623812</td>\n",
       "      <td>0.658842</td>\n",
       "      <td>0.750170</td>\n",
       "      <td>0.642273</td>\n",
       "      <td>0.686084</td>\n",
       "      <td>...</td>\n",
       "      <td>0.363822</td>\n",
       "      <td>NaN</td>\n",
       "      <td>NaN</td>\n",
       "      <td>NaN</td>\n",
       "      <td>1.000000</td>\n",
       "      <td>-0.072301</td>\n",
       "      <td>-0.052406</td>\n",
       "      <td>-0.054948</td>\n",
       "      <td>-0.093524</td>\n",
       "      <td>0.864747</td>\n",
       "    </tr>\n",
       "    <tr>\n",
       "      <th>low_outlier</th>\n",
       "      <td>-0.064607</td>\n",
       "      <td>-0.054738</td>\n",
       "      <td>-0.066434</td>\n",
       "      <td>-0.071983</td>\n",
       "      <td>-0.054591</td>\n",
       "      <td>-0.054071</td>\n",
       "      <td>-0.075171</td>\n",
       "      <td>-0.093519</td>\n",
       "      <td>-0.072844</td>\n",
       "      <td>-0.066975</td>\n",
       "      <td>...</td>\n",
       "      <td>-0.166598</td>\n",
       "      <td>NaN</td>\n",
       "      <td>NaN</td>\n",
       "      <td>NaN</td>\n",
       "      <td>-0.072301</td>\n",
       "      <td>1.000000</td>\n",
       "      <td>0.724836</td>\n",
       "      <td>0.190271</td>\n",
       "      <td>-0.764087</td>\n",
       "      <td>-0.083609</td>\n",
       "    </tr>\n",
       "    <tr>\n",
       "      <th>qrtl_1</th>\n",
       "      <td>-0.047670</td>\n",
       "      <td>-0.039938</td>\n",
       "      <td>-0.048154</td>\n",
       "      <td>-0.054061</td>\n",
       "      <td>-0.039674</td>\n",
       "      <td>-0.039495</td>\n",
       "      <td>-0.055843</td>\n",
       "      <td>-0.069632</td>\n",
       "      <td>-0.054142</td>\n",
       "      <td>-0.048956</td>\n",
       "      <td>...</td>\n",
       "      <td>-0.169104</td>\n",
       "      <td>NaN</td>\n",
       "      <td>NaN</td>\n",
       "      <td>NaN</td>\n",
       "      <td>-0.052406</td>\n",
       "      <td>0.724836</td>\n",
       "      <td>1.000000</td>\n",
       "      <td>-0.325396</td>\n",
       "      <td>-0.553838</td>\n",
       "      <td>-0.060603</td>\n",
       "    </tr>\n",
       "    <tr>\n",
       "      <th>qrtl_2</th>\n",
       "      <td>-0.046178</td>\n",
       "      <td>-0.040895</td>\n",
       "      <td>-0.049397</td>\n",
       "      <td>-0.051650</td>\n",
       "      <td>-0.041057</td>\n",
       "      <td>-0.040310</td>\n",
       "      <td>-0.053664</td>\n",
       "      <td>-0.065810</td>\n",
       "      <td>-0.052010</td>\n",
       "      <td>-0.049875</td>\n",
       "      <td>...</td>\n",
       "      <td>-0.057621</td>\n",
       "      <td>NaN</td>\n",
       "      <td>NaN</td>\n",
       "      <td>NaN</td>\n",
       "      <td>-0.054948</td>\n",
       "      <td>0.190271</td>\n",
       "      <td>-0.325396</td>\n",
       "      <td>1.000000</td>\n",
       "      <td>-0.580697</td>\n",
       "      <td>-0.063542</td>\n",
       "    </tr>\n",
       "    <tr>\n",
       "      <th>qrtl_3</th>\n",
       "      <td>-0.034089</td>\n",
       "      <td>-0.049942</td>\n",
       "      <td>-0.050407</td>\n",
       "      <td>-0.038775</td>\n",
       "      <td>-0.051593</td>\n",
       "      <td>-0.049317</td>\n",
       "      <td>-0.029829</td>\n",
       "      <td>-0.025558</td>\n",
       "      <td>-0.029370</td>\n",
       "      <td>-0.045752</td>\n",
       "      <td>...</td>\n",
       "      <td>0.115883</td>\n",
       "      <td>NaN</td>\n",
       "      <td>NaN</td>\n",
       "      <td>NaN</td>\n",
       "      <td>-0.093524</td>\n",
       "      <td>-0.764087</td>\n",
       "      <td>-0.553838</td>\n",
       "      <td>-0.580697</td>\n",
       "      <td>1.000000</td>\n",
       "      <td>-0.108151</td>\n",
       "    </tr>\n",
       "    <tr>\n",
       "      <th>qrtl_4</th>\n",
       "      <td>0.534090</td>\n",
       "      <td>0.555846</td>\n",
       "      <td>0.624931</td>\n",
       "      <td>0.603325</td>\n",
       "      <td>0.563133</td>\n",
       "      <td>0.548815</td>\n",
       "      <td>0.576922</td>\n",
       "      <td>0.660792</td>\n",
       "      <td>0.561361</td>\n",
       "      <td>0.608395</td>\n",
       "      <td>...</td>\n",
       "      <td>0.363193</td>\n",
       "      <td>NaN</td>\n",
       "      <td>NaN</td>\n",
       "      <td>NaN</td>\n",
       "      <td>0.864747</td>\n",
       "      <td>-0.083609</td>\n",
       "      <td>-0.060603</td>\n",
       "      <td>-0.063542</td>\n",
       "      <td>-0.108151</td>\n",
       "      <td>1.000000</td>\n",
       "    </tr>\n",
       "  </tbody>\n",
       "</table>\n",
       "<p>30 rows × 30 columns</p>\n",
       "</div>"
      ],
      "text/plain": [
       "                     population  violent_crime    murder  rape_legacy_def  \\\n",
       "population             1.000000       0.998855  0.986756         0.990839   \n",
       "violent_crime          0.998855       1.000000  0.992099         0.994990   \n",
       "murder                 0.986756       0.992099  1.000000         0.997747   \n",
       "rape_legacy_def        0.990839       0.994990  0.997747         1.000000   \n",
       "robbery                0.998471       0.999923  0.993105         0.995444   \n",
       "aggravated_assault     0.999136       0.999942  0.990843         0.994145   \n",
       "property_crime         0.996267       0.998068  0.995405         0.997843   \n",
       "burglary               0.970588       0.978176  0.993749         0.992450   \n",
       "larceny_theft          0.997947       0.998769  0.993176         0.996259   \n",
       "motor_vehicle_theft    0.992420       0.996273  0.997992         0.998764   \n",
       "arson                  0.702119       0.917727  0.963170         0.926264   \n",
       "pop_sq                 0.998273       0.996577  0.979581         0.984346   \n",
       "pop_log                0.348298       0.339243  0.369099         0.373857   \n",
       "pty_crime_sqrt         0.856179       0.860528  0.889158         0.891487   \n",
       "pty_crime_log          0.272845       0.268702  0.299941         0.307961   \n",
       "murder_ind             0.161939       0.165641  0.211370         0.200974   \n",
       "robbery_ind            0.063360       0.056929  0.068629         0.075463   \n",
       "pty_crime_pc          -0.000097       0.009675  0.031993         0.040472   \n",
       "murder_pc              0.071554       0.090393  0.168540         0.141746   \n",
       "robbery_pc             0.179603       0.203247  0.272823         0.261736   \n",
       "violent_pc             0.150263       0.173540  0.229588         0.228631   \n",
       "murder_pc_ind               NaN            NaN       NaN              NaN   \n",
       "robbery_pc_ind              NaN            NaN       NaN              NaN   \n",
       "violent_pc_ind              NaN            NaN       NaN              NaN   \n",
       "outlier_flag           0.604845       0.631700  0.713048         0.685825   \n",
       "low_outlier           -0.064607      -0.054738 -0.066434        -0.071983   \n",
       "qrtl_1                -0.047670      -0.039938 -0.048154        -0.054061   \n",
       "qrtl_2                -0.046178      -0.040895 -0.049397        -0.051650   \n",
       "qrtl_3                -0.034089      -0.049942 -0.050407        -0.038775   \n",
       "qrtl_4                 0.534090       0.555846  0.624931         0.603325   \n",
       "\n",
       "                      robbery  aggravated_assault  property_crime  burglary  \\\n",
       "population           0.998471            0.999136        0.996267  0.970588   \n",
       "violent_crime        0.999923            0.999942        0.998068  0.978176   \n",
       "murder               0.993105            0.990843        0.995405  0.993749   \n",
       "rape_legacy_def      0.995444            0.994145        0.997843  0.992450   \n",
       "robbery              1.000000            0.999742        0.998246  0.979551   \n",
       "aggravated_assault   0.999742            1.000000        0.997631  0.976313   \n",
       "property_crime       0.998246            0.997631        1.000000  0.987140   \n",
       "burglary             0.979551            0.976313        0.987140  1.000000   \n",
       "larceny_theft        0.998742            0.998568        0.999666  0.982704   \n",
       "motor_vehicle_theft  0.996930            0.995405        0.998303  0.991477   \n",
       "arson                0.931539            0.888190        0.921085  0.952184   \n",
       "pop_sq               0.995878            0.997250        0.991048  0.958606   \n",
       "pop_log              0.340209            0.336988        0.374753  0.416733   \n",
       "pty_crime_sqrt       0.861926            0.857964        0.887410  0.921877   \n",
       "pty_crime_log        0.269320            0.266504        0.307423  0.354270   \n",
       "murder_ind           0.166226            0.163484        0.190226  0.240440   \n",
       "robbery_ind          0.056983            0.056094        0.078133  0.096865   \n",
       "pty_crime_pc         0.009525            0.008432        0.034764  0.073580   \n",
       "murder_pc            0.093333            0.085925        0.114931  0.196242   \n",
       "robbery_pc           0.207243            0.197940        0.235021  0.336189   \n",
       "violent_pc           0.174877            0.170117        0.199832  0.286950   \n",
       "murder_pc_ind             NaN                 NaN             NaN       NaN   \n",
       "robbery_pc_ind            NaN                 NaN             NaN       NaN   \n",
       "violent_pc_ind            NaN                 NaN             NaN       NaN   \n",
       "outlier_flag         0.639754            0.623812        0.658842  0.750170   \n",
       "low_outlier         -0.054591           -0.054071       -0.075171 -0.093519   \n",
       "qrtl_1              -0.039674           -0.039495       -0.055843 -0.069632   \n",
       "qrtl_2              -0.041057           -0.040310       -0.053664 -0.065810   \n",
       "qrtl_3              -0.051593           -0.049317       -0.029829 -0.025558   \n",
       "qrtl_4               0.563133            0.548815        0.576922  0.660792   \n",
       "\n",
       "                     larceny_theft  motor_vehicle_theft    ...     violent_pc  \\\n",
       "population                0.997947             0.992420    ...       0.150263   \n",
       "violent_crime             0.998769             0.996273    ...       0.173540   \n",
       "murder                    0.993176             0.997992    ...       0.229588   \n",
       "rape_legacy_def           0.996259             0.998764    ...       0.228631   \n",
       "robbery                   0.998742             0.996930    ...       0.174877   \n",
       "aggravated_assault        0.998568             0.995405    ...       0.170117   \n",
       "property_crime            0.999666             0.998303    ...       0.199832   \n",
       "burglary                  0.982704             0.991477    ...       0.286950   \n",
       "larceny_theft             1.000000             0.996878    ...       0.185863   \n",
       "motor_vehicle_theft       0.996878             1.000000    ...       0.212555   \n",
       "arson                     0.894036             0.935173    ...       0.512427   \n",
       "pop_sq                    0.993796             0.986087    ...       0.122467   \n",
       "pop_log                   0.368137             0.368936    ...       0.369292   \n",
       "pty_crime_sqrt            0.880388             0.886528    ...       0.452417   \n",
       "pty_crime_log             0.300437             0.298703    ...       0.521089   \n",
       "murder_ind                0.182388             0.191463    ...       0.491268   \n",
       "robbery_ind               0.075764             0.069616    ...       0.325470   \n",
       "pty_crime_pc              0.029479             0.027644    ...       0.525420   \n",
       "murder_pc                 0.101879             0.129638    ...       0.597686   \n",
       "robbery_pc                0.218586             0.253045    ...       0.862103   \n",
       "violent_pc                0.185863             0.212555    ...       1.000000   \n",
       "murder_pc_ind                  NaN                  NaN    ...            NaN   \n",
       "robbery_pc_ind                 NaN                  NaN    ...            NaN   \n",
       "violent_pc_ind                 NaN                  NaN    ...            NaN   \n",
       "outlier_flag              0.642273             0.686084    ...       0.363822   \n",
       "low_outlier              -0.072844            -0.066975    ...      -0.166598   \n",
       "qrtl_1                   -0.054142            -0.048956    ...      -0.169104   \n",
       "qrtl_2                   -0.052010            -0.049875    ...      -0.057621   \n",
       "qrtl_3                   -0.029370            -0.045752    ...       0.115883   \n",
       "qrtl_4                    0.561361             0.608395    ...       0.363193   \n",
       "\n",
       "                     murder_pc_ind  robbery_pc_ind  violent_pc_ind  \\\n",
       "population                     NaN             NaN             NaN   \n",
       "violent_crime                  NaN             NaN             NaN   \n",
       "murder                         NaN             NaN             NaN   \n",
       "rape_legacy_def                NaN             NaN             NaN   \n",
       "robbery                        NaN             NaN             NaN   \n",
       "aggravated_assault             NaN             NaN             NaN   \n",
       "property_crime                 NaN             NaN             NaN   \n",
       "burglary                       NaN             NaN             NaN   \n",
       "larceny_theft                  NaN             NaN             NaN   \n",
       "motor_vehicle_theft            NaN             NaN             NaN   \n",
       "arson                          NaN             NaN             NaN   \n",
       "pop_sq                         NaN             NaN             NaN   \n",
       "pop_log                        NaN             NaN             NaN   \n",
       "pty_crime_sqrt                 NaN             NaN             NaN   \n",
       "pty_crime_log                  NaN             NaN             NaN   \n",
       "murder_ind                     NaN             NaN             NaN   \n",
       "robbery_ind                    NaN             NaN             NaN   \n",
       "pty_crime_pc                   NaN             NaN             NaN   \n",
       "murder_pc                      NaN             NaN             NaN   \n",
       "robbery_pc                     NaN             NaN             NaN   \n",
       "violent_pc                     NaN             NaN             NaN   \n",
       "murder_pc_ind                  NaN             NaN             NaN   \n",
       "robbery_pc_ind                 NaN             NaN             NaN   \n",
       "violent_pc_ind                 NaN             NaN             NaN   \n",
       "outlier_flag                   NaN             NaN             NaN   \n",
       "low_outlier                    NaN             NaN             NaN   \n",
       "qrtl_1                         NaN             NaN             NaN   \n",
       "qrtl_2                         NaN             NaN             NaN   \n",
       "qrtl_3                         NaN             NaN             NaN   \n",
       "qrtl_4                         NaN             NaN             NaN   \n",
       "\n",
       "                     outlier_flag  low_outlier    qrtl_1    qrtl_2    qrtl_3  \\\n",
       "population               0.604845    -0.064607 -0.047670 -0.046178 -0.034089   \n",
       "violent_crime            0.631700    -0.054738 -0.039938 -0.040895 -0.049942   \n",
       "murder                   0.713048    -0.066434 -0.048154 -0.049397 -0.050407   \n",
       "rape_legacy_def          0.685825    -0.071983 -0.054061 -0.051650 -0.038775   \n",
       "robbery                  0.639754    -0.054591 -0.039674 -0.041057 -0.051593   \n",
       "aggravated_assault       0.623812    -0.054071 -0.039495 -0.040310 -0.049317   \n",
       "property_crime           0.658842    -0.075171 -0.055843 -0.053664 -0.029829   \n",
       "burglary                 0.750170    -0.093519 -0.069632 -0.065810 -0.025558   \n",
       "larceny_theft            0.642273    -0.072844 -0.054142 -0.052010 -0.029370   \n",
       "motor_vehicle_theft      0.686084    -0.066975 -0.048956 -0.049875 -0.045752   \n",
       "arson                    0.894781    -0.148104 -0.119763 -0.077432  0.033302   \n",
       "pop_sq                   0.576555    -0.041821 -0.030314 -0.031781 -0.053810   \n",
       "pop_log                  0.349738    -0.763857 -0.674522 -0.252546  0.713004   \n",
       "pty_crime_sqrt           0.719005    -0.303930 -0.249831 -0.162599  0.211827   \n",
       "pty_crime_log            0.311223    -0.631771 -0.596497 -0.191879  0.605577   \n",
       "murder_ind               0.230036    -0.314302 -0.227817 -0.181377  0.294500   \n",
       "robbery_ind              0.075044    -0.516554 -0.486725 -0.140015  0.517163   \n",
       "pty_crime_pc             0.115786    -0.061581 -0.118799  0.023586  0.062082   \n",
       "murder_pc                0.346488    -0.245855 -0.178205 -0.094328  0.165917   \n",
       "robbery_pc               0.462060    -0.259834 -0.213081 -0.123982  0.190201   \n",
       "violent_pc               0.363822    -0.166598 -0.169104 -0.057621  0.115883   \n",
       "murder_pc_ind                 NaN          NaN       NaN       NaN       NaN   \n",
       "robbery_pc_ind                NaN          NaN       NaN       NaN       NaN   \n",
       "violent_pc_ind                NaN          NaN       NaN       NaN       NaN   \n",
       "outlier_flag             1.000000    -0.072301 -0.052406 -0.054948 -0.093524   \n",
       "low_outlier             -0.072301     1.000000  0.724836  0.190271 -0.764087   \n",
       "qrtl_1                  -0.052406     0.724836  1.000000 -0.325396 -0.553838   \n",
       "qrtl_2                  -0.054948     0.190271 -0.325396  1.000000 -0.580697   \n",
       "qrtl_3                  -0.093524    -0.764087 -0.553838 -0.580697  1.000000   \n",
       "qrtl_4                   0.864747    -0.083609 -0.060603 -0.063542 -0.108151   \n",
       "\n",
       "                       qrtl_4  \n",
       "population           0.534090  \n",
       "violent_crime        0.555846  \n",
       "murder               0.624931  \n",
       "rape_legacy_def      0.603325  \n",
       "robbery              0.563133  \n",
       "aggravated_assault   0.548815  \n",
       "property_crime       0.576922  \n",
       "burglary             0.660792  \n",
       "larceny_theft        0.561361  \n",
       "motor_vehicle_theft  0.608395  \n",
       "arson                0.673819  \n",
       "pop_sq               0.498852  \n",
       "pop_log              0.374474  \n",
       "pty_crime_sqrt       0.661472  \n",
       "pty_crime_log        0.319782  \n",
       "murder_ind           0.266016  \n",
       "robbery_ind          0.086781  \n",
       "pty_crime_pc         0.085518  \n",
       "murder_pc            0.315187  \n",
       "robbery_pc           0.460290  \n",
       "violent_pc           0.363193  \n",
       "murder_pc_ind             NaN  \n",
       "robbery_pc_ind            NaN  \n",
       "violent_pc_ind            NaN  \n",
       "outlier_flag         0.864747  \n",
       "low_outlier         -0.083609  \n",
       "qrtl_1              -0.060603  \n",
       "qrtl_2              -0.063542  \n",
       "qrtl_3              -0.108151  \n",
       "qrtl_4               1.000000  \n",
       "\n",
       "[30 rows x 30 columns]"
      ]
     },
     "execution_count": 337,
     "metadata": {},
     "output_type": "execute_result"
    }
   ],
   "source": [
    "df.corr()"
   ]
  },
  {
   "cell_type": "markdown",
   "metadata": {},
   "source": [
    "#### Clearly there are outlier values in the predictor population. A histogram of population consists of two visible bars and an outlier representing three large cities."
   ]
  },
  {
   "cell_type": "code",
   "execution_count": 338,
   "metadata": {},
   "outputs": [
    {
     "data": {
      "text/plain": [
       "Text(0.5,1,'Frequency distribution of population of reporting cities in FBI UCR data - New York State')"
      ]
     },
     "execution_count": 338,
     "metadata": {},
     "output_type": "execute_result"
    },
    {
     "data": {
      "image/png": "[encoded data removed]",
      "text/plain": [
       "<Figure size 432x288 with 1 Axes>"
      ]
     },
     "metadata": {},
     "output_type": "display_data"
    }
   ],
   "source": [
    "#Review the population distribution\n",
    "plt.subplot(1, 2, 1)\n",
    "plt.ylim(0,110)\n",
    "sns.distplot(df.population, kde=False)\n",
    "plt.xlabel('Population')\n",
    "plt.ylabel('Frequency')\n",
    "plt.title('Frequency distribution of population of reporting cities in FBI UCR data - New York State')"
   ]
  },
  {
   "cell_type": "markdown",
   "metadata": {},
   "source": [
    "#### Review the distribution of the log of population. I am using the log of population value to make the figure more readable."
   ]
  },
  {
   "cell_type": "code",
   "execution_count": 339,
   "metadata": {
    "scrolled": true
   },
   "outputs": [
    {
     "data": {
      "text/plain": [
       "Text(0.5,1,'Frequency distribution of log of population of reporting cities in FBI UCR data - New York State')"
      ]
     },
     "execution_count": 339,
     "metadata": {},
     "output_type": "execute_result"
    },
    {
     "data": {
      "image/png": "[encoded data removed]",
      "text/plain": [
       "<Figure size 432x288 with 1 Axes>"
      ]
     },
     "metadata": {},
     "output_type": "display_data"
    }
   ],
   "source": [
    "#Review the log of population distribution\n",
    "plt.subplot(1, 2, 1)\n",
    "plt.ylim(0,110)\n",
    "sns.distplot(df.pop_log, kde=False)\n",
    "plt.xlabel('Log of population')\n",
    "plt.ylabel('Frequency')\n",
    "plt.title('Frequency distribution of log of population of reporting cities in FBI UCR data - New York State')"
   ]
  },
  {
   "cell_type": "code",
   "execution_count": 340,
   "metadata": {},
   "outputs": [],
   "source": [
    "# Create a minimal dataframe for the first iteration of the model\n",
    "df_m1 = df.filter(['population', 'pop_sq','murder_ind','robbery_ind', 'property_crime'])"
   ]
  },
  {
   "cell_type": "code",
   "execution_count": 341,
   "metadata": {
    "scrolled": true
   },
   "outputs": [
    {
     "data": {
      "text/html": [
       "<div>\n",
       "<style scoped>\n",
       "    .dataframe tbody tr th:only-of-type {\n",
       "        vertical-align: middle;\n",
       "    }\n",
       "\n",
       "    .dataframe tbody tr th {\n",
       "        vertical-align: top;\n",
       "    }\n",
       "\n",
       "    .dataframe thead th {\n",
       "        text-align: right;\n",
       "    }\n",
       "</style>\n",
       "<table border=\"1\" class=\"dataframe\">\n",
       "  <thead>\n",
       "    <tr style=\"text-align: right;\">\n",
       "      <th></th>\n",
       "      <th>population</th>\n",
       "      <th>pop_sq</th>\n",
       "      <th>murder_ind</th>\n",
       "      <th>robbery_ind</th>\n",
       "      <th>property_crime</th>\n",
       "    </tr>\n",
       "  </thead>\n",
       "  <tbody>\n",
       "    <tr>\n",
       "      <th>count</th>\n",
       "      <td>3.420000e+02</td>\n",
       "      <td>3.420000e+02</td>\n",
       "      <td>342.000000</td>\n",
       "      <td>342.000000</td>\n",
       "      <td>342.000000</td>\n",
       "    </tr>\n",
       "    <tr>\n",
       "      <th>mean</th>\n",
       "      <td>4.071809e+04</td>\n",
       "      <td>2.071258e+11</td>\n",
       "      <td>0.143275</td>\n",
       "      <td>0.611111</td>\n",
       "      <td>806.511696</td>\n",
       "    </tr>\n",
       "    <tr>\n",
       "      <th>std</th>\n",
       "      <td>4.539497e+05</td>\n",
       "      <td>3.811879e+12</td>\n",
       "      <td>0.350866</td>\n",
       "      <td>0.488212</td>\n",
       "      <td>7726.090635</td>\n",
       "    </tr>\n",
       "    <tr>\n",
       "      <th>min</th>\n",
       "      <td>5.260000e+02</td>\n",
       "      <td>2.766760e+05</td>\n",
       "      <td>0.000000</td>\n",
       "      <td>0.000000</td>\n",
       "      <td>1.000000</td>\n",
       "    </tr>\n",
       "    <tr>\n",
       "      <th>25%</th>\n",
       "      <td>3.077500e+03</td>\n",
       "      <td>9.471553e+06</td>\n",
       "      <td>0.000000</td>\n",
       "      <td>0.000000</td>\n",
       "      <td>42.000000</td>\n",
       "    </tr>\n",
       "    <tr>\n",
       "      <th>50%</th>\n",
       "      <td>7.465500e+03</td>\n",
       "      <td>5.573375e+07</td>\n",
       "      <td>0.000000</td>\n",
       "      <td>1.000000</td>\n",
       "      <td>114.000000</td>\n",
       "    </tr>\n",
       "    <tr>\n",
       "      <th>75%</th>\n",
       "      <td>1.927950e+04</td>\n",
       "      <td>3.717036e+08</td>\n",
       "      <td>0.000000</td>\n",
       "      <td>1.000000</td>\n",
       "      <td>342.500000</td>\n",
       "    </tr>\n",
       "    <tr>\n",
       "      <th>max</th>\n",
       "      <td>8.396126e+06</td>\n",
       "      <td>7.049493e+13</td>\n",
       "      <td>1.000000</td>\n",
       "      <td>1.000000</td>\n",
       "      <td>141971.000000</td>\n",
       "    </tr>\n",
       "  </tbody>\n",
       "</table>\n",
       "</div>"
      ],
      "text/plain": [
       "         population        pop_sq  murder_ind  robbery_ind  property_crime\n",
       "count  3.420000e+02  3.420000e+02  342.000000   342.000000      342.000000\n",
       "mean   4.071809e+04  2.071258e+11    0.143275     0.611111      806.511696\n",
       "std    4.539497e+05  3.811879e+12    0.350866     0.488212     7726.090635\n",
       "min    5.260000e+02  2.766760e+05    0.000000     0.000000        1.000000\n",
       "25%    3.077500e+03  9.471553e+06    0.000000     0.000000       42.000000\n",
       "50%    7.465500e+03  5.573375e+07    0.000000     1.000000      114.000000\n",
       "75%    1.927950e+04  3.717036e+08    0.000000     1.000000      342.500000\n",
       "max    8.396126e+06  7.049493e+13    1.000000     1.000000   141971.000000"
      ]
     },
     "execution_count": 341,
     "metadata": {},
     "output_type": "execute_result"
    }
   ],
   "source": [
    "df_m1.describe()"
   ]
  },
  {
   "cell_type": "code",
   "execution_count": 342,
   "metadata": {},
   "outputs": [
    {
     "data": {
      "text/html": [
       "<div>\n",
       "<style scoped>\n",
       "    .dataframe tbody tr th:only-of-type {\n",
       "        vertical-align: middle;\n",
       "    }\n",
       "\n",
       "    .dataframe tbody tr th {\n",
       "        vertical-align: top;\n",
       "    }\n",
       "\n",
       "    .dataframe thead th {\n",
       "        text-align: right;\n",
       "    }\n",
       "</style>\n",
       "<table border=\"1\" class=\"dataframe\">\n",
       "  <thead>\n",
       "    <tr style=\"text-align: right;\">\n",
       "      <th></th>\n",
       "      <th>population</th>\n",
       "      <th>pop_sq</th>\n",
       "      <th>murder_ind</th>\n",
       "      <th>robbery_ind</th>\n",
       "      <th>property_crime</th>\n",
       "    </tr>\n",
       "  </thead>\n",
       "  <tbody>\n",
       "    <tr>\n",
       "      <th>population</th>\n",
       "      <td>1.000000</td>\n",
       "      <td>0.998273</td>\n",
       "      <td>0.161939</td>\n",
       "      <td>0.063360</td>\n",
       "      <td>0.996267</td>\n",
       "    </tr>\n",
       "    <tr>\n",
       "      <th>pop_sq</th>\n",
       "      <td>0.998273</td>\n",
       "      <td>1.000000</td>\n",
       "      <td>0.132878</td>\n",
       "      <td>0.043400</td>\n",
       "      <td>0.991048</td>\n",
       "    </tr>\n",
       "    <tr>\n",
       "      <th>murder_ind</th>\n",
       "      <td>0.161939</td>\n",
       "      <td>0.132878</td>\n",
       "      <td>1.000000</td>\n",
       "      <td>0.309105</td>\n",
       "      <td>0.190226</td>\n",
       "    </tr>\n",
       "    <tr>\n",
       "      <th>robbery_ind</th>\n",
       "      <td>0.063360</td>\n",
       "      <td>0.043400</td>\n",
       "      <td>0.309105</td>\n",
       "      <td>1.000000</td>\n",
       "      <td>0.078133</td>\n",
       "    </tr>\n",
       "    <tr>\n",
       "      <th>property_crime</th>\n",
       "      <td>0.996267</td>\n",
       "      <td>0.991048</td>\n",
       "      <td>0.190226</td>\n",
       "      <td>0.078133</td>\n",
       "      <td>1.000000</td>\n",
       "    </tr>\n",
       "  </tbody>\n",
       "</table>\n",
       "</div>"
      ],
      "text/plain": [
       "                population    pop_sq  murder_ind  robbery_ind  property_crime\n",
       "population        1.000000  0.998273    0.161939     0.063360        0.996267\n",
       "pop_sq            0.998273  1.000000    0.132878     0.043400        0.991048\n",
       "murder_ind        0.161939  0.132878    1.000000     0.309105        0.190226\n",
       "robbery_ind       0.063360  0.043400    0.309105     1.000000        0.078133\n",
       "property_crime    0.996267  0.991048    0.190226     0.078133        1.000000"
      ]
     },
     "metadata": {},
     "output_type": "display_data"
    }
   ],
   "source": [
    "corr_matrix = (df_m1.corr())\n",
    "display(corr_matrix)"
   ]
  },
  {
   "cell_type": "markdown",
   "metadata": {},
   "source": [
    "#### None of the variables appear to be highly correlated with each other."
   ]
  },
  {
   "cell_type": "code",
   "execution_count": 343,
   "metadata": {
    "scrolled": false
   },
   "outputs": [
    {
     "data": {
      "image/png": "[encoded data removed]",
      "text/plain": [
       "<Figure size 432x288 with 2 Axes>"
      ]
     },
     "metadata": {},
     "output_type": "display_data"
    }
   ],
   "source": [
    "sns.heatmap(corr_matrix, vmax=.8, square=True)\n",
    "plt.show()"
   ]
  },
  {
   "cell_type": "code",
   "execution_count": 344,
   "metadata": {},
   "outputs": [
    {
     "data": {
      "image/png": "[encoded data removed]",
      "text/plain": [
       "<Figure size 432x288 with 1 Axes>"
      ]
     },
     "metadata": {},
     "output_type": "display_data"
    }
   ],
   "source": [
    "#Scatterplot property crime, population\n",
    "plt.scatter(df['population'], df['property_crime'])\n",
    "plt.ylabel('Property crime (volume)')\n",
    "plt.axhline(y=0)\n",
    "plt.title('Relationship between property crime and population')\n",
    "plt.show()"
   ]
  },
  {
   "cell_type": "markdown",
   "metadata": {},
   "source": [
    "### Running the model and verifying assumptions"
   ]
  },
  {
   "cell_type": "markdown",
   "metadata": {},
   "source": [
    "Below I run the model with the formula as instructed in the exercise. \n",
    "\n",
    "The R-squared value seems too good to be true. Heteroscedasticity violates an assumption for a linear regression model and is discussed below.\n",
    "\n",
    "The variable with the highest predictive value in the first iteration of the model is the murder categorical variable."
   ]
  },
  {
   "cell_type": "code",
   "execution_count": 345,
   "metadata": {
    "scrolled": true
   },
   "outputs": [
    {
     "name": "stdout",
     "output_type": "stream",
     "text": [
      "\n",
      "Coefficients: \n",
      " [[ 3.46646245e-02 -2.11198069e-09  1.50103633e+01 -9.33937518e+01]]\n",
      "\n",
      "Intercept: \n",
      " [-112.59678124]\n",
      "\n",
      "R-squared:\n",
      "0.9961253851151026\n"
     ]
    }
   ],
   "source": [
    "# Instantiate and fit the first iteration (m1) of the model.\n",
    "m1 = linear_model.LinearRegression()\n",
    "Y = df_m1['property_crime'].values.reshape(-1, 1)\n",
    "X = df_m1[['population','pop_sq','murder_ind', 'robbery_ind']]\n",
    "m1.fit(X, Y)\n",
    "\n",
    "print('\\nCoefficients: \\n', m1.coef_)\n",
    "print('\\nIntercept: \\n', m1.intercept_)\n",
    "print('\\nR-squared:')\n",
    "print(m1.score(X, Y))"
   ]
  },
  {
   "cell_type": "markdown",
   "metadata": {},
   "source": [
    "#### Check linear relationship"
   ]
  },
  {
   "cell_type": "code",
   "execution_count": 346,
   "metadata": {},
   "outputs": [
    {
     "data": {
      "image/png": "[encoded data removed]",
      "text/plain": [
       "<Figure size 432x288 with 1 Axes>"
      ]
     },
     "metadata": {},
     "output_type": "display_data"
    }
   ],
   "source": [
    "#Scatterplot population v property crime\n",
    "plt.scatter(df_m1['population'], df_m1['property_crime'])\n",
    "plt.xlabel('Population')\n",
    "plt.ylabel('Property crime')\n",
    "plt.axhline(y=0)\n",
    "plt.title('Relationship between population and property crime')\n",
    "plt.show()"
   ]
  },
  {
   "cell_type": "markdown",
   "metadata": {},
   "source": [
    "#### Check multivariate normality by examining the distribution of errors"
   ]
  },
  {
   "cell_type": "markdown",
   "metadata": {},
   "source": [
    "There are outliers in the error on both the low and high ends. This could be related to outliers in the underlying data; either in population, or property crime, or both."
   ]
  },
  {
   "cell_type": "code",
   "execution_count": 347,
   "metadata": {
    "scrolled": true
   },
   "outputs": [
    {
     "data": {
      "image/png": "[encoded data removed]",
      "text/plain": [
       "<Figure size 432x288 with 1 Axes>"
      ]
     },
     "metadata": {},
     "output_type": "display_data"
    }
   ],
   "source": [
    "# Extract predicted values.\n",
    "predicted = m1.predict(X).ravel()\n",
    "actual = df_m1['property_crime']\n",
    "\n",
    "# Calculate the error, also called the residual.\n",
    "residual = actual - predicted\n",
    "df_m1['residual'] = residual\n",
    "\n",
    "plt.hist(df_m1['residual'], bins=20)\n",
    "plt.title('Model 1 - Residual counts')\n",
    "plt.xlabel('Residual')\n",
    "plt.ylabel('Count')\n",
    "plt.show()"
   ]
  },
  {
   "cell_type": "code",
   "execution_count": 348,
   "metadata": {
    "scrolled": false
   },
   "outputs": [
    {
     "data": {
      "text/plain": [
       "count    3.420000e+02\n",
       "mean    -1.243242e-13\n",
       "std      4.809214e+02\n",
       "min     -4.260176e+03\n",
       "25%     -9.140389e+01\n",
       "50%      5.542675e+01\n",
       "75%      1.356521e+02\n",
       "max      3.852600e+03\n",
       "Name: residual, dtype: float64"
      ]
     },
     "execution_count": 348,
     "metadata": {},
     "output_type": "execute_result"
    }
   ],
   "source": [
    "df_m1['residual'].describe()"
   ]
  },
  {
   "cell_type": "markdown",
   "metadata": {},
   "source": [
    "#### Check assumption of homoscedascity"
   ]
  },
  {
   "cell_type": "markdown",
   "metadata": {},
   "source": [
    "There is higher error for both high and low outcomes in model iteration 1."
   ]
  },
  {
   "cell_type": "code",
   "execution_count": 349,
   "metadata": {},
   "outputs": [
    {
     "data": {
      "image/png": "[encoded data removed]",
      "text/plain": [
       "<Figure size 432x288 with 1 Axes>"
      ]
     },
     "metadata": {},
     "output_type": "display_data"
    }
   ],
   "source": [
    "#Plot residual v predicted\n",
    "plt.scatter(predicted, residual)\n",
    "plt.xlabel('Predicted')\n",
    "plt.ylabel('Residual')\n",
    "plt.axhline(y=0)\n",
    "plt.title('Residual vs. Predicted')\n",
    "plt.show()"
   ]
  },
  {
   "cell_type": "markdown",
   "metadata": {},
   "source": [
    "#### Check correlations among features (multicolinearity)"
   ]
  },
  {
   "cell_type": "markdown",
   "metadata": {},
   "source": [
    "As shown in an earlier figure, the features do not appear to be highly correlated with one another (except as expected, for population and population squared)."
   ]
  },
  {
   "cell_type": "code",
   "execution_count": 350,
   "metadata": {},
   "outputs": [
    {
     "data": {
      "text/html": [
       "<div>\n",
       "<style scoped>\n",
       "    .dataframe tbody tr th:only-of-type {\n",
       "        vertical-align: middle;\n",
       "    }\n",
       "\n",
       "    .dataframe tbody tr th {\n",
       "        vertical-align: top;\n",
       "    }\n",
       "\n",
       "    .dataframe thead th {\n",
       "        text-align: right;\n",
       "    }\n",
       "</style>\n",
       "<table border=\"1\" class=\"dataframe\">\n",
       "  <thead>\n",
       "    <tr style=\"text-align: right;\">\n",
       "      <th></th>\n",
       "      <th>population</th>\n",
       "      <th>pop_sq</th>\n",
       "      <th>murder_ind</th>\n",
       "      <th>robbery_ind</th>\n",
       "      <th>property_crime</th>\n",
       "    </tr>\n",
       "  </thead>\n",
       "  <tbody>\n",
       "    <tr>\n",
       "      <th>population</th>\n",
       "      <td>1.000000</td>\n",
       "      <td>0.998273</td>\n",
       "      <td>0.161939</td>\n",
       "      <td>0.063360</td>\n",
       "      <td>0.996267</td>\n",
       "    </tr>\n",
       "    <tr>\n",
       "      <th>pop_sq</th>\n",
       "      <td>0.998273</td>\n",
       "      <td>1.000000</td>\n",
       "      <td>0.132878</td>\n",
       "      <td>0.043400</td>\n",
       "      <td>0.991048</td>\n",
       "    </tr>\n",
       "    <tr>\n",
       "      <th>murder_ind</th>\n",
       "      <td>0.161939</td>\n",
       "      <td>0.132878</td>\n",
       "      <td>1.000000</td>\n",
       "      <td>0.309105</td>\n",
       "      <td>0.190226</td>\n",
       "    </tr>\n",
       "    <tr>\n",
       "      <th>robbery_ind</th>\n",
       "      <td>0.063360</td>\n",
       "      <td>0.043400</td>\n",
       "      <td>0.309105</td>\n",
       "      <td>1.000000</td>\n",
       "      <td>0.078133</td>\n",
       "    </tr>\n",
       "    <tr>\n",
       "      <th>property_crime</th>\n",
       "      <td>0.996267</td>\n",
       "      <td>0.991048</td>\n",
       "      <td>0.190226</td>\n",
       "      <td>0.078133</td>\n",
       "      <td>1.000000</td>\n",
       "    </tr>\n",
       "  </tbody>\n",
       "</table>\n",
       "</div>"
      ],
      "text/plain": [
       "                population    pop_sq  murder_ind  robbery_ind  property_crime\n",
       "population        1.000000  0.998273    0.161939     0.063360        0.996267\n",
       "pop_sq            0.998273  1.000000    0.132878     0.043400        0.991048\n",
       "murder_ind        0.161939  0.132878    1.000000     0.309105        0.190226\n",
       "robbery_ind       0.063360  0.043400    0.309105     1.000000        0.078133\n",
       "property_crime    0.996267  0.991048    0.190226     0.078133        1.000000"
      ]
     },
     "metadata": {},
     "output_type": "display_data"
    }
   ],
   "source": [
    "display(corr_matrix)"
   ]
  },
  {
   "cell_type": "markdown",
   "metadata": {},
   "source": [
    "### Fixing assumptions"
   ]
  },
  {
   "cell_type": "markdown",
   "metadata": {},
   "source": [
    "#### Heteroscedasticity can be corrected by transforming the dependent variable and/or adding features in poorly estimated areas. Heteroscedasticity can result in over-confidence in the model predictions. "
   ]
  },
  {
   "cell_type": "markdown",
   "metadata": {},
   "source": [
    "#### Here I test correcting for heteroscedasticity by transforming the dependent variable, property crime, by taking its square root."
   ]
  },
  {
   "cell_type": "code",
   "execution_count": 351,
   "metadata": {},
   "outputs": [],
   "source": [
    "df_m2 = df.filter(['population', 'pop_sq','pop_log', 'murder_ind','robbery_ind', 'property_crime', 'pty_crime_sqrt', 'pty_crime_log'])"
   ]
  },
  {
   "cell_type": "code",
   "execution_count": 352,
   "metadata": {
    "scrolled": true
   },
   "outputs": [
    {
     "name": "stdout",
     "output_type": "stream",
     "text": [
      "\n",
      "Coefficients: \n",
      " [[ 3.79561635e-04 -4.00632569e-11  3.88414493e+00  5.77107738e+00]]\n",
      "\n",
      "Intercept: \n",
      " [4.53405993]\n",
      "\n",
      "R-squared:\n",
      "0.9503900294517691\n"
     ]
    }
   ],
   "source": [
    "m2 = linear_model.LinearRegression()\n",
    "Y = df_m2['pty_crime_sqrt'].values.reshape(-1, 1)\n",
    "X = df_m2[['population','pop_sq','murder_ind', 'robbery_ind']]\n",
    "m2.fit(X, Y)\n",
    "\n",
    "print('\\nCoefficients: \\n', m2.coef_)\n",
    "print('\\nIntercept: \\n', m2.intercept_)\n",
    "print('\\nR-squared:')\n",
    "print(m2.score(X, Y))"
   ]
  },
  {
   "cell_type": "markdown",
   "metadata": {},
   "source": [
    "I now have a positive intercept and the violent crime indicators both have predictive value. The R-squared seems more reasonable (that is, it doesn't seem as if accuracy is as seriously over-estimated as in iteration 1)."
   ]
  },
  {
   "cell_type": "markdown",
   "metadata": {},
   "source": [
    "Iteration 2.1     I would like to know if including population squared predictor improves the model (it does)."
   ]
  },
  {
   "cell_type": "code",
   "execution_count": 353,
   "metadata": {},
   "outputs": [
    {
     "name": "stdout",
     "output_type": "stream",
     "text": [
      "\n",
      "Coefficients: \n",
      " [[4.20597538e-05 1.51214358e+01 9.58222569e+00]]\n",
      "\n",
      "Intercept: \n",
      " [6.03930449]\n",
      "\n",
      "R-squared:\n",
      "0.8475445560095297\n"
     ]
    }
   ],
   "source": [
    "m2_1 = linear_model.LinearRegression()\n",
    "Y = df_m2['pty_crime_sqrt'].values.reshape(-1, 1)\n",
    "X = df_m2[['population', 'murder_ind', 'robbery_ind']]\n",
    "m2_1.fit(X, Y)\n",
    "\n",
    "print('\\nCoefficients: \\n', m2_1.coef_)\n",
    "print('\\nIntercept: \\n', m2_1.intercept_)\n",
    "print('\\nR-squared:')\n",
    "print(m2_1.score(X, Y))"
   ]
  },
  {
   "cell_type": "markdown",
   "metadata": {},
   "source": [
    "Iteration 2.2     Here the model is run with the dependent variable transformed to its log. Performance does not improve, unless we consider the R-squared of 0.9504 in the previous iteration an over-estimate of accuracy."
   ]
  },
  {
   "cell_type": "code",
   "execution_count": 354,
   "metadata": {},
   "outputs": [
    {
     "name": "stdout",
     "output_type": "stream",
     "text": [
      "\n",
      "Coefficients: \n",
      " [[ 2.53312085e-05 -2.92565093e-12  4.94593986e-01  1.63131662e+00]]\n",
      "\n",
      "Intercept: \n",
      " [3.29309527]\n",
      "\n",
      "R-squared:\n",
      "0.6906820853080369\n"
     ]
    }
   ],
   "source": [
    "m2_2 = linear_model.LinearRegression()\n",
    "Y = df_m2['pty_crime_log'].values.reshape(-1, 1)\n",
    "X = df_m2[['population', 'pop_sq', 'murder_ind', 'robbery_ind']]\n",
    "m2_2.fit(X, Y)\n",
    "\n",
    "print('\\nCoefficients: \\n', m2_2.coef_)\n",
    "print('\\nIntercept: \\n', m2_2.intercept_)\n",
    "print('\\nR-squared:')\n",
    "print(m2_2.score(X, Y))"
   ]
  },
  {
   "cell_type": "markdown",
   "metadata": {},
   "source": [
    "Iteration 2.3    Run the model with the log of property crime (dependent variable) and the log of population. The best scoring model so far has an R-squared of ~0.9504. This may still over-state the accuracy. I am going to proceed with more iterations using the log of the property crime value and the log of population as variables."
   ]
  },
  {
   "cell_type": "code",
   "execution_count": 355,
   "metadata": {
    "scrolled": false
   },
   "outputs": [
    {
     "name": "stdout",
     "output_type": "stream",
     "text": [
      "\n",
      "Coefficients: \n",
      " [[0.91059485 0.29998873 0.87008399]]\n",
      "\n",
      "Intercept: \n",
      " [-3.97381438]\n",
      "\n",
      "R-squared:\n",
      "0.8031438881167701\n"
     ]
    }
   ],
   "source": [
    "df_m2_3 = df_m2\n",
    "m2_3 = linear_model.LinearRegression()\n",
    "Y = df_m2_3['pty_crime_log'].values.reshape(-1, 1)\n",
    "X = df_m2_3[['pop_log', 'murder_ind', 'robbery_ind']]\n",
    "m2_3.fit(X, Y)\n",
    "\n",
    "print('\\nCoefficients: \\n', m2_3.coef_)\n",
    "print('\\nIntercept: \\n', m2_3.intercept_)\n",
    "print('\\nR-squared:')\n",
    "print(m2_3.score(X, Y))"
   ]
  },
  {
   "cell_type": "markdown",
   "metadata": {},
   "source": [
    "Re-test for heteroscedascity."
   ]
  },
  {
   "cell_type": "code",
   "execution_count": 356,
   "metadata": {
    "scrolled": true
   },
   "outputs": [],
   "source": [
    "# Extract predicted values.\n",
    "predicted_m2_3 = m2_3.predict(X).ravel()\n",
    "actual = df_m2_3['pty_crime_log']\n",
    "\n",
    "# Calculate the error, also called the residual.\n",
    "residual_m2_3 = actual - predicted"
   ]
  },
  {
   "cell_type": "code",
   "execution_count": 357,
   "metadata": {},
   "outputs": [
    {
     "data": {
      "image/png": "[encoded data removed]",
      "text/plain": [
       "<Figure size 432x288 with 1 Axes>"
      ]
     },
     "metadata": {},
     "output_type": "display_data"
    }
   ],
   "source": [
    "#Plot residual v predicted\n",
    "plt.scatter(predicted_m2_3, residual_m2_3)\n",
    "plt.xlabel('Predicted')\n",
    "plt.ylabel('Residual')\n",
    "plt.axhline(y=0)\n",
    "plt.title('Residual vs. Predicted')\n",
    "plt.show()"
   ]
  },
  {
   "cell_type": "markdown",
   "metadata": {},
   "source": [
    "#### Multivariate non-normality results in mis-estimation. It can be corrected by dealing with outliers. I will iterate the model two times by first excluding the high outliers, then the low outliers based on population. I am going to keep the transformation of property crime to the square root."
   ]
  },
  {
   "cell_type": "markdown",
   "metadata": {},
   "source": [
    "Dropping the high population outliers (iteration 3, below) is not an improvement."
   ]
  },
  {
   "cell_type": "code",
   "execution_count": 358,
   "metadata": {},
   "outputs": [],
   "source": [
    "df_m3 = df.filter(['population', 'pop_log','murder_ind','robbery_ind', 'pty_crime_log', 'property_crime', 'outlier_flag'])"
   ]
  },
  {
   "cell_type": "code",
   "execution_count": 359,
   "metadata": {},
   "outputs": [],
   "source": [
    "df_m3.drop(df_m3[df_m3['outlier_flag'] == 1].index, inplace=True)"
   ]
  },
  {
   "cell_type": "code",
   "execution_count": 360,
   "metadata": {
    "scrolled": true
   },
   "outputs": [
    {
     "name": "stdout",
     "output_type": "stream",
     "text": [
      "\n",
      "Coefficients: \n",
      " [[0.89301191 0.27789875 0.88973037]]\n",
      "\n",
      "Intercept: \n",
      " [-3.83099718]\n",
      "\n",
      "R-squared:\n",
      "0.7829625070761145\n"
     ]
    }
   ],
   "source": [
    "\n",
    "m3 = linear_model.LinearRegression()\n",
    "Y = df_m3['pty_crime_log'].values.reshape(-1, 1)\n",
    "X = df_m3[['pop_log','murder_ind', 'robbery_ind']]\n",
    "m3.fit(X, Y)\n",
    "\n",
    "print('\\nCoefficients: \\n', m3.coef_)\n",
    "print('\\nIntercept: \\n', m3.intercept_)\n",
    "print('\\nR-squared:')\n",
    "print(m3.score(X, Y))"
   ]
  },
  {
   "cell_type": "markdown",
   "metadata": {},
   "source": [
    "Dropping both the high and low population outliers (below) does not improve the model."
   ]
  },
  {
   "cell_type": "code",
   "execution_count": 361,
   "metadata": {},
   "outputs": [],
   "source": [
    "df_m4 = df.filter(['population', 'pop_log','murder_ind','robbery_ind', 'property_crime', 'pty_crime_log', 'outlier_flag', 'low_outlier'])\n",
    "df_m4.drop(df_m4[df_m4['outlier_flag'] == 1].index, inplace=True)\n",
    "df_m4.drop(df_m4[df_m4['low_outlier'] == 1].index, inplace=True)"
   ]
  },
  {
   "cell_type": "code",
   "execution_count": 362,
   "metadata": {},
   "outputs": [
    {
     "name": "stdout",
     "output_type": "stream",
     "text": [
      "\n",
      "Coefficients: \n",
      " [[0.96711357 0.26480966 0.98224443]]\n",
      "\n",
      "Intercept: \n",
      " [-4.67171092]\n",
      "\n",
      "R-squared:\n",
      "0.7039488730657126\n"
     ]
    }
   ],
   "source": [
    "m4 = linear_model.LinearRegression()\n",
    "Y = df_m4['pty_crime_log'].values.reshape(-1, 1)\n",
    "X = df_m4[['pop_log','murder_ind', 'robbery_ind']]\n",
    "m4.fit(X, Y)\n",
    "\n",
    "print('\\nCoefficients: \\n', m4.coef_)\n",
    "print('\\nIntercept: \\n', m4.intercept_)\n",
    "print('\\nR-squared:')\n",
    "print(m4.score(X, Y))"
   ]
  },
  {
   "cell_type": "markdown",
   "metadata": {},
   "source": [
    "Adding indicators for the first and fourth quartiles in population improves the model slightly."
   ]
  },
  {
   "cell_type": "code",
   "execution_count": 363,
   "metadata": {},
   "outputs": [],
   "source": [
    "df_m6 = df.filter(['population', 'pop_log','murder_ind','robbery_ind', 'pty_crime_log', 'property_crime', 'qrtl_1', 'qrtl_4'])"
   ]
  },
  {
   "cell_type": "code",
   "execution_count": 364,
   "metadata": {},
   "outputs": [
    {
     "name": "stdout",
     "output_type": "stream",
     "text": [
      "\n",
      "Coefficients: \n",
      " [[0.89506238 0.28601834 0.88751512 0.41483977]]\n",
      "\n",
      "Intercept: \n",
      " [-3.84769376]\n",
      "\n",
      "R-squared:\n",
      "0.8037651400654878\n"
     ]
    }
   ],
   "source": [
    "m6 = linear_model.LinearRegression()\n",
    "Y = df_m6['pty_crime_log'].values.reshape(-1, 1)\n",
    "X = df_m6[['pop_log','murder_ind', 'robbery_ind', 'qrtl_4']]\n",
    "m6.fit(X, Y)\n",
    "\n",
    "print('\\nCoefficients: \\n', m6.coef_)\n",
    "print('\\nIntercept: \\n', m6.intercept_)\n",
    "print('\\nR-squared:')\n",
    "print(m6.score(X, Y))"
   ]
  },
  {
   "cell_type": "markdown",
   "metadata": {},
   "source": [
    "Dropping the murder predictor does not improve the performance of the model."
   ]
  },
  {
   "cell_type": "code",
   "execution_count": 365,
   "metadata": {},
   "outputs": [
    {
     "name": "stdout",
     "output_type": "stream",
     "text": [
      "\n",
      "Coefficients: \n",
      " [[0.94954316 0.9060492  0.07917618 0.44141924]]\n",
      "\n",
      "Intercept: \n",
      " [-4.32683855]\n",
      "\n",
      "R-squared:\n",
      "0.8011779917091149\n"
     ]
    }
   ],
   "source": [
    "m6_1 = linear_model.LinearRegression()\n",
    "Y = df_m6['pty_crime_log'].values.reshape(-1, 1)\n",
    "X = df_m6[['pop_log','robbery_ind', 'qrtl_1', 'qrtl_4']]\n",
    "m6_1.fit(X, Y)\n",
    "\n",
    "print('\\nCoefficients: \\n', m6_1.coef_)\n",
    "print('\\nIntercept: \\n', m6_1.intercept_)\n",
    "print('\\nR-squared:')\n",
    "print(m6_1.score(X, Y))"
   ]
  },
  {
   "cell_type": "markdown",
   "metadata": {},
   "source": [
    "Per capita measures are often used when analyzing data of this type. But the way I have it constructed, they do not result in a better model."
   ]
  },
  {
   "cell_type": "code",
   "execution_count": 366,
   "metadata": {},
   "outputs": [],
   "source": [
    "df_m7 = df.filter(['population', 'pty_crime_pc', 'murder_pc', 'murder_ind', 'robbery_pc', 'robbery_ind', 'violent_pc', 'qrtl_1', 'qrtl_4'])"
   ]
  },
  {
   "cell_type": "code",
   "execution_count": 367,
   "metadata": {},
   "outputs": [
    {
     "name": "stdout",
     "output_type": "stream",
     "text": [
      "\n",
      "Coefficients: \n",
      " [[ 1.06842427e+01 -4.08154257e+01 -1.05898577e-03 -1.74557056e-02]]\n",
      "\n",
      "Intercept: \n",
      " [0.01663942]\n",
      "\n",
      "R-squared:\n",
      "0.19267624712104348\n"
     ]
    }
   ],
   "source": [
    "m7 = linear_model.LinearRegression()\n",
    "Y = df_m7['pty_crime_pc'].values.reshape(-1, 1)\n",
    "X = df_m7[['robbery_pc', 'murder_pc', 'qrtl_1', 'qrtl_4']]\n",
    "m7.fit(X, Y)\n",
    "\n",
    "print('\\nCoefficients: \\n', m7.coef_)\n",
    "print('\\nIntercept: \\n', m7.intercept_)\n",
    "print('\\nR-squared:')\n",
    "print(m7.score(X, Y))"
   ]
  },
  {
   "cell_type": "markdown",
   "metadata": {},
   "source": [
    "These two plots show that using per capita measures rather than volume takes away the predictive power of the murder and robbery statistics."
   ]
  },
  {
   "cell_type": "code",
   "execution_count": 368,
   "metadata": {
    "scrolled": false
   },
   "outputs": [
    {
     "data": {
      "image/png": "[encoded data removed]",
      "text/plain": [
       "<Figure size 432x288 with 1 Axes>"
      ]
     },
     "metadata": {},
     "output_type": "display_data"
    }
   ],
   "source": [
    "#Scatterplot property crime, murder crime per capita\n",
    "plt.scatter(df['murder_pc'], df['pty_crime_pc'])\n",
    "plt.xlabel('Murders per capita')\n",
    "plt.ylabel('Property crime per capita')\n",
    "plt.axhline(y=0)\n",
    "plt.title('Relationship between property crime and murders per capita')\n",
    "plt.show()"
   ]
  },
  {
   "cell_type": "code",
   "execution_count": 369,
   "metadata": {},
   "outputs": [
    {
     "data": {
      "image/png": "[encoded data removed]",
      "text/plain": [
       "<Figure size 432x288 with 1 Axes>"
      ]
     },
     "metadata": {},
     "output_type": "display_data"
    }
   ],
   "source": [
    "#Scatterplot property crime, murder crime per capita\n",
    "plt.scatter(df['robbery_pc'], df['pty_crime_pc'])\n",
    "plt.xlabel('Robberies per capita')\n",
    "plt.ylabel('Property crime per capita')\n",
    "plt.axhline(y=0)\n",
    "plt.title('Relationship between property crime and robberies per capita')\n",
    "plt.show()"
   ]
  },
  {
   "cell_type": "markdown",
   "metadata": {},
   "source": [
    "### Discussion and summary: Feature engineering and selection"
   ]
  },
  {
   "cell_type": "markdown",
   "metadata": {},
   "source": [
    "The model based on the original formula (property crime volume = population + population squared + robbery volume + murder volume) resulted in an R-squared value that was unreasonably high (~0.9961); accuracy was over-estimated.\n",
    "\n",
    "The second iteration of the model used the square root of the dependent variable to address heteroscedacity. This model resulted in an R-squared value of ~0.9504. This model may also overstate accuracy.\n",
    "\n",
    "The third major iteration of the model used the log of the dependent variable (property crime volume) and the log of population. The R-squared value of this model is ~0.8031. A minor improvement could be made by including a predictor indicating whether population is in the fourth quartile (R-squared ~0.8037).\n",
    "\n",
    "I constructed a model using per capita values for property crime volume, murder volume and robbery volume. Plots show that the predictive power of the murder and robbery volumes were neutralized when transformed to per capita values."
   ]
  }
 ],
 "metadata": {
  "kernelspec": {
   "display_name": "Python 3",
   "language": "python",
   "name": "python3"
  },
  "language_info": {
   "codemirror_mode": {
    "name": "ipython",
    "version": 3
   },
   "file_extension": ".py",
   "mimetype": "text/x-python",
   "name": "python",
   "nbconvert_exporter": "python",
   "pygments_lexer": "ipython3",
   "version": "3.6.5"
  }
 },
 "nbformat": 4,
 "nbformat_minor": 2
}
