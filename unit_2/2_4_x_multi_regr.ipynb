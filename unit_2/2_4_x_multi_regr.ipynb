{
 "cells": [
  {
   "cell_type": "markdown",
   "metadata": {},
   "source": [
    "## Multivariable Regression"
   ]
  },
  {
   "cell_type": "markdown",
   "metadata": {},
   "source": [
    "### Prepared by Robin Fladebo     December 2018"
   ]
  },
  {
   "cell_type": "markdown",
   "metadata": {},
   "source": [
    "### Introduction"
   ]
  },
  {
   "cell_type": "markdown",
   "metadata": {},
   "source": [
    "Prepare FBI Uniform Crime Reporting data, for the State of New York for 2013, for use in a model with multivariable regression (including data cleaning if necessary) according to this specification:\n",
    "\n",
    "Propertycrime=α+Population+Population^2+Murder+Robbery\n",
    "\n",
    "The 'population' variable is already set for you, but you will need to create the last three features. Robbery and Murder are currently continuous variables. For this model, please use these variables to create categorical features where values greater than 0 are coded 1, and values equal to 0 are coded 0. Don't forget basic data cleaning procedures. Do some graphing to see if there are any anomalous cases, and decide how you want to deal with them."
   ]
  },
  {
   "cell_type": "markdown",
   "metadata": {},
   "source": [
    "#### Notes on data content"
   ]
  },
  {
   "cell_type": "markdown",
   "metadata": {},
   "source": [
    "Property crime includes burglary, larceny-theft and vehicle theft.\n",
    "Data can be retrieved here: https://ucr.fbi.gov/crime-in-the-u.s/2013/crime-in-the-u.s.-2013/tables/table-8/table-8-state-cuts/table_8_offenses_known_to_law_enforcement_new_york_by_city_2013.xls\n",
    "\n",
    "Violent crime includes murder, non-negligent homicide, rape, robbery and aggravated assault."
   ]
  },
  {
   "cell_type": "markdown",
   "metadata": {},
   "source": [
    "### Data preparation"
   ]
  },
  {
   "cell_type": "code",
   "execution_count": 187,
   "metadata": {},
   "outputs": [],
   "source": [
    "import warnings\n",
    "import numpy as np\n",
    "import pandas as pd\n",
    "pd.set_option('display.max_rows', 100)\n",
    "import matplotlib.pyplot as plt\n",
    "plt.rcParams['figure.figsize'] = (20.0, 10.0)\n",
    "%matplotlib inline\n",
    "import seaborn as sns"
   ]
  },
  {
   "cell_type": "code",
   "execution_count": 188,
   "metadata": {},
   "outputs": [],
   "source": [
    "from sklearn import linear_model\n",
    "import statsmodels.formula.api as smf"
   ]
  },
  {
   "cell_type": "code",
   "execution_count": 189,
   "metadata": {},
   "outputs": [],
   "source": [
    "with warnings.catch_warnings():\n",
    "    warnings.filterwarnings(\"ignore\",category=DeprecationWarning)"
   ]
  },
  {
   "cell_type": "code",
   "execution_count": 190,
   "metadata": {
    "scrolled": true
   },
   "outputs": [],
   "source": [
    "df = pd.read_excel('../Datafiles/fbi_nyc_2013.xlsx',sheet_name='fbi_nyc_2013')"
   ]
  },
  {
   "cell_type": "code",
   "execution_count": 191,
   "metadata": {},
   "outputs": [
    {
     "data": {
      "text/plain": [
       "(351, 13)"
      ]
     },
     "execution_count": 191,
     "metadata": {},
     "output_type": "execute_result"
    }
   ],
   "source": [
    "df.shape"
   ]
  },
  {
   "cell_type": "code",
   "execution_count": 192,
   "metadata": {},
   "outputs": [
    {
     "data": {
      "text/plain": [
       "Index(['City', 'Population', 'Violent\\ncrime',\n",
       "       'Murder and\\nnonnegligent\\nmanslaughter',\n",
       "       'Rape\\n(revised\\ndefinition)1', 'Rape\\n(legacy\\ndefinition)2',\n",
       "       'Robbery', 'Aggravated\\nassault', 'Property\\ncrime', 'Burglary',\n",
       "       'Larceny-\\ntheft', 'Motor\\nvehicle\\ntheft', 'Arson'],\n",
       "      dtype='object')"
      ]
     },
     "execution_count": 192,
     "metadata": {},
     "output_type": "execute_result"
    }
   ],
   "source": [
    "df.columns"
   ]
  },
  {
   "cell_type": "code",
   "execution_count": 193,
   "metadata": {},
   "outputs": [
    {
     "data": {
      "text/plain": [
       "City                                       object\n",
       "Population                                float64\n",
       "Violent\\ncrime                            float64\n",
       "Murder and\\nnonnegligent\\nmanslaughter    float64\n",
       "Rape\\n(revised\\ndefinition)1              float64\n",
       "Rape\\n(legacy\\ndefinition)2               float64\n",
       "Robbery                                   float64\n",
       "Aggravated\\nassault                       float64\n",
       "Property\\ncrime                           float64\n",
       "Burglary                                  float64\n",
       "Larceny-\\ntheft                           float64\n",
       "Motor\\nvehicle\\ntheft                     float64\n",
       "Arson                                     float64\n",
       "dtype: object"
      ]
     },
     "execution_count": 193,
     "metadata": {},
     "output_type": "execute_result"
    }
   ],
   "source": [
    "df.dtypes"
   ]
  },
  {
   "cell_type": "code",
   "execution_count": 194,
   "metadata": {},
   "outputs": [],
   "source": [
    "df.rename(columns=lambda x: x.replace('\\n', '_'), inplace=True)"
   ]
  },
  {
   "cell_type": "code",
   "execution_count": 195,
   "metadata": {},
   "outputs": [],
   "source": [
    "df.rename(columns=lambda x: x.lower(), inplace=True)"
   ]
  },
  {
   "cell_type": "code",
   "execution_count": 196,
   "metadata": {
    "scrolled": true
   },
   "outputs": [],
   "source": [
    "df.rename(columns={'rape_(revised_definition)1':'rape_def_1','rape_(legacy_definition)2':'rape_legacy_def'}, inplace=True)"
   ]
  },
  {
   "cell_type": "code",
   "execution_count": 197,
   "metadata": {
    "scrolled": true
   },
   "outputs": [],
   "source": [
    "df.rename(columns={'murder and_nonnegligent_manslaughter':'murder'}, inplace=True)"
   ]
  },
  {
   "cell_type": "code",
   "execution_count": 198,
   "metadata": {},
   "outputs": [],
   "source": [
    "df.rename(columns={'rape_(revised_definition)1':'rape_def_1','rape_(legacy_definition)2':'rape_legacy_def', 'larceny-_theft':'larceny_theft'}, inplace=True)"
   ]
  },
  {
   "cell_type": "code",
   "execution_count": 199,
   "metadata": {},
   "outputs": [],
   "source": [
    "# Drop any column that is filled with NA values\n",
    "df.dropna(how='all', axis=1, inplace=True)"
   ]
  },
  {
   "cell_type": "code",
   "execution_count": 200,
   "metadata": {},
   "outputs": [],
   "source": [
    "# Keep rows with at least 2 non-NA values (i.e., drop Notes rows)\n",
    "df.dropna(how='any', thresh=2, inplace=True)"
   ]
  },
  {
   "cell_type": "code",
   "execution_count": 201,
   "metadata": {
    "scrolled": true
   },
   "outputs": [],
   "source": [
    "df['pop_sq'] = df['population']**2"
   ]
  },
  {
   "cell_type": "code",
   "execution_count": 202,
   "metadata": {
    "scrolled": true
   },
   "outputs": [],
   "source": [
    "df['pop_log'] = np.log(df['population'])"
   ]
  },
  {
   "cell_type": "code",
   "execution_count": 203,
   "metadata": {},
   "outputs": [],
   "source": [
    "df['pty_crime_sqrt'] = np.sqrt(df['property_crime'])"
   ]
  },
  {
   "cell_type": "code",
   "execution_count": 204,
   "metadata": {},
   "outputs": [],
   "source": [
    "def set_ind(var,new_val):\n",
    "    df[new_val]=np.where(df[var]>0, 1, 0)\n",
    "    return df\n",
    "df = set_ind('murder', 'murder_ind')\n",
    "df = set_ind('robbery', 'robbery_ind')"
   ]
  },
  {
   "cell_type": "code",
   "execution_count": 205,
   "metadata": {},
   "outputs": [],
   "source": [
    "df['outlier_flag'] = np.where(df['population']>200000, 1, 0)"
   ]
  },
  {
   "cell_type": "code",
   "execution_count": 206,
   "metadata": {},
   "outputs": [],
   "source": [
    "df['low_outlier'] = np.where(df['population']<5000, 1, 0 )"
   ]
  },
  {
   "cell_type": "code",
   "execution_count": 207,
   "metadata": {
    "scrolled": false
   },
   "outputs": [
    {
     "data": {
      "text/html": [
       "<div>\n",
       "<style scoped>\n",
       "    .dataframe tbody tr th:only-of-type {\n",
       "        vertical-align: middle;\n",
       "    }\n",
       "\n",
       "    .dataframe tbody tr th {\n",
       "        vertical-align: top;\n",
       "    }\n",
       "\n",
       "    .dataframe thead th {\n",
       "        text-align: right;\n",
       "    }\n",
       "</style>\n",
       "<table border=\"1\" class=\"dataframe\">\n",
       "  <thead>\n",
       "    <tr style=\"text-align: right;\">\n",
       "      <th></th>\n",
       "      <th>city</th>\n",
       "      <th>population</th>\n",
       "      <th>violent_crime</th>\n",
       "      <th>murder</th>\n",
       "      <th>rape_legacy_def</th>\n",
       "      <th>robbery</th>\n",
       "      <th>aggravated_assault</th>\n",
       "      <th>property_crime</th>\n",
       "      <th>burglary</th>\n",
       "      <th>larceny_theft</th>\n",
       "      <th>motor_vehicle_theft</th>\n",
       "      <th>arson</th>\n",
       "      <th>pop_sq</th>\n",
       "      <th>pop_log</th>\n",
       "      <th>pty_crime_sqrt</th>\n",
       "      <th>murder_ind</th>\n",
       "      <th>robbery_ind</th>\n",
       "      <th>outlier_flag</th>\n",
       "      <th>low_outlier</th>\n",
       "    </tr>\n",
       "    <tr>\n",
       "      <th>outlier_flag</th>\n",
       "      <th></th>\n",
       "      <th></th>\n",
       "      <th></th>\n",
       "      <th></th>\n",
       "      <th></th>\n",
       "      <th></th>\n",
       "      <th></th>\n",
       "      <th></th>\n",
       "      <th></th>\n",
       "      <th></th>\n",
       "      <th></th>\n",
       "      <th></th>\n",
       "      <th></th>\n",
       "      <th></th>\n",
       "      <th></th>\n",
       "      <th></th>\n",
       "      <th></th>\n",
       "      <th></th>\n",
       "      <th></th>\n",
       "    </tr>\n",
       "  </thead>\n",
       "  <tbody>\n",
       "    <tr>\n",
       "      <th>0</th>\n",
       "      <td>345</td>\n",
       "      <td>345</td>\n",
       "      <td>345</td>\n",
       "      <td>345</td>\n",
       "      <td>345</td>\n",
       "      <td>345</td>\n",
       "      <td>345</td>\n",
       "      <td>345</td>\n",
       "      <td>345</td>\n",
       "      <td>345</td>\n",
       "      <td>345</td>\n",
       "      <td>186</td>\n",
       "      <td>345</td>\n",
       "      <td>345</td>\n",
       "      <td>345</td>\n",
       "      <td>345</td>\n",
       "      <td>345</td>\n",
       "      <td>345</td>\n",
       "      <td>345</td>\n",
       "    </tr>\n",
       "    <tr>\n",
       "      <th>1</th>\n",
       "      <td>3</td>\n",
       "      <td>3</td>\n",
       "      <td>3</td>\n",
       "      <td>3</td>\n",
       "      <td>3</td>\n",
       "      <td>3</td>\n",
       "      <td>3</td>\n",
       "      <td>3</td>\n",
       "      <td>3</td>\n",
       "      <td>3</td>\n",
       "      <td>3</td>\n",
       "      <td>1</td>\n",
       "      <td>3</td>\n",
       "      <td>3</td>\n",
       "      <td>3</td>\n",
       "      <td>3</td>\n",
       "      <td>3</td>\n",
       "      <td>3</td>\n",
       "      <td>3</td>\n",
       "    </tr>\n",
       "  </tbody>\n",
       "</table>\n",
       "</div>"
      ],
      "text/plain": [
       "              city  population  violent_crime  murder  rape_legacy_def  \\\n",
       "outlier_flag                                                             \n",
       "0              345         345            345     345              345   \n",
       "1                3           3              3       3                3   \n",
       "\n",
       "              robbery  aggravated_assault  property_crime  burglary  \\\n",
       "outlier_flag                                                          \n",
       "0                 345                 345             345       345   \n",
       "1                   3                   3               3         3   \n",
       "\n",
       "              larceny_theft  motor_vehicle_theft  arson  pop_sq  pop_log  \\\n",
       "outlier_flag                                                               \n",
       "0                       345                  345    186     345      345   \n",
       "1                         3                    3      1       3        3   \n",
       "\n",
       "              pty_crime_sqrt  murder_ind  robbery_ind  outlier_flag  \\\n",
       "outlier_flag                                                          \n",
       "0                        345         345          345           345   \n",
       "1                          3           3            3             3   \n",
       "\n",
       "              low_outlier  \n",
       "outlier_flag               \n",
       "0                     345  \n",
       "1                       3  "
      ]
     },
     "execution_count": 207,
     "metadata": {},
     "output_type": "execute_result"
    }
   ],
   "source": [
    "df.groupby(df['outlier_flag']).count()"
   ]
  },
  {
   "cell_type": "code",
   "execution_count": 208,
   "metadata": {},
   "outputs": [
    {
     "data": {
      "text/html": [
       "<div>\n",
       "<style scoped>\n",
       "    .dataframe tbody tr th:only-of-type {\n",
       "        vertical-align: middle;\n",
       "    }\n",
       "\n",
       "    .dataframe tbody tr th {\n",
       "        vertical-align: top;\n",
       "    }\n",
       "\n",
       "    .dataframe thead th {\n",
       "        text-align: right;\n",
       "    }\n",
       "</style>\n",
       "<table border=\"1\" class=\"dataframe\">\n",
       "  <thead>\n",
       "    <tr style=\"text-align: right;\">\n",
       "      <th></th>\n",
       "      <th>city</th>\n",
       "      <th>population</th>\n",
       "      <th>violent_crime</th>\n",
       "      <th>murder</th>\n",
       "      <th>rape_legacy_def</th>\n",
       "      <th>robbery</th>\n",
       "      <th>aggravated_assault</th>\n",
       "      <th>property_crime</th>\n",
       "      <th>burglary</th>\n",
       "      <th>larceny_theft</th>\n",
       "      <th>motor_vehicle_theft</th>\n",
       "      <th>arson</th>\n",
       "      <th>pop_sq</th>\n",
       "      <th>pop_log</th>\n",
       "      <th>pty_crime_sqrt</th>\n",
       "      <th>murder_ind</th>\n",
       "      <th>robbery_ind</th>\n",
       "      <th>outlier_flag</th>\n",
       "    </tr>\n",
       "    <tr>\n",
       "      <th>low_outlier</th>\n",
       "      <th></th>\n",
       "      <th></th>\n",
       "      <th></th>\n",
       "      <th></th>\n",
       "      <th></th>\n",
       "      <th></th>\n",
       "      <th></th>\n",
       "      <th></th>\n",
       "      <th></th>\n",
       "      <th></th>\n",
       "      <th></th>\n",
       "      <th></th>\n",
       "      <th></th>\n",
       "      <th></th>\n",
       "      <th></th>\n",
       "      <th></th>\n",
       "      <th></th>\n",
       "      <th></th>\n",
       "    </tr>\n",
       "  </thead>\n",
       "  <tbody>\n",
       "    <tr>\n",
       "      <th>0</th>\n",
       "      <td>215</td>\n",
       "      <td>215</td>\n",
       "      <td>215</td>\n",
       "      <td>215</td>\n",
       "      <td>215</td>\n",
       "      <td>215</td>\n",
       "      <td>215</td>\n",
       "      <td>215</td>\n",
       "      <td>215</td>\n",
       "      <td>215</td>\n",
       "      <td>215</td>\n",
       "      <td>103</td>\n",
       "      <td>215</td>\n",
       "      <td>215</td>\n",
       "      <td>215</td>\n",
       "      <td>215</td>\n",
       "      <td>215</td>\n",
       "      <td>215</td>\n",
       "    </tr>\n",
       "    <tr>\n",
       "      <th>1</th>\n",
       "      <td>133</td>\n",
       "      <td>133</td>\n",
       "      <td>133</td>\n",
       "      <td>133</td>\n",
       "      <td>133</td>\n",
       "      <td>133</td>\n",
       "      <td>133</td>\n",
       "      <td>133</td>\n",
       "      <td>133</td>\n",
       "      <td>133</td>\n",
       "      <td>133</td>\n",
       "      <td>84</td>\n",
       "      <td>133</td>\n",
       "      <td>133</td>\n",
       "      <td>133</td>\n",
       "      <td>133</td>\n",
       "      <td>133</td>\n",
       "      <td>133</td>\n",
       "    </tr>\n",
       "  </tbody>\n",
       "</table>\n",
       "</div>"
      ],
      "text/plain": [
       "             city  population  violent_crime  murder  rape_legacy_def  \\\n",
       "low_outlier                                                             \n",
       "0             215         215            215     215              215   \n",
       "1             133         133            133     133              133   \n",
       "\n",
       "             robbery  aggravated_assault  property_crime  burglary  \\\n",
       "low_outlier                                                          \n",
       "0                215                 215             215       215   \n",
       "1                133                 133             133       133   \n",
       "\n",
       "             larceny_theft  motor_vehicle_theft  arson  pop_sq  pop_log  \\\n",
       "low_outlier                                                               \n",
       "0                      215                  215    103     215      215   \n",
       "1                      133                  133     84     133      133   \n",
       "\n",
       "             pty_crime_sqrt  murder_ind  robbery_ind  outlier_flag  \n",
       "low_outlier                                                         \n",
       "0                       215         215          215           215  \n",
       "1                       133         133          133           133  "
      ]
     },
     "execution_count": 208,
     "metadata": {},
     "output_type": "execute_result"
    }
   ],
   "source": [
    "df.groupby(df['low_outlier']).count()"
   ]
  },
  {
   "cell_type": "code",
   "execution_count": 209,
   "metadata": {},
   "outputs": [],
   "source": [
    "# df.drop(df[df['outlier_flag'] == 1].index, inplace=True)"
   ]
  },
  {
   "cell_type": "code",
   "execution_count": 210,
   "metadata": {},
   "outputs": [],
   "source": [
    "# df.drop(df[df['low_outlier'] == 1].index, inplace=True)"
   ]
  },
  {
   "cell_type": "markdown",
   "metadata": {},
   "source": [
    "### Visual analysis"
   ]
  },
  {
   "cell_type": "code",
   "execution_count": 211,
   "metadata": {
    "scrolled": false
   },
   "outputs": [
    {
     "data": {
      "text/html": [
       "<div>\n",
       "<style scoped>\n",
       "    .dataframe tbody tr th:only-of-type {\n",
       "        vertical-align: middle;\n",
       "    }\n",
       "\n",
       "    .dataframe tbody tr th {\n",
       "        vertical-align: top;\n",
       "    }\n",
       "\n",
       "    .dataframe thead th {\n",
       "        text-align: right;\n",
       "    }\n",
       "</style>\n",
       "<table border=\"1\" class=\"dataframe\">\n",
       "  <thead>\n",
       "    <tr style=\"text-align: right;\">\n",
       "      <th></th>\n",
       "      <th>population</th>\n",
       "      <th>violent_crime</th>\n",
       "      <th>murder</th>\n",
       "      <th>rape_legacy_def</th>\n",
       "      <th>robbery</th>\n",
       "      <th>aggravated_assault</th>\n",
       "      <th>property_crime</th>\n",
       "      <th>burglary</th>\n",
       "      <th>larceny_theft</th>\n",
       "      <th>motor_vehicle_theft</th>\n",
       "      <th>arson</th>\n",
       "      <th>pop_sq</th>\n",
       "      <th>pop_log</th>\n",
       "      <th>pty_crime_sqrt</th>\n",
       "      <th>murder_ind</th>\n",
       "      <th>robbery_ind</th>\n",
       "      <th>outlier_flag</th>\n",
       "      <th>low_outlier</th>\n",
       "    </tr>\n",
       "  </thead>\n",
       "  <tbody>\n",
       "    <tr>\n",
       "      <th>count</th>\n",
       "      <td>3.480000e+02</td>\n",
       "      <td>348.000000</td>\n",
       "      <td>348.000000</td>\n",
       "      <td>348.000000</td>\n",
       "      <td>348.000000</td>\n",
       "      <td>348.000000</td>\n",
       "      <td>348.000000</td>\n",
       "      <td>348.000000</td>\n",
       "      <td>348.000000</td>\n",
       "      <td>348.000000</td>\n",
       "      <td>187.000000</td>\n",
       "      <td>3.480000e+02</td>\n",
       "      <td>348.000000</td>\n",
       "      <td>348.000000</td>\n",
       "      <td>348.000000</td>\n",
       "      <td>348.000000</td>\n",
       "      <td>348.000000</td>\n",
       "      <td>348.000000</td>\n",
       "    </tr>\n",
       "    <tr>\n",
       "      <th>mean</th>\n",
       "      <td>4.003763e+04</td>\n",
       "      <td>201.594828</td>\n",
       "      <td>1.566092</td>\n",
       "      <td>5.864943</td>\n",
       "      <td>72.902299</td>\n",
       "      <td>121.261494</td>\n",
       "      <td>792.606322</td>\n",
       "      <td>119.683908</td>\n",
       "      <td>637.017241</td>\n",
       "      <td>35.905172</td>\n",
       "      <td>1.871658</td>\n",
       "      <td>2.035547e+11</td>\n",
       "      <td>8.956080</td>\n",
       "      <td>15.502254</td>\n",
       "      <td>0.140805</td>\n",
       "      <td>0.600575</td>\n",
       "      <td>0.008621</td>\n",
       "      <td>0.382184</td>\n",
       "    </tr>\n",
       "    <tr>\n",
       "      <th>std</th>\n",
       "      <td>4.500374e+05</td>\n",
       "      <td>2815.268504</td>\n",
       "      <td>18.303673</td>\n",
       "      <td>60.425452</td>\n",
       "      <td>1031.032873</td>\n",
       "      <td>1706.131730</td>\n",
       "      <td>7659.724746</td>\n",
       "      <td>924.948789</td>\n",
       "      <td>6346.054451</td>\n",
       "      <td>403.423826</td>\n",
       "      <td>10.693411</td>\n",
       "      <td>3.778876e+12</td>\n",
       "      <td>1.245456</td>\n",
       "      <td>23.534614</td>\n",
       "      <td>0.348321</td>\n",
       "      <td>0.490486</td>\n",
       "      <td>0.092580</td>\n",
       "      <td>0.486621</td>\n",
       "    </tr>\n",
       "    <tr>\n",
       "      <th>min</th>\n",
       "      <td>5.260000e+02</td>\n",
       "      <td>0.000000</td>\n",
       "      <td>0.000000</td>\n",
       "      <td>0.000000</td>\n",
       "      <td>0.000000</td>\n",
       "      <td>0.000000</td>\n",
       "      <td>0.000000</td>\n",
       "      <td>0.000000</td>\n",
       "      <td>0.000000</td>\n",
       "      <td>0.000000</td>\n",
       "      <td>0.000000</td>\n",
       "      <td>2.766760e+05</td>\n",
       "      <td>6.265301</td>\n",
       "      <td>0.000000</td>\n",
       "      <td>0.000000</td>\n",
       "      <td>0.000000</td>\n",
       "      <td>0.000000</td>\n",
       "      <td>0.000000</td>\n",
       "    </tr>\n",
       "    <tr>\n",
       "      <th>25%</th>\n",
       "      <td>3.003000e+03</td>\n",
       "      <td>2.000000</td>\n",
       "      <td>0.000000</td>\n",
       "      <td>0.000000</td>\n",
       "      <td>0.000000</td>\n",
       "      <td>1.000000</td>\n",
       "      <td>40.500000</td>\n",
       "      <td>6.000000</td>\n",
       "      <td>31.000000</td>\n",
       "      <td>0.000000</td>\n",
       "      <td>0.000000</td>\n",
       "      <td>9.018117e+06</td>\n",
       "      <td>8.007361</td>\n",
       "      <td>6.363593</td>\n",
       "      <td>0.000000</td>\n",
       "      <td>0.000000</td>\n",
       "      <td>0.000000</td>\n",
       "      <td>0.000000</td>\n",
       "    </tr>\n",
       "    <tr>\n",
       "      <th>50%</th>\n",
       "      <td>7.233500e+03</td>\n",
       "      <td>6.000000</td>\n",
       "      <td>0.000000</td>\n",
       "      <td>0.000000</td>\n",
       "      <td>1.000000</td>\n",
       "      <td>4.000000</td>\n",
       "      <td>112.500000</td>\n",
       "      <td>17.500000</td>\n",
       "      <td>94.000000</td>\n",
       "      <td>2.000000</td>\n",
       "      <td>0.000000</td>\n",
       "      <td>5.232568e+07</td>\n",
       "      <td>8.886458</td>\n",
       "      <td>10.606576</td>\n",
       "      <td>0.000000</td>\n",
       "      <td>1.000000</td>\n",
       "      <td>0.000000</td>\n",
       "      <td>0.000000</td>\n",
       "    </tr>\n",
       "    <tr>\n",
       "      <th>75%</th>\n",
       "      <td>1.842750e+04</td>\n",
       "      <td>22.000000</td>\n",
       "      <td>0.000000</td>\n",
       "      <td>2.000000</td>\n",
       "      <td>5.000000</td>\n",
       "      <td>14.000000</td>\n",
       "      <td>341.000000</td>\n",
       "      <td>51.250000</td>\n",
       "      <td>287.250000</td>\n",
       "      <td>7.000000</td>\n",
       "      <td>1.000000</td>\n",
       "      <td>3.397536e+08</td>\n",
       "      <td>9.821338</td>\n",
       "      <td>18.466185</td>\n",
       "      <td>0.000000</td>\n",
       "      <td>1.000000</td>\n",
       "      <td>0.000000</td>\n",
       "      <td>1.000000</td>\n",
       "    </tr>\n",
       "    <tr>\n",
       "      <th>max</th>\n",
       "      <td>8.396126e+06</td>\n",
       "      <td>52384.000000</td>\n",
       "      <td>335.000000</td>\n",
       "      <td>1112.000000</td>\n",
       "      <td>19170.000000</td>\n",
       "      <td>31767.000000</td>\n",
       "      <td>141971.000000</td>\n",
       "      <td>16606.000000</td>\n",
       "      <td>117931.000000</td>\n",
       "      <td>7434.000000</td>\n",
       "      <td>132.000000</td>\n",
       "      <td>7.049493e+13</td>\n",
       "      <td>15.943281</td>\n",
       "      <td>376.790393</td>\n",
       "      <td>1.000000</td>\n",
       "      <td>1.000000</td>\n",
       "      <td>1.000000</td>\n",
       "      <td>1.000000</td>\n",
       "    </tr>\n",
       "  </tbody>\n",
       "</table>\n",
       "</div>"
      ],
      "text/plain": [
       "         population  violent_crime      murder  rape_legacy_def       robbery  \\\n",
       "count  3.480000e+02     348.000000  348.000000       348.000000    348.000000   \n",
       "mean   4.003763e+04     201.594828    1.566092         5.864943     72.902299   \n",
       "std    4.500374e+05    2815.268504   18.303673        60.425452   1031.032873   \n",
       "min    5.260000e+02       0.000000    0.000000         0.000000      0.000000   \n",
       "25%    3.003000e+03       2.000000    0.000000         0.000000      0.000000   \n",
       "50%    7.233500e+03       6.000000    0.000000         0.000000      1.000000   \n",
       "75%    1.842750e+04      22.000000    0.000000         2.000000      5.000000   \n",
       "max    8.396126e+06   52384.000000  335.000000      1112.000000  19170.000000   \n",
       "\n",
       "       aggravated_assault  property_crime      burglary  larceny_theft  \\\n",
       "count          348.000000      348.000000    348.000000     348.000000   \n",
       "mean           121.261494      792.606322    119.683908     637.017241   \n",
       "std           1706.131730     7659.724746    924.948789    6346.054451   \n",
       "min              0.000000        0.000000      0.000000       0.000000   \n",
       "25%              1.000000       40.500000      6.000000      31.000000   \n",
       "50%              4.000000      112.500000     17.500000      94.000000   \n",
       "75%             14.000000      341.000000     51.250000     287.250000   \n",
       "max          31767.000000   141971.000000  16606.000000  117931.000000   \n",
       "\n",
       "       motor_vehicle_theft       arson        pop_sq     pop_log  \\\n",
       "count           348.000000  187.000000  3.480000e+02  348.000000   \n",
       "mean             35.905172    1.871658  2.035547e+11    8.956080   \n",
       "std             403.423826   10.693411  3.778876e+12    1.245456   \n",
       "min               0.000000    0.000000  2.766760e+05    6.265301   \n",
       "25%               0.000000    0.000000  9.018117e+06    8.007361   \n",
       "50%               2.000000    0.000000  5.232568e+07    8.886458   \n",
       "75%               7.000000    1.000000  3.397536e+08    9.821338   \n",
       "max            7434.000000  132.000000  7.049493e+13   15.943281   \n",
       "\n",
       "       pty_crime_sqrt  murder_ind  robbery_ind  outlier_flag  low_outlier  \n",
       "count      348.000000  348.000000   348.000000    348.000000   348.000000  \n",
       "mean        15.502254    0.140805     0.600575      0.008621     0.382184  \n",
       "std         23.534614    0.348321     0.490486      0.092580     0.486621  \n",
       "min          0.000000    0.000000     0.000000      0.000000     0.000000  \n",
       "25%          6.363593    0.000000     0.000000      0.000000     0.000000  \n",
       "50%         10.606576    0.000000     1.000000      0.000000     0.000000  \n",
       "75%         18.466185    0.000000     1.000000      0.000000     1.000000  \n",
       "max        376.790393    1.000000     1.000000      1.000000     1.000000  "
      ]
     },
     "execution_count": 211,
     "metadata": {},
     "output_type": "execute_result"
    }
   ],
   "source": [
    "df.describe()"
   ]
  },
  {
   "cell_type": "code",
   "execution_count": 212,
   "metadata": {},
   "outputs": [],
   "source": [
    "df['qrtl_1']=np.where(df['population']<3004, 1, 0)\n",
    "df['qrtl_2']=np.where((df['population']>3003) & (df['population']<7234), 1, 0)\n",
    "df['qrtl_3']=np.where((df['population']>7233) & (df['population']<184270), 1, 0)\n",
    "df['qrtl_4']=np.where(df['population']>184271, 1, 0)"
   ]
  },
  {
   "cell_type": "code",
   "execution_count": 257,
   "metadata": {},
   "outputs": [],
   "source": [
    "#compute per capita measures for each variable in use\n",
    "df['pty_crime_pc']=df['property_crime']/df['population']\n",
    "df['murder_pc']=df['murder']/df['population']\n",
    "df['robbery_pc']=df['robbery']/df['population']\n",
    "df['violent_pc']=df['violent_crime']/df['population']"
   ]
  },
  {
   "cell_type": "code",
   "execution_count": 262,
   "metadata": {},
   "outputs": [],
   "source": [
    "def set_ind(var,new_val):\n",
    "    df[new_val]=np.where(df[var]>=0, 1, 0)\n",
    "    return df\n",
    "df = set_ind('murder_pc', 'murder_pc_ind')\n",
    "df = set_ind('robbery_pc', 'robbery_pc_ind')\n",
    "df = set_ind('violent_pc', 'violent_pc_ind')"
   ]
  },
  {
   "cell_type": "code",
   "execution_count": 272,
   "metadata": {},
   "outputs": [
    {
     "data": {
      "text/html": [
       "<div>\n",
       "<style scoped>\n",
       "    .dataframe tbody tr th:only-of-type {\n",
       "        vertical-align: middle;\n",
       "    }\n",
       "\n",
       "    .dataframe tbody tr th {\n",
       "        vertical-align: top;\n",
       "    }\n",
       "\n",
       "    .dataframe thead th {\n",
       "        text-align: right;\n",
       "    }\n",
       "</style>\n",
       "<table border=\"1\" class=\"dataframe\">\n",
       "  <thead>\n",
       "    <tr style=\"text-align: right;\">\n",
       "      <th></th>\n",
       "      <th>population</th>\n",
       "      <th>violent_crime</th>\n",
       "      <th>murder</th>\n",
       "      <th>rape_legacy_def</th>\n",
       "      <th>robbery</th>\n",
       "      <th>aggravated_assault</th>\n",
       "      <th>property_crime</th>\n",
       "      <th>burglary</th>\n",
       "      <th>larceny_theft</th>\n",
       "      <th>motor_vehicle_theft</th>\n",
       "      <th>...</th>\n",
       "      <th>qrtl_2</th>\n",
       "      <th>qrtl_3</th>\n",
       "      <th>qrtl_4</th>\n",
       "      <th>pty_crime_pc</th>\n",
       "      <th>murder_pc</th>\n",
       "      <th>robbery_pc</th>\n",
       "      <th>violent_pc</th>\n",
       "      <th>murder_pc_ind</th>\n",
       "      <th>robbery_pc_ind</th>\n",
       "      <th>violent_pc_ind</th>\n",
       "    </tr>\n",
       "  </thead>\n",
       "  <tbody>\n",
       "    <tr>\n",
       "      <th>population</th>\n",
       "      <td>1.000000</td>\n",
       "      <td>0.998854</td>\n",
       "      <td>0.986758</td>\n",
       "      <td>0.990839</td>\n",
       "      <td>0.998469</td>\n",
       "      <td>0.999134</td>\n",
       "      <td>0.996265</td>\n",
       "      <td>0.970578</td>\n",
       "      <td>0.997946</td>\n",
       "      <td>0.992421</td>\n",
       "      <td>...</td>\n",
       "      <td>-0.045165</td>\n",
       "      <td>-0.032320</td>\n",
       "      <td>0.534164</td>\n",
       "      <td>0.001928</td>\n",
       "      <td>0.071966</td>\n",
       "      <td>0.179951</td>\n",
       "      <td>0.150650</td>\n",
       "      <td>NaN</td>\n",
       "      <td>NaN</td>\n",
       "      <td>NaN</td>\n",
       "    </tr>\n",
       "    <tr>\n",
       "      <th>violent_crime</th>\n",
       "      <td>0.998854</td>\n",
       "      <td>1.000000</td>\n",
       "      <td>0.992098</td>\n",
       "      <td>0.994985</td>\n",
       "      <td>0.999923</td>\n",
       "      <td>0.999942</td>\n",
       "      <td>0.998059</td>\n",
       "      <td>0.978150</td>\n",
       "      <td>0.998762</td>\n",
       "      <td>0.996271</td>\n",
       "      <td>...</td>\n",
       "      <td>-0.040047</td>\n",
       "      <td>-0.048290</td>\n",
       "      <td>0.555900</td>\n",
       "      <td>0.011203</td>\n",
       "      <td>0.090707</td>\n",
       "      <td>0.203405</td>\n",
       "      <td>0.173627</td>\n",
       "      <td>NaN</td>\n",
       "      <td>NaN</td>\n",
       "      <td>NaN</td>\n",
       "    </tr>\n",
       "    <tr>\n",
       "      <th>murder</th>\n",
       "      <td>0.986758</td>\n",
       "      <td>0.992098</td>\n",
       "      <td>1.000000</td>\n",
       "      <td>0.997746</td>\n",
       "      <td>0.993104</td>\n",
       "      <td>0.990843</td>\n",
       "      <td>0.995403</td>\n",
       "      <td>0.993733</td>\n",
       "      <td>0.993175</td>\n",
       "      <td>0.997992</td>\n",
       "      <td>...</td>\n",
       "      <td>-0.048381</td>\n",
       "      <td>-0.048511</td>\n",
       "      <td>0.624989</td>\n",
       "      <td>0.033494</td>\n",
       "      <td>0.168857</td>\n",
       "      <td>0.272932</td>\n",
       "      <td>0.229579</td>\n",
       "      <td>NaN</td>\n",
       "      <td>NaN</td>\n",
       "      <td>NaN</td>\n",
       "    </tr>\n",
       "    <tr>\n",
       "      <th>rape_legacy_def</th>\n",
       "      <td>0.990839</td>\n",
       "      <td>0.994985</td>\n",
       "      <td>0.997746</td>\n",
       "      <td>1.000000</td>\n",
       "      <td>0.995438</td>\n",
       "      <td>0.994140</td>\n",
       "      <td>0.997843</td>\n",
       "      <td>0.992442</td>\n",
       "      <td>0.996260</td>\n",
       "      <td>0.998764</td>\n",
       "      <td>...</td>\n",
       "      <td>-0.050510</td>\n",
       "      <td>-0.036779</td>\n",
       "      <td>0.603397</td>\n",
       "      <td>0.042108</td>\n",
       "      <td>0.142150</td>\n",
       "      <td>0.261975</td>\n",
       "      <td>0.228772</td>\n",
       "      <td>NaN</td>\n",
       "      <td>NaN</td>\n",
       "      <td>NaN</td>\n",
       "    </tr>\n",
       "    <tr>\n",
       "      <th>robbery</th>\n",
       "      <td>0.998469</td>\n",
       "      <td>0.999923</td>\n",
       "      <td>0.993104</td>\n",
       "      <td>0.995438</td>\n",
       "      <td>1.000000</td>\n",
       "      <td>0.999742</td>\n",
       "      <td>0.998237</td>\n",
       "      <td>0.979525</td>\n",
       "      <td>0.998735</td>\n",
       "      <td>0.996927</td>\n",
       "      <td>...</td>\n",
       "      <td>-0.040218</td>\n",
       "      <td>-0.049942</td>\n",
       "      <td>0.563185</td>\n",
       "      <td>0.011034</td>\n",
       "      <td>0.093640</td>\n",
       "      <td>0.207383</td>\n",
       "      <td>0.174946</td>\n",
       "      <td>NaN</td>\n",
       "      <td>NaN</td>\n",
       "      <td>NaN</td>\n",
       "    </tr>\n",
       "    <tr>\n",
       "      <th>aggravated_assault</th>\n",
       "      <td>0.999134</td>\n",
       "      <td>0.999942</td>\n",
       "      <td>0.990843</td>\n",
       "      <td>0.994140</td>\n",
       "      <td>0.999742</td>\n",
       "      <td>1.000000</td>\n",
       "      <td>0.997622</td>\n",
       "      <td>0.976288</td>\n",
       "      <td>0.998561</td>\n",
       "      <td>0.995403</td>\n",
       "      <td>...</td>\n",
       "      <td>-0.039469</td>\n",
       "      <td>-0.047680</td>\n",
       "      <td>0.548870</td>\n",
       "      <td>0.009967</td>\n",
       "      <td>0.086241</td>\n",
       "      <td>0.198107</td>\n",
       "      <td>0.170213</td>\n",
       "      <td>NaN</td>\n",
       "      <td>NaN</td>\n",
       "      <td>NaN</td>\n",
       "    </tr>\n",
       "    <tr>\n",
       "      <th>property_crime</th>\n",
       "      <td>0.996265</td>\n",
       "      <td>0.998059</td>\n",
       "      <td>0.995403</td>\n",
       "      <td>0.997843</td>\n",
       "      <td>0.998237</td>\n",
       "      <td>0.997622</td>\n",
       "      <td>1.000000</td>\n",
       "      <td>0.987137</td>\n",
       "      <td>0.999666</td>\n",
       "      <td>0.998302</td>\n",
       "      <td>...</td>\n",
       "      <td>-0.052452</td>\n",
       "      <td>-0.027798</td>\n",
       "      <td>0.577005</td>\n",
       "      <td>0.036642</td>\n",
       "      <td>0.115395</td>\n",
       "      <td>0.235383</td>\n",
       "      <td>0.200196</td>\n",
       "      <td>NaN</td>\n",
       "      <td>NaN</td>\n",
       "      <td>NaN</td>\n",
       "    </tr>\n",
       "    <tr>\n",
       "      <th>burglary</th>\n",
       "      <td>0.970578</td>\n",
       "      <td>0.978150</td>\n",
       "      <td>0.993733</td>\n",
       "      <td>0.992442</td>\n",
       "      <td>0.979525</td>\n",
       "      <td>0.976288</td>\n",
       "      <td>0.987137</td>\n",
       "      <td>1.000000</td>\n",
       "      <td>0.982700</td>\n",
       "      <td>0.991464</td>\n",
       "      <td>...</td>\n",
       "      <td>-0.064295</td>\n",
       "      <td>-0.023118</td>\n",
       "      <td>0.660873</td>\n",
       "      <td>0.075446</td>\n",
       "      <td>0.196761</td>\n",
       "      <td>0.336518</td>\n",
       "      <td>0.287207</td>\n",
       "      <td>NaN</td>\n",
       "      <td>NaN</td>\n",
       "      <td>NaN</td>\n",
       "    </tr>\n",
       "    <tr>\n",
       "      <th>larceny_theft</th>\n",
       "      <td>0.997946</td>\n",
       "      <td>0.998762</td>\n",
       "      <td>0.993175</td>\n",
       "      <td>0.996260</td>\n",
       "      <td>0.998735</td>\n",
       "      <td>0.998561</td>\n",
       "      <td>0.999666</td>\n",
       "      <td>0.982700</td>\n",
       "      <td>1.000000</td>\n",
       "      <td>0.996878</td>\n",
       "      <td>...</td>\n",
       "      <td>-0.050835</td>\n",
       "      <td>-0.027396</td>\n",
       "      <td>0.561444</td>\n",
       "      <td>0.031368</td>\n",
       "      <td>0.102339</td>\n",
       "      <td>0.218963</td>\n",
       "      <td>0.186257</td>\n",
       "      <td>NaN</td>\n",
       "      <td>NaN</td>\n",
       "      <td>NaN</td>\n",
       "    </tr>\n",
       "    <tr>\n",
       "      <th>motor_vehicle_theft</th>\n",
       "      <td>0.992421</td>\n",
       "      <td>0.996271</td>\n",
       "      <td>0.997992</td>\n",
       "      <td>0.998764</td>\n",
       "      <td>0.996927</td>\n",
       "      <td>0.995403</td>\n",
       "      <td>0.998302</td>\n",
       "      <td>0.991464</td>\n",
       "      <td>0.996878</td>\n",
       "      <td>1.000000</td>\n",
       "      <td>...</td>\n",
       "      <td>-0.048823</td>\n",
       "      <td>-0.043836</td>\n",
       "      <td>0.608459</td>\n",
       "      <td>0.029295</td>\n",
       "      <td>0.130010</td>\n",
       "      <td>0.253234</td>\n",
       "      <td>0.212673</td>\n",
       "      <td>NaN</td>\n",
       "      <td>NaN</td>\n",
       "      <td>NaN</td>\n",
       "    </tr>\n",
       "    <tr>\n",
       "      <th>arson</th>\n",
       "      <td>0.701761</td>\n",
       "      <td>0.917793</td>\n",
       "      <td>0.963200</td>\n",
       "      <td>0.926301</td>\n",
       "      <td>0.931607</td>\n",
       "      <td>0.888278</td>\n",
       "      <td>0.920765</td>\n",
       "      <td>0.952121</td>\n",
       "      <td>0.893610</td>\n",
       "      <td>0.935194</td>\n",
       "      <td>...</td>\n",
       "      <td>-0.074245</td>\n",
       "      <td>0.038086</td>\n",
       "      <td>0.673959</td>\n",
       "      <td>0.313542</td>\n",
       "      <td>0.614784</td>\n",
       "      <td>0.605398</td>\n",
       "      <td>0.512455</td>\n",
       "      <td>NaN</td>\n",
       "      <td>NaN</td>\n",
       "      <td>NaN</td>\n",
       "    </tr>\n",
       "    <tr>\n",
       "      <th>pop_sq</th>\n",
       "      <td>0.998264</td>\n",
       "      <td>0.996575</td>\n",
       "      <td>0.979574</td>\n",
       "      <td>0.984331</td>\n",
       "      <td>0.995876</td>\n",
       "      <td>0.997248</td>\n",
       "      <td>0.991027</td>\n",
       "      <td>0.958563</td>\n",
       "      <td>0.993778</td>\n",
       "      <td>0.986077</td>\n",
       "      <td>...</td>\n",
       "      <td>-0.031141</td>\n",
       "      <td>-0.052431</td>\n",
       "      <td>0.498891</td>\n",
       "      <td>-0.009258</td>\n",
       "      <td>0.045140</td>\n",
       "      <td>0.143888</td>\n",
       "      <td>0.122574</td>\n",
       "      <td>NaN</td>\n",
       "      <td>NaN</td>\n",
       "      <td>NaN</td>\n",
       "    </tr>\n",
       "    <tr>\n",
       "      <th>pop_log</th>\n",
       "      <td>0.343233</td>\n",
       "      <td>0.333983</td>\n",
       "      <td>0.363573</td>\n",
       "      <td>0.368530</td>\n",
       "      <td>0.334905</td>\n",
       "      <td>0.331762</td>\n",
       "      <td>0.369574</td>\n",
       "      <td>0.411333</td>\n",
       "      <td>0.363017</td>\n",
       "      <td>0.363503</td>\n",
       "      <td>...</td>\n",
       "      <td>-0.231159</td>\n",
       "      <td>0.718071</td>\n",
       "      <td>0.369409</td>\n",
       "      <td>0.179407</td>\n",
       "      <td>0.352736</td>\n",
       "      <td>0.497069</td>\n",
       "      <td>0.379444</td>\n",
       "      <td>NaN</td>\n",
       "      <td>NaN</td>\n",
       "      <td>NaN</td>\n",
       "    </tr>\n",
       "    <tr>\n",
       "      <th>pty_crime_sqrt</th>\n",
       "      <td>0.853848</td>\n",
       "      <td>0.858028</td>\n",
       "      <td>0.886692</td>\n",
       "      <td>0.889128</td>\n",
       "      <td>0.859411</td>\n",
       "      <td>0.855468</td>\n",
       "      <td>0.885133</td>\n",
       "      <td>0.919716</td>\n",
       "      <td>0.878107</td>\n",
       "      <td>0.884107</td>\n",
       "      <td>...</td>\n",
       "      <td>-0.154822</td>\n",
       "      <td>0.220552</td>\n",
       "      <td>0.660123</td>\n",
       "      <td>0.276310</td>\n",
       "      <td>0.324652</td>\n",
       "      <td>0.524115</td>\n",
       "      <td>0.457084</td>\n",
       "      <td>NaN</td>\n",
       "      <td>NaN</td>\n",
       "      <td>NaN</td>\n",
       "    </tr>\n",
       "    <tr>\n",
       "      <th>murder_ind</th>\n",
       "      <td>0.162309</td>\n",
       "      <td>0.165904</td>\n",
       "      <td>0.211661</td>\n",
       "      <td>0.201359</td>\n",
       "      <td>0.166483</td>\n",
       "      <td>0.163747</td>\n",
       "      <td>0.190670</td>\n",
       "      <td>0.240979</td>\n",
       "      <td>0.182823</td>\n",
       "      <td>0.191807</td>\n",
       "      <td>...</td>\n",
       "      <td>-0.176485</td>\n",
       "      <td>0.298543</td>\n",
       "      <td>0.266372</td>\n",
       "      <td>0.197976</td>\n",
       "      <td>0.782663</td>\n",
       "      <td>0.539077</td>\n",
       "      <td>0.493455</td>\n",
       "      <td>NaN</td>\n",
       "      <td>NaN</td>\n",
       "      <td>NaN</td>\n",
       "    </tr>\n",
       "    <tr>\n",
       "      <th>robbery_ind</th>\n",
       "      <td>0.064371</td>\n",
       "      <td>0.057714</td>\n",
       "      <td>0.069557</td>\n",
       "      <td>0.076546</td>\n",
       "      <td>0.057747</td>\n",
       "      <td>0.056878</td>\n",
       "      <td>0.079318</td>\n",
       "      <td>0.098352</td>\n",
       "      <td>0.076913</td>\n",
       "      <td>0.070604</td>\n",
       "      <td>...</td>\n",
       "      <td>-0.125332</td>\n",
       "      <td>0.527027</td>\n",
       "      <td>0.087940</td>\n",
       "      <td>0.431294</td>\n",
       "      <td>0.244457</td>\n",
       "      <td>0.429749</td>\n",
       "      <td>0.335533</td>\n",
       "      <td>NaN</td>\n",
       "      <td>NaN</td>\n",
       "      <td>NaN</td>\n",
       "    </tr>\n",
       "    <tr>\n",
       "      <th>outlier_flag</th>\n",
       "      <td>0.604901</td>\n",
       "      <td>0.631741</td>\n",
       "      <td>0.713088</td>\n",
       "      <td>0.685875</td>\n",
       "      <td>0.639793</td>\n",
       "      <td>0.623853</td>\n",
       "      <td>0.658899</td>\n",
       "      <td>0.750214</td>\n",
       "      <td>0.642332</td>\n",
       "      <td>0.686130</td>\n",
       "      <td>...</td>\n",
       "      <td>-0.053838</td>\n",
       "      <td>-0.091131</td>\n",
       "      <td>0.864769</td>\n",
       "      <td>0.116135</td>\n",
       "      <td>0.346675</td>\n",
       "      <td>0.461760</td>\n",
       "      <td>0.363251</td>\n",
       "      <td>NaN</td>\n",
       "      <td>NaN</td>\n",
       "      <td>NaN</td>\n",
       "    </tr>\n",
       "    <tr>\n",
       "      <th>low_outlier</th>\n",
       "      <td>-0.065605</td>\n",
       "      <td>-0.055554</td>\n",
       "      <td>-0.067392</td>\n",
       "      <td>-0.073117</td>\n",
       "      <td>-0.055389</td>\n",
       "      <td>-0.054884</td>\n",
       "      <td>-0.076402</td>\n",
       "      <td>-0.095060</td>\n",
       "      <td>-0.074040</td>\n",
       "      <td>-0.068002</td>\n",
       "      <td>...</td>\n",
       "      <td>0.174126</td>\n",
       "      <td>-0.768637</td>\n",
       "      <td>-0.084812</td>\n",
       "      <td>-0.089550</td>\n",
       "      <td>-0.249198</td>\n",
       "      <td>-0.267253</td>\n",
       "      <td>-0.179948</td>\n",
       "      <td>NaN</td>\n",
       "      <td>NaN</td>\n",
       "      <td>NaN</td>\n",
       "    </tr>\n",
       "    <tr>\n",
       "      <th>qrtl_1</th>\n",
       "      <td>-0.049018</td>\n",
       "      <td>-0.041051</td>\n",
       "      <td>-0.049470</td>\n",
       "      <td>-0.055569</td>\n",
       "      <td>-0.040766</td>\n",
       "      <td>-0.040603</td>\n",
       "      <td>-0.057497</td>\n",
       "      <td>-0.071703</td>\n",
       "      <td>-0.055748</td>\n",
       "      <td>-0.050355</td>\n",
       "      <td>...</td>\n",
       "      <td>-0.333333</td>\n",
       "      <td>-0.564227</td>\n",
       "      <td>-0.062257</td>\n",
       "      <td>-0.154412</td>\n",
       "      <td>-0.182927</td>\n",
       "      <td>-0.222905</td>\n",
       "      <td>-0.186306</td>\n",
       "      <td>NaN</td>\n",
       "      <td>NaN</td>\n",
       "      <td>NaN</td>\n",
       "    </tr>\n",
       "    <tr>\n",
       "      <th>qrtl_2</th>\n",
       "      <td>-0.045165</td>\n",
       "      <td>-0.040047</td>\n",
       "      <td>-0.048381</td>\n",
       "      <td>-0.050510</td>\n",
       "      <td>-0.040218</td>\n",
       "      <td>-0.039469</td>\n",
       "      <td>-0.052452</td>\n",
       "      <td>-0.064295</td>\n",
       "      <td>-0.050835</td>\n",
       "      <td>-0.048823</td>\n",
       "      <td>...</td>\n",
       "      <td>1.000000</td>\n",
       "      <td>-0.564227</td>\n",
       "      <td>-0.062257</td>\n",
       "      <td>0.036681</td>\n",
       "      <td>-0.090760</td>\n",
       "      <td>-0.117980</td>\n",
       "      <td>-0.049673</td>\n",
       "      <td>NaN</td>\n",
       "      <td>NaN</td>\n",
       "      <td>NaN</td>\n",
       "    </tr>\n",
       "    <tr>\n",
       "      <th>qrtl_3</th>\n",
       "      <td>-0.032320</td>\n",
       "      <td>-0.048290</td>\n",
       "      <td>-0.048511</td>\n",
       "      <td>-0.036779</td>\n",
       "      <td>-0.049942</td>\n",
       "      <td>-0.047680</td>\n",
       "      <td>-0.027798</td>\n",
       "      <td>-0.023118</td>\n",
       "      <td>-0.027396</td>\n",
       "      <td>-0.043836</td>\n",
       "      <td>...</td>\n",
       "      <td>-0.564227</td>\n",
       "      <td>1.000000</td>\n",
       "      <td>-0.105382</td>\n",
       "      <td>0.083499</td>\n",
       "      <td>0.169809</td>\n",
       "      <td>0.197176</td>\n",
       "      <td>0.127052</td>\n",
       "      <td>NaN</td>\n",
       "      <td>NaN</td>\n",
       "      <td>NaN</td>\n",
       "    </tr>\n",
       "    <tr>\n",
       "      <th>qrtl_4</th>\n",
       "      <td>0.534164</td>\n",
       "      <td>0.555900</td>\n",
       "      <td>0.624989</td>\n",
       "      <td>0.603397</td>\n",
       "      <td>0.563185</td>\n",
       "      <td>0.548870</td>\n",
       "      <td>0.577005</td>\n",
       "      <td>0.660873</td>\n",
       "      <td>0.561444</td>\n",
       "      <td>0.608459</td>\n",
       "      <td>...</td>\n",
       "      <td>-0.062257</td>\n",
       "      <td>-0.105382</td>\n",
       "      <td>1.000000</td>\n",
       "      <td>0.086688</td>\n",
       "      <td>0.315477</td>\n",
       "      <td>0.460117</td>\n",
       "      <td>0.362805</td>\n",
       "      <td>NaN</td>\n",
       "      <td>NaN</td>\n",
       "      <td>NaN</td>\n",
       "    </tr>\n",
       "    <tr>\n",
       "      <th>pty_crime_pc</th>\n",
       "      <td>0.001928</td>\n",
       "      <td>0.011203</td>\n",
       "      <td>0.033494</td>\n",
       "      <td>0.042108</td>\n",
       "      <td>0.011034</td>\n",
       "      <td>0.009967</td>\n",
       "      <td>0.036642</td>\n",
       "      <td>0.075446</td>\n",
       "      <td>0.031368</td>\n",
       "      <td>0.029295</td>\n",
       "      <td>...</td>\n",
       "      <td>0.036681</td>\n",
       "      <td>0.083499</td>\n",
       "      <td>0.086688</td>\n",
       "      <td>1.000000</td>\n",
       "      <td>0.209125</td>\n",
       "      <td>0.419695</td>\n",
       "      <td>0.531994</td>\n",
       "      <td>NaN</td>\n",
       "      <td>NaN</td>\n",
       "      <td>NaN</td>\n",
       "    </tr>\n",
       "    <tr>\n",
       "      <th>murder_pc</th>\n",
       "      <td>0.071966</td>\n",
       "      <td>0.090707</td>\n",
       "      <td>0.168857</td>\n",
       "      <td>0.142150</td>\n",
       "      <td>0.093640</td>\n",
       "      <td>0.086241</td>\n",
       "      <td>0.115395</td>\n",
       "      <td>0.196761</td>\n",
       "      <td>0.102339</td>\n",
       "      <td>0.130010</td>\n",
       "      <td>...</td>\n",
       "      <td>-0.090760</td>\n",
       "      <td>0.169809</td>\n",
       "      <td>0.315477</td>\n",
       "      <td>0.209125</td>\n",
       "      <td>1.000000</td>\n",
       "      <td>0.639665</td>\n",
       "      <td>0.598396</td>\n",
       "      <td>NaN</td>\n",
       "      <td>NaN</td>\n",
       "      <td>NaN</td>\n",
       "    </tr>\n",
       "    <tr>\n",
       "      <th>robbery_pc</th>\n",
       "      <td>0.179951</td>\n",
       "      <td>0.203405</td>\n",
       "      <td>0.272932</td>\n",
       "      <td>0.261975</td>\n",
       "      <td>0.207383</td>\n",
       "      <td>0.198107</td>\n",
       "      <td>0.235383</td>\n",
       "      <td>0.336518</td>\n",
       "      <td>0.218963</td>\n",
       "      <td>0.253234</td>\n",
       "      <td>...</td>\n",
       "      <td>-0.117980</td>\n",
       "      <td>0.197176</td>\n",
       "      <td>0.460117</td>\n",
       "      <td>0.419695</td>\n",
       "      <td>0.639665</td>\n",
       "      <td>1.000000</td>\n",
       "      <td>0.862699</td>\n",
       "      <td>NaN</td>\n",
       "      <td>NaN</td>\n",
       "      <td>NaN</td>\n",
       "    </tr>\n",
       "    <tr>\n",
       "      <th>violent_pc</th>\n",
       "      <td>0.150650</td>\n",
       "      <td>0.173627</td>\n",
       "      <td>0.229579</td>\n",
       "      <td>0.228772</td>\n",
       "      <td>0.174946</td>\n",
       "      <td>0.170213</td>\n",
       "      <td>0.200196</td>\n",
       "      <td>0.287207</td>\n",
       "      <td>0.186257</td>\n",
       "      <td>0.212673</td>\n",
       "      <td>...</td>\n",
       "      <td>-0.049673</td>\n",
       "      <td>0.127052</td>\n",
       "      <td>0.362805</td>\n",
       "      <td>0.531994</td>\n",
       "      <td>0.598396</td>\n",
       "      <td>0.862699</td>\n",
       "      <td>1.000000</td>\n",
       "      <td>NaN</td>\n",
       "      <td>NaN</td>\n",
       "      <td>NaN</td>\n",
       "    </tr>\n",
       "    <tr>\n",
       "      <th>murder_pc_ind</th>\n",
       "      <td>NaN</td>\n",
       "      <td>NaN</td>\n",
       "      <td>NaN</td>\n",
       "      <td>NaN</td>\n",
       "      <td>NaN</td>\n",
       "      <td>NaN</td>\n",
       "      <td>NaN</td>\n",
       "      <td>NaN</td>\n",
       "      <td>NaN</td>\n",
       "      <td>NaN</td>\n",
       "      <td>...</td>\n",
       "      <td>NaN</td>\n",
       "      <td>NaN</td>\n",
       "      <td>NaN</td>\n",
       "      <td>NaN</td>\n",
       "      <td>NaN</td>\n",
       "      <td>NaN</td>\n",
       "      <td>NaN</td>\n",
       "      <td>NaN</td>\n",
       "      <td>NaN</td>\n",
       "      <td>NaN</td>\n",
       "    </tr>\n",
       "    <tr>\n",
       "      <th>robbery_pc_ind</th>\n",
       "      <td>NaN</td>\n",
       "      <td>NaN</td>\n",
       "      <td>NaN</td>\n",
       "      <td>NaN</td>\n",
       "      <td>NaN</td>\n",
       "      <td>NaN</td>\n",
       "      <td>NaN</td>\n",
       "      <td>NaN</td>\n",
       "      <td>NaN</td>\n",
       "      <td>NaN</td>\n",
       "      <td>...</td>\n",
       "      <td>NaN</td>\n",
       "      <td>NaN</td>\n",
       "      <td>NaN</td>\n",
       "      <td>NaN</td>\n",
       "      <td>NaN</td>\n",
       "      <td>NaN</td>\n",
       "      <td>NaN</td>\n",
       "      <td>NaN</td>\n",
       "      <td>NaN</td>\n",
       "      <td>NaN</td>\n",
       "    </tr>\n",
       "    <tr>\n",
       "      <th>violent_pc_ind</th>\n",
       "      <td>NaN</td>\n",
       "      <td>NaN</td>\n",
       "      <td>NaN</td>\n",
       "      <td>NaN</td>\n",
       "      <td>NaN</td>\n",
       "      <td>NaN</td>\n",
       "      <td>NaN</td>\n",
       "      <td>NaN</td>\n",
       "      <td>NaN</td>\n",
       "      <td>NaN</td>\n",
       "      <td>...</td>\n",
       "      <td>NaN</td>\n",
       "      <td>NaN</td>\n",
       "      <td>NaN</td>\n",
       "      <td>NaN</td>\n",
       "      <td>NaN</td>\n",
       "      <td>NaN</td>\n",
       "      <td>NaN</td>\n",
       "      <td>NaN</td>\n",
       "      <td>NaN</td>\n",
       "      <td>NaN</td>\n",
       "    </tr>\n",
       "  </tbody>\n",
       "</table>\n",
       "<p>29 rows × 29 columns</p>\n",
       "</div>"
      ],
      "text/plain": [
       "                     population  violent_crime    murder  rape_legacy_def  \\\n",
       "population             1.000000       0.998854  0.986758         0.990839   \n",
       "violent_crime          0.998854       1.000000  0.992098         0.994985   \n",
       "murder                 0.986758       0.992098  1.000000         0.997746   \n",
       "rape_legacy_def        0.990839       0.994985  0.997746         1.000000   \n",
       "robbery                0.998469       0.999923  0.993104         0.995438   \n",
       "aggravated_assault     0.999134       0.999942  0.990843         0.994140   \n",
       "property_crime         0.996265       0.998059  0.995403         0.997843   \n",
       "burglary               0.970578       0.978150  0.993733         0.992442   \n",
       "larceny_theft          0.997946       0.998762  0.993175         0.996260   \n",
       "motor_vehicle_theft    0.992421       0.996271  0.997992         0.998764   \n",
       "arson                  0.701761       0.917793  0.963200         0.926301   \n",
       "pop_sq                 0.998264       0.996575  0.979574         0.984331   \n",
       "pop_log                0.343233       0.333983  0.363573         0.368530   \n",
       "pty_crime_sqrt         0.853848       0.858028  0.886692         0.889128   \n",
       "murder_ind             0.162309       0.165904  0.211661         0.201359   \n",
       "robbery_ind            0.064371       0.057714  0.069557         0.076546   \n",
       "outlier_flag           0.604901       0.631741  0.713088         0.685875   \n",
       "low_outlier           -0.065605      -0.055554 -0.067392        -0.073117   \n",
       "qrtl_1                -0.049018      -0.041051 -0.049470        -0.055569   \n",
       "qrtl_2                -0.045165      -0.040047 -0.048381        -0.050510   \n",
       "qrtl_3                -0.032320      -0.048290 -0.048511        -0.036779   \n",
       "qrtl_4                 0.534164       0.555900  0.624989         0.603397   \n",
       "pty_crime_pc           0.001928       0.011203  0.033494         0.042108   \n",
       "murder_pc              0.071966       0.090707  0.168857         0.142150   \n",
       "robbery_pc             0.179951       0.203405  0.272932         0.261975   \n",
       "violent_pc             0.150650       0.173627  0.229579         0.228772   \n",
       "murder_pc_ind               NaN            NaN       NaN              NaN   \n",
       "robbery_pc_ind              NaN            NaN       NaN              NaN   \n",
       "violent_pc_ind              NaN            NaN       NaN              NaN   \n",
       "\n",
       "                      robbery  aggravated_assault  property_crime  burglary  \\\n",
       "population           0.998469            0.999134        0.996265  0.970578   \n",
       "violent_crime        0.999923            0.999942        0.998059  0.978150   \n",
       "murder               0.993104            0.990843        0.995403  0.993733   \n",
       "rape_legacy_def      0.995438            0.994140        0.997843  0.992442   \n",
       "robbery              1.000000            0.999742        0.998237  0.979525   \n",
       "aggravated_assault   0.999742            1.000000        0.997622  0.976288   \n",
       "property_crime       0.998237            0.997622        1.000000  0.987137   \n",
       "burglary             0.979525            0.976288        0.987137  1.000000   \n",
       "larceny_theft        0.998735            0.998561        0.999666  0.982700   \n",
       "motor_vehicle_theft  0.996927            0.995403        0.998302  0.991464   \n",
       "arson                0.931607            0.888278        0.920765  0.952121   \n",
       "pop_sq               0.995876            0.997248        0.991027  0.958563   \n",
       "pop_log              0.334905            0.331762        0.369574  0.411333   \n",
       "pty_crime_sqrt       0.859411            0.855468        0.885133  0.919716   \n",
       "murder_ind           0.166483            0.163747        0.190670  0.240979   \n",
       "robbery_ind          0.057747            0.056878        0.079318  0.098352   \n",
       "outlier_flag         0.639793            0.623853        0.658899  0.750214   \n",
       "low_outlier         -0.055389           -0.054884       -0.076402 -0.095060   \n",
       "qrtl_1              -0.040766           -0.040603       -0.057497 -0.071703   \n",
       "qrtl_2              -0.040218           -0.039469       -0.052452 -0.064295   \n",
       "qrtl_3              -0.049942           -0.047680       -0.027798 -0.023118   \n",
       "qrtl_4               0.563185            0.548870        0.577005  0.660873   \n",
       "pty_crime_pc         0.011034            0.009967        0.036642  0.075446   \n",
       "murder_pc            0.093640            0.086241        0.115395  0.196761   \n",
       "robbery_pc           0.207383            0.198107        0.235383  0.336518   \n",
       "violent_pc           0.174946            0.170213        0.200196  0.287207   \n",
       "murder_pc_ind             NaN                 NaN             NaN       NaN   \n",
       "robbery_pc_ind            NaN                 NaN             NaN       NaN   \n",
       "violent_pc_ind            NaN                 NaN             NaN       NaN   \n",
       "\n",
       "                     larceny_theft  motor_vehicle_theft       ...        \\\n",
       "population                0.997946             0.992421       ...         \n",
       "violent_crime             0.998762             0.996271       ...         \n",
       "murder                    0.993175             0.997992       ...         \n",
       "rape_legacy_def           0.996260             0.998764       ...         \n",
       "robbery                   0.998735             0.996927       ...         \n",
       "aggravated_assault        0.998561             0.995403       ...         \n",
       "property_crime            0.999666             0.998302       ...         \n",
       "burglary                  0.982700             0.991464       ...         \n",
       "larceny_theft             1.000000             0.996878       ...         \n",
       "motor_vehicle_theft       0.996878             1.000000       ...         \n",
       "arson                     0.893610             0.935194       ...         \n",
       "pop_sq                    0.993778             0.986077       ...         \n",
       "pop_log                   0.363017             0.363503       ...         \n",
       "pty_crime_sqrt            0.878107             0.884107       ...         \n",
       "murder_ind                0.182823             0.191807       ...         \n",
       "robbery_ind               0.076913             0.070604       ...         \n",
       "outlier_flag              0.642332             0.686130       ...         \n",
       "low_outlier              -0.074040            -0.068002       ...         \n",
       "qrtl_1                   -0.055748            -0.050355       ...         \n",
       "qrtl_2                   -0.050835            -0.048823       ...         \n",
       "qrtl_3                   -0.027396            -0.043836       ...         \n",
       "qrtl_4                    0.561444             0.608459       ...         \n",
       "pty_crime_pc              0.031368             0.029295       ...         \n",
       "murder_pc                 0.102339             0.130010       ...         \n",
       "robbery_pc                0.218963             0.253234       ...         \n",
       "violent_pc                0.186257             0.212673       ...         \n",
       "murder_pc_ind                  NaN                  NaN       ...         \n",
       "robbery_pc_ind                 NaN                  NaN       ...         \n",
       "violent_pc_ind                 NaN                  NaN       ...         \n",
       "\n",
       "                       qrtl_2    qrtl_3    qrtl_4  pty_crime_pc  murder_pc  \\\n",
       "population          -0.045165 -0.032320  0.534164      0.001928   0.071966   \n",
       "violent_crime       -0.040047 -0.048290  0.555900      0.011203   0.090707   \n",
       "murder              -0.048381 -0.048511  0.624989      0.033494   0.168857   \n",
       "rape_legacy_def     -0.050510 -0.036779  0.603397      0.042108   0.142150   \n",
       "robbery             -0.040218 -0.049942  0.563185      0.011034   0.093640   \n",
       "aggravated_assault  -0.039469 -0.047680  0.548870      0.009967   0.086241   \n",
       "property_crime      -0.052452 -0.027798  0.577005      0.036642   0.115395   \n",
       "burglary            -0.064295 -0.023118  0.660873      0.075446   0.196761   \n",
       "larceny_theft       -0.050835 -0.027396  0.561444      0.031368   0.102339   \n",
       "motor_vehicle_theft -0.048823 -0.043836  0.608459      0.029295   0.130010   \n",
       "arson               -0.074245  0.038086  0.673959      0.313542   0.614784   \n",
       "pop_sq              -0.031141 -0.052431  0.498891     -0.009258   0.045140   \n",
       "pop_log             -0.231159  0.718071  0.369409      0.179407   0.352736   \n",
       "pty_crime_sqrt      -0.154822  0.220552  0.660123      0.276310   0.324652   \n",
       "murder_ind          -0.176485  0.298543  0.266372      0.197976   0.782663   \n",
       "robbery_ind         -0.125332  0.527027  0.087940      0.431294   0.244457   \n",
       "outlier_flag        -0.053838 -0.091131  0.864769      0.116135   0.346675   \n",
       "low_outlier          0.174126 -0.768637 -0.084812     -0.089550  -0.249198   \n",
       "qrtl_1              -0.333333 -0.564227 -0.062257     -0.154412  -0.182927   \n",
       "qrtl_2               1.000000 -0.564227 -0.062257      0.036681  -0.090760   \n",
       "qrtl_3              -0.564227  1.000000 -0.105382      0.083499   0.169809   \n",
       "qrtl_4              -0.062257 -0.105382  1.000000      0.086688   0.315477   \n",
       "pty_crime_pc         0.036681  0.083499  0.086688      1.000000   0.209125   \n",
       "murder_pc           -0.090760  0.169809  0.315477      0.209125   1.000000   \n",
       "robbery_pc          -0.117980  0.197176  0.460117      0.419695   0.639665   \n",
       "violent_pc          -0.049673  0.127052  0.362805      0.531994   0.598396   \n",
       "murder_pc_ind             NaN       NaN       NaN           NaN        NaN   \n",
       "robbery_pc_ind            NaN       NaN       NaN           NaN        NaN   \n",
       "violent_pc_ind            NaN       NaN       NaN           NaN        NaN   \n",
       "\n",
       "                     robbery_pc  violent_pc  murder_pc_ind  robbery_pc_ind  \\\n",
       "population             0.179951    0.150650            NaN             NaN   \n",
       "violent_crime          0.203405    0.173627            NaN             NaN   \n",
       "murder                 0.272932    0.229579            NaN             NaN   \n",
       "rape_legacy_def        0.261975    0.228772            NaN             NaN   \n",
       "robbery                0.207383    0.174946            NaN             NaN   \n",
       "aggravated_assault     0.198107    0.170213            NaN             NaN   \n",
       "property_crime         0.235383    0.200196            NaN             NaN   \n",
       "burglary               0.336518    0.287207            NaN             NaN   \n",
       "larceny_theft          0.218963    0.186257            NaN             NaN   \n",
       "motor_vehicle_theft    0.253234    0.212673            NaN             NaN   \n",
       "arson                  0.605398    0.512455            NaN             NaN   \n",
       "pop_sq                 0.143888    0.122574            NaN             NaN   \n",
       "pop_log                0.497069    0.379444            NaN             NaN   \n",
       "pty_crime_sqrt         0.524115    0.457084            NaN             NaN   \n",
       "murder_ind             0.539077    0.493455            NaN             NaN   \n",
       "robbery_ind            0.429749    0.335533            NaN             NaN   \n",
       "outlier_flag           0.461760    0.363251            NaN             NaN   \n",
       "low_outlier           -0.267253   -0.179948            NaN             NaN   \n",
       "qrtl_1                -0.222905   -0.186306            NaN             NaN   \n",
       "qrtl_2                -0.117980   -0.049673            NaN             NaN   \n",
       "qrtl_3                 0.197176    0.127052            NaN             NaN   \n",
       "qrtl_4                 0.460117    0.362805            NaN             NaN   \n",
       "pty_crime_pc           0.419695    0.531994            NaN             NaN   \n",
       "murder_pc              0.639665    0.598396            NaN             NaN   \n",
       "robbery_pc             1.000000    0.862699            NaN             NaN   \n",
       "violent_pc             0.862699    1.000000            NaN             NaN   \n",
       "murder_pc_ind               NaN         NaN            NaN             NaN   \n",
       "robbery_pc_ind              NaN         NaN            NaN             NaN   \n",
       "violent_pc_ind              NaN         NaN            NaN             NaN   \n",
       "\n",
       "                     violent_pc_ind  \n",
       "population                      NaN  \n",
       "violent_crime                   NaN  \n",
       "murder                          NaN  \n",
       "rape_legacy_def                 NaN  \n",
       "robbery                         NaN  \n",
       "aggravated_assault              NaN  \n",
       "property_crime                  NaN  \n",
       "burglary                        NaN  \n",
       "larceny_theft                   NaN  \n",
       "motor_vehicle_theft             NaN  \n",
       "arson                           NaN  \n",
       "pop_sq                          NaN  \n",
       "pop_log                         NaN  \n",
       "pty_crime_sqrt                  NaN  \n",
       "murder_ind                      NaN  \n",
       "robbery_ind                     NaN  \n",
       "outlier_flag                    NaN  \n",
       "low_outlier                     NaN  \n",
       "qrtl_1                          NaN  \n",
       "qrtl_2                          NaN  \n",
       "qrtl_3                          NaN  \n",
       "qrtl_4                          NaN  \n",
       "pty_crime_pc                    NaN  \n",
       "murder_pc                       NaN  \n",
       "robbery_pc                      NaN  \n",
       "violent_pc                      NaN  \n",
       "murder_pc_ind                   NaN  \n",
       "robbery_pc_ind                  NaN  \n",
       "violent_pc_ind                  NaN  \n",
       "\n",
       "[29 rows x 29 columns]"
      ]
     },
     "execution_count": 272,
     "metadata": {},
     "output_type": "execute_result"
    }
   ],
   "source": [
    "df.corr()"
   ]
  },
  {
   "cell_type": "code",
   "execution_count": 270,
   "metadata": {},
   "outputs": [],
   "source": [
    "# Create a dataframe with per capita values, used in model iteration 7\n",
    "df_pc = df.filter(['pty_crime_pc','murder_pc','robbery_pc', 'violent_pc'])"
   ]
  },
  {
   "cell_type": "code",
   "execution_count": 271,
   "metadata": {},
   "outputs": [
    {
     "name": "stdout",
     "output_type": "stream",
     "text": [
      "              pty_crime_pc  murder_pc  robbery_pc  violent_pc\n",
      "pty_crime_pc      1.000000   0.209125    0.419695    0.531994\n",
      "murder_pc         0.209125   1.000000    0.639665    0.598396\n",
      "robbery_pc        0.419695   0.639665    1.000000    0.862699\n",
      "violent_pc        0.531994   0.598396    0.862699    1.000000\n"
     ]
    }
   ],
   "source": [
    "print(df_pc.corr())"
   ]
  },
  {
   "cell_type": "code",
   "execution_count": 289,
   "metadata": {
    "scrolled": true
   },
   "outputs": [
    {
     "data": {
      "image/png": "[encoded data removed]",
      "text/plain": [
       "<Figure size 432x288 with 1 Axes>"
      ]
     },
     "metadata": {},
     "output_type": "display_data"
    }
   ],
   "source": [
    "#Scatterplot property crime, violent crime per capita\n",
    "plt.scatter(df['violent_pc'], df['pty_crime_pc'])\n",
    "plt.xlabel('Violent crime per capita')\n",
    "plt.ylabel('Property crime per capita')\n",
    "plt.axhline(y=0)\n",
    "plt.title('Relationship between property crime and violent crime per capita')\n",
    "plt.show()"
   ]
  },
  {
   "cell_type": "markdown",
   "metadata": {},
   "source": [
    "#### Clearly there are outlier values in the predictor population. A histogram of population consists of two visible bars and an outlier representing three large cities."
   ]
  },
  {
   "cell_type": "code",
   "execution_count": 216,
   "metadata": {},
   "outputs": [
    {
     "data": {
      "text/plain": [
       "Text(0.5,1,'Frequency distribution of population of reporting cities in FBI UCR data - New York State')"
      ]
     },
     "execution_count": 216,
     "metadata": {},
     "output_type": "execute_result"
    },
    {
     "data": {
      "image/png": "[encoded data removed]",
      "text/plain": [
       "<Figure size 432x288 with 1 Axes>"
      ]
     },
     "metadata": {},
     "output_type": "display_data"
    }
   ],
   "source": [
    "#Review the population distribution\n",
    "plt.subplot(1, 2, 1)\n",
    "plt.ylim(0,110)\n",
    "sns.distplot(df.population, kde=False)\n",
    "plt.xlabel('Population')\n",
    "plt.ylabel('Frequency')\n",
    "plt.title('Frequency distribution of population of reporting cities in FBI UCR data - New York State')"
   ]
  },
  {
   "cell_type": "markdown",
   "metadata": {},
   "source": [
    "#### Review the distribution of the log of population. I am using the log of population value to make the figure more readable."
   ]
  },
  {
   "cell_type": "code",
   "execution_count": 217,
   "metadata": {
    "scrolled": true
   },
   "outputs": [
    {
     "data": {
      "text/plain": [
       "Text(0.5,1,'Frequency distribution of log of population of reporting cities in FBI UCR data - New York State')"
      ]
     },
     "execution_count": 217,
     "metadata": {},
     "output_type": "execute_result"
    },
    {
     "data": {
      "image/png": "[encoded data removed]",
      "text/plain": [
       "<Figure size 432x288 with 1 Axes>"
      ]
     },
     "metadata": {},
     "output_type": "display_data"
    }
   ],
   "source": [
    "#Review the log of population distribution\n",
    "plt.subplot(1, 2, 1)\n",
    "plt.ylim(0,110)\n",
    "sns.distplot(df.pop_log, kde=False)\n",
    "plt.xlabel('Log of population')\n",
    "plt.ylabel('Frequency')\n",
    "plt.title('Frequency distribution of log of population of reporting cities in FBI UCR data - New York State')"
   ]
  },
  {
   "cell_type": "code",
   "execution_count": 218,
   "metadata": {},
   "outputs": [],
   "source": [
    "# Create a minimal dataframe for the first iteration of the model\n",
    "df_m1 = df.filter(['population', 'pop_sq','murder_ind','robbery_ind', 'property_crime'])"
   ]
  },
  {
   "cell_type": "code",
   "execution_count": 219,
   "metadata": {
    "scrolled": true
   },
   "outputs": [
    {
     "data": {
      "text/html": [
       "<div>\n",
       "<style scoped>\n",
       "    .dataframe tbody tr th:only-of-type {\n",
       "        vertical-align: middle;\n",
       "    }\n",
       "\n",
       "    .dataframe tbody tr th {\n",
       "        vertical-align: top;\n",
       "    }\n",
       "\n",
       "    .dataframe thead th {\n",
       "        text-align: right;\n",
       "    }\n",
       "</style>\n",
       "<table border=\"1\" class=\"dataframe\">\n",
       "  <thead>\n",
       "    <tr style=\"text-align: right;\">\n",
       "      <th></th>\n",
       "      <th>population</th>\n",
       "      <th>pop_sq</th>\n",
       "      <th>murder_ind</th>\n",
       "      <th>robbery_ind</th>\n",
       "      <th>property_crime</th>\n",
       "    </tr>\n",
       "  </thead>\n",
       "  <tbody>\n",
       "    <tr>\n",
       "      <th>count</th>\n",
       "      <td>3.480000e+02</td>\n",
       "      <td>3.480000e+02</td>\n",
       "      <td>348.000000</td>\n",
       "      <td>348.000000</td>\n",
       "      <td>348.000000</td>\n",
       "    </tr>\n",
       "    <tr>\n",
       "      <th>mean</th>\n",
       "      <td>4.003763e+04</td>\n",
       "      <td>2.035547e+11</td>\n",
       "      <td>0.140805</td>\n",
       "      <td>0.600575</td>\n",
       "      <td>792.606322</td>\n",
       "    </tr>\n",
       "    <tr>\n",
       "      <th>std</th>\n",
       "      <td>4.500374e+05</td>\n",
       "      <td>3.778876e+12</td>\n",
       "      <td>0.348321</td>\n",
       "      <td>0.490486</td>\n",
       "      <td>7659.724746</td>\n",
       "    </tr>\n",
       "    <tr>\n",
       "      <th>min</th>\n",
       "      <td>5.260000e+02</td>\n",
       "      <td>2.766760e+05</td>\n",
       "      <td>0.000000</td>\n",
       "      <td>0.000000</td>\n",
       "      <td>0.000000</td>\n",
       "    </tr>\n",
       "    <tr>\n",
       "      <th>25%</th>\n",
       "      <td>3.003000e+03</td>\n",
       "      <td>9.018117e+06</td>\n",
       "      <td>0.000000</td>\n",
       "      <td>0.000000</td>\n",
       "      <td>40.500000</td>\n",
       "    </tr>\n",
       "    <tr>\n",
       "      <th>50%</th>\n",
       "      <td>7.233500e+03</td>\n",
       "      <td>5.232568e+07</td>\n",
       "      <td>0.000000</td>\n",
       "      <td>1.000000</td>\n",
       "      <td>112.500000</td>\n",
       "    </tr>\n",
       "    <tr>\n",
       "      <th>75%</th>\n",
       "      <td>1.842750e+04</td>\n",
       "      <td>3.397536e+08</td>\n",
       "      <td>0.000000</td>\n",
       "      <td>1.000000</td>\n",
       "      <td>341.000000</td>\n",
       "    </tr>\n",
       "    <tr>\n",
       "      <th>max</th>\n",
       "      <td>8.396126e+06</td>\n",
       "      <td>7.049493e+13</td>\n",
       "      <td>1.000000</td>\n",
       "      <td>1.000000</td>\n",
       "      <td>141971.000000</td>\n",
       "    </tr>\n",
       "  </tbody>\n",
       "</table>\n",
       "</div>"
      ],
      "text/plain": [
       "         population        pop_sq  murder_ind  robbery_ind  property_crime\n",
       "count  3.480000e+02  3.480000e+02  348.000000   348.000000      348.000000\n",
       "mean   4.003763e+04  2.035547e+11    0.140805     0.600575      792.606322\n",
       "std    4.500374e+05  3.778876e+12    0.348321     0.490486     7659.724746\n",
       "min    5.260000e+02  2.766760e+05    0.000000     0.000000        0.000000\n",
       "25%    3.003000e+03  9.018117e+06    0.000000     0.000000       40.500000\n",
       "50%    7.233500e+03  5.232568e+07    0.000000     1.000000      112.500000\n",
       "75%    1.842750e+04  3.397536e+08    0.000000     1.000000      341.000000\n",
       "max    8.396126e+06  7.049493e+13    1.000000     1.000000   141971.000000"
      ]
     },
     "execution_count": 219,
     "metadata": {},
     "output_type": "execute_result"
    }
   ],
   "source": [
    "df_m1.describe()"
   ]
  },
  {
   "cell_type": "code",
   "execution_count": 220,
   "metadata": {},
   "outputs": [
    {
     "name": "stdout",
     "output_type": "stream",
     "text": [
      "                population    pop_sq  murder_ind  robbery_ind  property_crime\n",
      "population        1.000000  0.998264    0.162309     0.064371        0.996265\n",
      "pop_sq            0.998264  1.000000    0.133067     0.043983        0.991027\n",
      "murder_ind        0.162309  0.133067    1.000000     0.313271        0.190670\n",
      "robbery_ind       0.064371  0.043983    0.313271     1.000000        0.079318\n",
      "property_crime    0.996265  0.991027    0.190670     0.079318        1.000000\n"
     ]
    }
   ],
   "source": [
    "print(df_m1.corr())"
   ]
  },
  {
   "cell_type": "markdown",
   "metadata": {},
   "source": [
    "#### None of the variables appear to be highly correlated with each other."
   ]
  },
  {
   "cell_type": "code",
   "execution_count": 221,
   "metadata": {
    "scrolled": false
   },
   "outputs": [
    {
     "data": {
      "text/plain": [
       "<matplotlib.axes._subplots.AxesSubplot at 0x1a20560c50>"
      ]
     },
     "execution_count": 221,
     "metadata": {},
     "output_type": "execute_result"
    },
    {
     "data": {
      "image/png": "[encoded data removed]",
      "text/plain": [
       "<Figure size 432x288 with 2 Axes>"
      ]
     },
     "metadata": {},
     "output_type": "display_data"
    }
   ],
   "source": [
    "sns.heatmap(corrmap)"
   ]
  },
  {
   "cell_type": "markdown",
   "metadata": {},
   "source": [
    "### Running the model and verifying assumptions"
   ]
  },
  {
   "cell_type": "markdown",
   "metadata": {},
   "source": [
    "The R-squared value seems too good to be true. Heteroscedasticity violates an assumption for a linear regression model and is discussed below.\n",
    "\n",
    "The variable with the highest predictive value in the first iteration of the model is the murder categorical variable."
   ]
  },
  {
   "cell_type": "code",
   "execution_count": 222,
   "metadata": {
    "scrolled": true
   },
   "outputs": [
    {
     "name": "stdout",
     "output_type": "stream",
     "text": [
      "\n",
      "Coefficients: \n",
      " [[ 3.46570268e-02 -2.11108019e-09  1.51866535e+01 -9.62774363e+01]]\n",
      "\n",
      "Intercept: \n",
      " [-109.57533562]\n",
      "\n",
      "R-squared:\n",
      "0.9961247104988709\n"
     ]
    }
   ],
   "source": [
    "# Instantiate and fit the first iteration (m1) of the model.\n",
    "m1 = linear_model.LinearRegression()\n",
    "Y = df_m1['property_crime'].values.reshape(-1, 1)\n",
    "X = df_m1[['population','pop_sq','murder_ind', 'robbery_ind']]\n",
    "m1.fit(X, Y)\n",
    "\n",
    "print('\\nCoefficients: \\n', m1.coef_)\n",
    "print('\\nIntercept: \\n', m1.intercept_)\n",
    "print('\\nR-squared:')\n",
    "print(m1.score(X, Y))"
   ]
  },
  {
   "cell_type": "markdown",
   "metadata": {},
   "source": [
    "#### Check linear relationship"
   ]
  },
  {
   "cell_type": "code",
   "execution_count": 223,
   "metadata": {},
   "outputs": [
    {
     "data": {
      "image/png": "[encoded data removed]",
      "text/plain": [
       "<Figure size 432x288 with 1 Axes>"
      ]
     },
     "metadata": {},
     "output_type": "display_data"
    }
   ],
   "source": [
    "#Scatterplot population v property crime\n",
    "plt.scatter(df_m1['population'], df_m1['property_crime'])\n",
    "plt.xlabel('Population')\n",
    "plt.ylabel('Property crime')\n",
    "plt.axhline(y=0)\n",
    "plt.title('Relationship between population and property crime')\n",
    "plt.show()"
   ]
  },
  {
   "cell_type": "markdown",
   "metadata": {},
   "source": [
    "#### Check multivariate normality by examining the distribution of errors"
   ]
  },
  {
   "cell_type": "markdown",
   "metadata": {},
   "source": [
    "There are outliers in the error on both the low and high ends. This could be related to outliers in the underlying data; either in population, or property crime, or both."
   ]
  },
  {
   "cell_type": "code",
   "execution_count": 287,
   "metadata": {},
   "outputs": [
    {
     "data": {
      "image/png": "[encoded data removed]",
      "text/plain": [
       "<Figure size 432x288 with 1 Axes>"
      ]
     },
     "metadata": {},
     "output_type": "display_data"
    }
   ],
   "source": [
    "# Extract predicted values.\n",
    "predicted = m1.predict(X).ravel()\n",
    "actual = df_m1['property_crime']\n",
    "\n",
    "# Calculate the error, also called the residual.\n",
    "residual = actual - predicted\n",
    "df_m1['residual'] = residual\n",
    "\n",
    "plt.hist(df_m1['residual'], bins=20)\n",
    "plt.title('Model 1 - Residual counts')\n",
    "plt.xlabel('Residual')\n",
    "plt.ylabel('Count')\n",
    "plt.show()"
   ]
  },
  {
   "cell_type": "code",
   "execution_count": 225,
   "metadata": {
    "scrolled": false
   },
   "outputs": [
    {
     "data": {
      "text/plain": [
       "count    3.480000e+02\n",
       "mean     1.110733e-13\n",
       "std      4.768318e+02\n",
       "min     -4.259013e+03\n",
       "25%     -8.904525e+01\n",
       "50%      5.328805e+01\n",
       "75%      1.322169e+02\n",
       "max      3.854192e+03\n",
       "Name: residual, dtype: float64"
      ]
     },
     "execution_count": 225,
     "metadata": {},
     "output_type": "execute_result"
    }
   ],
   "source": [
    "df_m1['residual'].describe()"
   ]
  },
  {
   "cell_type": "markdown",
   "metadata": {},
   "source": [
    "#### Check assumption of homoscedascity"
   ]
  },
  {
   "cell_type": "markdown",
   "metadata": {},
   "source": [
    "There is higher error for both high and low outcomes in model 1."
   ]
  },
  {
   "cell_type": "code",
   "execution_count": 226,
   "metadata": {},
   "outputs": [
    {
     "data": {
      "image/png": "[encoded data removed]",
      "text/plain": [
       "<Figure size 432x288 with 1 Axes>"
      ]
     },
     "metadata": {},
     "output_type": "display_data"
    }
   ],
   "source": [
    "#Plot residual v predicted\n",
    "plt.scatter(predicted, residual)\n",
    "plt.xlabel('Predicted')\n",
    "plt.ylabel('Residual')\n",
    "plt.axhline(y=0)\n",
    "plt.title('Residual vs. Predicted')\n",
    "plt.show()"
   ]
  },
  {
   "cell_type": "markdown",
   "metadata": {},
   "source": [
    "#### Check correlations among features (multicolinearity)"
   ]
  },
  {
   "cell_type": "markdown",
   "metadata": {},
   "source": [
    "As shown in an earlier figure, the features do not appear to be highly correlated with one another (except as expected, for population and population squared)."
   ]
  },
  {
   "cell_type": "code",
   "execution_count": 227,
   "metadata": {},
   "outputs": [
    {
     "data": {
      "text/html": [
       "<div>\n",
       "<style scoped>\n",
       "    .dataframe tbody tr th:only-of-type {\n",
       "        vertical-align: middle;\n",
       "    }\n",
       "\n",
       "    .dataframe tbody tr th {\n",
       "        vertical-align: top;\n",
       "    }\n",
       "\n",
       "    .dataframe thead th {\n",
       "        text-align: right;\n",
       "    }\n",
       "</style>\n",
       "<table border=\"1\" class=\"dataframe\">\n",
       "  <thead>\n",
       "    <tr style=\"text-align: right;\">\n",
       "      <th></th>\n",
       "      <th>population</th>\n",
       "      <th>pop_sq</th>\n",
       "      <th>murder_ind</th>\n",
       "      <th>robbery_ind</th>\n",
       "    </tr>\n",
       "  </thead>\n",
       "  <tbody>\n",
       "    <tr>\n",
       "      <th>population</th>\n",
       "      <td>1.000000</td>\n",
       "      <td>0.998264</td>\n",
       "      <td>0.162309</td>\n",
       "      <td>0.064371</td>\n",
       "    </tr>\n",
       "    <tr>\n",
       "      <th>pop_sq</th>\n",
       "      <td>0.998264</td>\n",
       "      <td>1.000000</td>\n",
       "      <td>0.133067</td>\n",
       "      <td>0.043983</td>\n",
       "    </tr>\n",
       "    <tr>\n",
       "      <th>murder_ind</th>\n",
       "      <td>0.162309</td>\n",
       "      <td>0.133067</td>\n",
       "      <td>1.000000</td>\n",
       "      <td>0.313271</td>\n",
       "    </tr>\n",
       "    <tr>\n",
       "      <th>robbery_ind</th>\n",
       "      <td>0.064371</td>\n",
       "      <td>0.043983</td>\n",
       "      <td>0.313271</td>\n",
       "      <td>1.000000</td>\n",
       "    </tr>\n",
       "  </tbody>\n",
       "</table>\n",
       "</div>"
      ],
      "text/plain": [
       "             population    pop_sq  murder_ind  robbery_ind\n",
       "population     1.000000  0.998264    0.162309     0.064371\n",
       "pop_sq         0.998264  1.000000    0.133067     0.043983\n",
       "murder_ind     0.162309  0.133067    1.000000     0.313271\n",
       "robbery_ind    0.064371  0.043983    0.313271     1.000000"
      ]
     },
     "metadata": {},
     "output_type": "display_data"
    }
   ],
   "source": [
    "correlation_matrix = X.corr()\n",
    "display(correlation_matrix)"
   ]
  },
  {
   "cell_type": "markdown",
   "metadata": {},
   "source": [
    "### Fixing assumptions"
   ]
  },
  {
   "cell_type": "markdown",
   "metadata": {},
   "source": [
    "#### Heteroscedasticity can be corrected by transforming the dependent variable and/or adding features in poorly estimated areas. Heteroscedasticity can result in over-confidence in the model predictions. I am going to test correcting for heteroscedasticity by transforming the dependent variable, property crime, by taking its square root."
   ]
  },
  {
   "cell_type": "code",
   "execution_count": 228,
   "metadata": {},
   "outputs": [],
   "source": [
    "df_m2 = df.filter(['population', 'pop_sq','murder_ind','robbery_ind', 'pty_crime_sqrt'])"
   ]
  },
  {
   "cell_type": "code",
   "execution_count": 229,
   "metadata": {
    "scrolled": true
   },
   "outputs": [
    {
     "name": "stdout",
     "output_type": "stream",
     "text": [
      "\n",
      "Coefficients: \n",
      " [[ 3.80096080e-04 -4.01266025e-11  3.87190536e+00  5.97991361e+00]]\n",
      "\n",
      "Intercept: \n",
      " [4.31549675]\n",
      "\n",
      "R-squared:\n",
      "0.9500188877037536\n"
     ]
    }
   ],
   "source": [
    "m2 = linear_model.LinearRegression()\n",
    "Y = df_m2['pty_crime_sqrt'].values.reshape(-1, 1)\n",
    "X = df_m2[['population','pop_sq','murder_ind', 'robbery_ind']]\n",
    "m2.fit(X, Y)\n",
    "\n",
    "print('\\nCoefficients: \\n', m2.coef_)\n",
    "print('\\nIntercept: \\n', m2.intercept_)\n",
    "print('\\nR-squared:')\n",
    "print(m2.score(X, Y))"
   ]
  },
  {
   "cell_type": "markdown",
   "metadata": {},
   "source": [
    "I now have a positive intercept and the violent crime indicators both have predictive value. The R-squared seems more reasonable (that is, it doesn't seem as if accuracy is as seriously over-estimated as in iteration 1)."
   ]
  },
  {
   "cell_type": "markdown",
   "metadata": {},
   "source": [
    "#### Multivariate non-normality results in mis-estimation. It can be corrected by dealing with outliers. I will iterate the model two times by first excluding the high outliers, then the low outliers based on population. I am going to keep the transformation of property crime to the square root."
   ]
  },
  {
   "cell_type": "markdown",
   "metadata": {},
   "source": [
    "Dropping the high population outliers (iteration 3, below) is probably not an improvement."
   ]
  },
  {
   "cell_type": "code",
   "execution_count": 230,
   "metadata": {},
   "outputs": [],
   "source": [
    "df_m3 = df.filter(['population', 'pop_sq','murder_ind','robbery_ind', 'pty_crime_sqrt', 'outlier_flag'])"
   ]
  },
  {
   "cell_type": "code",
   "execution_count": 231,
   "metadata": {},
   "outputs": [],
   "source": [
    "df_m3.drop(df_m3[df_m3['outlier_flag'] == 1].index, inplace=True)"
   ]
  },
  {
   "cell_type": "code",
   "execution_count": 232,
   "metadata": {
    "scrolled": true
   },
   "outputs": [
    {
     "name": "stdout",
     "output_type": "stream",
     "text": [
      "\n",
      "Coefficients: \n",
      " [[ 5.83830385e-04 -1.78462812e-09  2.92378733e+00  4.50697697e+00]]\n",
      "\n",
      "Intercept: \n",
      " [3.46744594]\n",
      "\n",
      "R-squared:\n",
      "0.8234907254831821\n"
     ]
    }
   ],
   "source": [
    "\n",
    "m3 = linear_model.LinearRegression()\n",
    "Y = df_m3['pty_crime_sqrt'].values.reshape(-1, 1)\n",
    "X = df_m3[['population','pop_sq','murder_ind', 'robbery_ind']]\n",
    "m3.fit(X, Y)\n",
    "\n",
    "print('\\nCoefficients: \\n', m3.coef_)\n",
    "print('\\nIntercept: \\n', m3.intercept_)\n",
    "print('\\nR-squared:')\n",
    "print(m3.score(X, Y))"
   ]
  },
  {
   "cell_type": "markdown",
   "metadata": {},
   "source": [
    "Dropping both the high and low population outliers (below) does not improve the model."
   ]
  },
  {
   "cell_type": "code",
   "execution_count": 233,
   "metadata": {},
   "outputs": [],
   "source": [
    "df_m4 = df.filter(['population', 'pop_sq','murder_ind','robbery_ind', 'pty_crime_sqrt', 'outlier_flag', 'low_outlier'])\n",
    "df_m4.drop(df_m4[df_m4['outlier_flag'] == 1].index, inplace=True)\n",
    "df_m4.drop(df_m4[df_m4['low_outlier'] == 1].index, inplace=True)"
   ]
  },
  {
   "cell_type": "code",
   "execution_count": 234,
   "metadata": {},
   "outputs": [
    {
     "name": "stdout",
     "output_type": "stream",
     "text": [
      "\n",
      "Coefficients: \n",
      " [[ 5.72236670e-04 -1.72077565e-09  2.91565339e+00  5.01142089e+00]]\n",
      "\n",
      "Intercept: \n",
      " [3.2659378]\n",
      "\n",
      "R-squared:\n",
      "0.7653976310528735\n"
     ]
    }
   ],
   "source": [
    "m4 = linear_model.LinearRegression()\n",
    "Y = df_m4['pty_crime_sqrt'].values.reshape(-1, 1)\n",
    "X = df_m4[['population','pop_sq','murder_ind', 'robbery_ind']]\n",
    "m4.fit(X, Y)\n",
    "\n",
    "print('\\nCoefficients: \\n', m4.coef_)\n",
    "print('\\nIntercept: \\n', m4.intercept_)\n",
    "print('\\nR-squared:')\n",
    "print(m4.score(X, Y))"
   ]
  },
  {
   "cell_type": "markdown",
   "metadata": {},
   "source": [
    "Dropping the rows with property crime equal to zero results in a minor improvement in R-squared."
   ]
  },
  {
   "cell_type": "code",
   "execution_count": 235,
   "metadata": {},
   "outputs": [],
   "source": [
    "df_m5 = df.filter(['population', 'pop_sq','murder_ind','robbery_ind', 'pty_crime_sqrt', 'property_crime'])\n",
    "df_m5.drop(df_m5[df_m5['property_crime'] == 0].index, inplace=True)"
   ]
  },
  {
   "cell_type": "code",
   "execution_count": 236,
   "metadata": {
    "scrolled": true
   },
   "outputs": [
    {
     "name": "stdout",
     "output_type": "stream",
     "text": [
      "\n",
      "Coefficients: \n",
      " [[ 3.79561635e-04 -4.00632569e-11  3.88414493e+00  5.77107738e+00]]\n",
      "\n",
      "Intercept: \n",
      " [4.53405993]\n",
      "\n",
      "R-squared:\n",
      "0.9503900294517691\n"
     ]
    }
   ],
   "source": [
    "m5 = linear_model.LinearRegression()\n",
    "Y = df_m5['pty_crime_sqrt'].values.reshape(-1, 1)\n",
    "X = df_m5[['population','pop_sq','murder_ind', 'robbery_ind']]\n",
    "m5.fit(X, Y)\n",
    "\n",
    "print('\\nCoefficients: \\n', m5.coef_)\n",
    "print('\\nIntercept: \\n', m5.intercept_)\n",
    "print('\\nR-squared:')\n",
    "print(m5.score(X, Y))"
   ]
  },
  {
   "cell_type": "markdown",
   "metadata": {},
   "source": [
    "Adding indicators for the first and fourth quartiles in population improves the model slightly."
   ]
  },
  {
   "cell_type": "code",
   "execution_count": 237,
   "metadata": {},
   "outputs": [],
   "source": [
    "df_m6 = df.filter(['population', 'pop_sq','murder_ind','robbery_ind', 'pty_crime_sqrt', 'property_crime', 'qrtl_1', 'qrtl_4'])\n",
    "df_m6.drop(df_m6[df_m6['property_crime'] == 0].index, inplace=True)"
   ]
  },
  {
   "cell_type": "code",
   "execution_count": 238,
   "metadata": {},
   "outputs": [
    {
     "name": "stdout",
     "output_type": "stream",
     "text": [
      "\n",
      "Coefficients: \n",
      " [[ 4.36796820e-04 -4.65638145e-11  3.08147446e+00  4.52938784e+00\n",
      "  -1.52587885e+00 -2.07337107e+01]]\n",
      "\n",
      "Intercept: \n",
      " [5.02768989]\n",
      "\n",
      "R-squared:\n",
      "0.9543498634303469\n"
     ]
    }
   ],
   "source": [
    "m6 = linear_model.LinearRegression()\n",
    "Y = df_m6['pty_crime_sqrt'].values.reshape(-1, 1)\n",
    "X = df_m6[['population','pop_sq','murder_ind', 'robbery_ind', 'qrtl_1', 'qrtl_4']]\n",
    "m6.fit(X, Y)\n",
    "\n",
    "print('\\nCoefficients: \\n', m6.coef_)\n",
    "print('\\nIntercept: \\n', m6.intercept_)\n",
    "print('\\nR-squared:')\n",
    "print(m6.score(X, Y))"
   ]
  },
  {
   "cell_type": "markdown",
   "metadata": {},
   "source": [
    "Per capita measures are often used when analyzing data of this type. But the way I have it constructed, they do not result in a better model."
   ]
  },
  {
   "cell_type": "code",
   "execution_count": 277,
   "metadata": {},
   "outputs": [],
   "source": [
    "df_m7 = df.filter(['pty_crime_pc', 'murder_pc', 'murder_ind', 'robbery_pc', 'robbery_ind', 'violent_pc', 'qrtl_3', 'qrtl_4'])"
   ]
  },
  {
   "cell_type": "code",
   "execution_count": 279,
   "metadata": {},
   "outputs": [
    {
     "name": "stdout",
     "output_type": "stream",
     "text": [
      "\n",
      "Coefficients: \n",
      " [[ 1.11708803e+01 -3.93024670e+01 -6.75763027e-04 -1.89076764e-02]]\n",
      "\n",
      "Intercept: \n",
      " [0.01625283]\n",
      "\n",
      "R-squared:\n",
      "0.19640408493122685\n"
     ]
    }
   ],
   "source": [
    "m7 = linear_model.LinearRegression()\n",
    "Y = df_m7['pty_crime_pc'].values.reshape(-1, 1)\n",
    "X = df_m7[['robbery_pc', 'murder_pc', 'qrtl_3', 'qrtl_4']]\n",
    "m7.fit(X, Y)\n",
    "\n",
    "print('\\nCoefficients: \\n', m7.coef_)\n",
    "print('\\nIntercept: \\n', m7.intercept_)\n",
    "print('\\nR-squared:')\n",
    "print(m7.score(X, Y))"
   ]
  },
  {
   "cell_type": "markdown",
   "metadata": {},
   "source": [
    "### Discussion and summary: Feature engineering and selection"
   ]
  },
  {
   "cell_type": "code",
   "execution_count": null,
   "metadata": {},
   "outputs": [],
   "source": []
  }
 ],
 "metadata": {
  "kernelspec": {
   "display_name": "Python 3",
   "language": "python",
   "name": "python3"
  },
  "language_info": {
   "codemirror_mode": {
    "name": "ipython",
    "version": 3
   },
   "file_extension": ".py",
   "mimetype": "text/x-python",
   "name": "python",
   "nbconvert_exporter": "python",
   "pygments_lexer": "ipython3",
   "version": "3.6.5"
  }
 },
 "nbformat": 4,
 "nbformat_minor": 2
}
