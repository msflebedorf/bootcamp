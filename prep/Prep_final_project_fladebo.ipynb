{
 "cells": [
  {
   "cell_type": "markdown",
   "metadata": {},
   "source": [
    "## Working with the Global Power Plants Database (Prep Phase Capstone Analytic Report)\n",
    "### Robin Fladebo"
   ]
  },
  {
   "cell_type": "code",
   "execution_count": 1,
   "metadata": {},
   "outputs": [],
   "source": [
    "import pandas as pd\n",
    "pd.set_option('display.max_rows', 1000)\n",
    "import numpy as np\n",
    "import matplotlib.pyplot as plt\n",
    "%matplotlib inline\n",
    "\n"
   ]
  },
  {
   "cell_type": "markdown",
   "metadata": {},
   "source": [
    "## Data preparation and exploration"
   ]
  },
  {
   "cell_type": "code",
   "execution_count": 2,
   "metadata": {
    "scrolled": true
   },
   "outputs": [],
   "source": [
    "pplantstmp = pd.read_csv('../Datafiles/globalpowerplantdatabasev110/global_power_plant_database.csv')                    "
   ]
  },
  {
   "cell_type": "markdown",
   "metadata": {},
   "source": [
    "How many rows and columns are in this dataset?"
   ]
  },
  {
   "cell_type": "code",
   "execution_count": 3,
   "metadata": {},
   "outputs": [
    {
     "data": {
      "text/plain": [
       "(28664, 22)"
      ]
     },
     "execution_count": 3,
     "metadata": {},
     "output_type": "execute_result"
    }
   ],
   "source": [
    "pplantstmp.shape"
   ]
  },
  {
   "cell_type": "markdown",
   "metadata": {},
   "source": [
    "What columns are in the original datafile?"
   ]
  },
  {
   "cell_type": "code",
   "execution_count": 4,
   "metadata": {},
   "outputs": [
    {
     "data": {
      "text/plain": [
       "['country',\n",
       " 'country_long',\n",
       " 'name',\n",
       " 'gppd_idnr',\n",
       " 'capacity_mw',\n",
       " 'latitude',\n",
       " 'longitude',\n",
       " 'fuel1',\n",
       " 'fuel2',\n",
       " 'fuel3',\n",
       " 'fuel4',\n",
       " 'commissioning_year',\n",
       " 'owner',\n",
       " 'source',\n",
       " 'url',\n",
       " 'geolocation_source',\n",
       " 'year_of_capacity_data',\n",
       " 'generation_gwh_2013',\n",
       " 'generation_gwh_2014',\n",
       " 'generation_gwh_2015',\n",
       " 'generation_gwh_2016',\n",
       " 'estimated_generation_gwh']"
      ]
     },
     "execution_count": 4,
     "metadata": {},
     "output_type": "execute_result"
    }
   ],
   "source": [
    "list(pplantstmp.columns.values)"
   ]
  },
  {
   "cell_type": "markdown",
   "metadata": {},
   "source": [
    "Read the power plants csv file into a dataframe with selected columns"
   ]
  },
  {
   "cell_type": "code",
   "execution_count": 5,
   "metadata": {},
   "outputs": [],
   "source": [
    "#Read the csv into a dataframe with just selected columns\n",
    "powerplants = pd.read_csv('../Datafiles/globalpowerplantdatabasev110/global_power_plant_database.csv', usecols = ['country', 'country_long', 'name', 'gppd_idnr', 'capacity_mw', 'fuel1', 'fuel2', 'fuel3', 'fuel4', 'year_of_capacity_data', 'estimated_generation_gwh'])                    "
   ]
  },
  {
   "cell_type": "markdown",
   "metadata": {},
   "source": [
    "Make sure I didn't inadvertently drop any rows"
   ]
  },
  {
   "cell_type": "code",
   "execution_count": 6,
   "metadata": {},
   "outputs": [
    {
     "data": {
      "text/plain": [
       "28664"
      ]
     },
     "execution_count": 6,
     "metadata": {},
     "output_type": "execute_result"
    }
   ],
   "source": [
    "powerplants.shape[0]"
   ]
  },
  {
   "cell_type": "markdown",
   "metadata": {},
   "source": [
    "The read_csv operation creates a dataframe. What are the datatypes in this dataframe?"
   ]
  },
  {
   "cell_type": "code",
   "execution_count": 7,
   "metadata": {
    "scrolled": true
   },
   "outputs": [
    {
     "name": "stdout",
     "output_type": "stream",
     "text": [
      "country                      object\n",
      "country_long                 object\n",
      "name                         object\n",
      "gppd_idnr                    object\n",
      "capacity_mw                 float64\n",
      "fuel1                        object\n",
      "fuel2                        object\n",
      "fuel3                        object\n",
      "fuel4                        object\n",
      "year_of_capacity_data       float64\n",
      "estimated_generation_gwh    float64\n",
      "dtype: object\n"
     ]
    }
   ],
   "source": [
    "print(powerplants.dtypes)"
   ]
  },
  {
   "cell_type": "markdown",
   "metadata": {},
   "source": [
    "Confirming that I can perform string operations on a datatype 'object'"
   ]
  },
  {
   "cell_type": "code",
   "execution_count": 8,
   "metadata": {},
   "outputs": [
    {
     "data": {
      "text/plain": [
       "0    AfghaNistaN\n",
       "1    AfghaNistaN\n",
       "2    AfghaNistaN\n",
       "3    AfghaNistaN\n",
       "4    AfghaNistaN\n",
       "5    AfghaNistaN\n",
       "6    AfghaNistaN\n",
       "7        AlbaNia\n",
       "8        AlbaNia\n",
       "9        AlbaNia\n",
       "Name: country_long, dtype: object"
      ]
     },
     "execution_count": 8,
     "metadata": {},
     "output_type": "execute_result"
    }
   ],
   "source": [
    "powerplants['country_long'].str.replace(\"n\",\"N\").head(10)"
   ]
  },
  {
   "cell_type": "markdown",
   "metadata": {},
   "source": [
    "Make a quick visual inspection of the data in the dataframe"
   ]
  },
  {
   "cell_type": "code",
   "execution_count": 9,
   "metadata": {},
   "outputs": [
    {
     "data": {
      "text/html": [
       "<div>\n",
       "<style scoped>\n",
       "    .dataframe tbody tr th:only-of-type {\n",
       "        vertical-align: middle;\n",
       "    }\n",
       "\n",
       "    .dataframe tbody tr th {\n",
       "        vertical-align: top;\n",
       "    }\n",
       "\n",
       "    .dataframe thead th {\n",
       "        text-align: right;\n",
       "    }\n",
       "</style>\n",
       "<table border=\"1\" class=\"dataframe\">\n",
       "  <thead>\n",
       "    <tr style=\"text-align: right;\">\n",
       "      <th></th>\n",
       "      <th>country</th>\n",
       "      <th>country_long</th>\n",
       "      <th>name</th>\n",
       "      <th>gppd_idnr</th>\n",
       "      <th>capacity_mw</th>\n",
       "      <th>fuel1</th>\n",
       "      <th>fuel2</th>\n",
       "      <th>fuel3</th>\n",
       "      <th>fuel4</th>\n",
       "      <th>year_of_capacity_data</th>\n",
       "      <th>estimated_generation_gwh</th>\n",
       "    </tr>\n",
       "  </thead>\n",
       "  <tbody>\n",
       "    <tr>\n",
       "      <th>0</th>\n",
       "      <td>AFG</td>\n",
       "      <td>Afghanistan</td>\n",
       "      <td>Kajaki Hydroelectric Power Plant Afghanistan</td>\n",
       "      <td>GEODB0040538</td>\n",
       "      <td>33.00</td>\n",
       "      <td>Hydro</td>\n",
       "      <td>NaN</td>\n",
       "      <td>NaN</td>\n",
       "      <td>NaN</td>\n",
       "      <td>2017.0</td>\n",
       "      <td>NaN</td>\n",
       "    </tr>\n",
       "    <tr>\n",
       "      <th>1</th>\n",
       "      <td>AFG</td>\n",
       "      <td>Afghanistan</td>\n",
       "      <td>Mahipar Hydroelectric Power Plant Afghanistan</td>\n",
       "      <td>GEODB0040541</td>\n",
       "      <td>66.00</td>\n",
       "      <td>Hydro</td>\n",
       "      <td>NaN</td>\n",
       "      <td>NaN</td>\n",
       "      <td>NaN</td>\n",
       "      <td>2017.0</td>\n",
       "      <td>NaN</td>\n",
       "    </tr>\n",
       "    <tr>\n",
       "      <th>2</th>\n",
       "      <td>AFG</td>\n",
       "      <td>Afghanistan</td>\n",
       "      <td>Naghlu Dam Hydroelectric Power Plant Afghanistan</td>\n",
       "      <td>GEODB0040534</td>\n",
       "      <td>100.00</td>\n",
       "      <td>Hydro</td>\n",
       "      <td>NaN</td>\n",
       "      <td>NaN</td>\n",
       "      <td>NaN</td>\n",
       "      <td>2017.0</td>\n",
       "      <td>NaN</td>\n",
       "    </tr>\n",
       "    <tr>\n",
       "      <th>3</th>\n",
       "      <td>AFG</td>\n",
       "      <td>Afghanistan</td>\n",
       "      <td>Nangarhar (Darunta) Hydroelectric Power Plant ...</td>\n",
       "      <td>GEODB0040536</td>\n",
       "      <td>11.55</td>\n",
       "      <td>Hydro</td>\n",
       "      <td>NaN</td>\n",
       "      <td>NaN</td>\n",
       "      <td>NaN</td>\n",
       "      <td>2017.0</td>\n",
       "      <td>NaN</td>\n",
       "    </tr>\n",
       "    <tr>\n",
       "      <th>4</th>\n",
       "      <td>AFG</td>\n",
       "      <td>Afghanistan</td>\n",
       "      <td>Northwest Kabul Power Plant Afghanistan</td>\n",
       "      <td>GEODB0040540</td>\n",
       "      <td>42.00</td>\n",
       "      <td>Gas</td>\n",
       "      <td>NaN</td>\n",
       "      <td>NaN</td>\n",
       "      <td>NaN</td>\n",
       "      <td>2017.0</td>\n",
       "      <td>NaN</td>\n",
       "    </tr>\n",
       "    <tr>\n",
       "      <th>5</th>\n",
       "      <td>AFG</td>\n",
       "      <td>Afghanistan</td>\n",
       "      <td>Pul-e-Khumri Hydroelectric Power Plant Afghani...</td>\n",
       "      <td>GEODB0040537</td>\n",
       "      <td>6.00</td>\n",
       "      <td>Hydro</td>\n",
       "      <td>NaN</td>\n",
       "      <td>NaN</td>\n",
       "      <td>NaN</td>\n",
       "      <td>2017.0</td>\n",
       "      <td>NaN</td>\n",
       "    </tr>\n",
       "    <tr>\n",
       "      <th>6</th>\n",
       "      <td>AFG</td>\n",
       "      <td>Afghanistan</td>\n",
       "      <td>Sarobi Dam Hydroelectric Power Plant Afghanistan</td>\n",
       "      <td>GEODB0040535</td>\n",
       "      <td>22.00</td>\n",
       "      <td>Hydro</td>\n",
       "      <td>NaN</td>\n",
       "      <td>NaN</td>\n",
       "      <td>NaN</td>\n",
       "      <td>2017.0</td>\n",
       "      <td>NaN</td>\n",
       "    </tr>\n",
       "    <tr>\n",
       "      <th>7</th>\n",
       "      <td>ALB</td>\n",
       "      <td>Albania</td>\n",
       "      <td>Bistrica 1</td>\n",
       "      <td>WRI1002169</td>\n",
       "      <td>27.00</td>\n",
       "      <td>Hydro</td>\n",
       "      <td>NaN</td>\n",
       "      <td>NaN</td>\n",
       "      <td>NaN</td>\n",
       "      <td>NaN</td>\n",
       "      <td>89.132075</td>\n",
       "    </tr>\n",
       "    <tr>\n",
       "      <th>8</th>\n",
       "      <td>ALB</td>\n",
       "      <td>Albania</td>\n",
       "      <td>Fierza</td>\n",
       "      <td>WRI1002170</td>\n",
       "      <td>500.00</td>\n",
       "      <td>Hydro</td>\n",
       "      <td>NaN</td>\n",
       "      <td>NaN</td>\n",
       "      <td>NaN</td>\n",
       "      <td>NaN</td>\n",
       "      <td>1650.593990</td>\n",
       "    </tr>\n",
       "    <tr>\n",
       "      <th>9</th>\n",
       "      <td>ALB</td>\n",
       "      <td>Albania</td>\n",
       "      <td>Koman</td>\n",
       "      <td>WRI1002171</td>\n",
       "      <td>600.00</td>\n",
       "      <td>Hydro</td>\n",
       "      <td>NaN</td>\n",
       "      <td>NaN</td>\n",
       "      <td>NaN</td>\n",
       "      <td>NaN</td>\n",
       "      <td>1980.712788</td>\n",
       "    </tr>\n",
       "  </tbody>\n",
       "</table>\n",
       "</div>"
      ],
      "text/plain": [
       "  country country_long                                               name  \\\n",
       "0     AFG  Afghanistan       Kajaki Hydroelectric Power Plant Afghanistan   \n",
       "1     AFG  Afghanistan      Mahipar Hydroelectric Power Plant Afghanistan   \n",
       "2     AFG  Afghanistan   Naghlu Dam Hydroelectric Power Plant Afghanistan   \n",
       "3     AFG  Afghanistan  Nangarhar (Darunta) Hydroelectric Power Plant ...   \n",
       "4     AFG  Afghanistan            Northwest Kabul Power Plant Afghanistan   \n",
       "5     AFG  Afghanistan  Pul-e-Khumri Hydroelectric Power Plant Afghani...   \n",
       "6     AFG  Afghanistan   Sarobi Dam Hydroelectric Power Plant Afghanistan   \n",
       "7     ALB      Albania                                         Bistrica 1   \n",
       "8     ALB      Albania                                             Fierza   \n",
       "9     ALB      Albania                                              Koman   \n",
       "\n",
       "      gppd_idnr  capacity_mw  fuel1 fuel2 fuel3 fuel4  year_of_capacity_data  \\\n",
       "0  GEODB0040538        33.00  Hydro   NaN   NaN   NaN                 2017.0   \n",
       "1  GEODB0040541        66.00  Hydro   NaN   NaN   NaN                 2017.0   \n",
       "2  GEODB0040534       100.00  Hydro   NaN   NaN   NaN                 2017.0   \n",
       "3  GEODB0040536        11.55  Hydro   NaN   NaN   NaN                 2017.0   \n",
       "4  GEODB0040540        42.00    Gas   NaN   NaN   NaN                 2017.0   \n",
       "5  GEODB0040537         6.00  Hydro   NaN   NaN   NaN                 2017.0   \n",
       "6  GEODB0040535        22.00  Hydro   NaN   NaN   NaN                 2017.0   \n",
       "7    WRI1002169        27.00  Hydro   NaN   NaN   NaN                    NaN   \n",
       "8    WRI1002170       500.00  Hydro   NaN   NaN   NaN                    NaN   \n",
       "9    WRI1002171       600.00  Hydro   NaN   NaN   NaN                    NaN   \n",
       "\n",
       "   estimated_generation_gwh  \n",
       "0                       NaN  \n",
       "1                       NaN  \n",
       "2                       NaN  \n",
       "3                       NaN  \n",
       "4                       NaN  \n",
       "5                       NaN  \n",
       "6                       NaN  \n",
       "7                 89.132075  \n",
       "8               1650.593990  \n",
       "9               1980.712788  "
      ]
     },
     "execution_count": 9,
     "metadata": {},
     "output_type": "execute_result"
    }
   ],
   "source": [
    "powerplants.head(10)"
   ]
  },
  {
   "cell_type": "markdown",
   "metadata": {},
   "source": [
    "Test to ascertain that there is only one row per powerplant (no duplicates)"
   ]
  },
  {
   "cell_type": "code",
   "execution_count": 10,
   "metadata": {
    "scrolled": true
   },
   "outputs": [
    {
     "data": {
      "text/plain": [
       "True"
      ]
     },
     "execution_count": 10,
     "metadata": {},
     "output_type": "execute_result"
    }
   ],
   "source": [
    "powerplants.shape[0] == powerplants[\"gppd_idnr\"].nunique()"
   ]
  },
  {
   "cell_type": "markdown",
   "metadata": {},
   "source": [
    "Add a column with capacity in GW"
   ]
  },
  {
   "cell_type": "code",
   "execution_count": 11,
   "metadata": {},
   "outputs": [],
   "source": [
    "powerplants['capacity_gw'] = powerplants['capacity_mw']*0.0010\n",
    "powerplants['capacity_gw_log'] = np.log(powerplants['capacity_gw'])"
   ]
  },
  {
   "cell_type": "markdown",
   "metadata": {},
   "source": [
    "Exploration: Total number of power plants in the dataset for the top and bottom 10 countries"
   ]
  },
  {
   "cell_type": "code",
   "execution_count": 12,
   "metadata": {
    "scrolled": true
   },
   "outputs": [
    {
     "name": "stdout",
     "output_type": "stream",
     "text": [
      "United States of America    8119\n",
      "China                       2901\n",
      "United Kingdom              2567\n",
      "Brazil                      2340\n",
      "France                      2018\n",
      "Canada                      1154\n",
      "Germany                      980\n",
      "India                        845\n",
      "Spain                        613\n",
      "Portugal                     462\n",
      "Name: country_long, dtype: int64\n",
      "Kosovo                      2\n",
      "Central African Republic    2\n",
      "Zimbabwe                    2\n",
      "Liberia                     2\n",
      "Eritrea                     2\n",
      "Luxembourg                  2\n",
      "Lesotho                     1\n",
      "Djibouti                    1\n",
      "Western Sahara              1\n",
      "Guinea-Bissau               1\n",
      "Name: country_long, dtype: int64\n"
     ]
    }
   ],
   "source": [
    "print(powerplants.country_long.value_counts().head(10))\n",
    "\n",
    "print(powerplants.country_long.value_counts().tail(10))"
   ]
  },
  {
   "cell_type": "markdown",
   "metadata": {},
   "source": [
    "## Analytical Questions and Data Visualization"
   ]
  },
  {
   "cell_type": "markdown",
   "metadata": {},
   "source": [
    "Describe the dataset by capacity in gigawatts (GW) for each type of fuel contained in fuel1 column"
   ]
  },
  {
   "cell_type": "code",
   "execution_count": 13,
   "metadata": {
    "scrolled": true
   },
   "outputs": [
    {
     "data": {
      "text/html": [
       "<div>\n",
       "<style scoped>\n",
       "    .dataframe tbody tr th:only-of-type {\n",
       "        vertical-align: middle;\n",
       "    }\n",
       "\n",
       "    .dataframe tbody tr th {\n",
       "        vertical-align: top;\n",
       "    }\n",
       "\n",
       "    .dataframe thead th {\n",
       "        text-align: right;\n",
       "    }\n",
       "</style>\n",
       "<table border=\"1\" class=\"dataframe\">\n",
       "  <thead>\n",
       "    <tr style=\"text-align: right;\">\n",
       "      <th></th>\n",
       "      <th>count</th>\n",
       "      <th>mean</th>\n",
       "      <th>std</th>\n",
       "      <th>min</th>\n",
       "      <th>25%</th>\n",
       "      <th>50%</th>\n",
       "      <th>75%</th>\n",
       "      <th>max</th>\n",
       "    </tr>\n",
       "    <tr>\n",
       "      <th>fuel1</th>\n",
       "      <th></th>\n",
       "      <th></th>\n",
       "      <th></th>\n",
       "      <th></th>\n",
       "      <th></th>\n",
       "      <th></th>\n",
       "      <th></th>\n",
       "      <th></th>\n",
       "    </tr>\n",
       "  </thead>\n",
       "  <tbody>\n",
       "    <tr>\n",
       "      <th>Biomass</th>\n",
       "      <td>1290.0</td>\n",
       "      <td>0.023610</td>\n",
       "      <td>0.048225</td>\n",
       "      <td>0.0010</td>\n",
       "      <td>0.002900</td>\n",
       "      <td>0.009000</td>\n",
       "      <td>0.025000</td>\n",
       "      <td>0.6450</td>\n",
       "    </tr>\n",
       "    <tr>\n",
       "      <th>Coal</th>\n",
       "      <td>2172.0</td>\n",
       "      <td>0.856423</td>\n",
       "      <td>0.841763</td>\n",
       "      <td>0.0012</td>\n",
       "      <td>0.240000</td>\n",
       "      <td>0.600000</td>\n",
       "      <td>1.200000</td>\n",
       "      <td>5.5000</td>\n",
       "    </tr>\n",
       "    <tr>\n",
       "      <th>Cogeneration</th>\n",
       "      <td>43.0</td>\n",
       "      <td>0.106395</td>\n",
       "      <td>0.277872</td>\n",
       "      <td>0.0016</td>\n",
       "      <td>0.007500</td>\n",
       "      <td>0.031900</td>\n",
       "      <td>0.073550</td>\n",
       "      <td>1.4040</td>\n",
       "    </tr>\n",
       "    <tr>\n",
       "      <th>Gas</th>\n",
       "      <td>3068.0</td>\n",
       "      <td>0.384458</td>\n",
       "      <td>0.565588</td>\n",
       "      <td>0.0010</td>\n",
       "      <td>0.033550</td>\n",
       "      <td>0.158500</td>\n",
       "      <td>0.550050</td>\n",
       "      <td>8.8680</td>\n",
       "    </tr>\n",
       "    <tr>\n",
       "      <th>Geothermal</th>\n",
       "      <td>186.0</td>\n",
       "      <td>0.067479</td>\n",
       "      <td>0.121389</td>\n",
       "      <td>0.0010</td>\n",
       "      <td>0.018000</td>\n",
       "      <td>0.030000</td>\n",
       "      <td>0.077750</td>\n",
       "      <td>1.2730</td>\n",
       "    </tr>\n",
       "    <tr>\n",
       "      <th>Hydro</th>\n",
       "      <td>7034.0</td>\n",
       "      <td>0.148687</td>\n",
       "      <td>0.559175</td>\n",
       "      <td>0.0010</td>\n",
       "      <td>0.005309</td>\n",
       "      <td>0.020000</td>\n",
       "      <td>0.093225</td>\n",
       "      <td>22.5000</td>\n",
       "    </tr>\n",
       "    <tr>\n",
       "      <th>Nuclear</th>\n",
       "      <td>199.0</td>\n",
       "      <td>2.053329</td>\n",
       "      <td>1.300090</td>\n",
       "      <td>0.0200</td>\n",
       "      <td>1.092000</td>\n",
       "      <td>1.845000</td>\n",
       "      <td>2.663350</td>\n",
       "      <td>8.2120</td>\n",
       "    </tr>\n",
       "    <tr>\n",
       "      <th>Oil</th>\n",
       "      <td>2925.0</td>\n",
       "      <td>0.163409</td>\n",
       "      <td>0.444947</td>\n",
       "      <td>0.0010</td>\n",
       "      <td>0.003400</td>\n",
       "      <td>0.015400</td>\n",
       "      <td>0.098000</td>\n",
       "      <td>6.7940</td>\n",
       "    </tr>\n",
       "    <tr>\n",
       "      <th>Other</th>\n",
       "      <td>36.0</td>\n",
       "      <td>0.060836</td>\n",
       "      <td>0.058299</td>\n",
       "      <td>0.0045</td>\n",
       "      <td>0.018775</td>\n",
       "      <td>0.040000</td>\n",
       "      <td>0.097250</td>\n",
       "      <td>0.2885</td>\n",
       "    </tr>\n",
       "    <tr>\n",
       "      <th>Petcoke</th>\n",
       "      <td>8.0</td>\n",
       "      <td>0.060788</td>\n",
       "      <td>0.061081</td>\n",
       "      <td>0.0047</td>\n",
       "      <td>0.007200</td>\n",
       "      <td>0.047650</td>\n",
       "      <td>0.090800</td>\n",
       "      <td>0.1665</td>\n",
       "    </tr>\n",
       "    <tr>\n",
       "      <th>Solar</th>\n",
       "      <td>5424.0</td>\n",
       "      <td>0.010628</td>\n",
       "      <td>0.026768</td>\n",
       "      <td>0.0010</td>\n",
       "      <td>0.001900</td>\n",
       "      <td>0.004769</td>\n",
       "      <td>0.009000</td>\n",
       "      <td>0.6480</td>\n",
       "    </tr>\n",
       "    <tr>\n",
       "      <th>Storage</th>\n",
       "      <td>39.0</td>\n",
       "      <td>0.008938</td>\n",
       "      <td>0.010218</td>\n",
       "      <td>0.0010</td>\n",
       "      <td>0.002000</td>\n",
       "      <td>0.004000</td>\n",
       "      <td>0.015400</td>\n",
       "      <td>0.0400</td>\n",
       "    </tr>\n",
       "    <tr>\n",
       "      <th>Waste</th>\n",
       "      <td>1143.0</td>\n",
       "      <td>0.017926</td>\n",
       "      <td>0.034128</td>\n",
       "      <td>0.0010</td>\n",
       "      <td>0.002400</td>\n",
       "      <td>0.005400</td>\n",
       "      <td>0.018200</td>\n",
       "      <td>0.5585</td>\n",
       "    </tr>\n",
       "    <tr>\n",
       "      <th>Wave and Tidal</th>\n",
       "      <td>10.0</td>\n",
       "      <td>0.055220</td>\n",
       "      <td>0.101441</td>\n",
       "      <td>0.0010</td>\n",
       "      <td>0.001400</td>\n",
       "      <td>0.005000</td>\n",
       "      <td>0.022250</td>\n",
       "      <td>0.2540</td>\n",
       "    </tr>\n",
       "    <tr>\n",
       "      <th>Wind</th>\n",
       "      <td>5084.0</td>\n",
       "      <td>0.045791</td>\n",
       "      <td>0.103244</td>\n",
       "      <td>0.0010</td>\n",
       "      <td>0.010000</td>\n",
       "      <td>0.025350</td>\n",
       "      <td>0.049000</td>\n",
       "      <td>6.0000</td>\n",
       "    </tr>\n",
       "  </tbody>\n",
       "</table>\n",
       "</div>"
      ],
      "text/plain": [
       "                 count      mean       std     min       25%       50%  \\\n",
       "fuel1                                                                    \n",
       "Biomass         1290.0  0.023610  0.048225  0.0010  0.002900  0.009000   \n",
       "Coal            2172.0  0.856423  0.841763  0.0012  0.240000  0.600000   \n",
       "Cogeneration      43.0  0.106395  0.277872  0.0016  0.007500  0.031900   \n",
       "Gas             3068.0  0.384458  0.565588  0.0010  0.033550  0.158500   \n",
       "Geothermal       186.0  0.067479  0.121389  0.0010  0.018000  0.030000   \n",
       "Hydro           7034.0  0.148687  0.559175  0.0010  0.005309  0.020000   \n",
       "Nuclear          199.0  2.053329  1.300090  0.0200  1.092000  1.845000   \n",
       "Oil             2925.0  0.163409  0.444947  0.0010  0.003400  0.015400   \n",
       "Other             36.0  0.060836  0.058299  0.0045  0.018775  0.040000   \n",
       "Petcoke            8.0  0.060788  0.061081  0.0047  0.007200  0.047650   \n",
       "Solar           5424.0  0.010628  0.026768  0.0010  0.001900  0.004769   \n",
       "Storage           39.0  0.008938  0.010218  0.0010  0.002000  0.004000   \n",
       "Waste           1143.0  0.017926  0.034128  0.0010  0.002400  0.005400   \n",
       "Wave and Tidal    10.0  0.055220  0.101441  0.0010  0.001400  0.005000   \n",
       "Wind            5084.0  0.045791  0.103244  0.0010  0.010000  0.025350   \n",
       "\n",
       "                     75%      max  \n",
       "fuel1                              \n",
       "Biomass         0.025000   0.6450  \n",
       "Coal            1.200000   5.5000  \n",
       "Cogeneration    0.073550   1.4040  \n",
       "Gas             0.550050   8.8680  \n",
       "Geothermal      0.077750   1.2730  \n",
       "Hydro           0.093225  22.5000  \n",
       "Nuclear         2.663350   8.2120  \n",
       "Oil             0.098000   6.7940  \n",
       "Other           0.097250   0.2885  \n",
       "Petcoke         0.090800   0.1665  \n",
       "Solar           0.009000   0.6480  \n",
       "Storage         0.015400   0.0400  \n",
       "Waste           0.018200   0.5585  \n",
       "Wave and Tidal  0.022250   0.2540  \n",
       "Wind            0.049000   6.0000  "
      ]
     },
     "execution_count": 13,
     "metadata": {},
     "output_type": "execute_result"
    }
   ],
   "source": [
    "powerplants['capacity_gw'].groupby(powerplants['fuel1']).describe()"
   ]
  },
  {
   "cell_type": "code",
   "execution_count": 14,
   "metadata": {
    "scrolled": false
   },
   "outputs": [
    {
     "data": {
      "image/png": "[encoded data removed]",
      "text/plain": [
       "<Figure size 432x288 with 1 Axes>"
      ]
     },
     "metadata": {},
     "output_type": "display_data"
    }
   ],
   "source": [
    "powerplants.groupby('fuel1').capacity_gw.sum().plot(kind = \"bar\")\n",
    "plt.xlabel(\"\")\n",
    "plt.ylabel('Plant Capacity (GW)')\n",
    "plt.yticks(np.arange(0, 1800, step=100))\n",
    "plt.title('Power Plant Global Capacity by Fuel Type');"
   ]
  },
  {
   "cell_type": "markdown",
   "metadata": {},
   "source": [
    "There is a lot of variability in the capacity of plants regardless of the fuel type. Nuclear power plants have the highest mean capacity; there are relatively few nuclear plants, but they all have high generating capacity as compared to other fuel types. Because of this variability, capacity is shown using a logarithmic scale."
   ]
  },
  {
   "cell_type": "code",
   "execution_count": 15,
   "metadata": {
    "scrolled": false
   },
   "outputs": [
    {
     "data": {
      "image/png": "[encoded data removed]",
      "text/plain": [
       "<Figure size 432x288 with 1 Axes>"
      ]
     },
     "metadata": {},
     "output_type": "display_data"
    }
   ],
   "source": [
    "#Variability in capacity based on fuel type, using log scale\n",
    "powerplants.boxplot(column = 'capacity_gw_log', by = 'fuel1' )\n",
    "plt.xlabel('Fuel type')\n",
    "plt.ylabel('Capacity (GW, log scale)')\n",
    "plt.title('Global Power Plants Fuel Type and Capacity (log scale)')\n",
    "plt.suptitle(\"\")\n",
    "plt.show()"
   ]
  },
  {
   "cell_type": "markdown",
   "metadata": {},
   "source": [
    "Some plants have more than one fuel type. See discussion of this element in the \"Data Limitations\" section of the accompanying report."
   ]
  },
  {
   "cell_type": "code",
   "execution_count": 16,
   "metadata": {
    "scrolled": true
   },
   "outputs": [
    {
     "name": "stdout",
     "output_type": "stream",
     "text": [
      "Plants with value for Fuel 1: 28661\n",
      "Plants with value for Fuel 2: 1705\n",
      "Plants with value for Fuel 3: 296\n",
      "Plants with value for Fuel 4: 108\n"
     ]
    }
   ],
   "source": [
    "print('Plants with value for Fuel 1: ' + str(powerplants['fuel1'].count()) + '\\n' + 'Plants with value for Fuel 2: ' + str(powerplants['fuel2'].count()) + '\\n' + 'Plants with value for Fuel 3: ' + str(powerplants['fuel3'].count()) + '\\n' + 'Plants with value for Fuel 4: ' + str(powerplants['fuel4'].count())) "
   ]
  },
  {
   "cell_type": "markdown",
   "metadata": {},
   "source": [
    "\n",
    "Note: It appears as if 3 records do not have a value for Fuel 1. "
   ]
  },
  {
   "cell_type": "code",
   "execution_count": 17,
   "metadata": {},
   "outputs": [
    {
     "name": "stdout",
     "output_type": "stream",
     "text": [
      "     country  capacity_mw fuel1 fuel2 fuel3 fuel4\n",
      "8475     FJI         2.98   NaN   NaN   NaN   NaN\n",
      "8481     FJI        80.00   NaN   NaN   NaN   NaN\n",
      "8482     FJI         6.00   NaN   NaN   NaN   NaN\n"
     ]
    }
   ],
   "source": [
    "print(pd.DataFrame(powerplants.loc[powerplants['fuel1'].isnull()], columns=('country', 'capacity_mw', 'fuel1', 'fuel2', 'fuel3', 'fuel4')))             "
   ]
  },
  {
   "cell_type": "markdown",
   "metadata": {},
   "source": [
    "An example of the mix of fuel types that occurs in this dataset when a plant uses more than one fuel."
   ]
  },
  {
   "cell_type": "code",
   "execution_count": 18,
   "metadata": {},
   "outputs": [
    {
     "name": "stdout",
     "output_type": "stream",
     "text": [
      "      country  capacity_mw         fuel1    fuel2    fuel3    fuel4\n",
      "19712     GBR         35.0  Cogeneration     Coal    Waste      Gas\n",
      "20295     USA          4.0         Waste      Gas      Oil    Other\n",
      "20299     USA         48.0         Waste      Oil      Gas  Biomass\n",
      "20496     USA        180.0          Coal    Waste    Other  Biomass\n",
      "20532     USA        156.5          Coal    Waste      Gas  Biomass\n",
      "20680     USA         67.2          Coal    Waste    Other      Gas\n",
      "20694     USA          7.1           Oil      Gas  Biomass    Solar\n",
      "20800     USA       1884.5          Coal  Petcoke      Oil      Gas\n",
      "20974     USA         63.2         Waste    Other      Gas  Biomass\n",
      "20997     USA       1707.3          Coal  Petcoke      Oil      Gas\n",
      "21074     USA         72.2         Waste      Oil      Gas  Biomass\n",
      "21090     USA         69.4         Waste      Oil      Gas  Biomass\n",
      "21305     USA         52.5          Coal    Waste      Oil  Biomass\n",
      "21508     USA         67.0          Coal  Petcoke    Waste      Gas\n",
      "21691     USA         85.1          Coal    Waste      Gas      Oil\n",
      "21701     USA        128.6         Waste      Oil      Gas  Biomass\n",
      "21832     USA        160.9         Waste     Coal      Oil      Gas\n",
      "21993     USA         61.5         Waste    Other      Gas  Biomass\n",
      "22013     USA         72.8           Oil     Wind  Biomass    Solar\n",
      "22066     USA         55.5         Waste  Petcoke    Other      Gas\n",
      "22128     USA         68.3         Waste      Oil      Gas  Biomass\n",
      "22129     USA         50.0         Waste      Oil      Gas  Biomass\n",
      "22130     USA        121.5         Waste      Gas      Oil  Biomass\n",
      "22214     USA       1747.7          Coal      Oil      Gas    Solar\n",
      "22262     USA          4.8          Coal    Waste      Gas      Oil\n",
      "22429     USA        122.4         Waste    Other      Gas  Biomass\n",
      "22460     USA         23.4          Coal    Waste  Biomass    Hydro\n",
      "22552     USA         96.9          Coal    Waste      Gas  Biomass\n",
      "22553     USA         42.0         Waste      Oil    Other  Biomass\n",
      "22596     USA          5.7         Waste     Coal      Oil  Biomass\n",
      "22612     USA         85.1         Waste      Oil      Gas  Biomass\n",
      "22617     USA        107.6         Waste     Coal      Oil      Gas\n",
      "22860     USA         99.5         Waste      Oil      Gas  Biomass\n",
      "22877     USA         33.6           Oil      Gas     Wind    Solar\n",
      "22899     USA          7.9         Waste      Gas  Biomass    Hydro\n",
      "22900     USA         40.9         Waste      Gas      Oil  Biomass\n",
      "22901     USA        101.2         Waste     Coal      Oil  Biomass\n",
      "22902     USA         78.4         Waste     Coal      Oil      Gas\n",
      "22904     USA         91.6         Waste      Oil      Gas  Biomass\n",
      "22905     USA         64.8         Waste    Other      Gas  Biomass\n",
      "22907     USA        127.7       Petcoke    Waste      Gas  Biomass\n",
      "23087     USA         90.8          Coal  Petcoke      Oil      Gas\n",
      "23162     USA        558.5         Waste      Gas      Oil    Solar\n",
      "23454     USA         47.6          Coal    Waste      Gas  Biomass\n",
      "23616     USA         70.4          Coal    Waste    Other  Biomass\n",
      "23643     USA         48.0         Waste    Other      Gas  Biomass\n",
      "23644     USA         84.7         Waste     Coal      Oil      Gas\n",
      "23646     USA        109.6         Waste      Oil      Gas  Biomass\n",
      "23648     USA         95.6         Waste      Gas      Oil    Other\n",
      "23651     USA         82.8          Coal    Waste      Gas  Biomass\n",
      "23652     USA         89.8          Coal    Waste      Gas  Biomass\n",
      "23654     USA         61.5         Waste      Gas      Oil  Biomass\n",
      "23656     USA        104.2         Waste      Oil      Gas  Biomass\n",
      "23657     USA        154.0         Waste     Coal      Oil      Gas\n",
      "23660     USA         50.5         Waste      Gas      Oil  Biomass\n",
      "23663     USA         14.5         Waste      Oil    Other  Biomass\n",
      "23734     USA        450.5          Coal    Waste      Gas      Oil\n",
      "23855     USA         28.3          Coal      Oil      Gas  Biomass\n",
      "23859     USA         99.2         Waste     Coal      Oil  Biomass\n",
      "23867     USA         44.6           Gas  Biomass     Coal  Petcoke\n",
      "24100     USA         55.7          Coal      Oil      Gas     Wind\n",
      "24301     USA         55.0         Waste    Other      Gas  Biomass\n",
      "24365     USA         65.0          Coal      Oil      Gas  Biomass\n",
      "24419     USA         91.1          Coal    Waste      Gas      Oil\n",
      "24474     USA        122.9          Coal  Petcoke    Waste      Gas\n",
      "24477     USA        135.0         Waste    Other      Gas  Biomass\n",
      "24503     USA        422.0          Coal  Petcoke      Oil      Gas\n",
      "24541     USA       4317.5           Gas      Oil    Solar    Other\n",
      "24616     USA        112.5         Waste      Oil      Gas  Biomass\n",
      "24646     USA       1041.0          Coal    Other      Gas      Oil\n",
      "25152     USA         62.4         Waste     Coal      Oil      Gas\n",
      "25217     USA        134.1          Coal  Petcoke    Waste    Other\n",
      "25235     USA       1407.1          Coal  Petcoke    Waste      Gas\n",
      "25402     USA         19.0           Oil      Gas    Solar     Wind\n",
      "25461     USA        109.5          Coal    Waste      Oil  Biomass\n",
      "25462     USA         92.8          Coal    Waste    Other  Biomass\n",
      "25469     USA         69.9         Waste    Other      Gas      Oil\n",
      "25478     USA          7.1         Waste    Other      Gas      Oil\n",
      "25514     USA         72.5         Waste    Other      Gas  Biomass\n",
      "25515     USA         18.7         Waste      Oil      Gas  Biomass\n",
      "25703     USA         85.0           Gas    Waste    Other  Biomass\n",
      "25811     USA          7.9         Waste      Oil      Gas  Biomass\n",
      "25993     USA        133.3          Coal      Oil      Gas    Hydro\n",
      "26034     USA         28.4          Coal    Waste      Gas    Hydro\n",
      "26047     USA         77.0         Waste      Oil      Gas  Biomass\n",
      "26071     USA         28.5         Waste      Gas      Oil  Biomass\n",
      "26103     USA         21.3          Coal      Oil      Gas    Hydro\n",
      "26179     USA         73.4         Waste      Oil      Gas  Biomass\n",
      "26217     USA         55.0         Waste     Coal      Oil      Gas\n",
      "26302     USA        102.6           Oil    Waste    Other  Biomass\n",
      "26324     USA         70.9          Coal    Waste      Oil    Hydro\n",
      "26508     USA         94.5         Waste      Oil      Gas  Biomass\n",
      "26517     USA        140.4         Waste     Coal  Petcoke      Oil\n",
      "26530     USA        171.2          Coal    Waste      Gas      Oil\n",
      "26819     USA        107.1         Waste      Gas  Biomass    Other\n",
      "26992     USA       1262.0          Coal    Waste      Gas      Oil\n",
      "27078     USA         51.5          Coal    Waste      Gas  Biomass\n",
      "27192     USA         21.9         Waste    Other      Gas  Biomass\n",
      "27291     USA        194.3         Waste     Coal    Other      Gas\n",
      "27444     USA       2594.1          Coal  Petcoke      Oil      Gas\n",
      "27574     USA         30.7         Waste     Coal      Oil      Gas\n",
      "27674     USA         56.0          Coal    Waste      Gas  Biomass\n",
      "27983     USA         34.0          Coal    Waste      Gas      Oil\n",
      "27984     USA         82.1          Coal    Waste    Other      Oil\n",
      "27985     USA        101.0          Coal    Waste      Gas  Biomass\n",
      "28025     USA         77.4         Waste     Coal      Oil      Gas\n",
      "28122     USA         30.0          Coal    Waste      Gas     Wind\n",
      "28178     USA         72.3          Coal    Waste      Gas  Biomass\n"
     ]
    }
   ],
   "source": [
    "#Exploration: Plants that have 4 fuel types\n",
    "print(pd.DataFrame(powerplants.loc[powerplants['fuel4'].notnull()], columns=('country', 'capacity_mw', 'fuel1', 'fuel2', 'fuel3', 'fuel4')))               "
   ]
  },
  {
   "cell_type": "markdown",
   "metadata": {},
   "source": [
    "The countries with the highest total generating capacity."
   ]
  },
  {
   "cell_type": "code",
   "execution_count": 19,
   "metadata": {
    "scrolled": true
   },
   "outputs": [
    {
     "name": "stdout",
     "output_type": "stream",
     "text": [
      "                 country_long  total_capacity_gw\n",
      "30                      China        1237.478380\n",
      "155  United States of America        1183.855550\n",
      "67                      India         273.030131\n",
      "75                      Japan         210.594750\n",
      "124                    Russia         182.752000\n",
      "19                     Brazil         145.788471\n",
      "26                     Canada         143.455200\n",
      "52                     France         109.333329\n",
      "57                    Germany         108.429775\n",
      "134               South Korea          93.391780\n"
     ]
    }
   ],
   "source": [
    "top10_cap = powerplants['capacity_gw'].groupby(powerplants['country_long']).sum().reset_index().sort_values('capacity_gw',ascending=False).head(10)\n",
    "top10_cap.rename(columns={'capacity_gw':'total_capacity_gw'}, inplace = True)\n",
    "print(top10_cap)"
   ]
  },
  {
   "cell_type": "code",
   "execution_count": 20,
   "metadata": {},
   "outputs": [
    {
     "data": {
      "image/png": "[encoded data removed]",
      "text/plain": [
       "<Figure size 432x288 with 1 Axes>"
      ]
     },
     "metadata": {},
     "output_type": "display_data"
    }
   ],
   "source": [
    "top10_cap.groupby('country_long').total_capacity_gw.mean().plot(kind = \"bar\")\n",
    "plt.xlabel(\"\")\n",
    "plt.ylabel('Total capacity (GW)')\n",
    "plt.title('Total Capacity by Country');"
   ]
  },
  {
   "cell_type": "code",
   "execution_count": 21,
   "metadata": {},
   "outputs": [],
   "source": [
    "cntry_x_fuel = powerplants['capacity_gw'].groupby([powerplants['country_long'], powerplants['fuel1']]).sum().reset_index()"
   ]
  },
  {
   "cell_type": "markdown",
   "metadata": {},
   "source": [
    "What is the fuel mix for each of the 10 countries with the highest generating capacity?\n",
    "\n",
    "Brazil and Canada have a high proportion of hydropower. About 67% the capacity in both India and China is coal-fueled, while 57% of France's generating capacity is nuclear. 41% of Russian power plants are gas-powered. The US relies on coal and gas for more than half of it's generating capacity."
   ]
  },
  {
   "cell_type": "code",
   "execution_count": 22,
   "metadata": {},
   "outputs": [],
   "source": [
    "#Merge 2 dataframes: the capacity by fuel by country with the total capacity by country\n",
    "top10_cap2 = pd.merge(top10_cap, cntry_x_fuel, on='country_long')\n",
    "top10_cap2['percent_capacity'] = (top10_cap2['capacity_gw'] / top10_cap2['total_capacity_gw']) * 100\n",
    "top10_cap2.sort_values(by=['country_long','percent_capacity'], inplace=True)\n",
    "top10_w_fuel = top10_cap2[['country_long', 'fuel1', 'percent_capacity']].copy()"
   ]
  },
  {
   "cell_type": "code",
   "execution_count": 23,
   "metadata": {},
   "outputs": [],
   "source": [
    "#Pivot the top10 fuel dataframe so all fuel types are columns\n",
    "top10fuel_pivot = top10_w_fuel.pivot(index='country_long', columns = 'fuel1') ['percent_capacity']"
   ]
  },
  {
   "cell_type": "code",
   "execution_count": 24,
   "metadata": {},
   "outputs": [
    {
     "data": {
      "image/png": "[encoded data removed]",
      "text/plain": [
       "<Figure size 432x288 with 1 Axes>"
      ]
     },
     "metadata": {},
     "output_type": "display_data"
    }
   ],
   "source": [
    "#Make a percent stacked bar chart of capacity by fuel type by country\n",
    "#Bars represent country (N=10). Segments of bar represent fuel types. The y axis is 0 - 100 percent\n",
    "top10fuel_pivot.plot(kind='bar', stacked=True)\n",
    "plt.legend(loc='upper left', bbox_to_anchor=(1,1), title='Fuel type')\n",
    "plt.xlabel(\"\")\n",
    "plt.suptitle(\"\")\n",
    "plt.show();"
   ]
  }
 ],
 "metadata": {
  "kernelspec": {
   "display_name": "Python 3",
   "language": "python",
   "name": "python3"
  },
  "language_info": {
   "codemirror_mode": {
    "name": "ipython",
    "version": 3
   },
   "file_extension": ".py",
   "mimetype": "text/x-python",
   "name": "python",
   "nbconvert_exporter": "python",
   "pygments_lexer": "ipython3",
   "version": "3.6.5"
  }
 },
 "nbformat": 4,
 "nbformat_minor": 2
}
