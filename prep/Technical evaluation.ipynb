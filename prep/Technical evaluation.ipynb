{
 "cells": [
  {
   "cell_type": "code",
   "execution_count": 3,
   "metadata": {},
   "outputs": [],
   "source": [
    "import pandas as pd\n",
    "pd.set_option('display.max_rows', 1000)\n",
    "import numpy as np\n",
    "import matplotlib.pyplot as plt\n",
    "%matplotlib inline"
   ]
  },
  {
   "cell_type": "code",
   "execution_count": 4,
   "metadata": {},
   "outputs": [],
   "source": [
    "crashes = pd.read_csv('../Datafiles/plane_crashes_data.csv')   "
   ]
  },
  {
   "cell_type": "code",
   "execution_count": 5,
   "metadata": {},
   "outputs": [
    {
     "data": {
      "text/plain": [
       "(2709, 10)"
      ]
     },
     "execution_count": 5,
     "metadata": {},
     "output_type": "execute_result"
    }
   ],
   "source": [
    "crashes.shape"
   ]
  },
  {
   "cell_type": "code",
   "execution_count": 6,
   "metadata": {
    "scrolled": true
   },
   "outputs": [
    {
     "data": {
      "text/plain": [
       "['month',\n",
       " 'hour',\n",
       " 'year',\n",
       " 'location',\n",
       " 'operator',\n",
       " 'route',\n",
       " 'type',\n",
       " 'aboard',\n",
       " 'fatalities',\n",
       " 'summary']"
      ]
     },
     "execution_count": 6,
     "metadata": {},
     "output_type": "execute_result"
    }
   ],
   "source": [
    "list(crashes.columns.values)"
   ]
  },
  {
   "cell_type": "code",
   "execution_count": 7,
   "metadata": {},
   "outputs": [
    {
     "data": {
      "text/html": [
       "<div>\n",
       "<style scoped>\n",
       "    .dataframe tbody tr th:only-of-type {\n",
       "        vertical-align: middle;\n",
       "    }\n",
       "\n",
       "    .dataframe tbody tr th {\n",
       "        vertical-align: top;\n",
       "    }\n",
       "\n",
       "    .dataframe thead th {\n",
       "        text-align: right;\n",
       "    }\n",
       "</style>\n",
       "<table border=\"1\" class=\"dataframe\">\n",
       "  <thead>\n",
       "    <tr style=\"text-align: right;\">\n",
       "      <th></th>\n",
       "      <th>month</th>\n",
       "      <th>hour</th>\n",
       "      <th>year</th>\n",
       "      <th>location</th>\n",
       "      <th>operator</th>\n",
       "      <th>route</th>\n",
       "      <th>type</th>\n",
       "      <th>aboard</th>\n",
       "      <th>fatalities</th>\n",
       "      <th>summary</th>\n",
       "    </tr>\n",
       "  </thead>\n",
       "  <tbody>\n",
       "    <tr>\n",
       "      <th>0</th>\n",
       "      <td>1</td>\n",
       "      <td>12</td>\n",
       "      <td>1950</td>\n",
       "      <td>Near Vacas, Bolivia</td>\n",
       "      <td>Military - Bolivian Air Force</td>\n",
       "      <td>Valle grande - Cochabamba</td>\n",
       "      <td>Douglas C-47</td>\n",
       "      <td>32</td>\n",
       "      <td>32</td>\n",
       "      <td>Crashed while en route in the Andes mountains ...</td>\n",
       "    </tr>\n",
       "    <tr>\n",
       "      <th>1</th>\n",
       "      <td>3</td>\n",
       "      <td>20</td>\n",
       "      <td>1950</td>\n",
       "      <td>Minneapolis, Minnesota</td>\n",
       "      <td>Northwest Orient Airlines</td>\n",
       "      <td>Rochester Minn. - Minneapolis</td>\n",
       "      <td>Martin 202</td>\n",
       "      <td>13</td>\n",
       "      <td>13</td>\n",
       "      <td>Crashed into a flag pole, well marked by red n...</td>\n",
       "    </tr>\n",
       "    <tr>\n",
       "      <th>2</th>\n",
       "      <td>3</td>\n",
       "      <td>14</td>\n",
       "      <td>1950</td>\n",
       "      <td>Llandow Airport, Cardiff, Wales</td>\n",
       "      <td>Fairflight Ltd.</td>\n",
       "      <td>Llandow - Dublin</td>\n",
       "      <td>Avro 689 Tudor 5</td>\n",
       "      <td>83</td>\n",
       "      <td>80</td>\n",
       "      <td>During the approach to Runway 28 at Llandow Ai...</td>\n",
       "    </tr>\n",
       "    <tr>\n",
       "      <th>3</th>\n",
       "      <td>4</td>\n",
       "      <td>23</td>\n",
       "      <td>1950</td>\n",
       "      <td>Near Atsugi, Japan</td>\n",
       "      <td>Military - U.S. Air Force</td>\n",
       "      <td>Philippines - Japan</td>\n",
       "      <td>Douglas C-54D</td>\n",
       "      <td>35</td>\n",
       "      <td>35</td>\n",
       "      <td>Flew off its prescribed course and crashed int...</td>\n",
       "    </tr>\n",
       "    <tr>\n",
       "      <th>4</th>\n",
       "      <td>5</td>\n",
       "      <td>20</td>\n",
       "      <td>1950</td>\n",
       "      <td>Lagens Air Force Base, Azores</td>\n",
       "      <td>Military - U.S. Air Force</td>\n",
       "      <td>Bermuda - England</td>\n",
       "      <td>Boeing B-29</td>\n",
       "      <td>16</td>\n",
       "      <td>16</td>\n",
       "      <td>Crashed while attempting to land after being d...</td>\n",
       "    </tr>\n",
       "    <tr>\n",
       "      <th>5</th>\n",
       "      <td>5</td>\n",
       "      <td>10</td>\n",
       "      <td>1950</td>\n",
       "      <td>Myrtle Beach, South Carolina</td>\n",
       "      <td>Military - U.S. Air Force</td>\n",
       "      <td>NaN</td>\n",
       "      <td>Curtiss C-46D</td>\n",
       "      <td>39</td>\n",
       "      <td>39</td>\n",
       "      <td>Lost the left aileron after taking off, lost c...</td>\n",
       "    </tr>\n",
       "    <tr>\n",
       "      <th>6</th>\n",
       "      <td>5</td>\n",
       "      <td>17</td>\n",
       "      <td>1950</td>\n",
       "      <td>Teterboro, New Jersey</td>\n",
       "      <td>Regina Cargo Airlines</td>\n",
       "      <td>NaN</td>\n",
       "      <td>Curtiss C-46F-1-CU</td>\n",
       "      <td>2</td>\n",
       "      <td>1</td>\n",
       "      <td>The cargo plane lost an engine on takeoff and ...</td>\n",
       "    </tr>\n",
       "    <tr>\n",
       "      <th>7</th>\n",
       "      <td>6</td>\n",
       "      <td>22</td>\n",
       "      <td>1950</td>\n",
       "      <td>AtlantiOcean off Florida</td>\n",
       "      <td>Westair Transport</td>\n",
       "      <td>San Juan - Wilmington NC</td>\n",
       "      <td>Curtiss C-46-F-1-CU</td>\n",
       "      <td>65</td>\n",
       "      <td>28</td>\n",
       "      <td>Ditched into the Atlanti300 miles east of Melb...</td>\n",
       "    </tr>\n",
       "    <tr>\n",
       "      <th>8</th>\n",
       "      <td>6</td>\n",
       "      <td>19</td>\n",
       "      <td>1950</td>\n",
       "      <td>Near Fonseca, Colombia</td>\n",
       "      <td>New Tribes Mission</td>\n",
       "      <td>Kingston, Jamacia - Maracaibo, Venezuela</td>\n",
       "      <td>Douglas DC-3-178</td>\n",
       "      <td>15</td>\n",
       "      <td>15</td>\n",
       "      <td>Crashed and burned 19 miles east northeast of ...</td>\n",
       "    </tr>\n",
       "    <tr>\n",
       "      <th>9</th>\n",
       "      <td>6</td>\n",
       "      <td>21</td>\n",
       "      <td>1950</td>\n",
       "      <td>Off Bahrain</td>\n",
       "      <td>Air France</td>\n",
       "      <td>Saigon - Paris</td>\n",
       "      <td>Douglas DC-4-1009</td>\n",
       "      <td>52</td>\n",
       "      <td>46</td>\n",
       "      <td>While making a final approach for Bahrain, the...</td>\n",
       "    </tr>\n",
       "  </tbody>\n",
       "</table>\n",
       "</div>"
      ],
      "text/plain": [
       "   month hour  year                         location  \\\n",
       "0      1   12  1950              Near Vacas, Bolivia   \n",
       "1      3   20  1950           Minneapolis, Minnesota   \n",
       "2      3   14  1950  Llandow Airport, Cardiff, Wales   \n",
       "3      4   23  1950               Near Atsugi, Japan   \n",
       "4      5   20  1950    Lagens Air Force Base, Azores   \n",
       "5      5   10  1950     Myrtle Beach, South Carolina   \n",
       "6      5   17  1950            Teterboro, New Jersey   \n",
       "7      6   22  1950         AtlantiOcean off Florida   \n",
       "8      6   19  1950           Near Fonseca, Colombia   \n",
       "9      6   21  1950                      Off Bahrain   \n",
       "\n",
       "                        operator                                     route  \\\n",
       "0  Military - Bolivian Air Force                 Valle grande - Cochabamba   \n",
       "1      Northwest Orient Airlines             Rochester Minn. - Minneapolis   \n",
       "2                Fairflight Ltd.                          Llandow - Dublin   \n",
       "3      Military - U.S. Air Force                       Philippines - Japan   \n",
       "4      Military - U.S. Air Force                         Bermuda - England   \n",
       "5      Military - U.S. Air Force                                       NaN   \n",
       "6          Regina Cargo Airlines                                       NaN   \n",
       "7              Westair Transport                  San Juan - Wilmington NC   \n",
       "8             New Tribes Mission  Kingston, Jamacia - Maracaibo, Venezuela   \n",
       "9                     Air France                            Saigon - Paris   \n",
       "\n",
       "                  type  aboard  fatalities  \\\n",
       "0         Douglas C-47      32          32   \n",
       "1           Martin 202      13          13   \n",
       "2     Avro 689 Tudor 5      83          80   \n",
       "3        Douglas C-54D      35          35   \n",
       "4          Boeing B-29      16          16   \n",
       "5        Curtiss C-46D      39          39   \n",
       "6   Curtiss C-46F-1-CU       2           1   \n",
       "7  Curtiss C-46-F-1-CU      65          28   \n",
       "8     Douglas DC-3-178      15          15   \n",
       "9    Douglas DC-4-1009      52          46   \n",
       "\n",
       "                                             summary  \n",
       "0  Crashed while en route in the Andes mountains ...  \n",
       "1  Crashed into a flag pole, well marked by red n...  \n",
       "2  During the approach to Runway 28 at Llandow Ai...  \n",
       "3  Flew off its prescribed course and crashed int...  \n",
       "4  Crashed while attempting to land after being d...  \n",
       "5  Lost the left aileron after taking off, lost c...  \n",
       "6  The cargo plane lost an engine on takeoff and ...  \n",
       "7  Ditched into the Atlanti300 miles east of Melb...  \n",
       "8  Crashed and burned 19 miles east northeast of ...  \n",
       "9  While making a final approach for Bahrain, the...  "
      ]
     },
     "execution_count": 7,
     "metadata": {},
     "output_type": "execute_result"
    }
   ],
   "source": [
    "crashes.head(10)"
   ]
  },
  {
   "cell_type": "code",
   "execution_count": 20,
   "metadata": {},
   "outputs": [
    {
     "data": {
      "text/plain": [
       "2009"
      ]
     },
     "execution_count": 20,
     "metadata": {},
     "output_type": "execute_result"
    }
   ],
   "source": [
    "crashes['year'].max()"
   ]
  },
  {
   "cell_type": "code",
   "execution_count": 18,
   "metadata": {},
   "outputs": [],
   "source": [
    "tempcrashes = crashes.loc[lambda crashes: crashes['year'] >= 1980]"
   ]
  },
  {
   "cell_type": "code",
   "execution_count": 15,
   "metadata": {},
   "outputs": [
    {
     "data": {
      "text/plain": [
       "pandas.core.frame.DataFrame"
      ]
     },
     "execution_count": 15,
     "metadata": {},
     "output_type": "execute_result"
    }
   ],
   "source": [
    "type(tempcrashes)"
   ]
  },
  {
   "cell_type": "code",
   "execution_count": 21,
   "metadata": {},
   "outputs": [
    {
     "data": {
      "text/plain": [
       "24.932607215793055"
      ]
     },
     "execution_count": 21,
     "metadata": {},
     "output_type": "execute_result"
    }
   ],
   "source": [
    "tempcrashes['fatalities'].mean()"
   ]
  },
  {
   "cell_type": "code",
   "execution_count": 24,
   "metadata": {},
   "outputs": [
    {
     "data": {
      "text/plain": [
       "1     255\n",
       "12    252\n",
       "3     251\n",
       "8     239\n",
       "7     234\n",
       "11    230\n",
       "9     228\n",
       "10    224\n",
       "2     209\n",
       "4     204\n",
       "6     202\n",
       "5     181\n",
       "Name: month, dtype: int64"
      ]
     },
     "execution_count": 24,
     "metadata": {},
     "output_type": "execute_result"
    }
   ],
   "source": [
    "crashes['month'].value_counts()"
   ]
  },
  {
   "cell_type": "code",
   "execution_count": 25,
   "metadata": {},
   "outputs": [
    {
     "data": {
      "text/plain": [
       "583"
      ]
     },
     "execution_count": 25,
     "metadata": {},
     "output_type": "execute_result"
    }
   ],
   "source": [
    "crashes['fatalities'].max()"
   ]
  },
  {
   "cell_type": "code",
   "execution_count": 28,
   "metadata": {},
   "outputs": [],
   "source": [
    "tempcrashes2 = crashes.loc[lambda crashes: crashes['fatalities'] >= 1]"
   ]
  },
  {
   "cell_type": "code",
   "execution_count": 29,
   "metadata": {},
   "outputs": [
    {
     "data": {
      "text/plain": [
       "(2660, 10)"
      ]
     },
     "execution_count": 29,
     "metadata": {},
     "output_type": "execute_result"
    }
   ],
   "source": [
    "tempcrashes2.shape"
   ]
  },
  {
   "cell_type": "code",
   "execution_count": 30,
   "metadata": {},
   "outputs": [
    {
     "data": {
      "text/plain": [
       "(2709, 10)"
      ]
     },
     "execution_count": 30,
     "metadata": {},
     "output_type": "execute_result"
    }
   ],
   "source": [
    "crashes.shape"
   ]
  },
  {
   "cell_type": "code",
   "execution_count": 37,
   "metadata": {},
   "outputs": [],
   "source": [
    "tempcrashes3 = (crashes['fatalities'] / crashes['aboard'])*100"
   ]
  },
  {
   "cell_type": "code",
   "execution_count": 39,
   "metadata": {},
   "outputs": [
    {
     "data": {
      "text/plain": [
       "82.31319223510573"
      ]
     },
     "execution_count": 39,
     "metadata": {},
     "output_type": "execute_result"
    }
   ],
   "source": [
    "tempcrashes3.mean()"
   ]
  },
  {
   "cell_type": "code",
   "execution_count": null,
   "metadata": {},
   "outputs": [],
   "source": []
  }
 ],
 "metadata": {
  "kernelspec": {
   "display_name": "Python 3",
   "language": "python",
   "name": "python3"
  },
  "language_info": {
   "codemirror_mode": {
    "name": "ipython",
    "version": 3
   },
   "file_extension": ".py",
   "mimetype": "text/x-python",
   "name": "python",
   "nbconvert_exporter": "python",
   "pygments_lexer": "ipython3",
   "version": "3.6.5"
  }
 },
 "nbformat": 4,
 "nbformat_minor": 2
}
