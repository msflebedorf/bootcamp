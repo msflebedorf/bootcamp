{
 "cells": [
  {
   "cell_type": "code",
   "execution_count": 37,
   "metadata": {},
   "outputs": [
    {
     "name": "stdout",
     "output_type": "stream",
     "text": [
      "4 6\n"
     ]
    }
   ],
   "source": [
    "#define the Vector object with method add to add a second vector to the first, and return a Vector object\n",
    "#This solution returns errors on some random tests in CodeWarrior\n",
    "\n",
    "class Vector(object):\n",
    "    def __init__(self, x, y):\n",
    "        self.x = x\n",
    "        self.y = y\n",
    "    def add(self, other_vector):\n",
    "        self.x += other_vector.x\n",
    "        self.y += other_vector.y\n",
    "        return Vector(self.x, self.y)\n",
    "    \n",
    "v_1 = Vector(1, 2)\n",
    "v_2 = Vector(3, 4)\n",
    "\n",
    "new_v = v_1.add(v_2)\n",
    "print(new_v.x, new_v.y)\n",
    "\n"
   ]
  },
  {
   "cell_type": "code",
   "execution_count": 43,
   "metadata": {},
   "outputs": [
    {
     "name": "stdout",
     "output_type": "stream",
     "text": [
      "4 6\n"
     ]
    }
   ],
   "source": [
    "#This is the recommended solution\n",
    "class Vector(object):\n",
    "    def __init__(self, x, y):\n",
    "        self.x = x\n",
    "        self.y = y\n",
    "        \n",
    "    def add(self, other_vector):\n",
    "        return Vector(self.x + other_vector.x, self.y + other_vector.y)\n",
    "    \n",
    "v_1 = Vector(1, 2)\n",
    "v_2 = Vector(3, 4)\n",
    "\n",
    "new_v = v_1.add(v_2)\n",
    "print(new_v.x, new_v.y)"
   ]
  },
  {
   "cell_type": "code",
   "execution_count": null,
   "metadata": {},
   "outputs": [],
   "source": []
  }
 ],
 "metadata": {
  "kernelspec": {
   "display_name": "Python 3",
   "language": "python",
   "name": "python3"
  },
  "language_info": {
   "codemirror_mode": {
    "name": "ipython",
    "version": 3
   },
   "file_extension": ".py",
   "mimetype": "text/x-python",
   "name": "python",
   "nbconvert_exporter": "python",
   "pygments_lexer": "ipython3",
   "version": "3.6.5"
  }
 },
 "nbformat": 4,
 "nbformat_minor": 2
}
