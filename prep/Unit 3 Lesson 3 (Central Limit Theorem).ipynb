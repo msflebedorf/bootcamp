{
 "cells": [
  {
   "cell_type": "markdown",
   "metadata": {},
   "source": [
    "Binomial distribution: A discrete, not continuous, distribution. The probability of x successes in n trials, given the probability of success p.\n",
    "\n",
    "Central limit theorem: The distribution of sample means will approach a normal distribution as the sample size gets larger (especially when n > 30). Stated another way: As we take more samples (especially large ones) the graph of the sample means will look more and more like a normal distribution. Also, the average of sample means will be the population mean. Similarly for standard deviation.\n",
    "\n",
    "The practical result of applying the CLT is a z-score which can be used with a table to determine the probability of the sample mean being [greater than, less than, or between two numbers]. That is, finding area beneath the curve for a normal distribution. The sample mean is called Xbar.\n"
   ]
  },
  {
   "cell_type": "markdown",
   "metadata": {},
   "source": [
    "Example: A certain group of welfare recipients receives SNAP benefits of $110 per week with a standard deviation of $20. If a random sample of 25 people is taken, what is the probability their mean benefit will be greater than $120 per week?\n",
    "\n",
    "Step 1: Insert the information into the z-formula:\n",
    "= (120-110)/20 √25 = 10/ (20/5) = 10/4 = 2.5.\n",
    "Step 2: Look up the z-score in a table (or calculate it using technology). A z-score of 2.5 has an area of roughly 49.38%. Adding 50% (for the left half of the curve), we get 99.38%."
   ]
  },
  {
   "cell_type": "code",
   "execution_count": 21,
   "metadata": {},
   "outputs": [
    {
     "name": "stdout",
     "output_type": "stream",
     "text": [
      "pop1 mean: 1.9823\n",
      "pop1 sample mean: 1.9\n",
      "pop1 std dev: 1.2641149908137312\n",
      "pop1 sample std dev: 1.1532562594670797\n",
      "\n",
      "pop2 mean: 5.0008\n",
      "pop2 sample mean: 4.83\n",
      "pop2 std dev: 1.5709230916884507\n",
      "pop2 sample std dev: 1.6495757030218408\n"
     ]
    }
   ],
   "source": [
    "import numpy as np\n",
    "import pandas as pd\n",
    "import matplotlib.pyplot as plt\n",
    "%matplotlib inline\n",
    "\n",
    "#generate 2 populations with binomial distribution, different values for p\n",
    "pop1 = np.random.binomial(10, .2, 10000)\n",
    "pop2 = np.random.binomial(10, .5, 10000)\n",
    "\n",
    "#sample the populations with n = 100 using random.choice\n",
    "#random.choice generates a random sample given a 1-dimensional array like pop1 and pop2. It takes a size parameter\n",
    "#and a replace (T/F) parameter.\n",
    "pop1sample = np.random.choice(pop1, 100, replace=True)\n",
    "pop2sample = np.random.choice(pop2, 100, replace=True)\n",
    "\n",
    "print('pop1 mean: ' + str(pop1.mean()))\n",
    "print('pop1 sample mean: ' + str(pop1sample.mean()))\n",
    "print('pop1 std dev: ' + str(pop1.std()))\n",
    "print('pop1 sample std dev: ' + str(pop1sample.std()) + '\\n')\n",
    "print('pop2 mean: ' + str(pop2.mean()))\n",
    "print('pop2 sample mean: ' + str(pop2sample.mean()))\n",
    "print('pop2 std dev: ' + str(pop2.std()))\n",
    "print('pop2 sample std dev: ' + str(pop2sample.std()))\n",
    "\n"
   ]
  },
  {
   "cell_type": "code",
   "execution_count": 26,
   "metadata": {},
   "outputs": [
    {
     "name": "stdout",
     "output_type": "stream",
     "text": [
      "pop1 mean: 1.9982\n",
      "pop1 sample mean: 2.011\n",
      "pop1 std dev: 1.2614264782380304\n",
      "pop1 sample std dev: 1.2887509456834552\n",
      "\n",
      "pop2 mean: 5.0204\n",
      "pop2 sample mean: 5.104\n",
      "pop2 std dev: 1.5815763781746361\n",
      "pop2 sample std dev: 1.5630687764778617\n",
      "\n",
      "The sample mean should get closer to the population mean when the sample size is increased\n"
     ]
    },
    {
     "data": {
      "image/png": "[encoded data removed]",
      "text/plain": [
       "<Figure size 432x288 with 1 Axes>"
      ]
     },
     "metadata": {},
     "output_type": "display_data"
    }
   ],
   "source": [
    "#change the sample size from 100 to 1000\n",
    "\n",
    "import numpy as np\n",
    "import pandas as pd\n",
    "import matplotlib.pyplot as plt\n",
    "%matplotlib inline\n",
    "\n",
    "#generate 2 populations with binomial distribution, different values for p\n",
    "pop1 = np.random.binomial(10, .2, 10000)\n",
    "pop2 = np.random.binomial(10, .5, 10000)\n",
    "\n",
    "#sample the populations with n = 1000\n",
    "pop1sample = np.random.choice(pop1, 1000, replace=True)\n",
    "pop2sample = np.random.choice(pop2, 1000, replace=True)\n",
    "\n",
    "print('pop1 mean: ' + str(pop1.mean()))\n",
    "print('pop1 sample mean: ' + str(pop1sample.mean()))\n",
    "print('pop1 std dev: ' + str(pop1.std()))\n",
    "print('pop1 sample std dev: ' + str(pop1sample.std()) + '\\n')\n",
    "\n",
    "print('pop2 mean: ' + str(pop2.mean()))\n",
    "print('pop2 sample mean: ' + str(pop2sample.mean()))\n",
    "print('pop2 std dev: ' + str(pop2.std()))\n",
    "print('pop2 sample std dev: ' + str(pop2sample.std()))\n",
    "\n",
    "print('\\nThe sample mean should get closer to the population mean when the sample size is increased')\n",
    "\n",
    "#create histograms for the samples\n",
    "plt.hist(pop1sample, alpha=0.5, label='Sample 1', color = 'blue')\n",
    "plt.hist(pop2sample, alpha=0.5, label='Sample 2', color = 'yellow')\n",
    "plt.legend(loc = 'upper right')\n",
    "plt.show()"
   ]
  },
  {
   "cell_type": "code",
   "execution_count": 15,
   "metadata": {},
   "outputs": [
    {
     "name": "stdout",
     "output_type": "stream",
     "text": [
      "pop1 mean: 1.9957\n",
      "pop1 sample mean: 2.1\n",
      "pop1 std dev: 1.2506324440058316\n",
      "pop1 sample std dev: 1.1789826122551597\n",
      "pop2 mean: 5.0139\n",
      "pop2 sample mean: 5.15\n",
      "pop2 std dev: 1.587232430994276\n",
      "pop2 sample std dev: 1.4239030865898141\n",
      "\n",
      "The sample mean should get further away from the population mean when the sample size is decreased.\n",
      " n (sample size) size should be more than 30.\n"
     ]
    }
   ],
   "source": [
    "#change the sample size to 20\n",
    "\n",
    "import numpy as np\n",
    "import pandas as pd\n",
    "import matplotlib.pyplot as plt\n",
    "%matplotlib inline\n",
    "\n",
    "#generate populations with binomial distribution, different values for p\n",
    "pop1 = np.random.binomial(10, .2, 10000)\n",
    "pop2 = np.random.binomial(10, .5, 10000)\n",
    "\n",
    "#sample the populations with n = 20\n",
    "pop1sample = np.random.choice(pop1, 20, replace=True)\n",
    "pop2sample = np.random.choice(pop2, 20, replace=True)\n",
    "\n",
    "print('pop1 mean: ' + str(pop1.mean()))\n",
    "print('pop1 sample mean: ' + str(pop1sample.mean()))\n",
    "print('pop1 std dev: ' + str(pop1.std()))\n",
    "print('pop1 sample std dev: ' + str(pop1sample.std()) + '\\n')\n",
    "\n",
    "print('pop2 mean: ' + str(pop2.mean()))\n",
    "print('pop2 sample mean: ' + str(pop2sample.mean()))\n",
    "print('pop2 std dev: ' + str(pop2.std()))\n",
    "print('pop2 sample std dev: ' + str(pop2sample.std()))\n",
    "\n",
    "print('\\nThe sample mean should get further away from the population mean when the sample size is decreased.\\n n (sample size) size should be more than 30.')"
   ]
  },
  {
   "cell_type": "code",
   "execution_count": 36,
   "metadata": {
    "scrolled": true
   },
   "outputs": [
    {
     "name": "stdout",
     "output_type": "stream",
     "text": [
      "pop1 mean: 3.0248\n",
      "pop1 sample mean: 2.991\n",
      "pop1 std dev: 1.4457471978184844\n",
      "pop1 sample std dev: 1.4487646461727317\n",
      "\n",
      "pop2 mean: 5.0043\n",
      "pop2 sample mean: 5.077\n",
      "pop2 std dev: 1.598587348254702\n",
      "pop2 sample std dev: 1.5713277824820637\n"
     ]
    },
    {
     "data": {
      "image/png": "[encoded data removed]",
      "text/plain": [
       "<Figure size 432x288 with 1 Axes>"
      ]
     },
     "metadata": {},
     "output_type": "display_data"
    },
    {
     "name": "stdout",
     "output_type": "stream",
     "text": [
      "Ttest_indResult(statistic=30.848530154273146, pvalue=4.835191903649562e-171)\n"
     ]
    }
   ],
   "source": [
    "#Change the probability value for pop1 to 0.3\n",
    "#change the sample size to 20\n",
    "\n",
    "import numpy as np\n",
    "import pandas as pd\n",
    "import matplotlib.pyplot as plt\n",
    "%matplotlib inline\n",
    "from scipy.stats import ttest_ind\n",
    "\n",
    "#generate populations with binomial distribution, different values for p\n",
    "pop1 = np.random.binomial(10, .3, 10000)\n",
    "pop2 = np.random.binomial(10, .5, 10000)\n",
    "\n",
    "#sample the populations with n = 1000 using random.choice\n",
    "#random.choice generates a random sample given a 1-dimensional array like pop1 and pop2. It takes a size parameter\n",
    "#and a replace (T/F) parameter.\n",
    "pop1sample = np.random.choice(pop1, 1000, replace=True)\n",
    "pop2sample = np.random.choice(pop2, 1000, replace=True)\n",
    "\n",
    "print('pop1 mean: ' + str(pop1.mean()))\n",
    "print('pop1 sample mean: ' + str(pop1sample.mean()))\n",
    "print('pop1 std dev: ' + str(pop1.std()))\n",
    "print('pop1 sample std dev: ' + str(pop1sample.std()) + '\\n')\n",
    "\n",
    "print('pop2 mean: ' + str(pop2.mean()))\n",
    "print('pop2 sample mean: ' + str(pop2sample.mean()))\n",
    "print('pop2 std dev: ' + str(pop2.std()))\n",
    "print('pop2 sample std dev: ' + str(pop2sample.std()))\n",
    "\n",
    "#create histograms for the samples\n",
    "plt.hist(pop1sample, alpha=0.5, label='Sample 1', color = 'blue')\n",
    "plt.hist(pop2sample, alpha=0.5, label='Sample 2', color = 'yellow')\n",
    "plt.legend(loc = 'upper right')\n",
    "plt.show()\n",
    "\n",
    "\n",
    "print(ttest_ind(pop2sample, pop1sample, equal_var = False))"
   ]
  },
  {
   "cell_type": "markdown",
   "metadata": {},
   "source": [
    "There is more overlap between the two population samples when p for pop1 is closer to p for pop2 "
   ]
  },
  {
   "cell_type": "code",
   "execution_count": 37,
   "metadata": {},
   "outputs": [
    {
     "name": "stdout",
     "output_type": "stream",
     "text": [
      "pop1 mean: 0.9765099386026077\n",
      "pop1 sample mean: 0.9789117960628162\n",
      "pop1 std dev: 0.992221822651939\n",
      "pop1 sample std dev: 1.0749572264013743\n",
      "\n",
      "pop2 mean: 0.8099141272479584\n",
      "pop2 sample mean: 0.8066140928450075\n",
      "pop2 std dev: 0.8200069472368933\n",
      "pop2 sample std dev: 0.8317788658040092\n"
     ]
    }
   ],
   "source": [
    "#generate populations with a distribution other than binomial\n",
    "\n",
    "import numpy as np\n",
    "import pandas as pd\n",
    "import matplotlib.pyplot as plt\n",
    "%matplotlib inline\n",
    "\n",
    "#generate populations with exponential distribution\n",
    "pop1 = np.random.exponential(0.98, 10000)\n",
    "pop2 = np.random.exponential(0.8, 10000)\n",
    "\n",
    "pop1sample = np.random.choice(pop1, 100, replace=True)\n",
    "pop2sample = np.random.choice(pop2, 100, replace=True)\n",
    "\n",
    "print('pop1 mean: ' + str(pop1.mean()))\n",
    "print('pop1 sample mean: ' + str(pop1sample.mean()))\n",
    "print('pop1 std dev: ' + str(pop1.std()))\n",
    "print('pop1 sample std dev: ' + str(pop1sample.std()) + '\\n')\n",
    "print('pop2 mean: ' + str(pop2.mean()))\n",
    "print('pop2 sample mean: ' + str(pop2sample.mean()))\n",
    "print('pop2 std dev: ' + str(pop2.std()))\n",
    "print('pop2 sample std dev: ' + str(pop2sample.std()))\n"
   ]
  },
  {
   "cell_type": "markdown",
   "metadata": {},
   "source": [
    "The Central Limit Theorem holds for many distributions. The sample means are close to the population means in both cases."
   ]
  }
 ],
 "metadata": {
  "kernelspec": {
   "display_name": "Python 3",
   "language": "python",
   "name": "python3"
  },
  "language_info": {
   "codemirror_mode": {
    "name": "ipython",
    "version": 3
   },
   "file_extension": ".py",
   "mimetype": "text/x-python",
   "name": "python",
   "nbconvert_exporter": "python",
   "pygments_lexer": "ipython3",
   "version": "3.6.5"
  }
 },
 "nbformat": 4,
 "nbformat_minor": 2
}
