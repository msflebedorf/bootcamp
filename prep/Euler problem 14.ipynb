{
 "cells": [
  {
   "cell_type": "code",
   "execution_count": 25,
   "metadata": {},
   "outputs": [],
   "source": [
    "#calculate value of sequence given value\n",
    "def nextstep(n):\n",
    "    rmndr = n % 2\n",
    "    if rmndr == 1:\n",
    "        result = oddfn(n)\n",
    "    else:\n",
    "        result = evenfn(n)\n",
    "    return result\n",
    "#Computation if odd\n",
    "def oddfn(n):\n",
    "    odd = n*3 + 1\n",
    "    return odd\n",
    "#Computation if even\n",
    "def evenfn(n):\n",
    "    even = n/2\n",
    "    return even\n",
    "#this is the main function, which counts the numbers in the sequence\n",
    "def collatz(n):\n",
    "    cntr = 1\n",
    "    while n > 1:\n",
    "        cntr += 1\n",
    "        n = nextstep(n)\n",
    "    return cntr"
   ]
  },
  {
   "cell_type": "code",
   "execution_count": 29,
   "metadata": {},
   "outputs": [
    {
     "name": "stdout",
     "output_type": "stream",
     "text": [
      "The longest string contains 262 numbers. The value producing the longest string is 6171\n"
     ]
    }
   ],
   "source": [
    "maxvalue = 0\n",
    "maxcounter = 0\n",
    "topnumber = 10000\n",
    "\n",
    "#call the collatz function with input values starting at 2, going thru and including topnumber \n",
    "for number in range(2, topnumber+1):   \n",
    "    cntr = collatz(number)\n",
    "    if cntr > maxcounter:\n",
    "        maxcounter = cntr\n",
    "        maxvalue = number\n",
    "        \n",
    "print('The longest string contains {} numbers. The value producing the longest string is {}.'.format(maxcounter, maxvalue))"
   ]
  },
  {
   "cell_type": "code",
   "execution_count": 27,
   "metadata": {},
   "outputs": [],
   "source": [
    "#add a dictionary to interrupt looping once maxcounter has been discovered\n",
    "#Determine how search space could be limited in addition to using dictionary"
   ]
  }
 ],
 "metadata": {
  "kernelspec": {
   "display_name": "Python 3",
   "language": "python",
   "name": "python3"
  },
  "language_info": {
   "codemirror_mode": {
    "name": "ipython",
    "version": 3
   },
   "file_extension": ".py",
   "mimetype": "text/x-python",
   "name": "python",
   "nbconvert_exporter": "python",
   "pygments_lexer": "ipython3",
   "version": "3.6.5"
  }
 },
 "nbformat": 4,
 "nbformat_minor": 2
}
