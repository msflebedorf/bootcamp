{
 "cells": [
  {
   "cell_type": "markdown",
   "metadata": {},
   "source": [
    "## Thinkful exercise 3.2.5 - Dimensionality reduction using random forest model"
   ]
  },
  {
   "cell_type": "code",
   "execution_count": 1,
   "metadata": {
    "run_control": {
     "frozen": false,
     "read_only": false
    }
   },
   "outputs": [],
   "source": [
    "import pandas as pd\n",
    "import numpy as np\n",
    "import matplotlib.pyplot as plt\n",
    "%matplotlib inline"
   ]
  },
  {
   "cell_type": "markdown",
   "metadata": {},
   "source": [
    "### Project description"
   ]
  },
  {
   "cell_type": "markdown",
   "metadata": {
    "run_control": {
     "frozen": false,
     "read_only": false
    }
   },
   "source": [
    "Data:  2015 data from Lending Club, found at this link:https://www.lendingclub.com/info/download-data.action\n",
    "\n",
    "Modelling objective: Predict the state of a loan given some information about it\n",
    "\n",
    "Assignment details: \n",
    "\n",
    "1) Get rid of as much data as possible without dropping below an average of 90% accuracy in a 10-fold cross validation.\n",
    "\n",
    "2) Identify which features are most important. This can be the raw features or the generated dummies. You may want to use PCA or correlation matrices.\n",
    "\n",
    "3) Can you [answer the question] without using anything related to payment amount or outstanding principal? How do you know?\n"
   ]
  },
  {
   "cell_type": "markdown",
   "metadata": {},
   "source": [
    "### Preprocessing data"
   ]
  },
  {
   "cell_type": "code",
   "execution_count": 62,
   "metadata": {
    "run_control": {
     "frozen": false,
     "read_only": false
    }
   },
   "outputs": [],
   "source": [
    "#Using nrows to restrict dataset size for development\n",
    "y2015 = pd.read_csv(\n",
    "    '../../Datafiles/unit_3/LoanStats3d.csv',\n",
    "    skipinitialspace=True,\n",
    "    header=1,\n",
    "    low_memory = False\n",
    ")\n",
    "y2015 = y2015.sample(frac=0.20).reset_index(drop=True)"
   ]
  },
  {
   "cell_type": "code",
   "execution_count": 63,
   "metadata": {},
   "outputs": [
    {
     "data": {
      "text/plain": [
       "(84219, 111)"
      ]
     },
     "execution_count": 63,
     "metadata": {},
     "output_type": "execute_result"
    }
   ],
   "source": [
    "y2015.shape"
   ]
  },
  {
   "cell_type": "markdown",
   "metadata": {},
   "source": [
    "#### The data dictionary includes 152 columns. This is a subset of the columns in the full dataset, apparently."
   ]
  },
  {
   "cell_type": "code",
   "execution_count": 64,
   "metadata": {},
   "outputs": [
    {
     "data": {
      "text/html": [
       "<div>\n",
       "<style scoped>\n",
       "    .dataframe tbody tr th:only-of-type {\n",
       "        vertical-align: middle;\n",
       "    }\n",
       "\n",
       "    .dataframe tbody tr th {\n",
       "        vertical-align: top;\n",
       "    }\n",
       "\n",
       "    .dataframe thead th {\n",
       "        text-align: right;\n",
       "    }\n",
       "</style>\n",
       "<table border=\"1\" class=\"dataframe\">\n",
       "  <thead>\n",
       "    <tr style=\"text-align: right;\">\n",
       "      <th></th>\n",
       "      <th>id</th>\n",
       "      <th>member_id</th>\n",
       "      <th>loan_amnt</th>\n",
       "      <th>funded_amnt</th>\n",
       "      <th>funded_amnt_inv</th>\n",
       "      <th>term</th>\n",
       "      <th>int_rate</th>\n",
       "      <th>installment</th>\n",
       "      <th>grade</th>\n",
       "      <th>sub_grade</th>\n",
       "      <th>...</th>\n",
       "      <th>num_tl_90g_dpd_24m</th>\n",
       "      <th>num_tl_op_past_12m</th>\n",
       "      <th>pct_tl_nvr_dlq</th>\n",
       "      <th>percent_bc_gt_75</th>\n",
       "      <th>pub_rec_bankruptcies</th>\n",
       "      <th>tax_liens</th>\n",
       "      <th>tot_hi_cred_lim</th>\n",
       "      <th>total_bal_ex_mort</th>\n",
       "      <th>total_bc_limit</th>\n",
       "      <th>total_il_high_credit_limit</th>\n",
       "    </tr>\n",
       "  </thead>\n",
       "  <tbody>\n",
       "    <tr>\n",
       "      <th>0</th>\n",
       "      <td>67695770</td>\n",
       "      <td>72549492.0</td>\n",
       "      <td>10000.0</td>\n",
       "      <td>10000.0</td>\n",
       "      <td>10000.0</td>\n",
       "      <td>36 months</td>\n",
       "      <td>9.76%</td>\n",
       "      <td>321.55</td>\n",
       "      <td>B</td>\n",
       "      <td>B3</td>\n",
       "      <td>...</td>\n",
       "      <td>0.0</td>\n",
       "      <td>1.0</td>\n",
       "      <td>100.0</td>\n",
       "      <td>100.0</td>\n",
       "      <td>0.0</td>\n",
       "      <td>0.0</td>\n",
       "      <td>28400.0</td>\n",
       "      <td>15509.0</td>\n",
       "      <td>11000.0</td>\n",
       "      <td>0.0</td>\n",
       "    </tr>\n",
       "    <tr>\n",
       "      <th>1</th>\n",
       "      <td>68615683</td>\n",
       "      <td>73518479.0</td>\n",
       "      <td>5000.0</td>\n",
       "      <td>5000.0</td>\n",
       "      <td>5000.0</td>\n",
       "      <td>36 months</td>\n",
       "      <td>10.78%</td>\n",
       "      <td>163.18</td>\n",
       "      <td>B</td>\n",
       "      <td>B4</td>\n",
       "      <td>...</td>\n",
       "      <td>0.0</td>\n",
       "      <td>0.0</td>\n",
       "      <td>100.0</td>\n",
       "      <td>100.0</td>\n",
       "      <td>0.0</td>\n",
       "      <td>0.0</td>\n",
       "      <td>103020.0</td>\n",
       "      <td>92494.0</td>\n",
       "      <td>15500.0</td>\n",
       "      <td>81520.0</td>\n",
       "    </tr>\n",
       "    <tr>\n",
       "      <th>2</th>\n",
       "      <td>40979213</td>\n",
       "      <td>43854930.0</td>\n",
       "      <td>5000.0</td>\n",
       "      <td>5000.0</td>\n",
       "      <td>5000.0</td>\n",
       "      <td>36 months</td>\n",
       "      <td>7.89%</td>\n",
       "      <td>156.43</td>\n",
       "      <td>A</td>\n",
       "      <td>A5</td>\n",
       "      <td>...</td>\n",
       "      <td>0.0</td>\n",
       "      <td>2.0</td>\n",
       "      <td>92.3</td>\n",
       "      <td>100.0</td>\n",
       "      <td>0.0</td>\n",
       "      <td>0.0</td>\n",
       "      <td>306523.0</td>\n",
       "      <td>21454.0</td>\n",
       "      <td>19000.0</td>\n",
       "      <td>9223.0</td>\n",
       "    </tr>\n",
       "    <tr>\n",
       "      <th>3</th>\n",
       "      <td>59159919</td>\n",
       "      <td>63047652.0</td>\n",
       "      <td>28350.0</td>\n",
       "      <td>28350.0</td>\n",
       "      <td>28250.0</td>\n",
       "      <td>36 months</td>\n",
       "      <td>7.89%</td>\n",
       "      <td>886.95</td>\n",
       "      <td>A</td>\n",
       "      <td>A5</td>\n",
       "      <td>...</td>\n",
       "      <td>0.0</td>\n",
       "      <td>2.0</td>\n",
       "      <td>100.0</td>\n",
       "      <td>100.0</td>\n",
       "      <td>0.0</td>\n",
       "      <td>0.0</td>\n",
       "      <td>366098.0</td>\n",
       "      <td>130136.0</td>\n",
       "      <td>33700.0</td>\n",
       "      <td>110460.0</td>\n",
       "    </tr>\n",
       "    <tr>\n",
       "      <th>4</th>\n",
       "      <td>42504081</td>\n",
       "      <td>45470839.0</td>\n",
       "      <td>12650.0</td>\n",
       "      <td>12650.0</td>\n",
       "      <td>12625.0</td>\n",
       "      <td>60 months</td>\n",
       "      <td>18.25%</td>\n",
       "      <td>322.95</td>\n",
       "      <td>E</td>\n",
       "      <td>E1</td>\n",
       "      <td>...</td>\n",
       "      <td>0.0</td>\n",
       "      <td>4.0</td>\n",
       "      <td>82.6</td>\n",
       "      <td>50.0</td>\n",
       "      <td>0.0</td>\n",
       "      <td>0.0</td>\n",
       "      <td>98808.0</td>\n",
       "      <td>27290.0</td>\n",
       "      <td>4400.0</td>\n",
       "      <td>29546.0</td>\n",
       "    </tr>\n",
       "  </tbody>\n",
       "</table>\n",
       "<p>5 rows × 111 columns</p>\n",
       "</div>"
      ],
      "text/plain": [
       "         id   member_id  loan_amnt  funded_amnt  funded_amnt_inv        term  \\\n",
       "0  67695770  72549492.0    10000.0      10000.0          10000.0   36 months   \n",
       "1  68615683  73518479.0     5000.0       5000.0           5000.0   36 months   \n",
       "2  40979213  43854930.0     5000.0       5000.0           5000.0   36 months   \n",
       "3  59159919  63047652.0    28350.0      28350.0          28250.0   36 months   \n",
       "4  42504081  45470839.0    12650.0      12650.0          12625.0   60 months   \n",
       "\n",
       "  int_rate  installment grade sub_grade            ...              \\\n",
       "0    9.76%       321.55     B        B3            ...               \n",
       "1   10.78%       163.18     B        B4            ...               \n",
       "2    7.89%       156.43     A        A5            ...               \n",
       "3    7.89%       886.95     A        A5            ...               \n",
       "4   18.25%       322.95     E        E1            ...               \n",
       "\n",
       "  num_tl_90g_dpd_24m num_tl_op_past_12m pct_tl_nvr_dlq  percent_bc_gt_75  \\\n",
       "0                0.0                1.0          100.0             100.0   \n",
       "1                0.0                0.0          100.0             100.0   \n",
       "2                0.0                2.0           92.3             100.0   \n",
       "3                0.0                2.0          100.0             100.0   \n",
       "4                0.0                4.0           82.6              50.0   \n",
       "\n",
       "  pub_rec_bankruptcies tax_liens tot_hi_cred_lim total_bal_ex_mort  \\\n",
       "0                  0.0       0.0         28400.0           15509.0   \n",
       "1                  0.0       0.0        103020.0           92494.0   \n",
       "2                  0.0       0.0        306523.0           21454.0   \n",
       "3                  0.0       0.0        366098.0          130136.0   \n",
       "4                  0.0       0.0         98808.0           27290.0   \n",
       "\n",
       "  total_bc_limit total_il_high_credit_limit  \n",
       "0        11000.0                        0.0  \n",
       "1        15500.0                    81520.0  \n",
       "2        19000.0                     9223.0  \n",
       "3        33700.0                   110460.0  \n",
       "4         4400.0                    29546.0  \n",
       "\n",
       "[5 rows x 111 columns]"
      ]
     },
     "execution_count": 64,
     "metadata": {},
     "output_type": "execute_result"
    }
   ],
   "source": [
    "y2015.head()"
   ]
  },
  {
   "cell_type": "code",
   "execution_count": 65,
   "metadata": {},
   "outputs": [
    {
     "data": {
      "text/html": [
       "<div>\n",
       "<style scoped>\n",
       "    .dataframe tbody tr th:only-of-type {\n",
       "        vertical-align: middle;\n",
       "    }\n",
       "\n",
       "    .dataframe tbody tr th {\n",
       "        vertical-align: top;\n",
       "    }\n",
       "\n",
       "    .dataframe thead th {\n",
       "        text-align: right;\n",
       "    }\n",
       "</style>\n",
       "<table border=\"1\" class=\"dataframe\">\n",
       "  <thead>\n",
       "    <tr style=\"text-align: right;\">\n",
       "      <th></th>\n",
       "      <th>id</th>\n",
       "      <th>member_id</th>\n",
       "      <th>loan_amnt</th>\n",
       "      <th>funded_amnt</th>\n",
       "      <th>funded_amnt_inv</th>\n",
       "      <th>term</th>\n",
       "      <th>int_rate</th>\n",
       "      <th>installment</th>\n",
       "      <th>grade</th>\n",
       "      <th>sub_grade</th>\n",
       "      <th>...</th>\n",
       "      <th>num_tl_90g_dpd_24m</th>\n",
       "      <th>num_tl_op_past_12m</th>\n",
       "      <th>pct_tl_nvr_dlq</th>\n",
       "      <th>percent_bc_gt_75</th>\n",
       "      <th>pub_rec_bankruptcies</th>\n",
       "      <th>tax_liens</th>\n",
       "      <th>tot_hi_cred_lim</th>\n",
       "      <th>total_bal_ex_mort</th>\n",
       "      <th>total_bc_limit</th>\n",
       "      <th>total_il_high_credit_limit</th>\n",
       "    </tr>\n",
       "  </thead>\n",
       "  <tbody>\n",
       "    <tr>\n",
       "      <th>84214</th>\n",
       "      <td>63506237</td>\n",
       "      <td>67849018.0</td>\n",
       "      <td>3200.0</td>\n",
       "      <td>3200.0</td>\n",
       "      <td>3200.0</td>\n",
       "      <td>36 months</td>\n",
       "      <td>12.29%</td>\n",
       "      <td>106.73</td>\n",
       "      <td>C</td>\n",
       "      <td>C1</td>\n",
       "      <td>...</td>\n",
       "      <td>0.0</td>\n",
       "      <td>7.0</td>\n",
       "      <td>77.3</td>\n",
       "      <td>75.0</td>\n",
       "      <td>0.0</td>\n",
       "      <td>0.0</td>\n",
       "      <td>56832.0</td>\n",
       "      <td>41557.0</td>\n",
       "      <td>17100.0</td>\n",
       "      <td>34632.0</td>\n",
       "    </tr>\n",
       "    <tr>\n",
       "      <th>84215</th>\n",
       "      <td>59099119</td>\n",
       "      <td>62986831.0</td>\n",
       "      <td>19525.0</td>\n",
       "      <td>19525.0</td>\n",
       "      <td>19525.0</td>\n",
       "      <td>60 months</td>\n",
       "      <td>17.86%</td>\n",
       "      <td>494.33</td>\n",
       "      <td>D</td>\n",
       "      <td>D5</td>\n",
       "      <td>...</td>\n",
       "      <td>0.0</td>\n",
       "      <td>2.0</td>\n",
       "      <td>80.0</td>\n",
       "      <td>100.0</td>\n",
       "      <td>0.0</td>\n",
       "      <td>0.0</td>\n",
       "      <td>361000.0</td>\n",
       "      <td>9589.0</td>\n",
       "      <td>7700.0</td>\n",
       "      <td>0.0</td>\n",
       "    </tr>\n",
       "    <tr>\n",
       "      <th>84216</th>\n",
       "      <td>58623173</td>\n",
       "      <td>62463921.0</td>\n",
       "      <td>11000.0</td>\n",
       "      <td>11000.0</td>\n",
       "      <td>11000.0</td>\n",
       "      <td>60 months</td>\n",
       "      <td>12.69%</td>\n",
       "      <td>248.55</td>\n",
       "      <td>C</td>\n",
       "      <td>C2</td>\n",
       "      <td>...</td>\n",
       "      <td>0.0</td>\n",
       "      <td>1.0</td>\n",
       "      <td>90.0</td>\n",
       "      <td>20.0</td>\n",
       "      <td>1.0</td>\n",
       "      <td>0.0</td>\n",
       "      <td>61381.0</td>\n",
       "      <td>44647.0</td>\n",
       "      <td>21700.0</td>\n",
       "      <td>38281.0</td>\n",
       "    </tr>\n",
       "    <tr>\n",
       "      <th>84217</th>\n",
       "      <td>50526731</td>\n",
       "      <td>53906503.0</td>\n",
       "      <td>28000.0</td>\n",
       "      <td>28000.0</td>\n",
       "      <td>28000.0</td>\n",
       "      <td>36 months</td>\n",
       "      <td>5.32%</td>\n",
       "      <td>843.22</td>\n",
       "      <td>A</td>\n",
       "      <td>A1</td>\n",
       "      <td>...</td>\n",
       "      <td>0.0</td>\n",
       "      <td>0.0</td>\n",
       "      <td>93.7</td>\n",
       "      <td>0.0</td>\n",
       "      <td>0.0</td>\n",
       "      <td>0.0</td>\n",
       "      <td>286091.0</td>\n",
       "      <td>102778.0</td>\n",
       "      <td>38200.0</td>\n",
       "      <td>108908.0</td>\n",
       "    </tr>\n",
       "    <tr>\n",
       "      <th>84218</th>\n",
       "      <td>44439504</td>\n",
       "      <td>47487234.0</td>\n",
       "      <td>12000.0</td>\n",
       "      <td>12000.0</td>\n",
       "      <td>12000.0</td>\n",
       "      <td>60 months</td>\n",
       "      <td>12.29%</td>\n",
       "      <td>268.70</td>\n",
       "      <td>C</td>\n",
       "      <td>C1</td>\n",
       "      <td>...</td>\n",
       "      <td>0.0</td>\n",
       "      <td>1.0</td>\n",
       "      <td>83.3</td>\n",
       "      <td>50.0</td>\n",
       "      <td>0.0</td>\n",
       "      <td>0.0</td>\n",
       "      <td>478944.0</td>\n",
       "      <td>138917.0</td>\n",
       "      <td>21700.0</td>\n",
       "      <td>136235.0</td>\n",
       "    </tr>\n",
       "  </tbody>\n",
       "</table>\n",
       "<p>5 rows × 111 columns</p>\n",
       "</div>"
      ],
      "text/plain": [
       "             id   member_id  loan_amnt  funded_amnt  funded_amnt_inv  \\\n",
       "84214  63506237  67849018.0     3200.0       3200.0           3200.0   \n",
       "84215  59099119  62986831.0    19525.0      19525.0          19525.0   \n",
       "84216  58623173  62463921.0    11000.0      11000.0          11000.0   \n",
       "84217  50526731  53906503.0    28000.0      28000.0          28000.0   \n",
       "84218  44439504  47487234.0    12000.0      12000.0          12000.0   \n",
       "\n",
       "             term int_rate  installment grade sub_grade  \\\n",
       "84214   36 months   12.29%       106.73     C        C1   \n",
       "84215   60 months   17.86%       494.33     D        D5   \n",
       "84216   60 months   12.69%       248.55     C        C2   \n",
       "84217   36 months    5.32%       843.22     A        A1   \n",
       "84218   60 months   12.29%       268.70     C        C1   \n",
       "\n",
       "                 ...             num_tl_90g_dpd_24m num_tl_op_past_12m  \\\n",
       "84214            ...                            0.0                7.0   \n",
       "84215            ...                            0.0                2.0   \n",
       "84216            ...                            0.0                1.0   \n",
       "84217            ...                            0.0                0.0   \n",
       "84218            ...                            0.0                1.0   \n",
       "\n",
       "      pct_tl_nvr_dlq  percent_bc_gt_75 pub_rec_bankruptcies tax_liens  \\\n",
       "84214           77.3              75.0                  0.0       0.0   \n",
       "84215           80.0             100.0                  0.0       0.0   \n",
       "84216           90.0              20.0                  1.0       0.0   \n",
       "84217           93.7               0.0                  0.0       0.0   \n",
       "84218           83.3              50.0                  0.0       0.0   \n",
       "\n",
       "      tot_hi_cred_lim total_bal_ex_mort total_bc_limit  \\\n",
       "84214         56832.0           41557.0        17100.0   \n",
       "84215        361000.0            9589.0         7700.0   \n",
       "84216         61381.0           44647.0        21700.0   \n",
       "84217        286091.0          102778.0        38200.0   \n",
       "84218        478944.0          138917.0        21700.0   \n",
       "\n",
       "      total_il_high_credit_limit  \n",
       "84214                    34632.0  \n",
       "84215                        0.0  \n",
       "84216                    38281.0  \n",
       "84217                   108908.0  \n",
       "84218                   136235.0  \n",
       "\n",
       "[5 rows x 111 columns]"
      ]
     },
     "execution_count": 65,
     "metadata": {},
     "output_type": "execute_result"
    }
   ],
   "source": [
    "y2015.tail()"
   ]
  },
  {
   "cell_type": "code",
   "execution_count": 66,
   "metadata": {},
   "outputs": [],
   "source": [
    "#remove two summary rows at the end that don't actually contain data.\n",
    "y2015 = y2015[:-2]"
   ]
  },
  {
   "cell_type": "code",
   "execution_count": 67,
   "metadata": {
    "scrolled": true
   },
   "outputs": [
    {
     "data": {
      "text/plain": [
       "(84217, 111)"
      ]
     },
     "execution_count": 67,
     "metadata": {},
     "output_type": "execute_result"
    }
   ],
   "source": [
    "y2015.shape"
   ]
  },
  {
   "cell_type": "markdown",
   "metadata": {},
   "source": [
    "#### Analyze columns with null values and adjust contents to zero or drop them"
   ]
  },
  {
   "cell_type": "code",
   "execution_count": 68,
   "metadata": {
    "scrolled": true
   },
   "outputs": [
    {
     "name": "stdout",
     "output_type": "stream",
     "text": [
      "                           col_name  null_pcnt\n",
      "10                        emp_title       5.66\n",
      "11                       emp_length       5.64\n",
      "19                             desc      99.99\n",
      "21                            title       0.03\n",
      "28           mths_since_last_delinq      48.40\n",
      "29           mths_since_last_record      82.25\n",
      "33                       revol_util       0.04\n",
      "45                     last_pymnt_d       0.06\n",
      "47                     next_pymnt_d      27.86\n",
      "50      mths_since_last_major_derog      70.95\n",
      "53                 annual_inc_joint      99.87\n",
      "54                        dti_joint      99.87\n",
      "55        verification_status_joint      99.87\n",
      "59                      open_acc_6m      95.00\n",
      "60                       open_il_6m      95.00\n",
      "61                      open_il_12m      95.00\n",
      "62                      open_il_24m      95.00\n",
      "63               mths_since_rcnt_il      95.14\n",
      "64                     total_bal_il      95.00\n",
      "65                          il_util      95.63\n",
      "66                      open_rv_12m      95.00\n",
      "67                      open_rv_24m      95.00\n",
      "68                       max_bal_bc      95.00\n",
      "69                         all_util      95.00\n",
      "71                           inq_fi      95.00\n",
      "72                      total_cu_tl      95.00\n",
      "73                     inq_last_12m      95.00\n",
      "76                   bc_open_to_buy       0.95\n",
      "77                          bc_util       1.02\n",
      "80               mo_sin_old_il_acct       2.92\n",
      "85             mths_since_recent_bc       0.92\n",
      "86         mths_since_recent_bc_dlq      74.08\n",
      "87            mths_since_recent_inq      10.53\n",
      "88   mths_since_recent_revol_delinq      63.78\n",
      "99                 num_tl_120dpd_2m       4.53\n",
      "104                percent_bc_gt_75       1.01\n"
     ]
    }
   ],
   "source": [
    "#Compute proportion of null values\n",
    "null_counts = pd.DataFrame(y2015.isna().mean().round(4) * 100, columns = ['null_pcnt'])\n",
    "null_counts.index.name = 'col_name'\n",
    "null_counts = null_counts.reset_index()\n",
    "print(null_counts.loc[null_counts.null_pcnt > 0])"
   ]
  },
  {
   "cell_type": "code",
   "execution_count": 69,
   "metadata": {},
   "outputs": [],
   "source": [
    "#Fill nan with zero in some columns, because that is what is implied for these columns given knowledge of the data\n",
    "#Pandas 'startswith' works differently than Python. Python allows a beg and end argument\n",
    "#num_tl prefix means 'number of accounts'\n",
    "col_list = y2015.loc[:, y2015.columns.str.startswith('mths_')].columns\n",
    "col_list = col_list.append(y2015.loc[:, y2015.columns.str.startswith('num_tl_')].columns)\n",
    "col_list = col_list.append(y2015.loc[:, y2015.columns.str.startswith('mo_sin_')].columns)\n",
    "col_list = col_list.append(y2015.loc[:, y2015.columns.str.contains('bc_')].columns)\n",
    "for col in col_list:\n",
    "    y2015[[col]] = y2015[[col]].fillna(value = 0)"
   ]
  },
  {
   "cell_type": "code",
   "execution_count": 70,
   "metadata": {
    "scrolled": true
   },
   "outputs": [
    {
     "name": "stdout",
     "output_type": "stream",
     "text": [
      "                     col_name  null_pcnt\n",
      "10                  emp_title       5.66\n",
      "11                 emp_length       5.64\n",
      "19                       desc      99.99\n",
      "21                      title       0.03\n",
      "33                 revol_util       0.04\n",
      "45               last_pymnt_d       0.06\n",
      "47               next_pymnt_d      27.86\n",
      "53           annual_inc_joint      99.87\n",
      "54                  dti_joint      99.87\n",
      "55  verification_status_joint      99.87\n",
      "59                open_acc_6m      95.00\n",
      "60                 open_il_6m      95.00\n",
      "61                open_il_12m      95.00\n",
      "62                open_il_24m      95.00\n",
      "64               total_bal_il      95.00\n",
      "65                    il_util      95.63\n",
      "66                open_rv_12m      95.00\n",
      "67                open_rv_24m      95.00\n",
      "68                 max_bal_bc      95.00\n",
      "69                   all_util      95.00\n",
      "71                     inq_fi      95.00\n",
      "72                total_cu_tl      95.00\n",
      "73               inq_last_12m      95.00\n"
     ]
    }
   ],
   "source": [
    "#Review remaining columns with null values \n",
    "null_counts = pd.DataFrame(y2015.isna().mean().round(4) * 100, columns = ['null_pcnt'])\n",
    "null_counts.index.name = 'col_name'\n",
    "null_counts = null_counts.reset_index()\n",
    "print(null_counts.loc[null_counts.null_pcnt > 0])"
   ]
  },
  {
   "cell_type": "code",
   "execution_count": 71,
   "metadata": {
    "run_control": {
     "frozen": false,
     "read_only": false
    }
   },
   "outputs": [],
   "source": [
    "# Convert interest rate to numeric.\n",
    "y2015['int_rate'] = pd.to_numeric(y2015['int_rate'].str.strip('%'), errors='coerce')"
   ]
  },
  {
   "cell_type": "code",
   "execution_count": 72,
   "metadata": {
    "run_control": {
     "frozen": false,
     "read_only": false
    },
    "scrolled": false
   },
   "outputs": [
    {
     "name": "stdout",
     "output_type": "stream",
     "text": [
      "id\n",
      "84217\n",
      "term\n",
      "2\n",
      "grade\n",
      "7\n",
      "sub_grade\n",
      "35\n",
      "emp_title\n",
      "32852\n",
      "emp_length\n",
      "11\n",
      "home_ownership\n",
      "4\n",
      "verification_status\n",
      "3\n",
      "issue_d\n",
      "12\n",
      "loan_status\n",
      "7\n",
      "pymnt_plan\n",
      "1\n",
      "url\n",
      "84217\n",
      "desc\n",
      "5\n",
      "purpose\n",
      "13\n",
      "title\n",
      "14\n",
      "zip_code\n",
      "881\n",
      "addr_state\n",
      "49\n",
      "earliest_cr_line\n",
      "619\n",
      "revol_util\n",
      "1105\n",
      "initial_list_status\n",
      "2\n",
      "last_pymnt_d\n",
      "25\n",
      "next_pymnt_d\n",
      "3\n",
      "last_credit_pull_d\n",
      "26\n",
      "application_type\n",
      "2\n",
      "verification_status_joint\n",
      "3\n"
     ]
    }
   ],
   "source": [
    "#Identify columns that are not numeric and examine how variable their values are\n",
    "categorical = y2015.select_dtypes(include=['object'])\n",
    "for i in categorical:\n",
    "    column = categorical[i]\n",
    "    print(i)\n",
    "    print(column.nunique())"
   ]
  },
  {
   "cell_type": "code",
   "execution_count": 73,
   "metadata": {},
   "outputs": [],
   "source": [
    "# Drop columns with many unique variables\n",
    "drop_cols_list = ['url', 'emp_title', 'zip_code', 'earliest_cr_line', 'revol_util',\n",
    "            'sub_grade', 'addr_state', 'id', 'title', 'last_pymnt_d', 'next_pymnt_d', 'last_credit_pull_d']"
   ]
  },
  {
   "cell_type": "code",
   "execution_count": 74,
   "metadata": {},
   "outputs": [],
   "source": [
    "y2015 = y2015.drop(columns = drop_cols_list)"
   ]
  },
  {
   "cell_type": "code",
   "execution_count": 75,
   "metadata": {},
   "outputs": [],
   "source": [
    "#Drop any remaining columns with a high number of Nulls\n",
    "y2015 = y2015.dropna(axis = 1)"
   ]
  },
  {
   "cell_type": "markdown",
   "metadata": {
    "run_control": {
     "frozen": false,
     "read_only": false
    }
   },
   "source": [
    "### Thinkful baseline model"
   ]
  },
  {
   "cell_type": "markdown",
   "metadata": {
    "run_control": {
     "frozen": false,
     "read_only": false
    }
   },
   "source": [
    "Thinkful commentary:\n",
    "\n",
    "The score cross validation reports is the accuracy of the tree. Here we're about 98% accurate.\n",
    "\n",
    "That works pretty well, but there are a few potential problems. Firstly, we didn't really do much in the way of feature selection or model refinement. As such there are a lot of features in there that we don't really need. Some of them are actually quite impressively useless.\n",
    "\n",
    "There's also some variance in the scores. The fact that one gave us only 93% accuracy while others gave higher than 98 is concerning. This variance could be corrected by increasing the number of estimators. That will make it take even longer to run, however, and it is already quite slow."
   ]
  },
  {
   "cell_type": "markdown",
   "metadata": {},
   "source": [
    "### Robin's modeling"
   ]
  },
  {
   "cell_type": "markdown",
   "metadata": {},
   "source": [
    "#### Examine the target variable"
   ]
  },
  {
   "cell_type": "code",
   "execution_count": 76,
   "metadata": {},
   "outputs": [
    {
     "data": {
      "text/plain": [
       "(84217, 81)"
      ]
     },
     "execution_count": 76,
     "metadata": {},
     "output_type": "execute_result"
    }
   ],
   "source": [
    "y2015.shape"
   ]
  },
  {
   "cell_type": "code",
   "execution_count": 77,
   "metadata": {
    "scrolled": true
   },
   "outputs": [
    {
     "data": {
      "text/plain": [
       "Current               57352\n",
       "Fully Paid            17703\n",
       "Charged Off            5761\n",
       "Late (31-120 days)     1972\n",
       "In Grace Period         879\n",
       "Late (16-30 days)       389\n",
       "Default                 161\n",
       "Name: loan_status, dtype: int64"
      ]
     },
     "execution_count": 77,
     "metadata": {},
     "output_type": "execute_result"
    }
   ],
   "source": [
    "y2015.loan_status.value_counts()"
   ]
  },
  {
   "cell_type": "markdown",
   "metadata": {},
   "source": [
    "Note that the cut-off where delinquency matters is 16 days and more. In reality, it is likely one month and more than one month that is most meaningful."
   ]
  },
  {
   "cell_type": "markdown",
   "metadata": {},
   "source": [
    "#### Build some features with meaningful collections & delinquency information. The recent information is the most important."
   ]
  },
  {
   "cell_type": "markdown",
   "metadata": {},
   "source": [
    "Collections data and charge off data: It's most material to know whether there were collections or charge offs in the last 12 months.\n",
    "\n",
    "Delinquency data: If months since last delinq = 0, means > = 0, < 30 days. So if zero, set no_delinq = True,  else False.\n",
    "\n",
    "Separate months since last delinq into recent delinquencies -- delinq_last_12_mo = True if >0, <= 12 else false\n",
    "\n",
    "Then drop cols in sel_cols list"
   ]
  },
  {
   "cell_type": "code",
   "execution_count": 78,
   "metadata": {},
   "outputs": [],
   "source": [
    "#Change the recent delinquency parameter in number of months\n",
    "recent_delinq_param = 12\n",
    "#Use apply to set no_delinq, recent_delinq flags\n",
    "y2015['no_delinq'] = np.where(y2015.mths_since_last_delinq == 0, True, False)\n",
    "y2015['recent_delinq'] = np.where(((y2015.mths_since_last_delinq > 0) & (y2015.mths_since_last_delinq <= recent_delinq_param)), True, False)"
   ]
  },
  {
   "cell_type": "code",
   "execution_count": 79,
   "metadata": {},
   "outputs": [],
   "source": [
    "y2015['no_derog'] = np.where(y2015.mths_since_last_major_derog == 0, True, False)\n",
    "y2015['recent_derog'] = np.where(((y2015.mths_since_last_major_derog > 0) & (y2015.mths_since_last_major_derog <= 12)), True, False)\n",
    "y2015['collections_12mo'] = np.where(y2015.collections_12_mths_ex_med == 0, True, False)\n",
    "y2015['chargeoffs_12mo'] = np.where(((y2015.chargeoff_within_12_mths == 0)), True, False)"
   ]
  },
  {
   "cell_type": "code",
   "execution_count": 80,
   "metadata": {},
   "outputs": [],
   "source": [
    "# Drop columns used to categorize delinquencies, chargeoffs, derogitories\n",
    "drop_cols_list = ['mths_since_last_major_derog', 'mths_since_last_delinq', \n",
    "                  'collections_12_mths_ex_med', 'chargeoff_within_12_mths',\n",
    "                  'out_prncp_inv']"
   ]
  },
  {
   "cell_type": "code",
   "execution_count": 81,
   "metadata": {},
   "outputs": [],
   "source": [
    "y2015 = y2015.drop(columns = drop_cols_list)"
   ]
  },
  {
   "cell_type": "code",
   "execution_count": 82,
   "metadata": {},
   "outputs": [],
   "source": [
    "assert pd.notnull(y2015).all().all()"
   ]
  },
  {
   "cell_type": "markdown",
   "metadata": {},
   "source": [
    "#### Step 1. Normalize variance and drop columns with low variance"
   ]
  },
  {
   "cell_type": "code",
   "execution_count": 83,
   "metadata": {},
   "outputs": [
    {
     "data": {
      "text/plain": [
       "(84217, 82)"
      ]
     },
     "execution_count": 83,
     "metadata": {},
     "output_type": "execute_result"
    }
   ],
   "source": [
    "y2015.shape"
   ]
  },
  {
   "cell_type": "code",
   "execution_count": 84,
   "metadata": {},
   "outputs": [],
   "source": [
    "#Set the target variable and drop it from the main dataset\n",
    "y = y2015.loan_status\n",
    "y2015 = y2015.drop('loan_status', axis = 1)"
   ]
  },
  {
   "cell_type": "code",
   "execution_count": 85,
   "metadata": {},
   "outputs": [],
   "source": [
    "#Make a dataframe containing a subset of the columns - numeric only\n",
    "num_y2015 = pd.DataFrame(y2015.select_dtypes(include=['float64', 'int64']))"
   ]
  },
  {
   "cell_type": "code",
   "execution_count": 86,
   "metadata": {
    "run_control": {
     "frozen": false,
     "read_only": false
    },
    "scrolled": true
   },
   "outputs": [
    {
     "name": "stdout",
     "output_type": "stream",
     "text": [
      "(84217, 65)\n"
     ]
    }
   ],
   "source": [
    "from sklearn.feature_selection import VarianceThreshold \n",
    "\n",
    "var_thresh = VarianceThreshold(threshold=0.005)\n",
    "var_thresh.fit(num_y2015 / num_y2015.mean())\n",
    "\n",
    "#Here I am using a mask to reduce the features. I could have used fit_transform to do everything in one step\n",
    "mask = var_thresh.get_support()\n",
    "reduced_num_y2015 = num_y2015.loc[:, mask] \n",
    "print(reduced_num_y2015.shape)"
   ]
  },
  {
   "cell_type": "markdown",
   "metadata": {},
   "source": [
    "17 features were dropped as low-variance (above)"
   ]
  },
  {
   "cell_type": "markdown",
   "metadata": {},
   "source": [
    "#### Step 2. Encode the categorical variables that remain and merge the dataframe with the reduced set of numeric features"
   ]
  },
  {
   "cell_type": "code",
   "execution_count": 87,
   "metadata": {
    "run_control": {
     "frozen": false,
     "read_only": false
    }
   },
   "outputs": [],
   "source": [
    "y2015 = pd.get_dummies(y2015)"
   ]
  },
  {
   "cell_type": "code",
   "execution_count": 88,
   "metadata": {},
   "outputs": [
    {
     "name": "stdout",
     "output_type": "stream",
     "text": [
      "Index(['application_type_INDIVIDUAL', 'application_type_JOINT',\n",
      "       'chargeoffs_12mo', 'collections_12mo', 'grade_A', 'grade_B', 'grade_C',\n",
      "       'grade_D', 'grade_E', 'grade_F', 'grade_G', 'home_ownership_ANY',\n",
      "       'home_ownership_MORTGAGE', 'home_ownership_OWN', 'home_ownership_RENT',\n",
      "       'initial_list_status_f', 'initial_list_status_w', 'issue_d_Apr-2015',\n",
      "       'issue_d_Aug-2015', 'issue_d_Dec-2015', 'issue_d_Feb-2015',\n",
      "       'issue_d_Jan-2015', 'issue_d_Jul-2015', 'issue_d_Jun-2015',\n",
      "       'issue_d_Mar-2015', 'issue_d_May-2015', 'issue_d_Nov-2015',\n",
      "       'issue_d_Oct-2015', 'issue_d_Sep-2015', 'no_delinq', 'no_derog',\n",
      "       'policy_code', 'purpose_car', 'purpose_credit_card',\n",
      "       'purpose_debt_consolidation', 'purpose_home_improvement',\n",
      "       'purpose_house', 'purpose_major_purchase', 'purpose_medical',\n",
      "       'purpose_moving', 'purpose_other', 'purpose_renewable_energy',\n",
      "       'purpose_small_business', 'purpose_vacation', 'purpose_wedding',\n",
      "       'pymnt_plan_n', 'recent_delinq', 'recent_derog', 'term_ 36 months',\n",
      "       'term_ 60 months', 'verification_status_Not Verified',\n",
      "       'verification_status_Source Verified', 'verification_status_Verified'],\n",
      "      dtype='object')\n"
     ]
    }
   ],
   "source": [
    "#Merge the dataframe with reduced number of columns with the dataframe that includes encoded categorical variables\n",
    "keep_cols = y2015.columns.difference(reduced_num_y2015.columns)\n",
    "print(keep_cols)\n",
    "y2015_new = pd.merge(reduced_num_y2015, y2015[keep_cols], left_index=True, right_index=True, how='outer')"
   ]
  },
  {
   "cell_type": "code",
   "execution_count": 89,
   "metadata": {},
   "outputs": [
    {
     "data": {
      "text/plain": [
       "(84217, 118)"
      ]
     },
     "execution_count": 89,
     "metadata": {},
     "output_type": "execute_result"
    }
   ],
   "source": [
    "y2015_new.shape"
   ]
  },
  {
   "cell_type": "code",
   "execution_count": 91,
   "metadata": {},
   "outputs": [
    {
     "name": "stderr",
     "output_type": "stream",
     "text": [
      "/Users/robin/anaconda3/envs/data_sci/lib/python3.6/site-packages/sklearn/ensemble/forest.py:246: FutureWarning: The default value of n_estimators will change from 10 in version 0.20 to 100 in 0.22.\n",
      "  \"10 in version 0.20 to 100 in 0.22.\", FutureWarning)\n"
     ]
    },
    {
     "data": {
      "text/plain": [
       "array([ 0.95941135,  0.95726496,  0.95927333,  0.96009975,  0.95819974,\n",
       "        0.95962475,  0.95819974,  0.95914974,  0.959506  ,  0.95961516])"
      ]
     },
     "execution_count": 91,
     "metadata": {},
     "output_type": "execute_result"
    }
   ],
   "source": [
    "from sklearn import ensemble\n",
    "from sklearn.model_selection import cross_val_score\n",
    "\n",
    "X = y2015_new\n",
    "\n",
    "rfc = ensemble.RandomForestClassifier()\n",
    "rfc.fit(X, y)\n",
    "cross_val_score(rfc, X, y, cv=10)"
   ]
  },
  {
   "cell_type": "markdown",
   "metadata": {},
   "source": [
    "#### I've achieved a score above 90%, but how many features are really necessary?"
   ]
  },
  {
   "cell_type": "code",
   "execution_count": 92,
   "metadata": {
    "scrolled": true
   },
   "outputs": [
    {
     "name": "stdout",
     "output_type": "stream",
     "text": [
      "The reduced dataframe has 105 columns.\n"
     ]
    }
   ],
   "source": [
    "# Calculate the correlation matrix and take the absolute value\n",
    "corr_matrix = y2015_new.corr().abs()\n",
    "\n",
    "# Create a True/False mask and apply it\n",
    "mask = np.triu(np.ones_like(corr_matrix, dtype=bool))\n",
    "y2015_corr = corr_matrix.mask(mask)\n",
    "\n",
    "\n",
    "# List column names of highly correlated features (r > 0.85). Changing the r value to 0.80 drops the score to around 90,\n",
    "# so I'll stick with the value 0.85.\n",
    "to_drop = [c for c in y2015_corr.columns if any(y2015_corr[c] >  0.85)]\n",
    "# Drop the features in the to_drop list\n",
    "y2015_reduced = y2015_new.drop(to_drop, axis=1)\n",
    "\n",
    "print(\"The reduced dataframe has {} columns.\".format(y2015_reduced.shape[1]))"
   ]
  },
  {
   "cell_type": "code",
   "execution_count": 93,
   "metadata": {
    "scrolled": false
   },
   "outputs": [
    {
     "name": "stdout",
     "output_type": "stream",
     "text": [
      "['loan_amnt', 'funded_amnt', 'funded_amnt_inv', 'open_acc', 'total_pymnt', 'total_pymnt_inv', 'recoveries', 'tot_cur_bal', 'num_actv_rev_tl', 'total_bal_ex_mort', 'application_type_INDIVIDUAL', 'initial_list_status_f', 'term_ 36 months']\n"
     ]
    }
   ],
   "source": [
    "#These columns will be dropped because they are highly correlated with others\n",
    "print(to_drop)"
   ]
  },
  {
   "cell_type": "code",
   "execution_count": 94,
   "metadata": {
    "scrolled": false
   },
   "outputs": [
    {
     "data": {
      "text/plain": [
       "array([ 0.9566817 ,  0.9578585 ,  0.95571123,  0.95784349,  0.95546847,\n",
       "        0.95724973,  0.95641848,  0.95629973,  0.95689348,  0.95640812])"
      ]
     },
     "execution_count": 94,
     "metadata": {},
     "output_type": "execute_result"
    }
   ],
   "source": [
    "X = y2015_reduced\n",
    "rfc.fit(X, y)\n",
    "cross_val_score(rfc, X, y, cv=10)"
   ]
  },
  {
   "cell_type": "code",
   "execution_count": 96,
   "metadata": {},
   "outputs": [],
   "source": [
    "feature_importances = pd.DataFrame(rfc.feature_importances_,\n",
    "                                   index = X.columns,\n",
    "                                    columns=['importance']).sort_values('importance',    \n",
    "                                    ascending=False\n",
    "                                    )"
   ]
  },
  {
   "cell_type": "code",
   "execution_count": 101,
   "metadata": {},
   "outputs": [
    {
     "name": "stdout",
     "output_type": "stream",
     "text": [
      "                                importance  cum_importance\n",
      "last_pymnt_amnt                   0.312681        0.312681\n",
      "out_prncp                         0.239921        0.552601\n",
      "total_rec_prncp                   0.126136        0.678738\n",
      "total_rec_int                     0.042234        0.720972\n",
      "collection_recovery_fee           0.036636        0.757608\n",
      "installment                       0.026601        0.784209\n",
      "member_id                         0.012629        0.796838\n",
      "int_rate                          0.010164        0.807001\n",
      "annual_inc                        0.006693        0.813695\n",
      "dti                               0.006468        0.820162\n",
      "revol_bal                         0.006267        0.826429\n",
      "mo_sin_old_rev_tl_op              0.006194        0.832623\n",
      "tot_hi_cred_lim                   0.006137        0.838760\n",
      "bc_util                           0.006100        0.844860\n",
      "total_bc_limit                    0.006089        0.850949\n",
      "bc_open_to_buy                    0.005945        0.856893\n",
      "avg_cur_bal                       0.005790        0.862683\n",
      "total_rev_hi_lim                  0.005649        0.868332\n",
      "mo_sin_old_il_acct                0.005507        0.873839\n",
      "total_il_high_credit_limit        0.004975        0.878814\n",
      "total_acc                         0.004952        0.883766\n",
      "total_rec_late_fee                0.004910        0.888676\n",
      "num_tl_op_past_12m                0.004750        0.893425\n",
      "acc_open_past_24mths              0.004484        0.897909\n",
      "mths_since_recent_bc              0.004421        0.902330\n",
      "num_il_tl                         0.004275        0.906605\n",
      "mo_sin_rcnt_rev_tl_op             0.004088        0.910692\n",
      "num_rev_accts                     0.004080        0.914773\n",
      "num_sats                          0.003988        0.918760\n",
      "mo_sin_rcnt_tl                    0.003968        0.922729\n",
      "num_bc_tl                         0.003945        0.926674\n",
      "mths_since_recent_inq             0.003771        0.930445\n",
      "num_op_rev_tl                     0.003728        0.934174\n",
      "num_rev_tl_bal_gt_0               0.003448        0.937621\n",
      "pct_tl_nvr_dlq                    0.003327        0.940948\n",
      "num_bc_sats                       0.003246        0.944195\n",
      "percent_bc_gt_75                  0.003136        0.947330\n",
      "num_actv_bc_tl                    0.002832        0.950162\n",
      "mths_since_recent_revol_delinq    0.002742        0.952905\n",
      "term_ 60 months                   0.002723        0.955627\n"
     ]
    }
   ],
   "source": [
    "feature_importances['cum_importance'] = feature_importances.cumsum(axis = 0)\n",
    "print(feature_importances.head(40))"
   ]
  },
  {
   "cell_type": "markdown",
   "metadata": {},
   "source": [
    "#### Using PCA degrades the accuracy score (from 95% accuracy to about 86%) while using 40 features. PCA doesn't perform better than just taking into account the feature importance measure and establishing a cutoff when the accuracy score reaches an acceptable level."
   ]
  },
  {
   "cell_type": "code",
   "execution_count": 33,
   "metadata": {
    "scrolled": true
   },
   "outputs": [
    {
     "name": "stderr",
     "output_type": "stream",
     "text": [
      "/Users/robin/anaconda3/envs/data_sci/lib/python3.6/site-packages/sklearn/preprocessing/data.py:625: DataConversionWarning: Data with input dtype bool, uint8, int64, float64 were all converted to float64 by StandardScaler.\n",
      "  return self.partial_fit(X, y)\n",
      "/Users/robin/anaconda3/envs/data_sci/lib/python3.6/site-packages/sklearn/base.py:465: DataConversionWarning: Data with input dtype bool, uint8, int64, float64 were all converted to float64 by StandardScaler.\n",
      "  return self.fit(X, y, **fit_params).transform(X)\n",
      "/Users/robin/anaconda3/envs/data_sci/lib/python3.6/site-packages/sklearn/ensemble/forest.py:246: FutureWarning: The default value of n_estimators will change from 10 in version 0.20 to 100 in 0.22.\n",
      "  \"10 in version 0.20 to 100 in 0.22.\", FutureWarning)\n",
      "/Users/robin/anaconda3/envs/data_sci/lib/python3.6/site-packages/sklearn/model_selection/_split.py:652: Warning: The least populated class in y has only 6 members, which is too few. The minimum number of members in any class cannot be less than n_splits=10.\n",
      "  % (min_groups, self.n_splits)), Warning)\n",
      "/Users/robin/anaconda3/envs/data_sci/lib/python3.6/site-packages/sklearn/preprocessing/data.py:625: DataConversionWarning: Data with input dtype bool, uint8, int64, float64 were all converted to float64 by StandardScaler.\n",
      "  return self.partial_fit(X, y)\n",
      "/Users/robin/anaconda3/envs/data_sci/lib/python3.6/site-packages/sklearn/base.py:465: DataConversionWarning: Data with input dtype bool, uint8, int64, float64 were all converted to float64 by StandardScaler.\n",
      "  return self.fit(X, y, **fit_params).transform(X)\n",
      "/Users/robin/anaconda3/envs/data_sci/lib/python3.6/site-packages/sklearn/pipeline.py:511: DataConversionWarning: Data with input dtype bool, uint8, int64, float64 were all converted to float64 by StandardScaler.\n",
      "  Xt = transform.transform(Xt)\n",
      "/Users/robin/anaconda3/envs/data_sci/lib/python3.6/site-packages/sklearn/preprocessing/data.py:625: DataConversionWarning: Data with input dtype bool, uint8, int64, float64 were all converted to float64 by StandardScaler.\n",
      "  return self.partial_fit(X, y)\n",
      "/Users/robin/anaconda3/envs/data_sci/lib/python3.6/site-packages/sklearn/base.py:465: DataConversionWarning: Data with input dtype bool, uint8, int64, float64 were all converted to float64 by StandardScaler.\n",
      "  return self.fit(X, y, **fit_params).transform(X)\n",
      "/Users/robin/anaconda3/envs/data_sci/lib/python3.6/site-packages/sklearn/pipeline.py:511: DataConversionWarning: Data with input dtype bool, uint8, int64, float64 were all converted to float64 by StandardScaler.\n",
      "  Xt = transform.transform(Xt)\n",
      "/Users/robin/anaconda3/envs/data_sci/lib/python3.6/site-packages/sklearn/preprocessing/data.py:625: DataConversionWarning: Data with input dtype bool, uint8, int64, float64 were all converted to float64 by StandardScaler.\n",
      "  return self.partial_fit(X, y)\n",
      "/Users/robin/anaconda3/envs/data_sci/lib/python3.6/site-packages/sklearn/base.py:465: DataConversionWarning: Data with input dtype bool, uint8, int64, float64 were all converted to float64 by StandardScaler.\n",
      "  return self.fit(X, y, **fit_params).transform(X)\n",
      "/Users/robin/anaconda3/envs/data_sci/lib/python3.6/site-packages/sklearn/pipeline.py:511: DataConversionWarning: Data with input dtype bool, uint8, int64, float64 were all converted to float64 by StandardScaler.\n",
      "  Xt = transform.transform(Xt)\n",
      "/Users/robin/anaconda3/envs/data_sci/lib/python3.6/site-packages/sklearn/preprocessing/data.py:625: DataConversionWarning: Data with input dtype bool, uint8, int64, float64 were all converted to float64 by StandardScaler.\n",
      "  return self.partial_fit(X, y)\n",
      "/Users/robin/anaconda3/envs/data_sci/lib/python3.6/site-packages/sklearn/base.py:465: DataConversionWarning: Data with input dtype bool, uint8, int64, float64 were all converted to float64 by StandardScaler.\n",
      "  return self.fit(X, y, **fit_params).transform(X)\n",
      "/Users/robin/anaconda3/envs/data_sci/lib/python3.6/site-packages/sklearn/pipeline.py:511: DataConversionWarning: Data with input dtype bool, uint8, int64, float64 were all converted to float64 by StandardScaler.\n",
      "  Xt = transform.transform(Xt)\n",
      "/Users/robin/anaconda3/envs/data_sci/lib/python3.6/site-packages/sklearn/preprocessing/data.py:625: DataConversionWarning: Data with input dtype bool, uint8, int64, float64 were all converted to float64 by StandardScaler.\n",
      "  return self.partial_fit(X, y)\n",
      "/Users/robin/anaconda3/envs/data_sci/lib/python3.6/site-packages/sklearn/base.py:465: DataConversionWarning: Data with input dtype bool, uint8, int64, float64 were all converted to float64 by StandardScaler.\n",
      "  return self.fit(X, y, **fit_params).transform(X)\n",
      "/Users/robin/anaconda3/envs/data_sci/lib/python3.6/site-packages/sklearn/pipeline.py:511: DataConversionWarning: Data with input dtype bool, uint8, int64, float64 were all converted to float64 by StandardScaler.\n",
      "  Xt = transform.transform(Xt)\n",
      "/Users/robin/anaconda3/envs/data_sci/lib/python3.6/site-packages/sklearn/preprocessing/data.py:625: DataConversionWarning: Data with input dtype bool, uint8, int64, float64 were all converted to float64 by StandardScaler.\n",
      "  return self.partial_fit(X, y)\n",
      "/Users/robin/anaconda3/envs/data_sci/lib/python3.6/site-packages/sklearn/base.py:465: DataConversionWarning: Data with input dtype bool, uint8, int64, float64 were all converted to float64 by StandardScaler.\n",
      "  return self.fit(X, y, **fit_params).transform(X)\n",
      "/Users/robin/anaconda3/envs/data_sci/lib/python3.6/site-packages/sklearn/pipeline.py:511: DataConversionWarning: Data with input dtype bool, uint8, int64, float64 were all converted to float64 by StandardScaler.\n",
      "  Xt = transform.transform(Xt)\n",
      "/Users/robin/anaconda3/envs/data_sci/lib/python3.6/site-packages/sklearn/preprocessing/data.py:625: DataConversionWarning: Data with input dtype bool, uint8, int64, float64 were all converted to float64 by StandardScaler.\n",
      "  return self.partial_fit(X, y)\n",
      "/Users/robin/anaconda3/envs/data_sci/lib/python3.6/site-packages/sklearn/base.py:465: DataConversionWarning: Data with input dtype bool, uint8, int64, float64 were all converted to float64 by StandardScaler.\n",
      "  return self.fit(X, y, **fit_params).transform(X)\n",
      "/Users/robin/anaconda3/envs/data_sci/lib/python3.6/site-packages/sklearn/pipeline.py:511: DataConversionWarning: Data with input dtype bool, uint8, int64, float64 were all converted to float64 by StandardScaler.\n",
      "  Xt = transform.transform(Xt)\n",
      "/Users/robin/anaconda3/envs/data_sci/lib/python3.6/site-packages/sklearn/preprocessing/data.py:625: DataConversionWarning: Data with input dtype bool, uint8, int64, float64 were all converted to float64 by StandardScaler.\n",
      "  return self.partial_fit(X, y)\n",
      "/Users/robin/anaconda3/envs/data_sci/lib/python3.6/site-packages/sklearn/base.py:465: DataConversionWarning: Data with input dtype bool, uint8, int64, float64 were all converted to float64 by StandardScaler.\n",
      "  return self.fit(X, y, **fit_params).transform(X)\n",
      "/Users/robin/anaconda3/envs/data_sci/lib/python3.6/site-packages/sklearn/pipeline.py:511: DataConversionWarning: Data with input dtype bool, uint8, int64, float64 were all converted to float64 by StandardScaler.\n",
      "  Xt = transform.transform(Xt)\n",
      "/Users/robin/anaconda3/envs/data_sci/lib/python3.6/site-packages/sklearn/preprocessing/data.py:625: DataConversionWarning: Data with input dtype bool, uint8, int64, float64 were all converted to float64 by StandardScaler.\n",
      "  return self.partial_fit(X, y)\n",
      "/Users/robin/anaconda3/envs/data_sci/lib/python3.6/site-packages/sklearn/base.py:465: DataConversionWarning: Data with input dtype bool, uint8, int64, float64 were all converted to float64 by StandardScaler.\n",
      "  return self.fit(X, y, **fit_params).transform(X)\n",
      "/Users/robin/anaconda3/envs/data_sci/lib/python3.6/site-packages/sklearn/pipeline.py:511: DataConversionWarning: Data with input dtype bool, uint8, int64, float64 were all converted to float64 by StandardScaler.\n",
      "  Xt = transform.transform(Xt)\n",
      "/Users/robin/anaconda3/envs/data_sci/lib/python3.6/site-packages/sklearn/preprocessing/data.py:625: DataConversionWarning: Data with input dtype bool, uint8, int64, float64 were all converted to float64 by StandardScaler.\n",
      "  return self.partial_fit(X, y)\n",
      "/Users/robin/anaconda3/envs/data_sci/lib/python3.6/site-packages/sklearn/base.py:465: DataConversionWarning: Data with input dtype bool, uint8, int64, float64 were all converted to float64 by StandardScaler.\n",
      "  return self.fit(X, y, **fit_params).transform(X)\n"
     ]
    },
    {
     "name": "stdout",
     "output_type": "stream",
     "text": [
      "[ 0.86238532  0.86217458  0.86328725  0.86021505  0.86175115  0.84\n",
      "  0.86244204  0.86862442  0.84080371  0.87326121]\n"
     ]
    },
    {
     "name": "stderr",
     "output_type": "stream",
     "text": [
      "/Users/robin/anaconda3/envs/data_sci/lib/python3.6/site-packages/sklearn/pipeline.py:511: DataConversionWarning: Data with input dtype bool, uint8, int64, float64 were all converted to float64 by StandardScaler.\n",
      "  Xt = transform.transform(Xt)\n"
     ]
    }
   ],
   "source": [
    "from sklearn.preprocessing import StandardScaler \n",
    "from sklearn.decomposition import PCA\n",
    "from sklearn.pipeline import Pipeline\n",
    "\n",
    "pipe = Pipeline([\n",
    "('scaler', StandardScaler()),\n",
    "('reducer', PCA(n_components=40)), \n",
    "('classifier', ensemble.RandomForestClassifier())])\n",
    "\n",
    "pipe.fit(X, y)\n",
    "\n",
    "print(cross_val_score(pipe, X, y, cv = 10))"
   ]
  },
  {
   "cell_type": "markdown",
   "metadata": {},
   "source": [
    "### Discussion"
   ]
  },
  {
   "cell_type": "markdown",
   "metadata": {},
   "source": [
    "1) Get rid of as much data as possible without dropping below an average of 90% accuracy in a 10-fold cross validation.\n",
    "\n",
    "My random forest model gets above a 90% accuracy score with 25 specific features; the model achieves ~95% accuracy with about 40 features. None of the generated dummies make the cut, so if this model were to go into production, we could skip that step and work with a smaller dataset from the outset.\n",
    "\n",
    "The additional features I created also did not contribute to explanatory power in a significant way.\n",
    "\n",
    "2) Identify which features are most important. This can be the raw features or the generated dummies. You may want to use PCA or correlation matrices.\n",
    "\n",
    "The most important features are outstanding principal and last payment amount. Together they explain almost 70% of the variability in the dataset.\n",
    "\n",
    "3) Can you [answer the question] without using anything related to payment amount or outstanding principal? How do you know?\n",
    "\n",
    "Since outstanding principal and last payment amount account for almost 70% of the variability in the dataset, it  would not be possible to answer the question accurately if one excluded payment amount or outstanding principal.\n",
    "\n",
    "[Note: Outstanding principal column names are 'out_princp' and 'out_princp_inv'). Payment amount column name is 'installment'.]\n",
    "\n",
    "One question I am left with is, Why does a value like \"member id\" have any explanatory power at all? Is it because it may go from low to high values and thereby give some information about how recent the loan is?"
   ]
  },
  {
   "cell_type": "code",
   "execution_count": null,
   "metadata": {},
   "outputs": [],
   "source": []
  }
 ],
 "metadata": {
  "hide_input": false,
  "kernelspec": {
   "display_name": "Python 3",
   "language": "python",
   "name": "python3"
  },
  "language_info": {
   "codemirror_mode": {
    "name": "ipython",
    "version": 3
   },
   "file_extension": ".py",
   "mimetype": "text/x-python",
   "name": "python",
   "nbconvert_exporter": "python",
   "pygments_lexer": "ipython3",
   "version": "3.6.1"
  },
  "toc": {
   "colors": {
    "hover_highlight": "#DAA520",
    "running_highlight": "#FF0000",
    "selected_highlight": "#FFD700"
   },
   "moveMenuLeft": true,
   "nav_menu": {
    "height": "86px",
    "width": "252px"
   },
   "navigate_menu": true,
   "number_sections": true,
   "sideBar": true,
   "threshold": 4,
   "toc_cell": false,
   "toc_section_display": "block",
   "toc_window_display": false
  }
 },
 "nbformat": 4,
 "nbformat_minor": 2
}
