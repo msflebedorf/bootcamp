{
 "cells": [
  {
   "cell_type": "markdown",
   "metadata": {},
   "source": [
    "## Thinkful exercise 3.2.5 - Dimensionality reduction using random forest model"
   ]
  },
  {
   "cell_type": "code",
   "execution_count": 1,
   "metadata": {
    "run_control": {
     "frozen": false,
     "read_only": false
    }
   },
   "outputs": [],
   "source": [
    "import pandas as pd\n",
    "import numpy as np\n",
    "import matplotlib.pyplot as plt\n",
    "%matplotlib inline\n",
    "\n",
    "import warnings\n",
    "warnings.filterwarnings('ignore')"
   ]
  },
  {
   "cell_type": "markdown",
   "metadata": {},
   "source": [
    "### Project description"
   ]
  },
  {
   "cell_type": "markdown",
   "metadata": {
    "run_control": {
     "frozen": false,
     "read_only": false
    }
   },
   "source": [
    "Data:  2015 data from Lending Club, found at this link:https://www.lendingclub.com/info/download-data.action\n",
    "\n",
    "Modelling objective: Predict the state of a loan given some information about it\n",
    "\n",
    "Assignment details: \n",
    "\n",
    "1) Get rid of as much data as possible without dropping below an average of 90% accuracy in a 10-fold cross validation.\n",
    "\n",
    "2) Identify which features are most important. This can be the raw features or the generated dummies. You may want to use PCA or correlation matrices.\n",
    "\n",
    "3) Can you [answer the question] without using anything related to payment amount or outstanding principal? How do you know?\n"
   ]
  },
  {
   "cell_type": "markdown",
   "metadata": {},
   "source": [
    "### Preprocessing data"
   ]
  },
  {
   "cell_type": "code",
   "execution_count": 2,
   "metadata": {
    "run_control": {
     "frozen": false,
     "read_only": false
    }
   },
   "outputs": [],
   "source": [
    "#Using nrows to restrict dataset size for development\n",
    "y2015 = pd.read_csv(\n",
    "    '../../Datafiles/unit_3/LoanStats3d.csv',\n",
    "    skipinitialspace=True,\n",
    "    header=1,\n",
    "    low_memory = False\n",
    ")\n",
    "y2015 = y2015.sample(frac=0.20).reset_index(drop=True)"
   ]
  },
  {
   "cell_type": "code",
   "execution_count": 3,
   "metadata": {},
   "outputs": [
    {
     "data": {
      "text/plain": [
       "(84219, 111)"
      ]
     },
     "execution_count": 3,
     "metadata": {},
     "output_type": "execute_result"
    }
   ],
   "source": [
    "y2015.shape"
   ]
  },
  {
   "cell_type": "markdown",
   "metadata": {},
   "source": [
    "#### The data dictionary includes 152 columns. This is a subset of the columns in the full dataset, apparently."
   ]
  },
  {
   "cell_type": "code",
   "execution_count": 4,
   "metadata": {},
   "outputs": [
    {
     "data": {
      "text/html": [
       "<div>\n",
       "<style scoped>\n",
       "    .dataframe tbody tr th:only-of-type {\n",
       "        vertical-align: middle;\n",
       "    }\n",
       "\n",
       "    .dataframe tbody tr th {\n",
       "        vertical-align: top;\n",
       "    }\n",
       "\n",
       "    .dataframe thead th {\n",
       "        text-align: right;\n",
       "    }\n",
       "</style>\n",
       "<table border=\"1\" class=\"dataframe\">\n",
       "  <thead>\n",
       "    <tr style=\"text-align: right;\">\n",
       "      <th></th>\n",
       "      <th>id</th>\n",
       "      <th>member_id</th>\n",
       "      <th>loan_amnt</th>\n",
       "      <th>funded_amnt</th>\n",
       "      <th>funded_amnt_inv</th>\n",
       "      <th>term</th>\n",
       "      <th>int_rate</th>\n",
       "      <th>installment</th>\n",
       "      <th>grade</th>\n",
       "      <th>sub_grade</th>\n",
       "      <th>...</th>\n",
       "      <th>num_tl_90g_dpd_24m</th>\n",
       "      <th>num_tl_op_past_12m</th>\n",
       "      <th>pct_tl_nvr_dlq</th>\n",
       "      <th>percent_bc_gt_75</th>\n",
       "      <th>pub_rec_bankruptcies</th>\n",
       "      <th>tax_liens</th>\n",
       "      <th>tot_hi_cred_lim</th>\n",
       "      <th>total_bal_ex_mort</th>\n",
       "      <th>total_bc_limit</th>\n",
       "      <th>total_il_high_credit_limit</th>\n",
       "    </tr>\n",
       "  </thead>\n",
       "  <tbody>\n",
       "    <tr>\n",
       "      <th>0</th>\n",
       "      <td>68009900</td>\n",
       "      <td>72868653.0</td>\n",
       "      <td>35000.0</td>\n",
       "      <td>35000.0</td>\n",
       "      <td>35000.0</td>\n",
       "      <td>60 months</td>\n",
       "      <td>11.99%</td>\n",
       "      <td>778.38</td>\n",
       "      <td>C</td>\n",
       "      <td>C1</td>\n",
       "      <td>...</td>\n",
       "      <td>0.0</td>\n",
       "      <td>1.0</td>\n",
       "      <td>89.5</td>\n",
       "      <td>36.4</td>\n",
       "      <td>0.0</td>\n",
       "      <td>0.0</td>\n",
       "      <td>307264.0</td>\n",
       "      <td>79260.0</td>\n",
       "      <td>32900.0</td>\n",
       "      <td>48752.0</td>\n",
       "    </tr>\n",
       "    <tr>\n",
       "      <th>1</th>\n",
       "      <td>64260389</td>\n",
       "      <td>68730110.0</td>\n",
       "      <td>5000.0</td>\n",
       "      <td>5000.0</td>\n",
       "      <td>5000.0</td>\n",
       "      <td>36 months</td>\n",
       "      <td>8.38%</td>\n",
       "      <td>157.56</td>\n",
       "      <td>B</td>\n",
       "      <td>B1</td>\n",
       "      <td>...</td>\n",
       "      <td>0.0</td>\n",
       "      <td>2.0</td>\n",
       "      <td>100.0</td>\n",
       "      <td>0.0</td>\n",
       "      <td>0.0</td>\n",
       "      <td>0.0</td>\n",
       "      <td>33018.0</td>\n",
       "      <td>17237.0</td>\n",
       "      <td>10100.0</td>\n",
       "      <td>13418.0</td>\n",
       "    </tr>\n",
       "    <tr>\n",
       "      <th>2</th>\n",
       "      <td>42263776</td>\n",
       "      <td>45230504.0</td>\n",
       "      <td>14700.0</td>\n",
       "      <td>14700.0</td>\n",
       "      <td>14675.0</td>\n",
       "      <td>36 months</td>\n",
       "      <td>14.65%</td>\n",
       "      <td>507.07</td>\n",
       "      <td>C</td>\n",
       "      <td>C5</td>\n",
       "      <td>...</td>\n",
       "      <td>0.0</td>\n",
       "      <td>2.0</td>\n",
       "      <td>97.0</td>\n",
       "      <td>100.0</td>\n",
       "      <td>0.0</td>\n",
       "      <td>0.0</td>\n",
       "      <td>91886.0</td>\n",
       "      <td>97630.0</td>\n",
       "      <td>17400.0</td>\n",
       "      <td>70486.0</td>\n",
       "    </tr>\n",
       "    <tr>\n",
       "      <th>3</th>\n",
       "      <td>55281837</td>\n",
       "      <td>58862656.0</td>\n",
       "      <td>8000.0</td>\n",
       "      <td>8000.0</td>\n",
       "      <td>8000.0</td>\n",
       "      <td>36 months</td>\n",
       "      <td>15.61%</td>\n",
       "      <td>279.72</td>\n",
       "      <td>D</td>\n",
       "      <td>D1</td>\n",
       "      <td>...</td>\n",
       "      <td>0.0</td>\n",
       "      <td>3.0</td>\n",
       "      <td>70.0</td>\n",
       "      <td>100.0</td>\n",
       "      <td>0.0</td>\n",
       "      <td>0.0</td>\n",
       "      <td>28205.0</td>\n",
       "      <td>15150.0</td>\n",
       "      <td>3600.0</td>\n",
       "      <td>14505.0</td>\n",
       "    </tr>\n",
       "    <tr>\n",
       "      <th>4</th>\n",
       "      <td>41140327</td>\n",
       "      <td>44016109.0</td>\n",
       "      <td>16000.0</td>\n",
       "      <td>16000.0</td>\n",
       "      <td>16000.0</td>\n",
       "      <td>60 months</td>\n",
       "      <td>14.65%</td>\n",
       "      <td>377.71</td>\n",
       "      <td>C</td>\n",
       "      <td>C5</td>\n",
       "      <td>...</td>\n",
       "      <td>0.0</td>\n",
       "      <td>3.0</td>\n",
       "      <td>100.0</td>\n",
       "      <td>50.0</td>\n",
       "      <td>0.0</td>\n",
       "      <td>0.0</td>\n",
       "      <td>185907.0</td>\n",
       "      <td>66023.0</td>\n",
       "      <td>5000.0</td>\n",
       "      <td>85707.0</td>\n",
       "    </tr>\n",
       "  </tbody>\n",
       "</table>\n",
       "<p>5 rows × 111 columns</p>\n",
       "</div>"
      ],
      "text/plain": [
       "         id   member_id  loan_amnt  funded_amnt  funded_amnt_inv        term  \\\n",
       "0  68009900  72868653.0    35000.0      35000.0          35000.0   60 months   \n",
       "1  64260389  68730110.0     5000.0       5000.0           5000.0   36 months   \n",
       "2  42263776  45230504.0    14700.0      14700.0          14675.0   36 months   \n",
       "3  55281837  58862656.0     8000.0       8000.0           8000.0   36 months   \n",
       "4  41140327  44016109.0    16000.0      16000.0          16000.0   60 months   \n",
       "\n",
       "  int_rate  installment grade sub_grade            ...              \\\n",
       "0   11.99%       778.38     C        C1            ...               \n",
       "1    8.38%       157.56     B        B1            ...               \n",
       "2   14.65%       507.07     C        C5            ...               \n",
       "3   15.61%       279.72     D        D1            ...               \n",
       "4   14.65%       377.71     C        C5            ...               \n",
       "\n",
       "  num_tl_90g_dpd_24m num_tl_op_past_12m pct_tl_nvr_dlq  percent_bc_gt_75  \\\n",
       "0                0.0                1.0           89.5              36.4   \n",
       "1                0.0                2.0          100.0               0.0   \n",
       "2                0.0                2.0           97.0             100.0   \n",
       "3                0.0                3.0           70.0             100.0   \n",
       "4                0.0                3.0          100.0              50.0   \n",
       "\n",
       "  pub_rec_bankruptcies tax_liens tot_hi_cred_lim total_bal_ex_mort  \\\n",
       "0                  0.0       0.0        307264.0           79260.0   \n",
       "1                  0.0       0.0         33018.0           17237.0   \n",
       "2                  0.0       0.0         91886.0           97630.0   \n",
       "3                  0.0       0.0         28205.0           15150.0   \n",
       "4                  0.0       0.0        185907.0           66023.0   \n",
       "\n",
       "  total_bc_limit total_il_high_credit_limit  \n",
       "0        32900.0                    48752.0  \n",
       "1        10100.0                    13418.0  \n",
       "2        17400.0                    70486.0  \n",
       "3         3600.0                    14505.0  \n",
       "4         5000.0                    85707.0  \n",
       "\n",
       "[5 rows x 111 columns]"
      ]
     },
     "execution_count": 4,
     "metadata": {},
     "output_type": "execute_result"
    }
   ],
   "source": [
    "y2015.head()"
   ]
  },
  {
   "cell_type": "code",
   "execution_count": 5,
   "metadata": {},
   "outputs": [
    {
     "data": {
      "text/html": [
       "<div>\n",
       "<style scoped>\n",
       "    .dataframe tbody tr th:only-of-type {\n",
       "        vertical-align: middle;\n",
       "    }\n",
       "\n",
       "    .dataframe tbody tr th {\n",
       "        vertical-align: top;\n",
       "    }\n",
       "\n",
       "    .dataframe thead th {\n",
       "        text-align: right;\n",
       "    }\n",
       "</style>\n",
       "<table border=\"1\" class=\"dataframe\">\n",
       "  <thead>\n",
       "    <tr style=\"text-align: right;\">\n",
       "      <th></th>\n",
       "      <th>id</th>\n",
       "      <th>member_id</th>\n",
       "      <th>loan_amnt</th>\n",
       "      <th>funded_amnt</th>\n",
       "      <th>funded_amnt_inv</th>\n",
       "      <th>term</th>\n",
       "      <th>int_rate</th>\n",
       "      <th>installment</th>\n",
       "      <th>grade</th>\n",
       "      <th>sub_grade</th>\n",
       "      <th>...</th>\n",
       "      <th>num_tl_90g_dpd_24m</th>\n",
       "      <th>num_tl_op_past_12m</th>\n",
       "      <th>pct_tl_nvr_dlq</th>\n",
       "      <th>percent_bc_gt_75</th>\n",
       "      <th>pub_rec_bankruptcies</th>\n",
       "      <th>tax_liens</th>\n",
       "      <th>tot_hi_cred_lim</th>\n",
       "      <th>total_bal_ex_mort</th>\n",
       "      <th>total_bc_limit</th>\n",
       "      <th>total_il_high_credit_limit</th>\n",
       "    </tr>\n",
       "  </thead>\n",
       "  <tbody>\n",
       "    <tr>\n",
       "      <th>84214</th>\n",
       "      <td>39749161</td>\n",
       "      <td>42572876.0</td>\n",
       "      <td>7000.0</td>\n",
       "      <td>7000.0</td>\n",
       "      <td>7000.0</td>\n",
       "      <td>36 months</td>\n",
       "      <td>11.44%</td>\n",
       "      <td>230.64</td>\n",
       "      <td>B</td>\n",
       "      <td>B4</td>\n",
       "      <td>...</td>\n",
       "      <td>0.0</td>\n",
       "      <td>0.0</td>\n",
       "      <td>100.0</td>\n",
       "      <td>0.0</td>\n",
       "      <td>1.0</td>\n",
       "      <td>1.0</td>\n",
       "      <td>33767.0</td>\n",
       "      <td>24074.0</td>\n",
       "      <td>1100.0</td>\n",
       "      <td>27567.0</td>\n",
       "    </tr>\n",
       "    <tr>\n",
       "      <th>84215</th>\n",
       "      <td>43380158</td>\n",
       "      <td>46406908.0</td>\n",
       "      <td>20000.0</td>\n",
       "      <td>20000.0</td>\n",
       "      <td>19900.0</td>\n",
       "      <td>36 months</td>\n",
       "      <td>10.99%</td>\n",
       "      <td>654.68</td>\n",
       "      <td>B</td>\n",
       "      <td>B4</td>\n",
       "      <td>...</td>\n",
       "      <td>0.0</td>\n",
       "      <td>0.0</td>\n",
       "      <td>100.0</td>\n",
       "      <td>60.0</td>\n",
       "      <td>0.0</td>\n",
       "      <td>0.0</td>\n",
       "      <td>23600.0</td>\n",
       "      <td>18445.0</td>\n",
       "      <td>19800.0</td>\n",
       "      <td>0.0</td>\n",
       "    </tr>\n",
       "    <tr>\n",
       "      <th>84216</th>\n",
       "      <td>40620417</td>\n",
       "      <td>43485131.0</td>\n",
       "      <td>21000.0</td>\n",
       "      <td>21000.0</td>\n",
       "      <td>21000.0</td>\n",
       "      <td>60 months</td>\n",
       "      <td>18.25%</td>\n",
       "      <td>536.13</td>\n",
       "      <td>E</td>\n",
       "      <td>E1</td>\n",
       "      <td>...</td>\n",
       "      <td>0.0</td>\n",
       "      <td>0.0</td>\n",
       "      <td>100.0</td>\n",
       "      <td>50.0</td>\n",
       "      <td>0.0</td>\n",
       "      <td>0.0</td>\n",
       "      <td>42428.0</td>\n",
       "      <td>29024.0</td>\n",
       "      <td>7800.0</td>\n",
       "      <td>17528.0</td>\n",
       "    </tr>\n",
       "    <tr>\n",
       "      <th>84217</th>\n",
       "      <td>60035358</td>\n",
       "      <td>63980076.0</td>\n",
       "      <td>18125.0</td>\n",
       "      <td>18125.0</td>\n",
       "      <td>18125.0</td>\n",
       "      <td>36 months</td>\n",
       "      <td>13.33%</td>\n",
       "      <td>613.59</td>\n",
       "      <td>C</td>\n",
       "      <td>C3</td>\n",
       "      <td>...</td>\n",
       "      <td>0.0</td>\n",
       "      <td>0.0</td>\n",
       "      <td>100.0</td>\n",
       "      <td>75.0</td>\n",
       "      <td>0.0</td>\n",
       "      <td>2.0</td>\n",
       "      <td>274782.0</td>\n",
       "      <td>56503.0</td>\n",
       "      <td>6500.0</td>\n",
       "      <td>69782.0</td>\n",
       "    </tr>\n",
       "    <tr>\n",
       "      <th>84218</th>\n",
       "      <td>61491159</td>\n",
       "      <td>65609944.0</td>\n",
       "      <td>21475.0</td>\n",
       "      <td>21475.0</td>\n",
       "      <td>21475.0</td>\n",
       "      <td>36 months</td>\n",
       "      <td>12.69%</td>\n",
       "      <td>720.38</td>\n",
       "      <td>C</td>\n",
       "      <td>C2</td>\n",
       "      <td>...</td>\n",
       "      <td>0.0</td>\n",
       "      <td>7.0</td>\n",
       "      <td>97.9</td>\n",
       "      <td>0.0</td>\n",
       "      <td>0.0</td>\n",
       "      <td>0.0</td>\n",
       "      <td>297493.0</td>\n",
       "      <td>70980.0</td>\n",
       "      <td>48700.0</td>\n",
       "      <td>52994.0</td>\n",
       "    </tr>\n",
       "  </tbody>\n",
       "</table>\n",
       "<p>5 rows × 111 columns</p>\n",
       "</div>"
      ],
      "text/plain": [
       "             id   member_id  loan_amnt  funded_amnt  funded_amnt_inv  \\\n",
       "84214  39749161  42572876.0     7000.0       7000.0           7000.0   \n",
       "84215  43380158  46406908.0    20000.0      20000.0          19900.0   \n",
       "84216  40620417  43485131.0    21000.0      21000.0          21000.0   \n",
       "84217  60035358  63980076.0    18125.0      18125.0          18125.0   \n",
       "84218  61491159  65609944.0    21475.0      21475.0          21475.0   \n",
       "\n",
       "             term int_rate  installment grade sub_grade  \\\n",
       "84214   36 months   11.44%       230.64     B        B4   \n",
       "84215   36 months   10.99%       654.68     B        B4   \n",
       "84216   60 months   18.25%       536.13     E        E1   \n",
       "84217   36 months   13.33%       613.59     C        C3   \n",
       "84218   36 months   12.69%       720.38     C        C2   \n",
       "\n",
       "                 ...             num_tl_90g_dpd_24m num_tl_op_past_12m  \\\n",
       "84214            ...                            0.0                0.0   \n",
       "84215            ...                            0.0                0.0   \n",
       "84216            ...                            0.0                0.0   \n",
       "84217            ...                            0.0                0.0   \n",
       "84218            ...                            0.0                7.0   \n",
       "\n",
       "      pct_tl_nvr_dlq  percent_bc_gt_75 pub_rec_bankruptcies tax_liens  \\\n",
       "84214          100.0               0.0                  1.0       1.0   \n",
       "84215          100.0              60.0                  0.0       0.0   \n",
       "84216          100.0              50.0                  0.0       0.0   \n",
       "84217          100.0              75.0                  0.0       2.0   \n",
       "84218           97.9               0.0                  0.0       0.0   \n",
       "\n",
       "      tot_hi_cred_lim total_bal_ex_mort total_bc_limit  \\\n",
       "84214         33767.0           24074.0         1100.0   \n",
       "84215         23600.0           18445.0        19800.0   \n",
       "84216         42428.0           29024.0         7800.0   \n",
       "84217        274782.0           56503.0         6500.0   \n",
       "84218        297493.0           70980.0        48700.0   \n",
       "\n",
       "      total_il_high_credit_limit  \n",
       "84214                    27567.0  \n",
       "84215                        0.0  \n",
       "84216                    17528.0  \n",
       "84217                    69782.0  \n",
       "84218                    52994.0  \n",
       "\n",
       "[5 rows x 111 columns]"
      ]
     },
     "execution_count": 5,
     "metadata": {},
     "output_type": "execute_result"
    }
   ],
   "source": [
    "y2015.tail()"
   ]
  },
  {
   "cell_type": "code",
   "execution_count": 6,
   "metadata": {},
   "outputs": [],
   "source": [
    "#remove two summary rows at the end that don't actually contain data.\n",
    "y2015 = y2015[:-2]"
   ]
  },
  {
   "cell_type": "code",
   "execution_count": 7,
   "metadata": {
    "scrolled": true
   },
   "outputs": [
    {
     "data": {
      "text/plain": [
       "(84217, 111)"
      ]
     },
     "execution_count": 7,
     "metadata": {},
     "output_type": "execute_result"
    }
   ],
   "source": [
    "y2015.shape"
   ]
  },
  {
   "cell_type": "markdown",
   "metadata": {},
   "source": [
    "#### Analyze columns with null values and adjust contents to zero or drop them"
   ]
  },
  {
   "cell_type": "code",
   "execution_count": 8,
   "metadata": {
    "scrolled": true
   },
   "outputs": [
    {
     "name": "stdout",
     "output_type": "stream",
     "text": [
      "                           col_name  null_pcnt\n",
      "10                        emp_title       5.57\n",
      "11                       emp_length       5.55\n",
      "19                             desc      99.98\n",
      "21                            title       0.02\n",
      "28           mths_since_last_delinq      48.61\n",
      "29           mths_since_last_record      82.38\n",
      "33                       revol_util       0.04\n",
      "45                     last_pymnt_d       0.07\n",
      "47                     next_pymnt_d      27.63\n",
      "50      mths_since_last_major_derog      70.99\n",
      "53                 annual_inc_joint      99.89\n",
      "54                        dti_joint      99.89\n",
      "55        verification_status_joint      99.89\n",
      "59                      open_acc_6m      95.03\n",
      "60                       open_il_6m      95.03\n",
      "61                      open_il_12m      95.03\n",
      "62                      open_il_24m      95.03\n",
      "63               mths_since_rcnt_il      95.14\n",
      "64                     total_bal_il      95.03\n",
      "65                          il_util      95.65\n",
      "66                      open_rv_12m      95.03\n",
      "67                      open_rv_24m      95.03\n",
      "68                       max_bal_bc      95.03\n",
      "69                         all_util      95.03\n",
      "71                           inq_fi      95.03\n",
      "72                      total_cu_tl      95.03\n",
      "73                     inq_last_12m      95.03\n",
      "76                   bc_open_to_buy       0.93\n",
      "77                          bc_util       0.99\n",
      "80               mo_sin_old_il_acct       2.92\n",
      "85             mths_since_recent_bc       0.90\n",
      "86         mths_since_recent_bc_dlq      74.25\n",
      "87            mths_since_recent_inq      10.43\n",
      "88   mths_since_recent_revol_delinq      64.01\n",
      "99                 num_tl_120dpd_2m       4.62\n",
      "104                percent_bc_gt_75       1.00\n"
     ]
    }
   ],
   "source": [
    "#Compute proportion of null values\n",
    "null_counts = pd.DataFrame(y2015.isna().mean().round(4) * 100, columns = ['null_pcnt'])\n",
    "null_counts.index.name = 'col_name'\n",
    "null_counts = null_counts.reset_index()\n",
    "print(null_counts.loc[null_counts.null_pcnt > 0])"
   ]
  },
  {
   "cell_type": "code",
   "execution_count": 9,
   "metadata": {},
   "outputs": [],
   "source": [
    "#Fill nan with zero in some columns, because that is what is implied for these columns given knowledge of the data\n",
    "#Pandas 'startswith' works differently than Python. Python allows a beg and end argument\n",
    "#num_tl prefix means 'number of accounts'\n",
    "col_list = y2015.loc[:, y2015.columns.str.startswith('mths_')].columns\n",
    "col_list = col_list.append(y2015.loc[:, y2015.columns.str.startswith('num_tl_')].columns)\n",
    "col_list = col_list.append(y2015.loc[:, y2015.columns.str.startswith('mo_sin_')].columns)\n",
    "col_list = col_list.append(y2015.loc[:, y2015.columns.str.contains('bc_')].columns)\n",
    "for col in col_list:\n",
    "    y2015[[col]] = y2015[[col]].fillna(value = 0)"
   ]
  },
  {
   "cell_type": "code",
   "execution_count": 10,
   "metadata": {
    "scrolled": true
   },
   "outputs": [
    {
     "name": "stdout",
     "output_type": "stream",
     "text": [
      "                     col_name  null_pcnt\n",
      "10                  emp_title       5.57\n",
      "11                 emp_length       5.55\n",
      "19                       desc      99.98\n",
      "21                      title       0.02\n",
      "33                 revol_util       0.04\n",
      "45               last_pymnt_d       0.07\n",
      "47               next_pymnt_d      27.63\n",
      "53           annual_inc_joint      99.89\n",
      "54                  dti_joint      99.89\n",
      "55  verification_status_joint      99.89\n",
      "59                open_acc_6m      95.03\n",
      "60                 open_il_6m      95.03\n",
      "61                open_il_12m      95.03\n",
      "62                open_il_24m      95.03\n",
      "64               total_bal_il      95.03\n",
      "65                    il_util      95.65\n",
      "66                open_rv_12m      95.03\n",
      "67                open_rv_24m      95.03\n",
      "68                 max_bal_bc      95.03\n",
      "69                   all_util      95.03\n",
      "71                     inq_fi      95.03\n",
      "72                total_cu_tl      95.03\n",
      "73               inq_last_12m      95.03\n"
     ]
    }
   ],
   "source": [
    "#Review remaining columns with null values \n",
    "null_counts = pd.DataFrame(y2015.isna().mean().round(4) * 100, columns = ['null_pcnt'])\n",
    "null_counts.index.name = 'col_name'\n",
    "null_counts = null_counts.reset_index()\n",
    "print(null_counts.loc[null_counts.null_pcnt > 0])"
   ]
  },
  {
   "cell_type": "code",
   "execution_count": 11,
   "metadata": {
    "run_control": {
     "frozen": false,
     "read_only": false
    }
   },
   "outputs": [],
   "source": [
    "# Convert interest rate to numeric.\n",
    "y2015['int_rate'] = pd.to_numeric(y2015['int_rate'].str.strip('%'), errors='coerce')"
   ]
  },
  {
   "cell_type": "code",
   "execution_count": 12,
   "metadata": {
    "run_control": {
     "frozen": false,
     "read_only": false
    },
    "scrolled": false
   },
   "outputs": [
    {
     "name": "stdout",
     "output_type": "stream",
     "text": [
      "id\n",
      "84217\n",
      "term\n",
      "2\n",
      "grade\n",
      "7\n",
      "sub_grade\n",
      "35\n",
      "emp_title\n",
      "32804\n",
      "emp_length\n",
      "11\n",
      "home_ownership\n",
      "3\n",
      "verification_status\n",
      "3\n",
      "issue_d\n",
      "12\n",
      "loan_status\n",
      "7\n",
      "pymnt_plan\n",
      "1\n",
      "url\n",
      "84217\n",
      "desc\n",
      "10\n",
      "purpose\n",
      "12\n",
      "title\n",
      "15\n",
      "zip_code\n",
      "871\n",
      "addr_state\n",
      "49\n",
      "earliest_cr_line\n",
      "600\n",
      "revol_util\n",
      "1099\n",
      "initial_list_status\n",
      "2\n",
      "last_pymnt_d\n",
      "25\n",
      "next_pymnt_d\n",
      "3\n",
      "last_credit_pull_d\n",
      "26\n",
      "application_type\n",
      "2\n",
      "verification_status_joint\n",
      "3\n"
     ]
    }
   ],
   "source": [
    "#Identify columns that are not numeric and examine how variable their values are\n",
    "categorical = y2015.select_dtypes(include=['object'])\n",
    "for i in categorical:\n",
    "    column = categorical[i]\n",
    "    print(i)\n",
    "    print(column.nunique())"
   ]
  },
  {
   "cell_type": "code",
   "execution_count": 13,
   "metadata": {},
   "outputs": [],
   "source": [
    "# Drop columns with many unique variables\n",
    "drop_cols_list = ['url', 'emp_title', 'zip_code', 'earliest_cr_line', 'revol_util',\n",
    "            'sub_grade', 'addr_state', 'id', 'title', 'last_pymnt_d', 'next_pymnt_d', 'last_credit_pull_d']"
   ]
  },
  {
   "cell_type": "code",
   "execution_count": 14,
   "metadata": {},
   "outputs": [],
   "source": [
    "y2015 = y2015.drop(columns = drop_cols_list)"
   ]
  },
  {
   "cell_type": "code",
   "execution_count": 15,
   "metadata": {},
   "outputs": [],
   "source": [
    "#Drop any remaining columns with a high number of Nulls\n",
    "y2015 = y2015.dropna(axis = 1)"
   ]
  },
  {
   "cell_type": "markdown",
   "metadata": {
    "run_control": {
     "frozen": false,
     "read_only": false
    }
   },
   "source": [
    "### Thinkful baseline model"
   ]
  },
  {
   "cell_type": "markdown",
   "metadata": {
    "run_control": {
     "frozen": false,
     "read_only": false
    }
   },
   "source": [
    "Thinkful commentary:\n",
    "\n",
    "The score cross validation reports is the accuracy of the tree. Here we're about 98% accurate.\n",
    "\n",
    "That works pretty well, but there are a few potential problems. Firstly, we didn't really do much in the way of feature selection or model refinement. As such there are a lot of features in there that we don't really need. Some of them are actually quite impressively useless.\n",
    "\n",
    "There's also some variance in the scores. The fact that one gave us only 93% accuracy while others gave higher than 98 is concerning. This variance could be corrected by increasing the number of estimators. That will make it take even longer to run, however, and it is already quite slow."
   ]
  },
  {
   "cell_type": "markdown",
   "metadata": {},
   "source": [
    "### Robin's modeling"
   ]
  },
  {
   "cell_type": "markdown",
   "metadata": {},
   "source": [
    "#### Examine the target variable"
   ]
  },
  {
   "cell_type": "code",
   "execution_count": 16,
   "metadata": {},
   "outputs": [
    {
     "data": {
      "text/plain": [
       "(84217, 81)"
      ]
     },
     "execution_count": 16,
     "metadata": {},
     "output_type": "execute_result"
    }
   ],
   "source": [
    "y2015.shape"
   ]
  },
  {
   "cell_type": "code",
   "execution_count": 17,
   "metadata": {
    "scrolled": true
   },
   "outputs": [
    {
     "data": {
      "text/plain": [
       "Current               57536\n",
       "Fully Paid            17567\n",
       "Charged Off            5705\n",
       "Late (31-120 days)     1945\n",
       "In Grace Period         928\n",
       "Late (16-30 days)       389\n",
       "Default                 147\n",
       "Name: loan_status, dtype: int64"
      ]
     },
     "execution_count": 17,
     "metadata": {},
     "output_type": "execute_result"
    }
   ],
   "source": [
    "y2015.loan_status.value_counts()"
   ]
  },
  {
   "cell_type": "markdown",
   "metadata": {},
   "source": [
    "Note that the cut-off where delinquency matters is 16 days and more. In reality, it is likely one month and more than one month that is most meaningful."
   ]
  },
  {
   "cell_type": "markdown",
   "metadata": {},
   "source": [
    "#### Build some features with meaningful collections & delinquency information. The recent information is the most important."
   ]
  },
  {
   "cell_type": "markdown",
   "metadata": {},
   "source": [
    "Collections data and charge off data: It's most material to know whether there were collections or charge offs in the last 12 months.\n",
    "\n",
    "Delinquency data: If months since last delinq = 0, means > = 0, < 30 days. So if zero, set no_delinq = True,  else False.\n",
    "\n",
    "Separate months since last delinq into recent delinquencies -- delinq_last_12_mo = True if >0, <= 12 else false\n",
    "\n",
    "Then drop cols in sel_cols list"
   ]
  },
  {
   "cell_type": "code",
   "execution_count": 18,
   "metadata": {},
   "outputs": [],
   "source": [
    "#Change the recent delinquency parameter in number of months\n",
    "recent_delinq_param = 12\n",
    "#Use apply to set no_delinq, recent_delinq flags\n",
    "y2015['no_delinq'] = np.where(y2015.mths_since_last_delinq == 0, True, False)\n",
    "y2015['recent_delinq'] = np.where(((y2015.mths_since_last_delinq > 0) & (y2015.mths_since_last_delinq <= recent_delinq_param)), True, False)"
   ]
  },
  {
   "cell_type": "code",
   "execution_count": 19,
   "metadata": {},
   "outputs": [],
   "source": [
    "y2015['no_derog'] = np.where(y2015.mths_since_last_major_derog == 0, True, False)\n",
    "y2015['recent_derog'] = np.where(((y2015.mths_since_last_major_derog > 0) & (y2015.mths_since_last_major_derog <= 12)), True, False)\n",
    "y2015['collections_12mo'] = np.where(y2015.collections_12_mths_ex_med == 0, True, False)\n",
    "y2015['chargeoffs_12mo'] = np.where(((y2015.chargeoff_within_12_mths == 0)), True, False)"
   ]
  },
  {
   "cell_type": "code",
   "execution_count": 20,
   "metadata": {},
   "outputs": [],
   "source": [
    "# Drop columns used to categorize delinquencies, chargeoffs, derogitories\n",
    "drop_cols_list = ['mths_since_last_major_derog', 'mths_since_last_delinq', \n",
    "                  'collections_12_mths_ex_med', 'chargeoff_within_12_mths',\n",
    "                  'out_prncp_inv']"
   ]
  },
  {
   "cell_type": "code",
   "execution_count": 21,
   "metadata": {},
   "outputs": [],
   "source": [
    "y2015 = y2015.drop(columns = drop_cols_list)"
   ]
  },
  {
   "cell_type": "code",
   "execution_count": 22,
   "metadata": {},
   "outputs": [],
   "source": [
    "assert pd.notnull(y2015).all().all()"
   ]
  },
  {
   "cell_type": "markdown",
   "metadata": {},
   "source": [
    "#### Step 1. Normalize variance and drop columns with low variance"
   ]
  },
  {
   "cell_type": "code",
   "execution_count": 23,
   "metadata": {},
   "outputs": [
    {
     "data": {
      "text/plain": [
       "(84217, 82)"
      ]
     },
     "execution_count": 23,
     "metadata": {},
     "output_type": "execute_result"
    }
   ],
   "source": [
    "y2015.shape"
   ]
  },
  {
   "cell_type": "code",
   "execution_count": 24,
   "metadata": {},
   "outputs": [],
   "source": [
    "#Set the target variable and drop it from the main dataset\n",
    "y = y2015.loan_status\n",
    "y2015 = y2015.drop('loan_status', axis = 1)"
   ]
  },
  {
   "cell_type": "code",
   "execution_count": 25,
   "metadata": {},
   "outputs": [],
   "source": [
    "#Make a dataframe containing a subset of the columns - numeric only\n",
    "num_y2015 = pd.DataFrame(y2015.select_dtypes(include=['float64', 'int64']))"
   ]
  },
  {
   "cell_type": "code",
   "execution_count": 26,
   "metadata": {
    "run_control": {
     "frozen": false,
     "read_only": false
    },
    "scrolled": true
   },
   "outputs": [
    {
     "name": "stdout",
     "output_type": "stream",
     "text": [
      "(84217, 65)\n"
     ]
    }
   ],
   "source": [
    "from sklearn.feature_selection import VarianceThreshold \n",
    "\n",
    "var_thresh = VarianceThreshold(threshold=0.005)\n",
    "var_thresh.fit(num_y2015 / num_y2015.mean())\n",
    "\n",
    "#Here I am using a mask to reduce the features. I could have used fit_transform to do everything in one step\n",
    "mask = var_thresh.get_support()\n",
    "reduced_num_y2015 = num_y2015.loc[:, mask] \n",
    "print(reduced_num_y2015.shape)"
   ]
  },
  {
   "cell_type": "markdown",
   "metadata": {},
   "source": [
    "17 features were dropped as low-variance (above)"
   ]
  },
  {
   "cell_type": "markdown",
   "metadata": {},
   "source": [
    "#### Step 2. Encode the categorical variables that remain and merge the dataframe with the reduced set of numeric features"
   ]
  },
  {
   "cell_type": "code",
   "execution_count": 27,
   "metadata": {
    "run_control": {
     "frozen": false,
     "read_only": false
    }
   },
   "outputs": [],
   "source": [
    "y2015 = pd.get_dummies(y2015)"
   ]
  },
  {
   "cell_type": "code",
   "execution_count": 28,
   "metadata": {},
   "outputs": [
    {
     "name": "stdout",
     "output_type": "stream",
     "text": [
      "Index(['application_type_INDIVIDUAL', 'application_type_JOINT',\n",
      "       'chargeoffs_12mo', 'collections_12mo', 'grade_A', 'grade_B', 'grade_C',\n",
      "       'grade_D', 'grade_E', 'grade_F', 'grade_G', 'home_ownership_MORTGAGE',\n",
      "       'home_ownership_OWN', 'home_ownership_RENT', 'initial_list_status_f',\n",
      "       'initial_list_status_w', 'issue_d_Apr-2015', 'issue_d_Aug-2015',\n",
      "       'issue_d_Dec-2015', 'issue_d_Feb-2015', 'issue_d_Jan-2015',\n",
      "       'issue_d_Jul-2015', 'issue_d_Jun-2015', 'issue_d_Mar-2015',\n",
      "       'issue_d_May-2015', 'issue_d_Nov-2015', 'issue_d_Oct-2015',\n",
      "       'issue_d_Sep-2015', 'no_delinq', 'no_derog', 'policy_code',\n",
      "       'purpose_car', 'purpose_credit_card', 'purpose_debt_consolidation',\n",
      "       'purpose_home_improvement', 'purpose_house', 'purpose_major_purchase',\n",
      "       'purpose_medical', 'purpose_moving', 'purpose_other',\n",
      "       'purpose_renewable_energy', 'purpose_small_business',\n",
      "       'purpose_vacation', 'pymnt_plan_n', 'recent_delinq', 'recent_derog',\n",
      "       'term_ 36 months', 'term_ 60 months',\n",
      "       'verification_status_Not Verified',\n",
      "       'verification_status_Source Verified', 'verification_status_Verified'],\n",
      "      dtype='object')\n"
     ]
    }
   ],
   "source": [
    "#Merge the dataframe with reduced number of columns with the dataframe that includes encoded categorical variables\n",
    "keep_cols = y2015.columns.difference(reduced_num_y2015.columns)\n",
    "print(keep_cols)\n",
    "y2015_new = pd.merge(reduced_num_y2015, y2015[keep_cols], left_index=True, right_index=True, how='outer')"
   ]
  },
  {
   "cell_type": "code",
   "execution_count": 29,
   "metadata": {},
   "outputs": [
    {
     "data": {
      "text/plain": [
       "(84217, 116)"
      ]
     },
     "execution_count": 29,
     "metadata": {},
     "output_type": "execute_result"
    }
   ],
   "source": [
    "y2015_new.shape"
   ]
  },
  {
   "cell_type": "code",
   "execution_count": 30,
   "metadata": {},
   "outputs": [
    {
     "data": {
      "text/plain": [
       "array([ 0.95868946,  0.95857075,  0.95952042,  0.95880817,  0.95868946,\n",
       "        0.95903586,  0.95808099,  0.95902126,  0.95972915,  0.95901152])"
      ]
     },
     "execution_count": 30,
     "metadata": {},
     "output_type": "execute_result"
    }
   ],
   "source": [
    "from sklearn import ensemble\n",
    "from sklearn.model_selection import cross_val_score\n",
    "\n",
    "X = y2015_new\n",
    "\n",
    "rfc = ensemble.RandomForestClassifier()\n",
    "rfc.fit(X, y)\n",
    "cross_val_score(rfc, X, y, cv=10)"
   ]
  },
  {
   "cell_type": "markdown",
   "metadata": {},
   "source": [
    "#### I've achieved a score above 90%, but how many features are really necessary?"
   ]
  },
  {
   "cell_type": "code",
   "execution_count": 31,
   "metadata": {
    "scrolled": true
   },
   "outputs": [
    {
     "name": "stdout",
     "output_type": "stream",
     "text": [
      "The reduced dataframe has 103 columns.\n"
     ]
    }
   ],
   "source": [
    "# Calculate the correlation matrix and take the absolute value\n",
    "corr_matrix = y2015_new.corr().abs()\n",
    "\n",
    "# Create a True/False mask and apply it\n",
    "mask = np.triu(np.ones_like(corr_matrix, dtype=bool))\n",
    "y2015_corr = corr_matrix.mask(mask)\n",
    "\n",
    "\n",
    "# List column names of highly correlated features (r > 0.85). Changing the r value to 0.80 drops the score to around 90,\n",
    "# so I'll stick with the value 0.85.\n",
    "to_drop = [c for c in y2015_corr.columns if any(y2015_corr[c] >  0.85)]\n",
    "# Drop the features in the to_drop list\n",
    "y2015_reduced = y2015_new.drop(to_drop, axis=1)\n",
    "\n",
    "print(\"The reduced dataframe has {} columns.\".format(y2015_reduced.shape[1]))"
   ]
  },
  {
   "cell_type": "code",
   "execution_count": 32,
   "metadata": {
    "scrolled": false
   },
   "outputs": [
    {
     "name": "stdout",
     "output_type": "stream",
     "text": [
      "['loan_amnt', 'funded_amnt', 'funded_amnt_inv', 'open_acc', 'total_pymnt', 'total_pymnt_inv', 'recoveries', 'tot_cur_bal', 'num_actv_rev_tl', 'total_bal_ex_mort', 'application_type_INDIVIDUAL', 'initial_list_status_f', 'term_ 36 months']\n"
     ]
    }
   ],
   "source": [
    "#These columns will be dropped because they are highly correlated with others\n",
    "print(to_drop)"
   ]
  },
  {
   "cell_type": "code",
   "execution_count": 33,
   "metadata": {
    "scrolled": false
   },
   "outputs": [
    {
     "data": {
      "text/plain": [
       "array([ 0.95572175,  0.95631529,  0.95702754,  0.95584046,  0.95584046,\n",
       "        0.95606744,  0.95653723,  0.95664568,  0.95842243,  0.95746703])"
      ]
     },
     "execution_count": 33,
     "metadata": {},
     "output_type": "execute_result"
    }
   ],
   "source": [
    "X = y2015_reduced\n",
    "rfc.fit(X, y)\n",
    "cross_val_score(rfc, X, y, cv=10)"
   ]
  },
  {
   "cell_type": "code",
   "execution_count": 34,
   "metadata": {},
   "outputs": [],
   "source": [
    "feature_importances = pd.DataFrame(rfc.feature_importances_,\n",
    "                                   index = X.columns,\n",
    "                                    columns=['importance']).sort_values('importance',    \n",
    "                                    ascending=False\n",
    "                                    )"
   ]
  },
  {
   "cell_type": "code",
   "execution_count": 35,
   "metadata": {},
   "outputs": [
    {
     "name": "stdout",
     "output_type": "stream",
     "text": [
      "                            importance  cum_importance\n",
      "out_prncp                     0.340008        0.340008\n",
      "last_pymnt_amnt               0.249519        0.589526\n",
      "total_rec_prncp               0.104998        0.694524\n",
      "collection_recovery_fee       0.035923        0.730447\n",
      "total_rec_int                 0.031532        0.761979\n",
      "installment                   0.017468        0.779446\n",
      "member_id                     0.012264        0.791710\n",
      "int_rate                      0.008421        0.800131\n",
      "revol_bal                     0.007471        0.807602\n",
      "dti                           0.006903        0.814505\n",
      "avg_cur_bal                   0.006316        0.820821\n",
      "bc_util                       0.006148        0.826969\n",
      "mo_sin_old_rev_tl_op          0.006061        0.833030\n",
      "total_bc_limit                0.006005        0.839036\n",
      "bc_open_to_buy                0.005994        0.845029\n",
      "tot_hi_cred_lim               0.005938        0.850967\n",
      "annual_inc                    0.005793        0.856760\n",
      "total_rev_hi_lim              0.005792        0.862552\n",
      "mo_sin_old_il_acct            0.005633        0.868186\n",
      "acc_open_past_24mths          0.005384        0.873570\n",
      "total_rec_late_fee            0.005340        0.878909\n",
      "total_il_high_credit_limit    0.005272        0.884181\n",
      "total_acc                     0.004766        0.888947\n",
      "mths_since_recent_bc          0.004737        0.893684\n",
      "mo_sin_rcnt_rev_tl_op         0.004513        0.898197\n",
      "num_rev_accts                 0.004385        0.902582\n",
      "num_il_tl                     0.004214        0.906797\n",
      "num_bc_tl                     0.004123        0.910919\n",
      "term_ 60 months               0.004058        0.914977\n",
      "mo_sin_rcnt_tl                0.003975        0.918952\n",
      "num_sats                      0.003965        0.922917\n",
      "num_rev_tl_bal_gt_0           0.003918        0.926835\n",
      "mths_since_recent_inq         0.003778        0.930613\n",
      "num_tl_op_past_12m            0.003697        0.934310\n",
      "pct_tl_nvr_dlq                0.003603        0.937912\n",
      "num_op_rev_tl                 0.003574        0.941487\n",
      "num_bc_sats                   0.003319        0.944806\n",
      "num_actv_bc_tl                0.003243        0.948049\n",
      "percent_bc_gt_75              0.003216        0.951265\n",
      "mort_acc                      0.002867        0.954132\n"
     ]
    }
   ],
   "source": [
    "feature_importances['cum_importance'] = feature_importances.cumsum(axis = 0)\n",
    "print(feature_importances.head(40))"
   ]
  },
  {
   "cell_type": "markdown",
   "metadata": {},
   "source": [
    "#### Using PCA degrades the accuracy score (from 95% accuracy to about 86%) while using 40 features. PCA doesn't perform better than just taking into account the feature importance measure and establishing a cutoff when the accuracy score reaches an acceptable level."
   ]
  },
  {
   "cell_type": "code",
   "execution_count": 36,
   "metadata": {
    "scrolled": true
   },
   "outputs": [
    {
     "name": "stdout",
     "output_type": "stream",
     "text": [
      "[ 0.83689459  0.8370133   0.83416429  0.83523267  0.83926876  0.83887438\n",
      "  0.83826149  0.84713149  0.83368971  0.8310562 ]\n"
     ]
    }
   ],
   "source": [
    "from sklearn.preprocessing import StandardScaler \n",
    "from sklearn.decomposition import PCA\n",
    "from sklearn.pipeline import Pipeline\n",
    "\n",
    "pipe = Pipeline([\n",
    "('scaler', StandardScaler()),\n",
    "('reducer', PCA(n_components=40)), \n",
    "('classifier', ensemble.RandomForestClassifier())])\n",
    "\n",
    "pipe.fit(X, y)\n",
    "\n",
    "print(cross_val_score(pipe, X, y, cv = 10))"
   ]
  },
  {
   "cell_type": "markdown",
   "metadata": {},
   "source": [
    "### Discussion"
   ]
  },
  {
   "cell_type": "markdown",
   "metadata": {},
   "source": [
    "1) Get rid of as much data as possible without dropping below an average of 90% accuracy in a 10-fold cross validation.\n",
    "\n",
    "My random forest model gets above a 90% accuracy score with 25 specific features; the model achieves ~95% accuracy with about 40 features. None of the generated dummies make the cut, so if this model were to go into production, we could skip that step and work with a smaller dataset from the outset.\n",
    "\n",
    "The additional features I created also did not contribute to explanatory power in a significant way.\n",
    "\n",
    "2) Identify which features are most important. This can be the raw features or the generated dummies. You may want to use PCA or correlation matrices.\n",
    "\n",
    "The most important features are outstanding principal and last payment amount. Together they explain almost 70% of the variability in the dataset.\n",
    "\n",
    "3) Can you [answer the question] without using anything related to payment amount or outstanding principal? How do you know?\n",
    "\n",
    "Since outstanding principal and last payment amount account for almost 70% of the variability in the dataset, it  would not be possible to answer the question accurately if one excluded payment amount or outstanding principal.\n",
    "\n",
    "[Note: Outstanding principal column names are 'out_princp' and 'out_princp_inv'). Payment amount column name is 'installment'.]\n",
    "\n",
    "One question I am left with is, Why does a value like \"member id\" have any explanatory power at all? Is it because it may go from low to high values and thereby give some information about how recent the loan is?"
   ]
  },
  {
   "cell_type": "code",
   "execution_count": null,
   "metadata": {},
   "outputs": [],
   "source": []
  }
 ],
 "metadata": {
  "hide_input": false,
  "kernelspec": {
   "display_name": "Python 3",
   "language": "python",
   "name": "python3"
  },
  "language_info": {
   "codemirror_mode": {
    "name": "ipython",
    "version": 3
   },
   "file_extension": ".py",
   "mimetype": "text/x-python",
   "name": "python",
   "nbconvert_exporter": "python",
   "pygments_lexer": "ipython3",
   "version": "3.6.1"
  },
  "toc": {
   "colors": {
    "hover_highlight": "#DAA520",
    "running_highlight": "#FF0000",
    "selected_highlight": "#FFD700"
   },
   "moveMenuLeft": true,
   "nav_menu": {
    "height": "86px",
    "width": "252px"
   },
   "navigate_menu": true,
   "number_sections": true,
   "sideBar": true,
   "threshold": 4,
   "toc_cell": false,
   "toc_section_display": "block",
   "toc_window_display": false
  }
 },
 "nbformat": 4,
 "nbformat_minor": 2
}
