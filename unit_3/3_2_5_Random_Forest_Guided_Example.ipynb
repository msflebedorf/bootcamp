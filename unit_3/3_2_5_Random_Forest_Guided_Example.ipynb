{
 "cells": [
  {
   "cell_type": "markdown",
   "metadata": {},
   "source": [
    "## Thinkful exercise 3.2.5 - Dimensionality reduction using random forest model"
   ]
  },
  {
   "cell_type": "code",
   "execution_count": 1,
   "metadata": {
    "run_control": {
     "frozen": false,
     "read_only": false
    }
   },
   "outputs": [],
   "source": [
    "import pandas as pd\n",
    "import numpy as np\n",
    "import matplotlib.pyplot as plt\n",
    "%matplotlib inline"
   ]
  },
  {
   "cell_type": "markdown",
   "metadata": {},
   "source": [
    "### Project description"
   ]
  },
  {
   "cell_type": "markdown",
   "metadata": {
    "run_control": {
     "frozen": false,
     "read_only": false
    }
   },
   "source": [
    "Data:  2015 data from Lending Club, found at this link:https://www.lendingclub.com/info/download-data.action\n",
    "\n",
    "Modelling objective: Predict the state of a loan given some information about it\n",
    "\n",
    "Assignment details: \n",
    "\n",
    "1) Get rid of as much data as possible without dropping below an average of 90% accuracy in a 10-fold cross validation.\n",
    "\n",
    "2) Identify which features are most important. This can be the raw features or the generated dummies. You may want to use PCA or correlation matrices.\n",
    "\n",
    "3) Can you [answer the question] without using anything related to payment amount or outstanding principal? How do you know?\n"
   ]
  },
  {
   "cell_type": "markdown",
   "metadata": {},
   "source": [
    "### Preprocessing data"
   ]
  },
  {
   "cell_type": "code",
   "execution_count": 2,
   "metadata": {
    "run_control": {
     "frozen": false,
     "read_only": false
    }
   },
   "outputs": [],
   "source": [
    "y2015 = pd.read_csv(\n",
    "    '../../Datafiles/unit_3/LoanStats3d.csv',\n",
    "    skipinitialspace=True,\n",
    "    header=1,\n",
    "    nrows = 6500\n",
    ")"
   ]
  },
  {
   "cell_type": "code",
   "execution_count": 3,
   "metadata": {},
   "outputs": [
    {
     "data": {
      "text/plain": [
       "(6500, 111)"
      ]
     },
     "execution_count": 3,
     "metadata": {},
     "output_type": "execute_result"
    }
   ],
   "source": [
    "y2015.shape"
   ]
  },
  {
   "cell_type": "code",
   "execution_count": 4,
   "metadata": {},
   "outputs": [
    {
     "data": {
      "text/html": [
       "<div>\n",
       "<style scoped>\n",
       "    .dataframe tbody tr th:only-of-type {\n",
       "        vertical-align: middle;\n",
       "    }\n",
       "\n",
       "    .dataframe tbody tr th {\n",
       "        vertical-align: top;\n",
       "    }\n",
       "\n",
       "    .dataframe thead th {\n",
       "        text-align: right;\n",
       "    }\n",
       "</style>\n",
       "<table border=\"1\" class=\"dataframe\">\n",
       "  <thead>\n",
       "    <tr style=\"text-align: right;\">\n",
       "      <th></th>\n",
       "      <th>id</th>\n",
       "      <th>member_id</th>\n",
       "      <th>loan_amnt</th>\n",
       "      <th>funded_amnt</th>\n",
       "      <th>funded_amnt_inv</th>\n",
       "      <th>term</th>\n",
       "      <th>int_rate</th>\n",
       "      <th>installment</th>\n",
       "      <th>grade</th>\n",
       "      <th>sub_grade</th>\n",
       "      <th>...</th>\n",
       "      <th>num_tl_90g_dpd_24m</th>\n",
       "      <th>num_tl_op_past_12m</th>\n",
       "      <th>pct_tl_nvr_dlq</th>\n",
       "      <th>percent_bc_gt_75</th>\n",
       "      <th>pub_rec_bankruptcies</th>\n",
       "      <th>tax_liens</th>\n",
       "      <th>tot_hi_cred_lim</th>\n",
       "      <th>total_bal_ex_mort</th>\n",
       "      <th>total_bc_limit</th>\n",
       "      <th>total_il_high_credit_limit</th>\n",
       "    </tr>\n",
       "  </thead>\n",
       "  <tbody>\n",
       "    <tr>\n",
       "      <th>0</th>\n",
       "      <td>68009401</td>\n",
       "      <td>72868139</td>\n",
       "      <td>16000</td>\n",
       "      <td>16000</td>\n",
       "      <td>16000</td>\n",
       "      <td>60 months</td>\n",
       "      <td>14.85%</td>\n",
       "      <td>379.39</td>\n",
       "      <td>C</td>\n",
       "      <td>C5</td>\n",
       "      <td>...</td>\n",
       "      <td>0</td>\n",
       "      <td>2</td>\n",
       "      <td>78.9</td>\n",
       "      <td>0.0</td>\n",
       "      <td>0</td>\n",
       "      <td>2</td>\n",
       "      <td>298100</td>\n",
       "      <td>31329</td>\n",
       "      <td>281300</td>\n",
       "      <td>13400</td>\n",
       "    </tr>\n",
       "    <tr>\n",
       "      <th>1</th>\n",
       "      <td>68354783</td>\n",
       "      <td>73244544</td>\n",
       "      <td>9600</td>\n",
       "      <td>9600</td>\n",
       "      <td>9600</td>\n",
       "      <td>36 months</td>\n",
       "      <td>7.49%</td>\n",
       "      <td>298.58</td>\n",
       "      <td>A</td>\n",
       "      <td>A4</td>\n",
       "      <td>...</td>\n",
       "      <td>0</td>\n",
       "      <td>2</td>\n",
       "      <td>100.0</td>\n",
       "      <td>66.7</td>\n",
       "      <td>0</td>\n",
       "      <td>0</td>\n",
       "      <td>88635</td>\n",
       "      <td>55387</td>\n",
       "      <td>12500</td>\n",
       "      <td>75635</td>\n",
       "    </tr>\n",
       "    <tr>\n",
       "      <th>2</th>\n",
       "      <td>68466916</td>\n",
       "      <td>73356753</td>\n",
       "      <td>25000</td>\n",
       "      <td>25000</td>\n",
       "      <td>25000</td>\n",
       "      <td>36 months</td>\n",
       "      <td>7.49%</td>\n",
       "      <td>777.55</td>\n",
       "      <td>A</td>\n",
       "      <td>A4</td>\n",
       "      <td>...</td>\n",
       "      <td>0</td>\n",
       "      <td>0</td>\n",
       "      <td>100.0</td>\n",
       "      <td>20.0</td>\n",
       "      <td>0</td>\n",
       "      <td>0</td>\n",
       "      <td>373572</td>\n",
       "      <td>68056</td>\n",
       "      <td>38400</td>\n",
       "      <td>82117</td>\n",
       "    </tr>\n",
       "    <tr>\n",
       "      <th>3</th>\n",
       "      <td>68466961</td>\n",
       "      <td>73356799</td>\n",
       "      <td>28000</td>\n",
       "      <td>28000</td>\n",
       "      <td>28000</td>\n",
       "      <td>36 months</td>\n",
       "      <td>6.49%</td>\n",
       "      <td>858.05</td>\n",
       "      <td>A</td>\n",
       "      <td>A2</td>\n",
       "      <td>...</td>\n",
       "      <td>0</td>\n",
       "      <td>0</td>\n",
       "      <td>91.7</td>\n",
       "      <td>22.2</td>\n",
       "      <td>0</td>\n",
       "      <td>0</td>\n",
       "      <td>304003</td>\n",
       "      <td>74920</td>\n",
       "      <td>41500</td>\n",
       "      <td>42503</td>\n",
       "    </tr>\n",
       "    <tr>\n",
       "      <th>4</th>\n",
       "      <td>68495092</td>\n",
       "      <td>73384866</td>\n",
       "      <td>8650</td>\n",
       "      <td>8650</td>\n",
       "      <td>8650</td>\n",
       "      <td>36 months</td>\n",
       "      <td>19.89%</td>\n",
       "      <td>320.99</td>\n",
       "      <td>E</td>\n",
       "      <td>E3</td>\n",
       "      <td>...</td>\n",
       "      <td>0</td>\n",
       "      <td>12</td>\n",
       "      <td>100.0</td>\n",
       "      <td>50.0</td>\n",
       "      <td>1</td>\n",
       "      <td>0</td>\n",
       "      <td>38998</td>\n",
       "      <td>18926</td>\n",
       "      <td>2750</td>\n",
       "      <td>18248</td>\n",
       "    </tr>\n",
       "  </tbody>\n",
       "</table>\n",
       "<p>5 rows × 111 columns</p>\n",
       "</div>"
      ],
      "text/plain": [
       "         id  member_id  loan_amnt  funded_amnt  funded_amnt_inv        term  \\\n",
       "0  68009401   72868139      16000        16000            16000   60 months   \n",
       "1  68354783   73244544       9600         9600             9600   36 months   \n",
       "2  68466916   73356753      25000        25000            25000   36 months   \n",
       "3  68466961   73356799      28000        28000            28000   36 months   \n",
       "4  68495092   73384866       8650         8650             8650   36 months   \n",
       "\n",
       "  int_rate  installment grade sub_grade            ...              \\\n",
       "0   14.85%       379.39     C        C5            ...               \n",
       "1    7.49%       298.58     A        A4            ...               \n",
       "2    7.49%       777.55     A        A4            ...               \n",
       "3    6.49%       858.05     A        A2            ...               \n",
       "4   19.89%       320.99     E        E3            ...               \n",
       "\n",
       "  num_tl_90g_dpd_24m num_tl_op_past_12m pct_tl_nvr_dlq  percent_bc_gt_75  \\\n",
       "0                  0                  2           78.9               0.0   \n",
       "1                  0                  2          100.0              66.7   \n",
       "2                  0                  0          100.0              20.0   \n",
       "3                  0                  0           91.7              22.2   \n",
       "4                  0                 12          100.0              50.0   \n",
       "\n",
       "  pub_rec_bankruptcies tax_liens tot_hi_cred_lim total_bal_ex_mort  \\\n",
       "0                    0         2          298100             31329   \n",
       "1                    0         0           88635             55387   \n",
       "2                    0         0          373572             68056   \n",
       "3                    0         0          304003             74920   \n",
       "4                    1         0           38998             18926   \n",
       "\n",
       "  total_bc_limit total_il_high_credit_limit  \n",
       "0         281300                      13400  \n",
       "1          12500                      75635  \n",
       "2          38400                      82117  \n",
       "3          41500                      42503  \n",
       "4           2750                      18248  \n",
       "\n",
       "[5 rows x 111 columns]"
      ]
     },
     "execution_count": 4,
     "metadata": {},
     "output_type": "execute_result"
    }
   ],
   "source": [
    "y2015.head()"
   ]
  },
  {
   "cell_type": "code",
   "execution_count": 5,
   "metadata": {},
   "outputs": [
    {
     "data": {
      "text/html": [
       "<div>\n",
       "<style scoped>\n",
       "    .dataframe tbody tr th:only-of-type {\n",
       "        vertical-align: middle;\n",
       "    }\n",
       "\n",
       "    .dataframe tbody tr th {\n",
       "        vertical-align: top;\n",
       "    }\n",
       "\n",
       "    .dataframe thead th {\n",
       "        text-align: right;\n",
       "    }\n",
       "</style>\n",
       "<table border=\"1\" class=\"dataframe\">\n",
       "  <thead>\n",
       "    <tr style=\"text-align: right;\">\n",
       "      <th></th>\n",
       "      <th>id</th>\n",
       "      <th>member_id</th>\n",
       "      <th>loan_amnt</th>\n",
       "      <th>funded_amnt</th>\n",
       "      <th>funded_amnt_inv</th>\n",
       "      <th>term</th>\n",
       "      <th>int_rate</th>\n",
       "      <th>installment</th>\n",
       "      <th>grade</th>\n",
       "      <th>sub_grade</th>\n",
       "      <th>...</th>\n",
       "      <th>num_tl_90g_dpd_24m</th>\n",
       "      <th>num_tl_op_past_12m</th>\n",
       "      <th>pct_tl_nvr_dlq</th>\n",
       "      <th>percent_bc_gt_75</th>\n",
       "      <th>pub_rec_bankruptcies</th>\n",
       "      <th>tax_liens</th>\n",
       "      <th>tot_hi_cred_lim</th>\n",
       "      <th>total_bal_ex_mort</th>\n",
       "      <th>total_bc_limit</th>\n",
       "      <th>total_il_high_credit_limit</th>\n",
       "    </tr>\n",
       "  </thead>\n",
       "  <tbody>\n",
       "    <tr>\n",
       "      <th>6495</th>\n",
       "      <td>68242373</td>\n",
       "      <td>73110090</td>\n",
       "      <td>10000</td>\n",
       "      <td>10000</td>\n",
       "      <td>10000</td>\n",
       "      <td>36 months</td>\n",
       "      <td>11.99%</td>\n",
       "      <td>332.10</td>\n",
       "      <td>C</td>\n",
       "      <td>C1</td>\n",
       "      <td>...</td>\n",
       "      <td>0</td>\n",
       "      <td>1</td>\n",
       "      <td>100.0</td>\n",
       "      <td>100.0</td>\n",
       "      <td>0</td>\n",
       "      <td>0</td>\n",
       "      <td>99529</td>\n",
       "      <td>95055</td>\n",
       "      <td>5100</td>\n",
       "      <td>87929</td>\n",
       "    </tr>\n",
       "    <tr>\n",
       "      <th>6496</th>\n",
       "      <td>68122492</td>\n",
       "      <td>72990210</td>\n",
       "      <td>24000</td>\n",
       "      <td>24000</td>\n",
       "      <td>24000</td>\n",
       "      <td>60 months</td>\n",
       "      <td>13.99%</td>\n",
       "      <td>558.32</td>\n",
       "      <td>C</td>\n",
       "      <td>C4</td>\n",
       "      <td>...</td>\n",
       "      <td>0</td>\n",
       "      <td>0</td>\n",
       "      <td>100.0</td>\n",
       "      <td>100.0</td>\n",
       "      <td>0</td>\n",
       "      <td>0</td>\n",
       "      <td>54050</td>\n",
       "      <td>35836</td>\n",
       "      <td>30500</td>\n",
       "      <td>23550</td>\n",
       "    </tr>\n",
       "    <tr>\n",
       "      <th>6497</th>\n",
       "      <td>68272377</td>\n",
       "      <td>73140097</td>\n",
       "      <td>30000</td>\n",
       "      <td>30000</td>\n",
       "      <td>30000</td>\n",
       "      <td>36 months</td>\n",
       "      <td>19.89%</td>\n",
       "      <td>1113.23</td>\n",
       "      <td>E</td>\n",
       "      <td>E3</td>\n",
       "      <td>...</td>\n",
       "      <td>0</td>\n",
       "      <td>2</td>\n",
       "      <td>95.0</td>\n",
       "      <td>100.0</td>\n",
       "      <td>0</td>\n",
       "      <td>0</td>\n",
       "      <td>133210</td>\n",
       "      <td>122193</td>\n",
       "      <td>43000</td>\n",
       "      <td>87010</td>\n",
       "    </tr>\n",
       "    <tr>\n",
       "      <th>6498</th>\n",
       "      <td>68302587</td>\n",
       "      <td>73170315</td>\n",
       "      <td>14400</td>\n",
       "      <td>14400</td>\n",
       "      <td>14400</td>\n",
       "      <td>36 months</td>\n",
       "      <td>13.44%</td>\n",
       "      <td>488.26</td>\n",
       "      <td>C</td>\n",
       "      <td>C3</td>\n",
       "      <td>...</td>\n",
       "      <td>0</td>\n",
       "      <td>4</td>\n",
       "      <td>94.1</td>\n",
       "      <td>0.0</td>\n",
       "      <td>0</td>\n",
       "      <td>0</td>\n",
       "      <td>247189</td>\n",
       "      <td>76146</td>\n",
       "      <td>5800</td>\n",
       "      <td>84354</td>\n",
       "    </tr>\n",
       "    <tr>\n",
       "      <th>6499</th>\n",
       "      <td>68082478</td>\n",
       "      <td>72950197</td>\n",
       "      <td>3600</td>\n",
       "      <td>3600</td>\n",
       "      <td>3600</td>\n",
       "      <td>36 months</td>\n",
       "      <td>11.48%</td>\n",
       "      <td>118.68</td>\n",
       "      <td>B</td>\n",
       "      <td>B5</td>\n",
       "      <td>...</td>\n",
       "      <td>0</td>\n",
       "      <td>2</td>\n",
       "      <td>90.9</td>\n",
       "      <td>100.0</td>\n",
       "      <td>0</td>\n",
       "      <td>0</td>\n",
       "      <td>72236</td>\n",
       "      <td>62660</td>\n",
       "      <td>15700</td>\n",
       "      <td>22098</td>\n",
       "    </tr>\n",
       "  </tbody>\n",
       "</table>\n",
       "<p>5 rows × 111 columns</p>\n",
       "</div>"
      ],
      "text/plain": [
       "            id  member_id  loan_amnt  funded_amnt  funded_amnt_inv  \\\n",
       "6495  68242373   73110090      10000        10000            10000   \n",
       "6496  68122492   72990210      24000        24000            24000   \n",
       "6497  68272377   73140097      30000        30000            30000   \n",
       "6498  68302587   73170315      14400        14400            14400   \n",
       "6499  68082478   72950197       3600         3600             3600   \n",
       "\n",
       "            term int_rate  installment grade sub_grade  \\\n",
       "6495   36 months   11.99%       332.10     C        C1   \n",
       "6496   60 months   13.99%       558.32     C        C4   \n",
       "6497   36 months   19.89%      1113.23     E        E3   \n",
       "6498   36 months   13.44%       488.26     C        C3   \n",
       "6499   36 months   11.48%       118.68     B        B5   \n",
       "\n",
       "                ...             num_tl_90g_dpd_24m num_tl_op_past_12m  \\\n",
       "6495            ...                              0                  1   \n",
       "6496            ...                              0                  0   \n",
       "6497            ...                              0                  2   \n",
       "6498            ...                              0                  4   \n",
       "6499            ...                              0                  2   \n",
       "\n",
       "     pct_tl_nvr_dlq  percent_bc_gt_75 pub_rec_bankruptcies tax_liens  \\\n",
       "6495          100.0             100.0                    0         0   \n",
       "6496          100.0             100.0                    0         0   \n",
       "6497           95.0             100.0                    0         0   \n",
       "6498           94.1               0.0                    0         0   \n",
       "6499           90.9             100.0                    0         0   \n",
       "\n",
       "     tot_hi_cred_lim total_bal_ex_mort total_bc_limit  \\\n",
       "6495           99529             95055           5100   \n",
       "6496           54050             35836          30500   \n",
       "6497          133210            122193          43000   \n",
       "6498          247189             76146           5800   \n",
       "6499           72236             62660          15700   \n",
       "\n",
       "     total_il_high_credit_limit  \n",
       "6495                      87929  \n",
       "6496                      23550  \n",
       "6497                      87010  \n",
       "6498                      84354  \n",
       "6499                      22098  \n",
       "\n",
       "[5 rows x 111 columns]"
      ]
     },
     "execution_count": 5,
     "metadata": {},
     "output_type": "execute_result"
    }
   ],
   "source": [
    "y2015.tail()"
   ]
  },
  {
   "cell_type": "code",
   "execution_count": 6,
   "metadata": {},
   "outputs": [],
   "source": [
    "#remove two summary rows at the end that don't actually contain data.\n",
    "y2015 = y2015[:-2]"
   ]
  },
  {
   "cell_type": "code",
   "execution_count": 7,
   "metadata": {
    "scrolled": true
   },
   "outputs": [
    {
     "data": {
      "text/plain": [
       "(6498, 111)"
      ]
     },
     "execution_count": 7,
     "metadata": {},
     "output_type": "execute_result"
    }
   ],
   "source": [
    "y2015.shape"
   ]
  },
  {
   "cell_type": "markdown",
   "metadata": {},
   "source": [
    "#### Analyze columns with null values"
   ]
  },
  {
   "cell_type": "code",
   "execution_count": 8,
   "metadata": {},
   "outputs": [],
   "source": [
    "#One way to remove columns with more nulls than a specified value\n",
    "#y2015 = y2015.loc[:, y2015.isnull().mean() < .76]"
   ]
  },
  {
   "cell_type": "code",
   "execution_count": 9,
   "metadata": {
    "scrolled": true
   },
   "outputs": [
    {
     "name": "stdout",
     "output_type": "stream",
     "text": [
      "                           col_name  null_pcnt\n",
      "10                        emp_title       5.48\n",
      "11                       emp_length       5.39\n",
      "19                             desc      99.98\n",
      "21                            title       1.89\n",
      "28           mths_since_last_delinq      48.09\n",
      "29           mths_since_last_record      82.01\n",
      "33                       revol_util       0.05\n",
      "45                     last_pymnt_d       0.05\n",
      "47                     next_pymnt_d      17.50\n",
      "50      mths_since_last_major_derog      70.33\n",
      "53                 annual_inc_joint      99.48\n",
      "54                        dti_joint      99.48\n",
      "55        verification_status_joint      99.48\n",
      "63               mths_since_rcnt_il       2.37\n",
      "65                          il_util      12.23\n",
      "76                   bc_open_to_buy       0.98\n",
      "77                          bc_util       1.08\n",
      "80               mo_sin_old_il_acct       2.37\n",
      "85             mths_since_recent_bc       0.97\n",
      "86         mths_since_recent_bc_dlq      74.47\n",
      "87            mths_since_recent_inq      10.86\n",
      "88   mths_since_recent_revol_delinq      63.91\n",
      "99                 num_tl_120dpd_2m       7.11\n",
      "104                percent_bc_gt_75       1.08\n"
     ]
    }
   ],
   "source": [
    "#Compute proportion of null values \n",
    "null_counts = pd.DataFrame(y2015.isna().mean().round(4) * 100, columns = ['null_pcnt'])\n",
    "null_counts.index.name = 'col_name'\n",
    "null_counts = null_counts.reset_index()\n",
    "print(null_counts.loc[null_counts.null_pcnt > 0])"
   ]
  },
  {
   "cell_type": "code",
   "execution_count": 10,
   "metadata": {},
   "outputs": [],
   "source": [
    "#Fill nan with zero in some columns, because that is what is implied for these columns\n",
    "#Pandas 'startswith' works differently than Python. Python allows a beg and end argument\n",
    "#num_tl prefix means 'number of accounts'\n",
    "col_list = y2015.loc[:, y2015.columns.str.startswith('mths_')].columns\n",
    "col_list = col_list.append(y2015.loc[:, y2015.columns.str.startswith('num_tl_')].columns)\n",
    "col_list = col_list.append(y2015.loc[:, y2015.columns.str.startswith('mo_sin_')].columns)\n",
    "col_list = col_list.append(y2015.loc[:, y2015.columns.str.contains('bc_')].columns)\n",
    "for col in col_list:\n",
    "    y2015[[col]] = y2015[[col]].fillna(value = 0)"
   ]
  },
  {
   "cell_type": "code",
   "execution_count": 11,
   "metadata": {
    "scrolled": true
   },
   "outputs": [
    {
     "name": "stdout",
     "output_type": "stream",
     "text": [
      "                     col_name  null_pcnt\n",
      "10                  emp_title       5.48\n",
      "11                 emp_length       5.39\n",
      "19                       desc      99.98\n",
      "21                      title       1.89\n",
      "33                 revol_util       0.05\n",
      "45               last_pymnt_d       0.05\n",
      "47               next_pymnt_d      17.50\n",
      "53           annual_inc_joint      99.48\n",
      "54                  dti_joint      99.48\n",
      "55  verification_status_joint      99.48\n",
      "65                    il_util      12.23\n"
     ]
    }
   ],
   "source": [
    "#Review remaining columns with null values \n",
    "null_counts = pd.DataFrame(y2015.isna().mean().round(4) * 100, columns = ['null_pcnt'])\n",
    "null_counts.index.name = 'col_name'\n",
    "null_counts = null_counts.reset_index()\n",
    "print(null_counts.loc[null_counts.null_pcnt > 0])"
   ]
  },
  {
   "cell_type": "code",
   "execution_count": 12,
   "metadata": {
    "run_control": {
     "frozen": false,
     "read_only": false
    }
   },
   "outputs": [],
   "source": [
    "# Convert interest rate to numeric.\n",
    "y2015['int_rate'] = pd.to_numeric(y2015['int_rate'].str.strip('%'), errors='coerce')"
   ]
  },
  {
   "cell_type": "code",
   "execution_count": 13,
   "metadata": {
    "run_control": {
     "frozen": false,
     "read_only": false
    },
    "scrolled": false
   },
   "outputs": [
    {
     "name": "stdout",
     "output_type": "stream",
     "text": [
      "term\n",
      "2\n",
      "grade\n",
      "7\n",
      "sub_grade\n",
      "35\n",
      "emp_title\n",
      "3878\n",
      "emp_length\n",
      "11\n",
      "home_ownership\n",
      "3\n",
      "verification_status\n",
      "3\n",
      "issue_d\n",
      "1\n",
      "loan_status\n",
      "7\n",
      "pymnt_plan\n",
      "1\n",
      "url\n",
      "6498\n",
      "desc\n",
      "1\n",
      "purpose\n",
      "12\n",
      "title\n",
      "12\n",
      "zip_code\n",
      "740\n",
      "addr_state\n",
      "49\n",
      "earliest_cr_line\n",
      "470\n",
      "revol_util\n",
      "1009\n",
      "initial_list_status\n",
      "2\n",
      "last_pymnt_d\n",
      "13\n",
      "next_pymnt_d\n",
      "2\n",
      "last_credit_pull_d\n",
      "14\n",
      "application_type\n",
      "2\n",
      "verification_status_joint\n",
      "3\n"
     ]
    }
   ],
   "source": [
    "categorical = y2015.select_dtypes(include=['object'])\n",
    "for i in categorical:\n",
    "    column = categorical[i]\n",
    "    print(i)\n",
    "    print(column.nunique())"
   ]
  },
  {
   "cell_type": "code",
   "execution_count": 14,
   "metadata": {},
   "outputs": [],
   "source": [
    "# Drop other columns with many unique variables\n",
    "drop_cols_list = ['url', 'emp_title', 'zip_code', 'earliest_cr_line', 'revol_util',\n",
    "            'sub_grade', 'addr_state', 'id', 'title', 'last_pymnt_d', 'next_pymnt_d']"
   ]
  },
  {
   "cell_type": "code",
   "execution_count": 15,
   "metadata": {},
   "outputs": [],
   "source": [
    "y2015 = y2015.drop(columns = drop_cols_list)"
   ]
  },
  {
   "cell_type": "code",
   "execution_count": 16,
   "metadata": {},
   "outputs": [],
   "source": [
    "y2015 = y2015.dropna(axis = 1)"
   ]
  },
  {
   "cell_type": "code",
   "execution_count": 17,
   "metadata": {},
   "outputs": [
    {
     "data": {
      "text/html": [
       "<div>\n",
       "<style scoped>\n",
       "    .dataframe tbody tr th:only-of-type {\n",
       "        vertical-align: middle;\n",
       "    }\n",
       "\n",
       "    .dataframe tbody tr th {\n",
       "        vertical-align: top;\n",
       "    }\n",
       "\n",
       "    .dataframe thead th {\n",
       "        text-align: right;\n",
       "    }\n",
       "</style>\n",
       "<table border=\"1\" class=\"dataframe\">\n",
       "  <thead>\n",
       "    <tr style=\"text-align: right;\">\n",
       "      <th>col_name</th>\n",
       "      <th>member_id</th>\n",
       "      <th>loan_amnt</th>\n",
       "      <th>funded_amnt</th>\n",
       "      <th>funded_amnt_inv</th>\n",
       "      <th>term</th>\n",
       "      <th>int_rate</th>\n",
       "      <th>installment</th>\n",
       "      <th>grade</th>\n",
       "      <th>home_ownership</th>\n",
       "      <th>annual_inc</th>\n",
       "      <th>...</th>\n",
       "      <th>num_tl_90g_dpd_24m</th>\n",
       "      <th>num_tl_op_past_12m</th>\n",
       "      <th>pct_tl_nvr_dlq</th>\n",
       "      <th>percent_bc_gt_75</th>\n",
       "      <th>pub_rec_bankruptcies</th>\n",
       "      <th>tax_liens</th>\n",
       "      <th>tot_hi_cred_lim</th>\n",
       "      <th>total_bal_ex_mort</th>\n",
       "      <th>total_bc_limit</th>\n",
       "      <th>total_il_high_credit_limit</th>\n",
       "    </tr>\n",
       "  </thead>\n",
       "  <tbody>\n",
       "    <tr>\n",
       "      <th>0</th>\n",
       "      <td>72868139</td>\n",
       "      <td>16000</td>\n",
       "      <td>16000</td>\n",
       "      <td>16000</td>\n",
       "      <td>60 months</td>\n",
       "      <td>14.85</td>\n",
       "      <td>379.39</td>\n",
       "      <td>C</td>\n",
       "      <td>MORTGAGE</td>\n",
       "      <td>48000.0</td>\n",
       "      <td>...</td>\n",
       "      <td>0</td>\n",
       "      <td>2</td>\n",
       "      <td>78.9</td>\n",
       "      <td>0.0</td>\n",
       "      <td>0</td>\n",
       "      <td>2</td>\n",
       "      <td>298100</td>\n",
       "      <td>31329</td>\n",
       "      <td>281300</td>\n",
       "      <td>13400</td>\n",
       "    </tr>\n",
       "    <tr>\n",
       "      <th>1</th>\n",
       "      <td>73244544</td>\n",
       "      <td>9600</td>\n",
       "      <td>9600</td>\n",
       "      <td>9600</td>\n",
       "      <td>36 months</td>\n",
       "      <td>7.49</td>\n",
       "      <td>298.58</td>\n",
       "      <td>A</td>\n",
       "      <td>MORTGAGE</td>\n",
       "      <td>60000.0</td>\n",
       "      <td>...</td>\n",
       "      <td>0</td>\n",
       "      <td>2</td>\n",
       "      <td>100.0</td>\n",
       "      <td>66.7</td>\n",
       "      <td>0</td>\n",
       "      <td>0</td>\n",
       "      <td>88635</td>\n",
       "      <td>55387</td>\n",
       "      <td>12500</td>\n",
       "      <td>75635</td>\n",
       "    </tr>\n",
       "    <tr>\n",
       "      <th>2</th>\n",
       "      <td>73356753</td>\n",
       "      <td>25000</td>\n",
       "      <td>25000</td>\n",
       "      <td>25000</td>\n",
       "      <td>36 months</td>\n",
       "      <td>7.49</td>\n",
       "      <td>777.55</td>\n",
       "      <td>A</td>\n",
       "      <td>MORTGAGE</td>\n",
       "      <td>109000.0</td>\n",
       "      <td>...</td>\n",
       "      <td>0</td>\n",
       "      <td>0</td>\n",
       "      <td>100.0</td>\n",
       "      <td>20.0</td>\n",
       "      <td>0</td>\n",
       "      <td>0</td>\n",
       "      <td>373572</td>\n",
       "      <td>68056</td>\n",
       "      <td>38400</td>\n",
       "      <td>82117</td>\n",
       "    </tr>\n",
       "    <tr>\n",
       "      <th>3</th>\n",
       "      <td>73356799</td>\n",
       "      <td>28000</td>\n",
       "      <td>28000</td>\n",
       "      <td>28000</td>\n",
       "      <td>36 months</td>\n",
       "      <td>6.49</td>\n",
       "      <td>858.05</td>\n",
       "      <td>A</td>\n",
       "      <td>MORTGAGE</td>\n",
       "      <td>92000.0</td>\n",
       "      <td>...</td>\n",
       "      <td>0</td>\n",
       "      <td>0</td>\n",
       "      <td>91.7</td>\n",
       "      <td>22.2</td>\n",
       "      <td>0</td>\n",
       "      <td>0</td>\n",
       "      <td>304003</td>\n",
       "      <td>74920</td>\n",
       "      <td>41500</td>\n",
       "      <td>42503</td>\n",
       "    </tr>\n",
       "    <tr>\n",
       "      <th>4</th>\n",
       "      <td>73384866</td>\n",
       "      <td>8650</td>\n",
       "      <td>8650</td>\n",
       "      <td>8650</td>\n",
       "      <td>36 months</td>\n",
       "      <td>19.89</td>\n",
       "      <td>320.99</td>\n",
       "      <td>E</td>\n",
       "      <td>RENT</td>\n",
       "      <td>55000.0</td>\n",
       "      <td>...</td>\n",
       "      <td>0</td>\n",
       "      <td>12</td>\n",
       "      <td>100.0</td>\n",
       "      <td>50.0</td>\n",
       "      <td>1</td>\n",
       "      <td>0</td>\n",
       "      <td>38998</td>\n",
       "      <td>18926</td>\n",
       "      <td>2750</td>\n",
       "      <td>18248</td>\n",
       "    </tr>\n",
       "  </tbody>\n",
       "</table>\n",
       "<p>5 rows × 94 columns</p>\n",
       "</div>"
      ],
      "text/plain": [
       "col_name  member_id  loan_amnt  funded_amnt  funded_amnt_inv        term  \\\n",
       "0          72868139      16000        16000            16000   60 months   \n",
       "1          73244544       9600         9600             9600   36 months   \n",
       "2          73356753      25000        25000            25000   36 months   \n",
       "3          73356799      28000        28000            28000   36 months   \n",
       "4          73384866       8650         8650             8650   36 months   \n",
       "\n",
       "col_name  int_rate  installment grade home_ownership  annual_inc  \\\n",
       "0            14.85       379.39     C       MORTGAGE     48000.0   \n",
       "1             7.49       298.58     A       MORTGAGE     60000.0   \n",
       "2             7.49       777.55     A       MORTGAGE    109000.0   \n",
       "3             6.49       858.05     A       MORTGAGE     92000.0   \n",
       "4            19.89       320.99     E           RENT     55000.0   \n",
       "\n",
       "col_name             ...             num_tl_90g_dpd_24m num_tl_op_past_12m  \\\n",
       "0                    ...                              0                  2   \n",
       "1                    ...                              0                  2   \n",
       "2                    ...                              0                  0   \n",
       "3                    ...                              0                  0   \n",
       "4                    ...                              0                 12   \n",
       "\n",
       "col_name pct_tl_nvr_dlq percent_bc_gt_75 pub_rec_bankruptcies  tax_liens  \\\n",
       "0                  78.9              0.0                    0          2   \n",
       "1                 100.0             66.7                    0          0   \n",
       "2                 100.0             20.0                    0          0   \n",
       "3                  91.7             22.2                    0          0   \n",
       "4                 100.0             50.0                    1          0   \n",
       "\n",
       "col_name  tot_hi_cred_lim  total_bal_ex_mort  total_bc_limit  \\\n",
       "0                  298100              31329          281300   \n",
       "1                   88635              55387           12500   \n",
       "2                  373572              68056           38400   \n",
       "3                  304003              74920           41500   \n",
       "4                   38998              18926            2750   \n",
       "\n",
       "col_name  total_il_high_credit_limit  \n",
       "0                              13400  \n",
       "1                              75635  \n",
       "2                              82117  \n",
       "3                              42503  \n",
       "4                              18248  \n",
       "\n",
       "[5 rows x 94 columns]"
      ]
     },
     "execution_count": 17,
     "metadata": {},
     "output_type": "execute_result"
    }
   ],
   "source": [
    "y2015.head()"
   ]
  },
  {
   "cell_type": "code",
   "execution_count": 18,
   "metadata": {},
   "outputs": [],
   "source": [
    "cols_df = pd.DataFrame(list(y2015.columns.values))"
   ]
  },
  {
   "cell_type": "code",
   "execution_count": 19,
   "metadata": {},
   "outputs": [
    {
     "name": "stdout",
     "output_type": "stream",
     "text": [
      "                                 0\n",
      "0                        member_id\n",
      "1                        loan_amnt\n",
      "2                      funded_amnt\n",
      "3                  funded_amnt_inv\n",
      "4                             term\n",
      "5                         int_rate\n",
      "6                      installment\n",
      "7                            grade\n",
      "8                   home_ownership\n",
      "9                       annual_inc\n",
      "10             verification_status\n",
      "11                         issue_d\n",
      "12                     loan_status\n",
      "13                      pymnt_plan\n",
      "14                         purpose\n",
      "15                             dti\n",
      "16                     delinq_2yrs\n",
      "17                  inq_last_6mths\n",
      "18          mths_since_last_delinq\n",
      "19          mths_since_last_record\n",
      "20                        open_acc\n",
      "21                         pub_rec\n",
      "22                       revol_bal\n",
      "23                       total_acc\n",
      "24             initial_list_status\n",
      "25                       out_prncp\n",
      "26                   out_prncp_inv\n",
      "27                     total_pymnt\n",
      "28                 total_pymnt_inv\n",
      "29                 total_rec_prncp\n",
      "..                             ...\n",
      "64            mo_sin_old_rev_tl_op\n",
      "65           mo_sin_rcnt_rev_tl_op\n",
      "66                  mo_sin_rcnt_tl\n",
      "67                        mort_acc\n",
      "68            mths_since_recent_bc\n",
      "69        mths_since_recent_bc_dlq\n",
      "70           mths_since_recent_inq\n",
      "71  mths_since_recent_revol_delinq\n",
      "72           num_accts_ever_120_pd\n",
      "73                  num_actv_bc_tl\n",
      "74                 num_actv_rev_tl\n",
      "75                     num_bc_sats\n",
      "76                       num_bc_tl\n",
      "77                       num_il_tl\n",
      "78                   num_op_rev_tl\n",
      "79                   num_rev_accts\n",
      "80             num_rev_tl_bal_gt_0\n",
      "81                        num_sats\n",
      "82                num_tl_120dpd_2m\n",
      "83                    num_tl_30dpd\n",
      "84              num_tl_90g_dpd_24m\n",
      "85              num_tl_op_past_12m\n",
      "86                  pct_tl_nvr_dlq\n",
      "87                percent_bc_gt_75\n",
      "88            pub_rec_bankruptcies\n",
      "89                       tax_liens\n",
      "90                 tot_hi_cred_lim\n",
      "91               total_bal_ex_mort\n",
      "92                  total_bc_limit\n",
      "93      total_il_high_credit_limit\n",
      "\n",
      "[94 rows x 1 columns]\n"
     ]
    }
   ],
   "source": [
    "print(cols_df)"
   ]
  },
  {
   "cell_type": "markdown",
   "metadata": {
    "run_control": {
     "frozen": false,
     "read_only": false
    }
   },
   "source": [
    "### Thinkful baseline model"
   ]
  },
  {
   "cell_type": "code",
   "execution_count": 20,
   "metadata": {
    "run_control": {
     "frozen": false,
     "read_only": false
    }
   },
   "outputs": [],
   "source": [
    "# from sklearn import ensemble\n",
    "# from sklearn.model_selection import cross_val_score\n",
    "\n",
    "# rfc = ensemble.RandomForestClassifier()\n",
    "# X = y2015.drop('loan_status', 1)\n",
    "# Y = y2015['loan_status']\n",
    "# X = pd.get_dummies(X)\n",
    "# X = X.dropna(axis=1)\n",
    "\n",
    "# cross_val_score(rfc, X, Y, cv=10)"
   ]
  },
  {
   "cell_type": "markdown",
   "metadata": {
    "run_control": {
     "frozen": false,
     "read_only": false
    }
   },
   "source": [
    "Thinkful commentary:\n",
    "\n",
    "The score cross validation reports is the accuracy of the tree. Here we're about 98% accurate.\n",
    "\n",
    "That works pretty well, but there are a few potential problems. Firstly, we didn't really do much in the way of feature selection or model refinement. As such there are a lot of features in there that we don't really need. Some of them are actually quite impressively useless.\n",
    "\n",
    "There's also some variance in the scores. The fact that one gave us only 93% accuracy while others gave higher than 98 is concerning. This variance could be corrected by increasing the number of estimators. That will make it take even longer to run, however, and it is already quite slow."
   ]
  },
  {
   "cell_type": "markdown",
   "metadata": {},
   "source": [
    "### Robin's modeling"
   ]
  },
  {
   "cell_type": "code",
   "execution_count": 21,
   "metadata": {},
   "outputs": [
    {
     "data": {
      "text/plain": [
       "Current               5132\n",
       "Fully Paid             931\n",
       "Charged Off            206\n",
       "Late (31-120 days)     155\n",
       "Late (16-30 days)       46\n",
       "In Grace Period         22\n",
       "Default                  6\n",
       "Name: loan_status, dtype: int64"
      ]
     },
     "execution_count": 21,
     "metadata": {},
     "output_type": "execute_result"
    }
   ],
   "source": [
    "y2015.loan_status.value_counts()"
   ]
  },
  {
   "cell_type": "code",
   "execution_count": 22,
   "metadata": {},
   "outputs": [
    {
     "data": {
      "text/plain": [
       "B    1948\n",
       "C    1849\n",
       "A    1217\n",
       "D     879\n",
       "E     438\n",
       "F     145\n",
       "G      22\n",
       "Name: grade, dtype: int64"
      ]
     },
     "execution_count": 22,
     "metadata": {},
     "output_type": "execute_result"
    }
   ],
   "source": [
    "y2015.grade.value_counts()"
   ]
  },
  {
   "cell_type": "markdown",
   "metadata": {},
   "source": [
    "#### Build some features with meaningful delinquency information"
   ]
  },
  {
   "cell_type": "markdown",
   "metadata": {},
   "source": [
    "Separate collections_12... into collect_none, collect_1_2, collect_gt2\n",
    "\n",
    "If months since last delinq = 0, means > = 0, < 30 days. So if zero, set no_delinq = True,  else False.\n",
    "\n",
    "Separate months since last delinq into recent delinquencies -- delinq_last_12_mo = True if >0, <= 12 else false\n",
    "\n",
    "Then drop cols in sel_cols list"
   ]
  },
  {
   "cell_type": "code",
   "execution_count": 23,
   "metadata": {},
   "outputs": [],
   "source": [
    "#Change the recent delinquency parameter in number of months\n",
    "recent_delinq_param = 12\n",
    "#Use apply to set no_delinq, recent_delinq flags\n",
    "y2015['no_delinq'] = np.where(y2015.mths_since_last_delinq == 0, True, False)\n",
    "y2015['recent_delinq'] = np.where(((y2015.mths_since_last_delinq > 0) & (y2015.mths_since_last_delinq <= recent_delinq_param)), True, False)"
   ]
  },
  {
   "cell_type": "code",
   "execution_count": 24,
   "metadata": {},
   "outputs": [],
   "source": [
    "#Use apply to set no_delinq\n",
    "y2015['no_derog'] = np.where(y2015.mths_since_last_major_derog == 0, True, False)\n",
    "y2015['recent_derog'] = np.where(((y2015.mths_since_last_major_derog > 0) & (y2015.mths_since_last_major_derog <= 12)), True, False)"
   ]
  },
  {
   "cell_type": "code",
   "execution_count": 25,
   "metadata": {},
   "outputs": [],
   "source": [
    "# Drop columns used to categorize delinquencies\n",
    "drop_cols_list = ['mths_since_last_major_derog', 'mths_since_last_delinq', ]"
   ]
  },
  {
   "cell_type": "code",
   "execution_count": 26,
   "metadata": {},
   "outputs": [],
   "source": [
    "assert pd.notnull(y2015).all().all()"
   ]
  },
  {
   "cell_type": "code",
   "execution_count": 27,
   "metadata": {},
   "outputs": [],
   "source": [
    "# from pandas import ExcelWriter\n",
    "# from pandas import ExcelFile\n",
    "\n",
    "# writer = ExcelWriter('../../Datafiles/unit_3/y2015_rmng_cols.xlsx')\n",
    "# cols_df.to_excel(writer,'cols_df',index=False)\n",
    "# writer.save()"
   ]
  },
  {
   "cell_type": "markdown",
   "metadata": {},
   "source": [
    "#### Step 1. Normalize variance and drop columns with low variance"
   ]
  },
  {
   "cell_type": "code",
   "execution_count": 28,
   "metadata": {},
   "outputs": [
    {
     "data": {
      "text/plain": [
       "(6498, 98)"
      ]
     },
     "execution_count": 28,
     "metadata": {},
     "output_type": "execute_result"
    }
   ],
   "source": [
    "y2015.shape"
   ]
  },
  {
   "cell_type": "code",
   "execution_count": 29,
   "metadata": {},
   "outputs": [],
   "source": [
    "y = y2015.loan_status\n",
    "y2015 = y2015.drop('loan_status', axis = 1)"
   ]
  },
  {
   "cell_type": "code",
   "execution_count": 30,
   "metadata": {},
   "outputs": [],
   "source": [
    "num_y2015 = pd.DataFrame(y2015.select_dtypes(include=['float64', 'int64']))"
   ]
  },
  {
   "cell_type": "code",
   "execution_count": 31,
   "metadata": {
    "run_control": {
     "frozen": false,
     "read_only": false
    }
   },
   "outputs": [
    {
     "name": "stdout",
     "output_type": "stream",
     "text": [
      "(6498, 81)\n"
     ]
    }
   ],
   "source": [
    "from sklearn.feature_selection import VarianceThreshold \n",
    "\n",
    "sel = VarianceThreshold(threshold=0.005)\n",
    "sel.fit(num_y2015 / num_y2015.mean())\n",
    "\n",
    "mask = sel.get_support() \n",
    "reduced_num_y2015 = num_y2015.loc[:, mask] \n",
    "print(reduced_num_y2015.shape)"
   ]
  },
  {
   "cell_type": "code",
   "execution_count": 32,
   "metadata": {},
   "outputs": [],
   "source": [
    "# cols_red_df = pd.DataFrame(list(reduced_num_y2015.columns.values))\n",
    "# writer_reduced = ExcelWriter('../../Datafiles/unit_3/y2015_reduced_cols.xlsx')\n",
    "# cols_red_df.to_excel(writer,'cols_red_df',index=False)\n",
    "# writer.save()"
   ]
  },
  {
   "cell_type": "code",
   "execution_count": 33,
   "metadata": {
    "run_control": {
     "frozen": false,
     "read_only": false
    }
   },
   "outputs": [],
   "source": [
    "y2015 = pd.get_dummies(y2015)"
   ]
  },
  {
   "cell_type": "code",
   "execution_count": 34,
   "metadata": {},
   "outputs": [
    {
     "name": "stdout",
     "output_type": "stream",
     "text": [
      "Index(['member_id', 'loan_amnt', 'funded_amnt', 'funded_amnt_inv', 'int_rate',\n",
      "       'installment', 'annual_inc', 'dti', 'delinq_2yrs', 'inq_last_6mths',\n",
      "       ...\n",
      "       'last_credit_pull_d_Jan-2017', 'last_credit_pull_d_Jul-2016',\n",
      "       'last_credit_pull_d_Jun-2016', 'last_credit_pull_d_Mar-2016',\n",
      "       'last_credit_pull_d_May-2016', 'last_credit_pull_d_Nov-2016',\n",
      "       'last_credit_pull_d_Oct-2016', 'last_credit_pull_d_Sep-2016',\n",
      "       'application_type_INDIVIDUAL', 'application_type_JOINT'],\n",
      "      dtype='object', length=134)\n"
     ]
    }
   ],
   "source": [
    "print(y2015.columns)"
   ]
  },
  {
   "cell_type": "code",
   "execution_count": 35,
   "metadata": {},
   "outputs": [
    {
     "data": {
      "text/plain": [
       "(6498, 134)"
      ]
     },
     "execution_count": 35,
     "metadata": {},
     "output_type": "execute_result"
    }
   ],
   "source": [
    "y2015.shape"
   ]
  },
  {
   "cell_type": "code",
   "execution_count": 36,
   "metadata": {},
   "outputs": [
    {
     "name": "stdout",
     "output_type": "stream",
     "text": [
      "Index(['application_type_INDIVIDUAL', 'application_type_JOINT', 'grade_A',\n",
      "       'grade_B', 'grade_C', 'grade_D', 'grade_E', 'grade_F', 'grade_G',\n",
      "       'home_ownership_MORTGAGE', 'home_ownership_OWN', 'home_ownership_RENT',\n",
      "       'initial_list_status_f', 'initial_list_status_w', 'issue_d_Dec-2015',\n",
      "       'last_credit_pull_d_Apr-2016', 'last_credit_pull_d_Aug-2016',\n",
      "       'last_credit_pull_d_Dec-2015', 'last_credit_pull_d_Dec-2016',\n",
      "       'last_credit_pull_d_Feb-2016', 'last_credit_pull_d_Jan-2016',\n",
      "       'last_credit_pull_d_Jan-2017', 'last_credit_pull_d_Jul-2016',\n",
      "       'last_credit_pull_d_Jun-2016', 'last_credit_pull_d_Mar-2016',\n",
      "       'last_credit_pull_d_May-2016', 'last_credit_pull_d_Nov-2016',\n",
      "       'last_credit_pull_d_Oct-2016', 'last_credit_pull_d_Sep-2016',\n",
      "       'member_id', 'no_delinq', 'no_derog', 'policy_code', 'purpose_car',\n",
      "       'purpose_credit_card', 'purpose_debt_consolidation',\n",
      "       'purpose_home_improvement', 'purpose_house', 'purpose_major_purchase',\n",
      "       'purpose_medical', 'purpose_moving', 'purpose_other',\n",
      "       'purpose_renewable_energy', 'purpose_small_business',\n",
      "       'purpose_vacation', 'pymnt_plan_n', 'recent_delinq', 'recent_derog',\n",
      "       'term_ 36 months', 'term_ 60 months',\n",
      "       'verification_status_Not Verified',\n",
      "       'verification_status_Source Verified', 'verification_status_Verified'],\n",
      "      dtype='object')\n"
     ]
    }
   ],
   "source": [
    "keep_cols = y2015.columns.difference(reduced_num_y2015.columns)\n",
    "print(keep_cols)\n",
    "y2015_new = pd.merge(reduced_num_y2015, y2015[keep_cols], left_index=True, right_index=True, how='outer')"
   ]
  },
  {
   "cell_type": "code",
   "execution_count": 37,
   "metadata": {},
   "outputs": [
    {
     "data": {
      "text/html": [
       "<div>\n",
       "<style scoped>\n",
       "    .dataframe tbody tr th:only-of-type {\n",
       "        vertical-align: middle;\n",
       "    }\n",
       "\n",
       "    .dataframe tbody tr th {\n",
       "        vertical-align: top;\n",
       "    }\n",
       "\n",
       "    .dataframe thead th {\n",
       "        text-align: right;\n",
       "    }\n",
       "</style>\n",
       "<table border=\"1\" class=\"dataframe\">\n",
       "  <thead>\n",
       "    <tr style=\"text-align: right;\">\n",
       "      <th></th>\n",
       "      <th>loan_amnt</th>\n",
       "      <th>funded_amnt</th>\n",
       "      <th>funded_amnt_inv</th>\n",
       "      <th>int_rate</th>\n",
       "      <th>installment</th>\n",
       "      <th>annual_inc</th>\n",
       "      <th>dti</th>\n",
       "      <th>delinq_2yrs</th>\n",
       "      <th>inq_last_6mths</th>\n",
       "      <th>mths_since_last_delinq</th>\n",
       "      <th>...</th>\n",
       "      <th>purpose_small_business</th>\n",
       "      <th>purpose_vacation</th>\n",
       "      <th>pymnt_plan_n</th>\n",
       "      <th>recent_delinq</th>\n",
       "      <th>recent_derog</th>\n",
       "      <th>term_ 36 months</th>\n",
       "      <th>term_ 60 months</th>\n",
       "      <th>verification_status_Not Verified</th>\n",
       "      <th>verification_status_Source Verified</th>\n",
       "      <th>verification_status_Verified</th>\n",
       "    </tr>\n",
       "  </thead>\n",
       "  <tbody>\n",
       "    <tr>\n",
       "      <th>0</th>\n",
       "      <td>16000</td>\n",
       "      <td>16000</td>\n",
       "      <td>16000</td>\n",
       "      <td>14.85</td>\n",
       "      <td>379.39</td>\n",
       "      <td>48000.0</td>\n",
       "      <td>33.18</td>\n",
       "      <td>0</td>\n",
       "      <td>0</td>\n",
       "      <td>33.0</td>\n",
       "      <td>...</td>\n",
       "      <td>0</td>\n",
       "      <td>0</td>\n",
       "      <td>1</td>\n",
       "      <td>False</td>\n",
       "      <td>False</td>\n",
       "      <td>0</td>\n",
       "      <td>1</td>\n",
       "      <td>1</td>\n",
       "      <td>0</td>\n",
       "      <td>0</td>\n",
       "    </tr>\n",
       "    <tr>\n",
       "      <th>1</th>\n",
       "      <td>9600</td>\n",
       "      <td>9600</td>\n",
       "      <td>9600</td>\n",
       "      <td>7.49</td>\n",
       "      <td>298.58</td>\n",
       "      <td>60000.0</td>\n",
       "      <td>22.44</td>\n",
       "      <td>0</td>\n",
       "      <td>0</td>\n",
       "      <td>0.0</td>\n",
       "      <td>...</td>\n",
       "      <td>0</td>\n",
       "      <td>0</td>\n",
       "      <td>1</td>\n",
       "      <td>False</td>\n",
       "      <td>False</td>\n",
       "      <td>1</td>\n",
       "      <td>0</td>\n",
       "      <td>1</td>\n",
       "      <td>0</td>\n",
       "      <td>0</td>\n",
       "    </tr>\n",
       "    <tr>\n",
       "      <th>2</th>\n",
       "      <td>25000</td>\n",
       "      <td>25000</td>\n",
       "      <td>25000</td>\n",
       "      <td>7.49</td>\n",
       "      <td>777.55</td>\n",
       "      <td>109000.0</td>\n",
       "      <td>26.02</td>\n",
       "      <td>0</td>\n",
       "      <td>1</td>\n",
       "      <td>0.0</td>\n",
       "      <td>...</td>\n",
       "      <td>0</td>\n",
       "      <td>0</td>\n",
       "      <td>1</td>\n",
       "      <td>False</td>\n",
       "      <td>False</td>\n",
       "      <td>1</td>\n",
       "      <td>0</td>\n",
       "      <td>1</td>\n",
       "      <td>0</td>\n",
       "      <td>0</td>\n",
       "    </tr>\n",
       "    <tr>\n",
       "      <th>3</th>\n",
       "      <td>28000</td>\n",
       "      <td>28000</td>\n",
       "      <td>28000</td>\n",
       "      <td>6.49</td>\n",
       "      <td>858.05</td>\n",
       "      <td>92000.0</td>\n",
       "      <td>21.60</td>\n",
       "      <td>0</td>\n",
       "      <td>0</td>\n",
       "      <td>42.0</td>\n",
       "      <td>...</td>\n",
       "      <td>0</td>\n",
       "      <td>0</td>\n",
       "      <td>1</td>\n",
       "      <td>False</td>\n",
       "      <td>False</td>\n",
       "      <td>1</td>\n",
       "      <td>0</td>\n",
       "      <td>1</td>\n",
       "      <td>0</td>\n",
       "      <td>0</td>\n",
       "    </tr>\n",
       "    <tr>\n",
       "      <th>4</th>\n",
       "      <td>8650</td>\n",
       "      <td>8650</td>\n",
       "      <td>8650</td>\n",
       "      <td>19.89</td>\n",
       "      <td>320.99</td>\n",
       "      <td>55000.0</td>\n",
       "      <td>25.49</td>\n",
       "      <td>0</td>\n",
       "      <td>4</td>\n",
       "      <td>0.0</td>\n",
       "      <td>...</td>\n",
       "      <td>0</td>\n",
       "      <td>0</td>\n",
       "      <td>1</td>\n",
       "      <td>False</td>\n",
       "      <td>False</td>\n",
       "      <td>1</td>\n",
       "      <td>0</td>\n",
       "      <td>0</td>\n",
       "      <td>0</td>\n",
       "      <td>1</td>\n",
       "    </tr>\n",
       "  </tbody>\n",
       "</table>\n",
       "<p>5 rows × 134 columns</p>\n",
       "</div>"
      ],
      "text/plain": [
       "   loan_amnt  funded_amnt  funded_amnt_inv  int_rate  installment  annual_inc  \\\n",
       "0      16000        16000            16000     14.85       379.39     48000.0   \n",
       "1       9600         9600             9600      7.49       298.58     60000.0   \n",
       "2      25000        25000            25000      7.49       777.55    109000.0   \n",
       "3      28000        28000            28000      6.49       858.05     92000.0   \n",
       "4       8650         8650             8650     19.89       320.99     55000.0   \n",
       "\n",
       "     dti  delinq_2yrs  inq_last_6mths  mths_since_last_delinq  \\\n",
       "0  33.18            0               0                    33.0   \n",
       "1  22.44            0               0                     0.0   \n",
       "2  26.02            0               1                     0.0   \n",
       "3  21.60            0               0                    42.0   \n",
       "4  25.49            0               4                     0.0   \n",
       "\n",
       "               ...               purpose_small_business  purpose_vacation  \\\n",
       "0              ...                                    0                 0   \n",
       "1              ...                                    0                 0   \n",
       "2              ...                                    0                 0   \n",
       "3              ...                                    0                 0   \n",
       "4              ...                                    0                 0   \n",
       "\n",
       "   pymnt_plan_n  recent_delinq  recent_derog  term_ 36 months  \\\n",
       "0             1          False         False                0   \n",
       "1             1          False         False                1   \n",
       "2             1          False         False                1   \n",
       "3             1          False         False                1   \n",
       "4             1          False         False                1   \n",
       "\n",
       "   term_ 60 months  verification_status_Not Verified  \\\n",
       "0                1                                 1   \n",
       "1                0                                 1   \n",
       "2                0                                 1   \n",
       "3                0                                 1   \n",
       "4                0                                 0   \n",
       "\n",
       "   verification_status_Source Verified  verification_status_Verified  \n",
       "0                                    0                             0  \n",
       "1                                    0                             0  \n",
       "2                                    0                             0  \n",
       "3                                    0                             0  \n",
       "4                                    0                             1  \n",
       "\n",
       "[5 rows x 134 columns]"
      ]
     },
     "execution_count": 37,
     "metadata": {},
     "output_type": "execute_result"
    }
   ],
   "source": [
    "y2015_new.head()"
   ]
  },
  {
   "cell_type": "code",
   "execution_count": 38,
   "metadata": {},
   "outputs": [
    {
     "name": "stderr",
     "output_type": "stream",
     "text": [
      "/Users/robin/anaconda3/envs/data_sci/lib/python3.6/site-packages/sklearn/model_selection/_split.py:652: Warning: The least populated class in y has only 6 members, which is too few. The minimum number of members in any class cannot be less than n_splits=10.\n",
      "  % (min_groups, self.n_splits)), Warning)\n",
      "/Users/robin/anaconda3/envs/data_sci/lib/python3.6/site-packages/sklearn/ensemble/forest.py:246: FutureWarning: The default value of n_estimators will change from 10 in version 0.20 to 100 in 0.22.\n",
      "  \"10 in version 0.20 to 100 in 0.22.\", FutureWarning)\n",
      "/Users/robin/anaconda3/envs/data_sci/lib/python3.6/site-packages/sklearn/ensemble/forest.py:246: FutureWarning: The default value of n_estimators will change from 10 in version 0.20 to 100 in 0.22.\n",
      "  \"10 in version 0.20 to 100 in 0.22.\", FutureWarning)\n",
      "/Users/robin/anaconda3/envs/data_sci/lib/python3.6/site-packages/sklearn/ensemble/forest.py:246: FutureWarning: The default value of n_estimators will change from 10 in version 0.20 to 100 in 0.22.\n",
      "  \"10 in version 0.20 to 100 in 0.22.\", FutureWarning)\n",
      "/Users/robin/anaconda3/envs/data_sci/lib/python3.6/site-packages/sklearn/ensemble/forest.py:246: FutureWarning: The default value of n_estimators will change from 10 in version 0.20 to 100 in 0.22.\n",
      "  \"10 in version 0.20 to 100 in 0.22.\", FutureWarning)\n",
      "/Users/robin/anaconda3/envs/data_sci/lib/python3.6/site-packages/sklearn/ensemble/forest.py:246: FutureWarning: The default value of n_estimators will change from 10 in version 0.20 to 100 in 0.22.\n",
      "  \"10 in version 0.20 to 100 in 0.22.\", FutureWarning)\n",
      "/Users/robin/anaconda3/envs/data_sci/lib/python3.6/site-packages/sklearn/ensemble/forest.py:246: FutureWarning: The default value of n_estimators will change from 10 in version 0.20 to 100 in 0.22.\n",
      "  \"10 in version 0.20 to 100 in 0.22.\", FutureWarning)\n",
      "/Users/robin/anaconda3/envs/data_sci/lib/python3.6/site-packages/sklearn/ensemble/forest.py:246: FutureWarning: The default value of n_estimators will change from 10 in version 0.20 to 100 in 0.22.\n",
      "  \"10 in version 0.20 to 100 in 0.22.\", FutureWarning)\n",
      "/Users/robin/anaconda3/envs/data_sci/lib/python3.6/site-packages/sklearn/ensemble/forest.py:246: FutureWarning: The default value of n_estimators will change from 10 in version 0.20 to 100 in 0.22.\n",
      "  \"10 in version 0.20 to 100 in 0.22.\", FutureWarning)\n",
      "/Users/robin/anaconda3/envs/data_sci/lib/python3.6/site-packages/sklearn/ensemble/forest.py:246: FutureWarning: The default value of n_estimators will change from 10 in version 0.20 to 100 in 0.22.\n",
      "  \"10 in version 0.20 to 100 in 0.22.\", FutureWarning)\n",
      "/Users/robin/anaconda3/envs/data_sci/lib/python3.6/site-packages/sklearn/ensemble/forest.py:246: FutureWarning: The default value of n_estimators will change from 10 in version 0.20 to 100 in 0.22.\n",
      "  \"10 in version 0.20 to 100 in 0.22.\", FutureWarning)\n"
     ]
    },
    {
     "data": {
      "text/plain": [
       "array([ 0.9617737 ,  0.95865237,  0.96313364,  0.96006144,  0.96159754,\n",
       "        0.96307692,  0.9690881 ,  0.9690881 ,  0.9675425 ,  0.96136012])"
      ]
     },
     "execution_count": 38,
     "metadata": {},
     "output_type": "execute_result"
    }
   ],
   "source": [
    "from sklearn import ensemble\n",
    "from sklearn.model_selection import cross_val_score\n",
    "\n",
    "X = y2015_new\n",
    "\n",
    "rfc = ensemble.RandomForestClassifier()\n",
    "\n",
    "cross_val_score(rfc, X, y, cv=10)"
   ]
  },
  {
   "cell_type": "markdown",
   "metadata": {},
   "source": [
    "#### I've achieved a score above 90%, but how many features are really necessary?"
   ]
  },
  {
   "cell_type": "code",
   "execution_count": 39,
   "metadata": {},
   "outputs": [
    {
     "name": "stdout",
     "output_type": "stream",
     "text": [
      "The reduced dataframe has 121 columns.\n"
     ]
    }
   ],
   "source": [
    "# Calculate the correlation matrix and take the absolute value\n",
    "corr_matrix = y2015_new.corr().abs()\n",
    "\n",
    "# Create a True/False mask and apply it\n",
    "mask = np.triu(np.ones_like(corr_matrix, dtype=bool))\n",
    "y2015_corr = corr_matrix.mask(mask)\n",
    "\n",
    "# List column names of highly correlated features (r > 0.95)\n",
    "to_drop = [c for c in y2015_corr.columns if any(y2015_corr[c] >  0.95)]\n",
    "\n",
    "# Drop the features in the to_drop list\n",
    "y2015_reduced = y2015_new.drop(to_drop, axis=1)\n",
    "\n",
    "print(\"The reduced dataframe has {} columns.\".format(y2015_reduced.shape[1]))"
   ]
  },
  {
   "cell_type": "code",
   "execution_count": 40,
   "metadata": {},
   "outputs": [
    {
     "name": "stderr",
     "output_type": "stream",
     "text": [
      "/Users/robin/anaconda3/envs/data_sci/lib/python3.6/site-packages/sklearn/model_selection/_split.py:652: Warning: The least populated class in y has only 6 members, which is too few. The minimum number of members in any class cannot be less than n_splits=10.\n",
      "  % (min_groups, self.n_splits)), Warning)\n",
      "/Users/robin/anaconda3/envs/data_sci/lib/python3.6/site-packages/sklearn/ensemble/forest.py:246: FutureWarning: The default value of n_estimators will change from 10 in version 0.20 to 100 in 0.22.\n",
      "  \"10 in version 0.20 to 100 in 0.22.\", FutureWarning)\n",
      "/Users/robin/anaconda3/envs/data_sci/lib/python3.6/site-packages/sklearn/ensemble/forest.py:246: FutureWarning: The default value of n_estimators will change from 10 in version 0.20 to 100 in 0.22.\n",
      "  \"10 in version 0.20 to 100 in 0.22.\", FutureWarning)\n",
      "/Users/robin/anaconda3/envs/data_sci/lib/python3.6/site-packages/sklearn/ensemble/forest.py:246: FutureWarning: The default value of n_estimators will change from 10 in version 0.20 to 100 in 0.22.\n",
      "  \"10 in version 0.20 to 100 in 0.22.\", FutureWarning)\n",
      "/Users/robin/anaconda3/envs/data_sci/lib/python3.6/site-packages/sklearn/ensemble/forest.py:246: FutureWarning: The default value of n_estimators will change from 10 in version 0.20 to 100 in 0.22.\n",
      "  \"10 in version 0.20 to 100 in 0.22.\", FutureWarning)\n",
      "/Users/robin/anaconda3/envs/data_sci/lib/python3.6/site-packages/sklearn/ensemble/forest.py:246: FutureWarning: The default value of n_estimators will change from 10 in version 0.20 to 100 in 0.22.\n",
      "  \"10 in version 0.20 to 100 in 0.22.\", FutureWarning)\n",
      "/Users/robin/anaconda3/envs/data_sci/lib/python3.6/site-packages/sklearn/ensemble/forest.py:246: FutureWarning: The default value of n_estimators will change from 10 in version 0.20 to 100 in 0.22.\n",
      "  \"10 in version 0.20 to 100 in 0.22.\", FutureWarning)\n",
      "/Users/robin/anaconda3/envs/data_sci/lib/python3.6/site-packages/sklearn/ensemble/forest.py:246: FutureWarning: The default value of n_estimators will change from 10 in version 0.20 to 100 in 0.22.\n",
      "  \"10 in version 0.20 to 100 in 0.22.\", FutureWarning)\n",
      "/Users/robin/anaconda3/envs/data_sci/lib/python3.6/site-packages/sklearn/ensemble/forest.py:246: FutureWarning: The default value of n_estimators will change from 10 in version 0.20 to 100 in 0.22.\n",
      "  \"10 in version 0.20 to 100 in 0.22.\", FutureWarning)\n",
      "/Users/robin/anaconda3/envs/data_sci/lib/python3.6/site-packages/sklearn/ensemble/forest.py:246: FutureWarning: The default value of n_estimators will change from 10 in version 0.20 to 100 in 0.22.\n",
      "  \"10 in version 0.20 to 100 in 0.22.\", FutureWarning)\n",
      "/Users/robin/anaconda3/envs/data_sci/lib/python3.6/site-packages/sklearn/ensemble/forest.py:246: FutureWarning: The default value of n_estimators will change from 10 in version 0.20 to 100 in 0.22.\n",
      "  \"10 in version 0.20 to 100 in 0.22.\", FutureWarning)\n"
     ]
    },
    {
     "data": {
      "text/plain": [
       "array([ 0.96024465,  0.95865237,  0.95238095,  0.95698925,  0.95238095,\n",
       "        0.95692308,  0.96445131,  0.95981453,  0.95981453,  0.96599691])"
      ]
     },
     "execution_count": 40,
     "metadata": {},
     "output_type": "execute_result"
    }
   ],
   "source": [
    "X = y2015_reduced\n",
    "\n",
    "cross_val_score(rfc, X, y, cv=10)"
   ]
  },
  {
   "cell_type": "code",
   "execution_count": 46,
   "metadata": {},
   "outputs": [
    {
     "name": "stderr",
     "output_type": "stream",
     "text": [
      "/Users/robin/anaconda3/envs/data_sci/lib/python3.6/site-packages/sklearn/preprocessing/data.py:625: DataConversionWarning: Data with input dtype bool, uint8, int64, float64 were all converted to float64 by StandardScaler.\n",
      "  return self.partial_fit(X, y)\n",
      "/Users/robin/anaconda3/envs/data_sci/lib/python3.6/site-packages/sklearn/base.py:465: DataConversionWarning: Data with input dtype bool, uint8, int64, float64 were all converted to float64 by StandardScaler.\n",
      "  return self.fit(X, y, **fit_params).transform(X)\n",
      "/Users/robin/anaconda3/envs/data_sci/lib/python3.6/site-packages/sklearn/ensemble/forest.py:246: FutureWarning: The default value of n_estimators will change from 10 in version 0.20 to 100 in 0.22.\n",
      "  \"10 in version 0.20 to 100 in 0.22.\", FutureWarning)\n"
     ]
    },
    {
     "data": {
      "text/plain": [
       "Pipeline(memory=None,\n",
       "     steps=[('scaler', StandardScaler(copy=True, with_mean=True, with_std=True)), ('reducer', PCA(copy=True, iterated_power='auto', n_components=45, random_state=None,\n",
       "  svd_solver='auto', tol=0.0, whiten=False)), ('classifier', RandomForestClassifier(bootstrap=True, class_weight=None, criterion='gini',\n",
       "...obs=None,\n",
       "            oob_score=False, random_state=None, verbose=0,\n",
       "            warm_start=False))])"
      ]
     },
     "execution_count": 46,
     "metadata": {},
     "output_type": "execute_result"
    }
   ],
   "source": [
    "from sklearn.preprocessing import StandardScaler \n",
    "from sklearn.decomposition import PCA\n",
    "from sklearn.pipeline import Pipeline\n",
    "\n",
    "pipe = Pipeline([\n",
    "('scaler', StandardScaler()),\n",
    "('reducer', PCA(n_components=45)), \n",
    "('classifier', ensemble.RandomForestClassifier())])\n",
    "\n",
    "pipe.fit(X)"
   ]
  },
  {
   "cell_type": "code",
   "execution_count": 48,
   "metadata": {
    "scrolled": true
   },
   "outputs": [
    {
     "name": "stdout",
     "output_type": "stream",
     "text": [
      "0.970298553401\n"
     ]
    },
    {
     "name": "stderr",
     "output_type": "stream",
     "text": [
      "/Users/robin/anaconda3/envs/data_sci/lib/python3.6/site-packages/sklearn/pipeline.py:511: DataConversionWarning: Data with input dtype bool, uint8, int64, float64 were all converted to float64 by StandardScaler.\n",
      "  Xt = transform.transform(Xt)\n"
     ]
    }
   ],
   "source": [
    "print(pipe.score(X, y))"
   ]
  },
  {
   "cell_type": "code",
   "execution_count": null,
   "metadata": {},
   "outputs": [],
   "source": []
  }
 ],
 "metadata": {
  "hide_input": false,
  "kernelspec": {
   "display_name": "Python 3",
   "language": "python",
   "name": "python3"
  },
  "language_info": {
   "codemirror_mode": {
    "name": "ipython",
    "version": 3
   },
   "file_extension": ".py",
   "mimetype": "text/x-python",
   "name": "python",
   "nbconvert_exporter": "python",
   "pygments_lexer": "ipython3",
   "version": "3.6.1"
  },
  "toc": {
   "colors": {
    "hover_highlight": "#DAA520",
    "running_highlight": "#FF0000",
    "selected_highlight": "#FFD700"
   },
   "moveMenuLeft": true,
   "nav_menu": {
    "height": "86px",
    "width": "252px"
   },
   "navigate_menu": true,
   "number_sections": true,
   "sideBar": true,
   "threshold": 4,
   "toc_cell": false,
   "toc_section_display": "block",
   "toc_window_display": false
  }
 },
 "nbformat": 4,
 "nbformat_minor": 2
}
