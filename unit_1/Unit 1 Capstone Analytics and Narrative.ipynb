{
 "cells": [
  {
   "cell_type": "markdown",
   "metadata": {},
   "source": [
    "## Unit 1 Capstone Analytics and Narrative\n",
    "### Prepared by Robin Fladebo"
   ]
  },
  {
   "cell_type": "markdown",
   "metadata": {},
   "source": [
    "### Introduction"
   ]
  },
  {
   "cell_type": "markdown",
   "metadata": {},
   "source": [
    "In reading a report published in July 2018 by UNICEF, I learned that iodine deficiency can lead to health and developmental problems (called Iodine Deficiency Disorders, or IDDs). Iodine deficiency is especially problematic during pregnancy and early childhood, and is a major cause of preventable mental retardation and diminished cognitive ability.\n",
    "\n",
    "UNICEF compiled data about access to and consumption of iodized salt from people in many countries around the globe. The data came from two global surveys: the Multiple Indicator Cluster Survey (MICS) conducted by UNICEF, and the Demographic and Health Survey (DHS), funded by US AID.\n",
    "\n",
    "To date, most efforts to ensure that adequate iodine is consumed have centered around providing iodized salt.\n",
    "This dataset reports the proportion of households consuming salt with any iodine, regardless of the level of iodine in the salt. An adequate level of iodine in salt would be high enough, but not too high, to meet the needs of the population. The UNICEF data is only a part of the picture of iodine deficiency disorders.\n",
    "\n",
    "The ultimate study goal, according to World Health Organization (WHO) guidelines, is to determine population iodine status in addition to data about access to iodized salt. Population iodine status can be measured using urinary iodine, with the prevalence of goiters being a secondary measure. Using population iodine status data and data about access to iodized salt -- particularly about vulnerable populations -- countries can design and manage a program to ensure that an adequate level of iodine is present in the salt that is available locally.\n",
    "\n",
    "The most recent WHO data about median urinary iodine is from 2003. "
   ]
  },
  {
   "cell_type": "markdown",
   "metadata": {},
   "source": [
    "### Dataset exploration"
   ]
  },
  {
   "cell_type": "markdown",
   "metadata": {},
   "source": [
    "Data Source: https://data.unicef.org/topic/nutrition/iodine-deficiency/"
   ]
  },
  {
   "cell_type": "code",
   "execution_count": 2,
   "metadata": {},
   "outputs": [],
   "source": [
    "import chardet\n",
    "import csv\n",
    "import pandas as pd\n",
    "pd.set_option('display.max_rows', 1000)\n",
    "import numpy as np"
   ]
  },
  {
   "cell_type": "code",
   "execution_count": 3,
   "metadata": {},
   "outputs": [],
   "source": [
    "def find_encoding(fname):\n",
    "    r_file = open(fname, 'rb').read()\n",
    "    result = chardet.detect(r_file)\n",
    "    charenc = result['encoding']\n",
    "    return charenc"
   ]
  },
  {
   "cell_type": "code",
   "execution_count": 4,
   "metadata": {},
   "outputs": [
    {
     "name": "stdout",
     "output_type": "stream",
     "text": [
      "UTF-8-SIG\n"
     ]
    }
   ],
   "source": [
    "thisfile_encoding = find_encoding('UNICEF_salt.csv')\n",
    "print(thisfile_encoding)"
   ]
  },
  {
   "cell_type": "code",
   "execution_count": 5,
   "metadata": {
    "scrolled": true
   },
   "outputs": [],
   "source": [
    "unicef_salt = pd.read_csv('UNICEF_salt.csv', encoding = 'UTF-8')"
   ]
  },
  {
   "cell_type": "code",
   "execution_count": 6,
   "metadata": {
    "scrolled": true
   },
   "outputs": [
    {
     "data": {
      "text/plain": [
       "pandas.core.frame.DataFrame"
      ]
     },
     "execution_count": 6,
     "metadata": {},
     "output_type": "execute_result"
    }
   ],
   "source": [
    "type(unicef_salt)"
   ]
  },
  {
   "cell_type": "code",
   "execution_count": 7,
   "metadata": {
    "scrolled": true
   },
   "outputs": [
    {
     "data": {
      "text/plain": [
       "(290, 145)"
      ]
     },
     "execution_count": 7,
     "metadata": {},
     "output_type": "execute_result"
    }
   ],
   "source": [
    "unicef_salt.shape"
   ]
  },
  {
   "cell_type": "code",
   "execution_count": 8,
   "metadata": {},
   "outputs": [],
   "source": [
    "unicef_salt.rename(columns=lambda x: x.replace(' ', '_'), inplace=True)"
   ]
  },
  {
   "cell_type": "code",
   "execution_count": 9,
   "metadata": {},
   "outputs": [
    {
     "data": {
      "text/plain": [
       "['ISO_Ctry',\n",
       " 'Country',\n",
       " 'Region',\n",
       " 'Year_range',\n",
       " 'Year',\n",
       " 'Survey_type',\n",
       " 'Source',\n",
       " 'Source_2',\n",
       " 'Status',\n",
       " 'Natl_Point_Estimate',\n",
       " 'Natl_Lower_Limit',\n",
       " 'Natl_Upper_Limit',\n",
       " 'Natl_Footnote',\n",
       " 'MaleHH_Point_Estimate',\n",
       " 'MaleHH_Lower_Limit',\n",
       " 'MaleHH_Upper_Limit',\n",
       " 'MaleHH_Footnote',\n",
       " 'Female_HH_Point_Estimate',\n",
       " 'Female_HH_Lower_Limit',\n",
       " 'Female_HH_Upper_Limit',\n",
       " 'Female_HH_Footnote',\n",
       " 'Urban_Point_Estimate',\n",
       " 'Urban_Lower_Limit',\n",
       " 'Urban_Upper_Limit',\n",
       " 'Urban_Footnote',\n",
       " 'Rural_Point_Estimate',\n",
       " 'Rural_Lower_Limit',\n",
       " 'Rural_Upper_Limit',\n",
       " 'Rural_Footnote',\n",
       " 'WQ1_Point_Estimate',\n",
       " 'WQ1_Lower_Limit',\n",
       " 'WQ1_Upper_Limit',\n",
       " 'WQ1_Footnote',\n",
       " 'WQ2_Point_Estimate',\n",
       " 'WQ2_Lower_Limit',\n",
       " 'WQ2_Upper_Limit',\n",
       " 'WQ2_Footnote',\n",
       " 'WQ3_Point_Estimate',\n",
       " 'WQ3_Lower_Limit',\n",
       " 'WQ3_Upper_Limit',\n",
       " 'WQ3_Footnote',\n",
       " 'WQ4_Point_Estimate',\n",
       " 'WQ4_Lower_Limit',\n",
       " 'WQ4_Upper_Limit',\n",
       " 'WQ4_Footnote',\n",
       " 'WQ5_Point_Estimate',\n",
       " 'WQ5_Lower_Limit',\n",
       " 'WQ5_Upper_Limit',\n",
       " 'WQ5_Footnote',\n",
       " 'Bot60_Point_Estimate',\n",
       " 'Bot60_Lower_Limit',\n",
       " 'Bot60_Upper_Limit',\n",
       " 'Bot60_Footnote',\n",
       " 'Top40_Point_Estimate',\n",
       " 'Top40_Lower_Limit',\n",
       " 'Top40_Upper_Limit',\n",
       " 'Top40_Footnote',\n",
       " 'Bot40_Point_Estimate',\n",
       " 'Bot40_Lower_Limit',\n",
       " 'Bot40_Upper_Limit',\n",
       " 'Bot40_Footnote',\n",
       " 'Top60__Estimate',\n",
       " 'Top60__Lower_Limit',\n",
       " 'Top60__Upper_Limit',\n",
       " 'Top60__Footnote',\n",
       " 'Bot20_Point_Estimate',\n",
       " 'Bot20_Lower_Limit',\n",
       " 'Bot20_Upper_Limit',\n",
       " 'Bot20_Footnote',\n",
       " 'Top80_Point_Estimate',\n",
       " 'Top80_Lower_Limit',\n",
       " 'Top80_Upper_Limit',\n",
       " 'Top80_Footnote',\n",
       " 'Bot80_Point_Estimate',\n",
       " 'Bot80_Lower_Limit',\n",
       " 'Bot80_Upper_Limit',\n",
       " 'Bot80_Footnote',\n",
       " 'Top20_Point_Estimate',\n",
       " 'Top20_Lower_Limit',\n",
       " 'Top20_Upper_Limit',\n",
       " 'Top20_Footnote',\n",
       " 'Bot60U_Point_Estimate',\n",
       " 'Bot60U_Lower_Limit',\n",
       " 'Bot60U_Upper_Limit',\n",
       " 'Bot60U_Footnote',\n",
       " 'Bot60R_Point_Estimate',\n",
       " 'Bot60R_Lower_Limit',\n",
       " 'Bot60R_Upper_Limit',\n",
       " 'Bot60R_Footnote',\n",
       " 'Top40U_Estimate',\n",
       " 'Top40U_Lower_Limit',\n",
       " 'Top40U_Upper_Limit',\n",
       " 'Top40U_Footnote',\n",
       " 'Top40R_Point_Estimate',\n",
       " 'Top40R_Lower_Limit',\n",
       " 'Top40R_Upper_Limit',\n",
       " 'Top40R_Footnote',\n",
       " 'Bot40U_Point_Estimate',\n",
       " 'Bot40U_Lower_Limit',\n",
       " 'Bot40U_Upper_Limit',\n",
       " 'Bot40U_Footnote',\n",
       " 'Bot40R_Point_Estimate',\n",
       " 'Bot40R_Lower_Limit',\n",
       " 'Bot40R_Upper_Limit',\n",
       " 'Bot40R_Footnote',\n",
       " 'Top60U_Point_Estimate',\n",
       " 'Top60U_Lower_Limit',\n",
       " 'Top60U_Upper_Limit',\n",
       " 'Top60U_Footnote',\n",
       " 'Top60R_Point_Estimate',\n",
       " 'Top60R_Lower_Limit',\n",
       " 'Top60R_Upper_Limit',\n",
       " 'Top60R_Footnote',\n",
       " 'Bot20U_Point_Estimate',\n",
       " 'Bot20U_Lower_Limit',\n",
       " 'Bot20U_Upper_Limit',\n",
       " 'Footnote',\n",
       " 'Bot20R_Point_Estimate',\n",
       " 'Bot20R_Lower_Limit',\n",
       " 'Bot20R_Upper_Limit',\n",
       " 'Bot20R_Footnote',\n",
       " 'Top80U_Point_Estimate',\n",
       " 'Top80U_Lower_Limit',\n",
       " 'Top80U_Upper_Limit',\n",
       " 'Top80U_Footnote',\n",
       " 'Top80R_Point_Estimate',\n",
       " 'Top80R_Lower_Limit',\n",
       " 'Top80R_Upper_Limit',\n",
       " 'Top80R_Footnote',\n",
       " 'Bot80U_Point_Estimate',\n",
       " 'Bot80U_Lower_Limit',\n",
       " 'Bot80U_Upper_Limit',\n",
       " 'Bot80U_Footnote',\n",
       " 'Bot80R_Point_Estimate',\n",
       " 'Bot80R_Lower_Limit',\n",
       " 'Bot80R_Upper_Limit',\n",
       " 'Bot80R_Footnote',\n",
       " 'Top20U_Point_Estimate',\n",
       " 'Top20U_Lower_Limit',\n",
       " 'Top20U_Upper_Limit',\n",
       " 'Top20U_Footnote',\n",
       " 'Top20R_Point_Estimate',\n",
       " 'Top20R_Lower_Limit',\n",
       " 'Top20R_Upper_Limit',\n",
       " 'Top20R_Footnote']"
      ]
     },
     "execution_count": 9,
     "metadata": {},
     "output_type": "execute_result"
    }
   ],
   "source": [
    "list(unicef_salt.columns.values)"
   ]
  },
  {
   "cell_type": "code",
   "execution_count": 10,
   "metadata": {},
   "outputs": [],
   "source": [
    "unicef_salt['Year'] = pd.to_numeric(unicef_salt['Year'], errors='coerce')"
   ]
  },
  {
   "cell_type": "code",
   "execution_count": 11,
   "metadata": {},
   "outputs": [],
   "source": [
    "unicef_salt['Natl_Point_Estimate'] = pd.to_numeric(unicef_salt['Natl_Point_Estimate'], errors='coerce')"
   ]
  },
  {
   "cell_type": "markdown",
   "metadata": {},
   "source": [
    "The original dataset contains data from multiple years, ranging from 1994 to 2017"
   ]
  },
  {
   "cell_type": "code",
   "execution_count": 12,
   "metadata": {
    "scrolled": true
   },
   "outputs": [
    {
     "data": {
      "text/plain": [
       "Year\n",
       "1994    1994\n",
       "1995    1995\n",
       "1996    1996\n",
       "1997    1997\n",
       "1998    1998\n",
       "1999    1999\n",
       "2000    2000\n",
       "2001    2001\n",
       "2002    2002\n",
       "2003    2003\n",
       "2004    2004\n",
       "2005    2005\n",
       "2006    2006\n",
       "2007    2007\n",
       "2008    2008\n",
       "2009    2009\n",
       "2010    2010\n",
       "2011    2011\n",
       "2012    2012\n",
       "2013    2013\n",
       "2014    2014\n",
       "2015    2015\n",
       "2016    2016\n",
       "2017    2017\n",
       "Name: Year, dtype: int64"
      ]
     },
     "execution_count": 12,
     "metadata": {},
     "output_type": "execute_result"
    }
   ],
   "source": [
    "unicef_salt['Year'].groupby(unicef_salt['Year']).min()"
   ]
  },
  {
   "cell_type": "code",
   "execution_count": 14,
   "metadata": {},
   "outputs": [],
   "source": [
    "#Restrict the data set to the most recent year for each country\n",
    "salt_recent = unicef_salt.groupby(unicef_salt['Country']).max().reset_index()"
   ]
  },
  {
   "cell_type": "code",
   "execution_count": 15,
   "metadata": {
    "scrolled": false
   },
   "outputs": [
    {
     "name": "stdout",
     "output_type": "stream",
     "text": [
      "                              Country Region  Year  Natl_Point_Estimate\n",
      "26                           Djibouti    ESA  2006                  4.4\n",
      "79                            Somalia    ESA  2009                  7.6\n",
      "41                              Haiti    LAC  2012                 23.1\n",
      "58                         Mauritania    WCA  2011                 24.4\n",
      "56                           Malaysia    EAP  2008                 28.2\n",
      "27                 Dominican Republic    LAC  2000                 29.9\n",
      "96                            Vanuatu    EAP  2007                 32.6\n",
      "39                      Guinea-Bissau    WCA  2014                 33.9\n",
      "83                              Sudan    ESA  2014                 34.4\n",
      "93                            Ukraine   EECA  2012                 35.9\n",
      "7                            Barbados    LAC  2012                 36.8\n",
      "40                             Guyana    LAC  2014                 42.8\n",
      "60                            Morocco   MENA  2007                 43.3\n",
      "70                        Philippines    EAP  2015                 52.4\n",
      "89                Trinidad and Tobago    LAC  2006                 52.6\n",
      "44                               Iraq   MENA  2011                 54.5\n",
      "0                         Afghanistan     SA  2016                 56.6\n",
      "29                  Equatorial Guinea    WCA  2000                 57.4\n",
      "98                              Yemen   MENA  2013                 58.2\n",
      "61                         Mozambique    ESA  2011                 58.3\n",
      "80                        South Sudan    ESA  2010                 60.0\n",
      "97                           Viet Nam    EAP  2011                 60.9\n",
      "76                            Senegal    WCA  2016                 64.1\n",
      "84               Syrian Arab Republic   MENA  2009                 65.4\n",
      "36                              Ghana    WCA  2014                 68.0\n",
      "53                              Libya   MENA  2007                 69.1\n",
      "67                           Pakistan     SA  2011                 69.1\n",
      "34                             Gambia    WCA  2013                 69.1\n",
      "30                            Eritrea    ESA  2002                 72.3\n",
      "38                             Guinea    WCA  2016                 72.6\n",
      "65                              Niger    WCA  2014                 72.9\n",
      "73                        Saint Lucia    LAC  2012                 74.7\n",
      "63                            Namibia    ESA  2013                 75.6\n",
      "20                               Chad    WCA  2015                 76.5\n",
      "77                       Sierra Leone    WCA  2013                 77.2\n",
      "71                Republic of Moldova   EECA  2012                 78.8\n",
      "54                         Madagascar    ESA  2009                 79.2\n",
      "94        United Republic of Tanzania    ESA  2016                 80.7\n",
      "62                            Myanmar    EAP  2016                 80.9\n",
      "88                               Togo    WCA  2014                 81.4\n",
      "2                             Algeria   MENA  2013                 81.5\n",
      "95                         Uzbekistan   EECA  2006                 81.5\n",
      "17                           Cambodia    EAP  2014                 81.7\n",
      "24                      Côte d'Ivoire    WCA  2016                 81.8\n",
      "25   Democratic Republic of the Congo    WCA  2014                 82.3\n",
      "3                              Angola    ESA  2016                 82.4\n",
      "59                           Mongolia    EAP  2013                 83.1\n",
      "6                          Bangladesh     SA  2015                 84.3\n",
      "55                             Malawi    ESA  2016                 84.6\n",
      "86                           Thailand    EAP  2016                 84.7\n",
      "8                              Belize    LAC  2016                 84.9\n",
      "85                         Tajikistan   EECA  2012                 85.0\n",
      "90                             Turkey   EECA  2008                 85.3\n",
      "32                           Ethiopia    ESA  2016                 85.6\n",
      "19           Central African Republic    WCA  2012                 86.6\n",
      "10   Bolivia (Plurinational State of)    LAC  2016                 88.0\n",
      "45                             Jordan   MENA  2000                 88.3\n",
      "78                    Solomon Islands    EAP  2015                 88.4\n",
      "99                             Zambia    ESA  2014                 88.4\n",
      "9                               Benin    WCA  2014                 89.0\n",
      "15                            Burundi    ESA  2017                 89.4\n",
      "33                              Gabon    WCA  2012                 89.5\n",
      "57                               Mali    WCA  2015                 90.3\n",
      "75              Sao Tome and Principe    WCA  2014                 90.8\n",
      "22                            Comoros    ESA  2012                 91.0\n",
      "23                              Congo    WCA  2015                 91.1\n",
      "37                          Guatemala    LAC  2009                 91.5\n",
      "92                             Uganda    ESA  2011                 91.5\n",
      "49   Lao People's Democratic Republic    EAP  2012                 91.5\n",
      "13                           Bulgaria   EECA  2012                 91.9\n",
      "43                          Indonesia    EAP  2013                 91.9\n",
      "11                           Botswana    ESA  2008                 91.9\n",
      "18                           Cameroon    WCA  2014                 92.0\n",
      "14                       Burkina Faso    WCA  2010                 92.1\n",
      "51                            Lesotho    ESA  2014                 92.4\n",
      "42                              India     SA  2016                 92.7\n",
      "31                           Eswatini    ESA  2014                 93.2\n",
      "100                          Zimbabwe    ESA  2015                 93.3\n",
      "68                           Paraguay    LAC  2011                 93.4\n",
      "52                            Liberia    WCA  2013                 94.1\n",
      "5                          Azerbaijan   EECA  2013                 94.3\n",
      "66                            Nigeria    WCA  2011                 94.5\n",
      "87                        Timor-Leste    EAP  2013                 94.9\n",
      "81                          Sri Lanka     SA  2016                 95.2\n",
      "50                            Lebanon   MENA  2004                 95.3\n",
      "46                         Kazakhstan   EECA  2015                 95.5\n",
      "47                              Kenya    ESA  2014                 95.6\n",
      "74                              Samoa    EAP  2014                 96.4\n",
      "28                              Egypt   MENA  2015                 96.5\n",
      "82                 State of Palestine   MENA  2014                 96.8\n",
      "21                              China    EAP  2014                 96.8\n",
      "69                               Peru    LAC  2016                 97.0\n",
      "1                             Albania   EECA  2009                 97.1\n",
      "16                         Cabo Verde    WCA  2008                 97.2\n",
      "64                              Nepal     SA  2017                 97.3\n",
      "72                             Rwanda    ESA  2015                 98.0\n",
      "12                             Brazil    LAC  2007                 98.4\n",
      "48                         Kyrgyzstan   EECA  2014                 99.2\n",
      "4                             Armenia   EECA  2016                 99.4\n",
      "91                       Turkmenistan   EECA  2016                 99.7\n",
      "35                            Georgia   EECA  2009                 99.9\n"
     ]
    }
   ],
   "source": [
    "#Need correct syntax to add head()\n",
    "print(pd.DataFrame(salt_recent.sort_values('Natl_Point_Estimate', ascending=True), columns=('Country', 'Region', 'Year', 'Natl_Point_Estimate')))"
   ]
  },
  {
   "cell_type": "code",
   "execution_count": 21,
   "metadata": {
    "scrolled": true
   },
   "outputs": [
    {
     "name": "stdout",
     "output_type": "stream",
     "text": [
      "  Region  Natl_Point_Estimate\n",
      "3    LAC            67.758333\n",
      "4   MENA            74.890000\n",
      "2    ESA            74.990909\n",
      "0    EAP            76.028571\n",
      "6    WCA            77.866667\n",
      "5     SA            82.533333\n",
      "1   EECA            87.961538\n"
     ]
    }
   ],
   "source": [
    "\n",
    "salt_region = salt_recent.groupby(salt_recent['Region']).mean().reset_index()\n",
    "print(pd.DataFrame(salt_region.sort_values('Natl_Point_Estimate', ascending=True), columns=('Region', 'Natl_Point_Estimate')))"
   ]
  },
  {
   "cell_type": "markdown",
   "metadata": {},
   "source": [
    "### Further experimentation and analysis"
   ]
  },
  {
   "cell_type": "markdown",
   "metadata": {},
   "source": [
    "#### Experimental hypothesis \n",
    "Median iodine level is inadequate in children age 6 to 12 in ... in West Africa, where access to iodized salt is lowest globally.\n",
    "\n",
    "#### Rollout plan\n",
    "Obtain current data including measures of population iodine and households consuming adequately iodized salt from the same populations. The current data on access to iodized salt and population iodine level is not consistent by year.\n",
    "\n",
    "Collect information about how many children and how many adults are in each household that is part of the sample. Identify the number of children ages 6 to 12 in the household.\n",
    "\n",
    "Measure the amount of iodine in the salt that is in use in the household using a quick test to obtain a consistent measure. In the current dataset, some countries consider iodized salt as having any iodine, as opposed to the accepted level of 15 - 40 mg ppm.\n",
    "\n",
    "Using the methods defined by WHO, collect current sample data for ... \n",
    "\n",
    "#### Evaluation plan\n"
   ]
  },
  {
   "cell_type": "code",
   "execution_count": null,
   "metadata": {},
   "outputs": [],
   "source": []
  }
 ],
 "metadata": {
  "kernelspec": {
   "display_name": "Python 3",
   "language": "python",
   "name": "python3"
  },
  "language_info": {
   "codemirror_mode": {
    "name": "ipython",
    "version": 3
   },
   "file_extension": ".py",
   "mimetype": "text/x-python",
   "name": "python",
   "nbconvert_exporter": "python",
   "pygments_lexer": "ipython3",
   "version": "3.6.5"
  }
 },
 "nbformat": 4,
 "nbformat_minor": 2
}
