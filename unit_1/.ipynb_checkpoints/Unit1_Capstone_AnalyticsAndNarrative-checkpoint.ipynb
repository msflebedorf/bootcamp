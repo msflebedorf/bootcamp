{
 "cells": [
  {
   "cell_type": "markdown",
   "metadata": {},
   "source": [
    "## Unit 1 Capstone Analytics and Narrative\n",
    "### Prepared by Robin Fladebo, October 2018"
   ]
  },
  {
   "cell_type": "markdown",
   "metadata": {},
   "source": [
    "### Introduction"
   ]
  },
  {
   "cell_type": "markdown",
   "metadata": {},
   "source": [
    "In reading a report published in July 2018 by UNICEF, I learned that iodine deficiency can lead to health and developmental problems (called Iodine Deficiency Disorders, or IDDs). Iodine deficiency is especially problematic during pregnancy and early childhood, and is a major cause of preventable mental retardation and diminished cognitive ability.\n",
    "\n",
    "UNICEF compiled data about access to and consumption of iodized salt from people in many countries around the globe. The data came from two global surveys: the Multiple Indicator Cluster Survey (MICS) conducted by UNICEF, and the Demographic and Health Survey (DHS), funded by US AID.\n",
    "\n",
    "To date, most efforts to ensure that adequate iodine is consumed have centered around providing iodized salt.\n",
    "This dataset reports the proportion of households consuming salt with any iodine, regardless of the level of iodine in the salt. An adequate level of iodine in salt would be high enough, but not too high, to meet the needs of the population. The UNICEF data is only a part of the picture of iodine deficiency disorders.\n",
    "\n",
    "The ultimate study goal, according to World Health Organization (WHO) guidelines, is to determine population iodine status in addition to data about access to iodized salt. Population iodine status can be measured using urinary iodine, with the prevalence of goiters being a secondary measure. Using population iodine status data and data about access to iodized salt -- particularly about vulnerable populations -- countries can design and manage a program to ensure that an adequate level of iodine is present in the salt that is available locally.\n",
    "\n",
    "The most recent WHO data about median urinary iodine is from 2003. The UNICEF data on access to iodized salt includes years ranging from 1994 to 2017. The two datasets do not match each other in timeframe or in the definition of sub-groups that are surveyed."
   ]
  },
  {
   "cell_type": "markdown",
   "metadata": {},
   "source": [
    "### Dataset exploration"
   ]
  },
  {
   "cell_type": "markdown",
   "metadata": {},
   "source": [
    "Dataset found at: https://data.unicef.org/topic/nutrition/iodine-deficiency/. Accessed on October 6, 2018"
   ]
  },
  {
   "cell_type": "code",
   "execution_count": 1,
   "metadata": {},
   "outputs": [],
   "source": [
    "import warnings\n",
    "import chardet\n",
    "import csv\n",
    "import pandas as pd\n",
    "pd.set_option('display.max_rows', 1000)\n",
    "import numpy as np\n",
    "import matplotlib.pyplot as plt\n",
    "%matplotlib inline\n",
    "import seaborn as sns\n",
    "plt.rcParams['figure.figsize'] = (20.0, 10.0)\n",
    "with warnings.catch_warnings():\n",
    "    warnings.filterwarnings(\"ignore\",category=DeprecationWarning)"
   ]
  },
  {
   "cell_type": "code",
   "execution_count": 2,
   "metadata": {},
   "outputs": [],
   "source": [
    "def find_encoding(fname):\n",
    "    r_file = open(fname, 'rb').read()\n",
    "    result = chardet.detect(r_file)\n",
    "    charenc = result['encoding']\n",
    "    return charenc"
   ]
  },
  {
   "cell_type": "code",
   "execution_count": 3,
   "metadata": {},
   "outputs": [
    {
     "name": "stdout",
     "output_type": "stream",
     "text": [
      "UTF-8-SIG\n"
     ]
    }
   ],
   "source": [
    "thisfile_encoding = find_encoding('UNICEF_salt.csv')\n",
    "print(thisfile_encoding)"
   ]
  },
  {
   "cell_type": "code",
   "execution_count": 4,
   "metadata": {
    "scrolled": true
   },
   "outputs": [],
   "source": [
    "unicef_salt = pd.read_csv('UNICEF_salt.csv', encoding = 'UTF-8')"
   ]
  },
  {
   "cell_type": "code",
   "execution_count": 5,
   "metadata": {},
   "outputs": [],
   "source": [
    "unicef_salt.rename(columns=lambda x: x.replace(' ', '_'), inplace=True)"
   ]
  },
  {
   "cell_type": "code",
   "execution_count": 6,
   "metadata": {},
   "outputs": [],
   "source": [
    "unicef_salt['Year'] = pd.to_numeric(unicef_salt['Year'], errors='coerce')"
   ]
  },
  {
   "cell_type": "code",
   "execution_count": 7,
   "metadata": {},
   "outputs": [],
   "source": [
    "unicef_salt['Natl_Point_Estimate'] = pd.to_numeric(unicef_salt['Natl_Point_Estimate'], errors='coerce')"
   ]
  },
  {
   "cell_type": "code",
   "execution_count": 8,
   "metadata": {},
   "outputs": [],
   "source": [
    "unicef_salt['Urban_Point_Estimate'] = pd.to_numeric(unicef_salt['Urban_Point_Estimate'], errors='coerce')"
   ]
  },
  {
   "cell_type": "code",
   "execution_count": 9,
   "metadata": {},
   "outputs": [],
   "source": [
    "unicef_salt['Rural_Point_Estimate'] = pd.to_numeric(unicef_salt['Rural_Point_Estimate'], errors='coerce')"
   ]
  },
  {
   "cell_type": "markdown",
   "metadata": {},
   "source": [
    "#### The original dataset contains data from multiple years, ranging from 1994 to 2017"
   ]
  },
  {
   "cell_type": "code",
   "execution_count": 10,
   "metadata": {
    "scrolled": true
   },
   "outputs": [
    {
     "data": {
      "text/plain": [
       "Year\n",
       "1994    1994\n",
       "1995    1995\n",
       "1996    1996\n",
       "1997    1997\n",
       "1998    1998\n",
       "1999    1999\n",
       "2000    2000\n",
       "2001    2001\n",
       "2002    2002\n",
       "2003    2003\n",
       "2004    2004\n",
       "2005    2005\n",
       "2006    2006\n",
       "2007    2007\n",
       "2008    2008\n",
       "2009    2009\n",
       "2010    2010\n",
       "2011    2011\n",
       "2012    2012\n",
       "2013    2013\n",
       "2014    2014\n",
       "2015    2015\n",
       "2016    2016\n",
       "2017    2017\n",
       "Name: Year, dtype: int64"
      ]
     },
     "execution_count": 10,
     "metadata": {},
     "output_type": "execute_result"
    }
   ],
   "source": [
    "unicef_salt['Year'].groupby(unicef_salt['Year']).min()"
   ]
  },
  {
   "cell_type": "markdown",
   "metadata": {},
   "source": [
    "#### The 20 countries with the lowest proportion of households with access to iodized salt."
   ]
  },
  {
   "cell_type": "code",
   "execution_count": 11,
   "metadata": {
    "scrolled": false
   },
   "outputs": [
    {
     "name": "stdout",
     "output_type": "stream",
     "text": [
      "                      Country Region  Year  Natl_Point_Estimate\n",
      "166                Mauritania    WCA  2001                  2.0\n",
      "115             Guinea-Bissau    WCA  2006                  3.8\n",
      "77                   Djibouti    ESA  2006                  4.4\n",
      "167                Mauritania    WCA  2007                  5.2\n",
      "234                   Somalia    ESA  2009                  6.9\n",
      "114             Guinea-Bissau    WCA  2000                  7.0\n",
      "233                   Somalia    ESA  2006                  7.6\n",
      "121                     Haiti    LAC  2006                 10.1\n",
      "110                    Guinea    WCA  1999                 12.5\n",
      "42                   Cambodia    EAP  2000                 13.8\n",
      "257       Trinidad and Tobago    LAC  2000                 13.8\n",
      "93                   Ethiopia    ESA  2011                 14.6\n",
      "242                     Sudan    ESA  2010                 14.6\n",
      "95                      Gabon    WCA  2001                 15.3\n",
      "122                     Haiti    LAC  2012                 15.9\n",
      "98                     Gambia    WCA  2006                 17.0\n",
      "118                    Guyana    LAC  2009                 19.7\n",
      "52   Central African Republic    WCA  1995                 22.7\n",
      "205               Philippines    EAP  1999                 22.9\n",
      "120                     Haiti    LAC  2000                 23.1\n"
     ]
    }
   ],
   "source": [
    "salt_low20 = unicef_salt[['Country', 'Region', 'Year', 'Natl_Point_Estimate']].sort_values('Natl_Point_Estimate', ascending=True).head(20)\n",
    "print(salt_low20)"
   ]
  },
  {
   "cell_type": "code",
   "execution_count": 12,
   "metadata": {},
   "outputs": [],
   "source": [
    "#Create dataframe containing one row for the most recent year for each country; restrict the number of columns\n",
    "salt_subset = unicef_salt[['Country', 'Region', 'Year', 'Natl_Point_Estimate', 'Urban_Point_Estimate', 'Rural_Point_Estimate', 'MaleHH_Point_Estimate', 'Female_HH_Point_Estimate']].sort_values('Year', ascending=True).groupby(['Region','Country']).tail(1)"
   ]
  },
  {
   "cell_type": "code",
   "execution_count": 13,
   "metadata": {
    "scrolled": false
   },
   "outputs": [],
   "source": [
    "#Prepare data frames for use in visualizations\n",
    "salt_region = salt_subset[['Region', 'Rural_Point_Estimate']].groupby(salt_subset['Region']).mean().reset_index()"
   ]
  },
  {
   "cell_type": "code",
   "execution_count": 14,
   "metadata": {},
   "outputs": [],
   "source": [
    "salt_region['R_or_U'] = 'Rural'"
   ]
  },
  {
   "cell_type": "code",
   "execution_count": 15,
   "metadata": {
    "scrolled": true
   },
   "outputs": [],
   "source": [
    "salt_region = salt_region.rename(columns={'Rural_Point_Estimate':'Point_Estimate'})"
   ]
  },
  {
   "cell_type": "code",
   "execution_count": 16,
   "metadata": {},
   "outputs": [],
   "source": [
    "salt_region2 = salt_subset[['Region', 'Urban_Point_Estimate']].groupby(salt_subset['Region']).mean().reset_index()"
   ]
  },
  {
   "cell_type": "code",
   "execution_count": 17,
   "metadata": {},
   "outputs": [],
   "source": [
    "salt_region2['R_or_U'] = 'Urban'"
   ]
  },
  {
   "cell_type": "code",
   "execution_count": 18,
   "metadata": {},
   "outputs": [],
   "source": [
    "salt_region2 = salt_region2.rename(columns={'Urban_Point_Estimate':'Point_Estimate'})"
   ]
  },
  {
   "cell_type": "code",
   "execution_count": 19,
   "metadata": {
    "scrolled": true
   },
   "outputs": [],
   "source": [
    "salt_region = pd.concat([salt_region, salt_region2],axis=0)"
   ]
  },
  {
   "cell_type": "code",
   "execution_count": 20,
   "metadata": {},
   "outputs": [],
   "source": [
    "salt_rgnhh = salt_subset[['Region', 'MaleHH_Point_Estimate']].groupby(salt_subset['Region']).mean().reset_index()"
   ]
  },
  {
   "cell_type": "code",
   "execution_count": 21,
   "metadata": {},
   "outputs": [],
   "source": [
    "salt_rgnhh['M_or_F'] = 'Male'"
   ]
  },
  {
   "cell_type": "code",
   "execution_count": 22,
   "metadata": {},
   "outputs": [],
   "source": [
    "salt_rgnhh = salt_rgnhh.rename(columns={'MaleHH_Point_Estimate':'Point_Estimate'})"
   ]
  },
  {
   "cell_type": "code",
   "execution_count": 23,
   "metadata": {},
   "outputs": [],
   "source": [
    "salt_rgnhh2 = salt_subset[['Region', 'Female_HH_Point_Estimate']].groupby(salt_subset['Region']).mean().reset_index()"
   ]
  },
  {
   "cell_type": "code",
   "execution_count": 24,
   "metadata": {},
   "outputs": [],
   "source": [
    "salt_rgnhh2['M_or_F'] = 'Female'"
   ]
  },
  {
   "cell_type": "code",
   "execution_count": 25,
   "metadata": {},
   "outputs": [],
   "source": [
    "salt_rgnhh2 = salt_rgnhh2.rename(columns={'Female_HH_Point_Estimate':'Point_Estimate'})"
   ]
  },
  {
   "cell_type": "code",
   "execution_count": 26,
   "metadata": {},
   "outputs": [],
   "source": [
    "salt_rgnhh = pd.concat([salt_rgnhh, salt_rgnhh2],axis=0)"
   ]
  },
  {
   "cell_type": "markdown",
   "metadata": {},
   "source": [
    "#### Variability in access to iodized salt in countries in selected regions of the world\n",
    "\n",
    "Regions: WCA (West & Central Africa), LAC (Latin America & Caribbean), MENA (Middle East & North Africa), ESA (Eastern & Southern Africa), EECA (Eastern Europe & Central Asia), EAP(East Asia & Pacific), SA (South Asia)"
   ]
  },
  {
   "cell_type": "code",
   "execution_count": 38,
   "metadata": {
    "scrolled": false
   },
   "outputs": [
    {
     "data": {
      "image/png": "[encoded data removed]",
      "text/plain": [
       "<Figure size 432x288 with 1 Axes>"
      ]
     },
     "metadata": {},
     "output_type": "display_data"
    }
   ],
   "source": [
    "sns.boxplot(x=\"Region\", y=\"Natl_Point_Estimate\", data=salt_subset)\n",
    "plt.xlabel('Region')\n",
    "plt.ylabel('Proportion of households with access to iodized salt')\n",
    "plt.title('Proportion of households with access to iodized salt')\n",
    "plt.xticks(rotation=90);"
   ]
  },
  {
   "cell_type": "markdown",
   "metadata": {},
   "source": [
    "#### Generally, a higher proportion of urban households have access to iodized salt than rural households"
   ]
  },
  {
   "cell_type": "code",
   "execution_count": 36,
   "metadata": {
    "scrolled": true
   },
   "outputs": [
    {
     "data": {
      "image/png": "[encoded data removed]",
      "text/plain": [
       "<Figure size 432x288 with 1 Axes>"
      ]
     },
     "metadata": {},
     "output_type": "display_data"
    }
   ],
   "source": [
    "sns.pointplot(x=\"Region\", y=\"Point_Estimate\", hue=\"R_or_U\", data=salt_region)\n",
    "plt.xlabel('Region')\n",
    "plt.ylabel('Proportion of HHs with access to iodized salt')\n",
    "plt.title('Proportion of urban, rural HHs w/ access to iodized salt');"
   ]
  },
  {
   "cell_type": "markdown",
   "metadata": {},
   "source": [
    "#### In most regions, there is not a large difference in access to iodized salt between households with a male head of household or female head of household."
   ]
  },
  {
   "cell_type": "code",
   "execution_count": 33,
   "metadata": {},
   "outputs": [
    {
     "data": {
      "image/png": "[encoded data removed]",
      "text/plain": [
       "<Figure size 432x288 with 1 Axes>"
      ]
     },
     "metadata": {},
     "output_type": "display_data"
    }
   ],
   "source": [
    "sns.pointplot(x=\"Region\", y=\"Point_Estimate\", hue=\"M_or_F\", data=salt_rgnhh)\n",
    "plt.xlabel('Region')\n",
    "plt.ylabel('Proportion of HHs with access to iodized salt')\n",
    "plt.title('Proportion HHs w/ iodized salt based on gender of head of HH');"
   ]
  },
  {
   "cell_type": "markdown",
   "metadata": {},
   "source": [
    "### Further experimentation and analysis"
   ]
  },
  {
   "cell_type": "markdown",
   "metadata": {},
   "source": [
    "#### Experimental hypothesis \n",
    "More urban households have access to iodized salt than rural households in Haiti.\n",
    "\n",
    "\n",
    "#### Rollout plan\n",
    "For this study, we will obtain current data about the access to iodized salt in rural and in urban households in Haiti. The method of determining the presence of iodine in the salt used in a household is to use a rapid test kit. Any level of iodine in salt qualifies as iodized salt. We will use the same questions and format as was used in the DHS survey that form the basis of dataset explored here.\n",
    "\n",
    "The following additional information about households in the sample will be collected, and used to determine that the two groups (urban and rural households) have similar characteristics: \n",
    "1) Number of people in household; \n",
    "2) number of children (age 12 and under) in the household;  \n",
    "3) Wealth quantile in which the household income falls; \n",
    "4) head of household is male or female.\n",
    "These data points are consistent with those collected in the two surveys that are the basis of the UNICEF dataset explored here.\n",
    "\n",
    "Sample size will be determined using the sample sizes used for the original DHS surveys in Haiti as a guide. Sample size will be adjusted for population change since the last survey was taken, if necessary.\n",
    "\n",
    "#### Evaluation plan\n",
    "The metric collected is the number of households in rural areas with access to iodized salt; and the number of households in urban areas having access to iodized salt. Four secondary data points are described in the preceding paragraph.\n",
    "\n",
    "To evaluate whether there is a significant difference between the urban and rural groups we will compute a p-value. A p-value of .05 will cause us to reject the null hypothesis, meaning that we reject the idea that whether a household is in an urban or rural has no effect on access to iodized salt."
   ]
  },
  {
   "cell_type": "code",
   "execution_count": null,
   "metadata": {},
   "outputs": [],
   "source": []
  }
 ],
 "metadata": {
  "kernelspec": {
   "display_name": "Python 3",
   "language": "python",
   "name": "python3"
  },
  "language_info": {
   "codemirror_mode": {
    "name": "ipython",
    "version": 3
   },
   "file_extension": ".py",
   "mimetype": "text/x-python",
   "name": "python",
   "nbconvert_exporter": "python",
   "pygments_lexer": "ipython3",
   "version": "3.6.5"
  }
 },
 "nbformat": 4,
 "nbformat_minor": 2
}
