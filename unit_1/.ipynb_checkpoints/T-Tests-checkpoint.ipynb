{
 "cells": [
  {
   "cell_type": "code",
   "execution_count": 1,
   "metadata": {},
   "outputs": [],
   "source": [
    "import numpy as np\n",
    "import pandas as pd\n",
    "import matplotlib.pyplot as plt\n",
    "import seaborn as sns\n",
    "import scipy.stats as stats\n",
    "\n",
    "#Keeping the random data the same over multiple runs of the code.\n",
    "np.random.seed(42)\n",
    "\n",
    "#Storing our randomly generated data and labels.\n",
    "data = []\n",
    "groups = []\n",
    "labels_var = []\n",
    "labels_size = []\n",
    "\n",
    "#The values we use for the standard deviations and the sample sizes.\n",
    "variability = [5, 20, 50]\n",
    "sizes = [10, 100, 10000]\n",
    "\n",
    "#Generating data for each group for each combination of variability and sample size.\n",
    "#Extend appends the contents of a list (rather than a single item, which append does)\n",
    "for var in variability:\n",
    "    for size in sizes:\n",
    "        data.extend(np.random.normal(20,var,size))\n",
    "        data.extend(np.random.normal(35,var,size))\n",
    "        labels_var.extend([var]*size*2)\n",
    "        labels_size.extend([size]*size*2)\n",
    "        groups.extend(['group1']*size)\n",
    "        groups.extend(['group2']*size)"
   ]
  },
  {
   "cell_type": "code",
   "execution_count": 2,
   "metadata": {},
   "outputs": [
    {
     "name": "stdout",
     "output_type": "stream",
     "text": [
      "        data  groups  variability  size\n",
      "0  22.483571  group1            5    10\n",
      "1  19.308678  group1            5    10\n",
      "2  23.238443  group1            5    10\n",
      "3  27.615149  group1            5    10\n",
      "4  18.829233  group1            5    10\n",
      "            data  groups  variability   size\n",
      "60655  21.543283  group2           50  10000\n",
      "60656 -22.251146  group2           50  10000\n",
      "60657  78.923211  group2           50  10000\n",
      "60658  34.827867  group2           50  10000\n",
      "60659   4.355907  group2           50  10000\n"
     ]
    }
   ],
   "source": [
    "#Putting the data together in a data frame and checking it.\n",
    "\n",
    "data = pd.DataFrame({'data': data, \n",
    "                     'groups' : groups,\n",
    "                    'variability':labels_var,\n",
    "                    'size':labels_size})\n",
    "\n",
    "print(data.head())\n",
    "print(data.tail())\n"
   ]
  },
  {
   "cell_type": "markdown",
   "metadata": {},
   "source": [
    "What does set_index do? What does xs do? What does stats.ttest_ind do? What does tval,pval= put results?\n",
    "\n",
    "xs ==> Cross section. Only for getting (not setting values). Args: Key, axis (0 assumed), level  axis 0 = rows, axis 1 = columns. Level refers to keys used if a multilevel index\n",
    "\n",
    "ttest_ind ==> From scipy.stats Returns t-statistic and p-value given two arrays (a, b). Equal_var=True says to perfrom a standard independent 2-sample test"
   ]
  },
  {
   "cell_type": "code",
   "execution_count": 3,
   "metadata": {},
   "outputs": [
    {
     "name": "stdout",
     "output_type": "stream",
     "text": [
      "                              data\n",
      "groups size variability           \n",
      "group1 10   5            22.483571\n",
      "            5            19.308678\n",
      "            5            23.238443\n",
      "            5            27.615149\n",
      "            5            18.829233\n"
     ]
    }
   ],
   "source": [
    "# Setting the three non-data columns to work as multi-indices. \n",
    "# This makes it much easier to get subsections of stacked data.\n",
    "data_test = data.set_index(['groups','size','variability'])\n",
    "\n",
    "print(data_test.head())\n",
    "\n",
    "# Storing our t-values and p-values (we'll get to p-values in a sec).\n",
    "tvalues=[]\n",
    "pvalues=[]\n",
    "\n",
    "#For each combination of sample size and variability, compare the two groups using a t-test\n",
    "for size in sizes:\n",
    "    for var in variability:\n",
    "        a = data_test['data'].xs(('group1',size,var),level=('groups','size','variability'))\n",
    "        b = data_test['data'].xs(('group2',size,var),level=('groups','size','variability'))\n",
    "        tval,pval=stats.ttest_ind(b, a,equal_var=True)\n",
    "        tvalues.append(tval)\n",
    "        pvalues.append(pval)"
   ]
  },
  {
   "cell_type": "markdown",
   "metadata": {},
   "source": [
    "\n",
    "\n",
    "    1. y1¯=5, y2¯=8, s1=1, s2=3, N1=200, N2=500\n",
    "    2. y1¯=1090, y2¯=999, s1=400, s2=30, N1=900, N2=100\n",
    "    3. y1¯=45, y2¯=40, s1=45, s2=40, N1=2000, N2=2000\n",
    "\n",
    "Answers:\n",
    "    1 = -19.7814\n",
    "    2 = 6.6585\n",
    "    3 = 3.7139 "
   ]
  },
  {
   "cell_type": "markdown",
   "metadata": {},
   "source": [
    "1. 5 - 8 / (sqrt(1/200 + 9/500)) = -19.78"
   ]
  },
  {
   "cell_type": "code",
   "execution_count": null,
   "metadata": {},
   "outputs": [],
   "source": [
    "2. 1090 - 999 / (sqrt(400^2/900 + 30^2/100)) = 91/13.6667 = 6.6585"
   ]
  },
  {
   "cell_type": "code",
   "execution_count": 6,
   "metadata": {},
   "outputs": [
    {
     "name": "stdout",
     "output_type": "stream",
     "text": [
      "-19.923227475186202\n"
     ]
    }
   ],
   "source": [
    "datas1_1=[]\n",
    "datas1_2=[]\n",
    "\n",
    "datas1_1=np.random.normal(5,1,200)\n",
    "datas1_2=np.random.normal(8,3,500)\n",
    "\n",
    "tvals1,pvals1=stats.ttest_ind(datas1_1, datas1_2, equal_var=False)\n",
    "\n",
    "print(tvals1)"
   ]
  },
  {
   "cell_type": "code",
   "execution_count": 7,
   "metadata": {},
   "outputs": [
    {
     "name": "stdout",
     "output_type": "stream",
     "text": [
      "6.845018927703528\n"
     ]
    }
   ],
   "source": [
    "datas2_1=[]\n",
    "datas2_2=[]\n",
    "\n",
    "datas2_1=np.random.normal(1090,400,900)\n",
    "datas2_2=np.random.normal(999,30,100)\n",
    "\n",
    "tvals2,pvals2=stats.ttest_ind(datas2_1, datas2_2, equal_var=False)\n",
    "\n",
    "print(tvals2)"
   ]
  },
  {
   "cell_type": "code",
   "execution_count": 13,
   "metadata": {},
   "outputs": [
    {
     "name": "stdout",
     "output_type": "stream",
     "text": [
      "4.022283395246554\n"
     ]
    }
   ],
   "source": [
    "datas3_1=[]\n",
    "datas3_2=[]\n",
    "\n",
    "datas3_1=np.random.normal(45,45,2000)\n",
    "datas3_2=np.random.normal(40,40,2000)\n",
    "\n",
    "tvals3,pvals3=stats.ttest_ind(datas3_1, datas3_2)\n",
    "\n",
    "print(tvals3)"
   ]
  }
 ],
 "metadata": {
  "kernelspec": {
   "display_name": "Python 3",
   "language": "python",
   "name": "python3"
  },
  "language_info": {
   "codemirror_mode": {
    "name": "ipython",
    "version": 3
   },
   "file_extension": ".py",
   "mimetype": "text/x-python",
   "name": "python",
   "nbconvert_exporter": "python",
   "pygments_lexer": "ipython3",
   "version": "3.6.5"
  }
 },
 "nbformat": 4,
 "nbformat_minor": 2
}
