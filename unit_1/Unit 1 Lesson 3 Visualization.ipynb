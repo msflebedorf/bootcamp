{
 "cells": [
  {
   "cell_type": "markdown",
   "metadata": {},
   "source": [
    "Visual analysis of zebra mussels at boat ramps in the Columbia River Basin"
   ]
  },
  {
   "cell_type": "code",
   "execution_count": 10,
   "metadata": {},
   "outputs": [],
   "source": [
    "import pandas as pd\n",
    "pd.set_option('display.max_rows', 1000)\n",
    "import matplotlib.pyplot as plt\n",
    "import seaborn as sns\n",
    "%matplotlib inline"
   ]
  },
  {
   "cell_type": "code",
   "execution_count": 6,
   "metadata": {},
   "outputs": [],
   "source": [
    "zmusselstmp = pd.read_csv('../Datafiles/Boatramps_CRB.csv', encoding = 'latin-1')     "
   ]
  },
  {
   "cell_type": "code",
   "execution_count": 7,
   "metadata": {},
   "outputs": [
    {
     "data": {
      "text/plain": [
       "(1603, 64)"
      ]
     },
     "execution_count": 7,
     "metadata": {},
     "output_type": "execute_result"
    }
   ],
   "source": [
    "zmusselstmp.shape"
   ]
  },
  {
   "cell_type": "code",
   "execution_count": 9,
   "metadata": {},
   "outputs": [
    {
     "data": {
      "text/plain": [
       "['Water_Name',\n",
       " 'Water_Body',\n",
       " 'County',\n",
       " 'Countycode',\n",
       " 'ST_Provinc',\n",
       " 'Location',\n",
       " 'ID',\n",
       " 'lat',\n",
       " 'lon',\n",
       " 'CRB',\n",
       " 'Lat_ra',\n",
       " 'Long_ra',\n",
       " 'mean_ca_mg_2009',\n",
       " 'mean_pH_2009',\n",
       " 'roe_2009',\n",
       " 'roe_f_2009',\n",
       " 'ramcharan09',\n",
       " 'state_ass09',\n",
       " 'roi_1_2009',\n",
       " 'roi_2_2009',\n",
       " 'Roe_rank_2009',\n",
       " 'roi_3_2009',\n",
       " 'Roi_rank_2009',\n",
       " 'Rank_sumAll_2009',\n",
       " 'Rank_sum_2009',\n",
       " 'Trips2008',\n",
       " 'Trips2010',\n",
       " 'Mn_trips_08_10',\n",
       " 'DayUsedays08',\n",
       " 'DayUsedays10',\n",
       " 'Mn_dayuse_08_10',\n",
       " 'Size_Acres',\n",
       " 'No_boats_2012',\n",
       " 'No_Tourns_2012',\n",
       " 'No_Tourns_2006_08',\n",
       " 'No_boats_2006_08',\n",
       " 'Dayuse_100thm',\n",
       " 'No_ramps',\n",
       " 'CaMax_ISDA2011',\n",
       " 'ISDA2011_Rank',\n",
       " 'Elevation_ft',\n",
       " 'Motors',\n",
       " 'Fishing',\n",
       " 'Marinas',\n",
       " 'Cold',\n",
       " 'Warm',\n",
       " 'Reports',\n",
       " 'USERS',\n",
       " 'MT_Stream_Name',\n",
       " 'Length_Miles',\n",
       " 'Drainage',\n",
       " 'Region',\n",
       " 'Boat',\n",
       " 'Total_Pressure',\n",
       " 'TotPressure_Error',\n",
       " 'Total_Trips',\n",
       " 'Resident_Pressure',\n",
       " 'Res_Pressure_error',\n",
       " 'Res_Trips',\n",
       " 'Nonresident_Pressure',\n",
       " 'Nonres_Presssure_Error',\n",
       " 'NonRes_Trips',\n",
       " 'State_Rank',\n",
       " 'Regional_Rank']"
      ]
     },
     "execution_count": 9,
     "metadata": {},
     "output_type": "execute_result"
    }
   ],
   "source": [
    "list(zmusselstmp.columns.values)"
   ]
  },
  {
   "cell_type": "code",
   "execution_count": null,
   "metadata": {},
   "outputs": [],
   "source": [
    "zmussels = pd.read_csv('../Datafiles/globalpowerplantdatabasev110/global_power_plant_database.csv', usecols = ['country', 'country_long', 'name', 'gppd_idnr', 'capacity_mw', 'fuel1', 'fuel2', 'fuel3', 'fuel4', 'year_of_capacity_data', 'estimated_generation_gwh'])                    "
   ]
  }
 ],
 "metadata": {
  "kernelspec": {
   "display_name": "Python 3",
   "language": "python",
   "name": "python3"
  },
  "language_info": {
   "codemirror_mode": {
    "name": "ipython",
    "version": 3
   },
   "file_extension": ".py",
   "mimetype": "text/x-python",
   "name": "python",
   "nbconvert_exporter": "python",
   "pygments_lexer": "ipython3",
   "version": "3.6.5"
  }
 },
 "nbformat": 4,
 "nbformat_minor": 2
}
