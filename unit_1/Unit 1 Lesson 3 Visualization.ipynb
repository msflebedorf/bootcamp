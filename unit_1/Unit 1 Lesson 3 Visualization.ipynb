{
 "cells": [
  {
   "cell_type": "markdown",
   "metadata": {},
   "source": [
    "### Visual analysis of likelihood of zebra mussel introduction at boat ramps in the Columbia River Basin\n",
    "#### Prepared by Robin Fladebo"
   ]
  },
  {
   "cell_type": "code",
   "execution_count": 1,
   "metadata": {},
   "outputs": [],
   "source": [
    "import warnings\n",
    "import pandas as pd\n",
    "pd.set_option('display.max_rows', 1000)\n",
    "import matplotlib.pyplot as plt\n",
    "%matplotlib inline\n",
    "plt.rcParams['figure.figsize'] = (20.0, 10.0)\n",
    "with warnings.catch_warnings():\n",
    "    warnings.filterwarnings(\"ignore\",category=DeprecationWarning)\n",
    "    import seaborn as sns"
   ]
  },
  {
   "cell_type": "markdown",
   "metadata": {},
   "source": [
    "Dataset found at: https://www.sciencebase.gov/catalog/item/560db5dae4b0063c9e1bcfde. Accessed on Sept 15, 2018.\n",
    "\n",
    "Background:  Wells, Steve W.; Counihan, Timothy D.; Puls, Amy; Sytsma, Mark; and Adair, Brian, \"Prioritizing Zebra and Quagga Mussel Monitoring in the Columbia River Basin\" (2011). Center for Lakes and Reservoirs Publications and Presentations.Paper 10. Accessed on Sept 15 2018 at: http://pdxscholar.library.pdx.edu/centerforlakes_pub/10"
   ]
  },
  {
   "cell_type": "markdown",
   "metadata": {},
   "source": [
    "### Data Preparation and Cleanup"
   ]
  },
  {
   "cell_type": "code",
   "execution_count": 2,
   "metadata": {},
   "outputs": [],
   "source": [
    "zmusselstmp = pd.read_csv('../Datafiles/mussels/Boatramps_CRB.csv', encoding = 'latin-1')     "
   ]
  },
  {
   "cell_type": "code",
   "execution_count": 3,
   "metadata": {},
   "outputs": [
    {
     "data": {
      "text/plain": [
       "(1603, 64)"
      ]
     },
     "execution_count": 3,
     "metadata": {},
     "output_type": "execute_result"
    }
   ],
   "source": [
    "zmusselstmp.shape"
   ]
  },
  {
   "cell_type": "code",
   "execution_count": 4,
   "metadata": {},
   "outputs": [
    {
     "data": {
      "text/plain": [
       "['Water_Name',\n",
       " 'Water_Body',\n",
       " 'County',\n",
       " 'Countycode',\n",
       " 'ST_Provinc',\n",
       " 'Location',\n",
       " 'ID',\n",
       " 'lat',\n",
       " 'lon',\n",
       " 'CRB',\n",
       " 'Lat_ra',\n",
       " 'Long_ra',\n",
       " 'mean_ca_mg_2009',\n",
       " 'mean_pH_2009',\n",
       " 'roe_2009',\n",
       " 'roe_f_2009',\n",
       " 'ramcharan09',\n",
       " 'state_ass09',\n",
       " 'roi_1_2009',\n",
       " 'roi_2_2009',\n",
       " 'Roe_rank_2009',\n",
       " 'roi_3_2009',\n",
       " 'Roi_rank_2009',\n",
       " 'Rank_sumAll_2009',\n",
       " 'Rank_sum_2009',\n",
       " 'Trips2008',\n",
       " 'Trips2010',\n",
       " 'Mn_trips_08_10',\n",
       " 'DayUsedays08',\n",
       " 'DayUsedays10',\n",
       " 'Mn_dayuse_08_10',\n",
       " 'Size_Acres',\n",
       " 'No_boats_2012',\n",
       " 'No_Tourns_2012',\n",
       " 'No_Tourns_2006_08',\n",
       " 'No_boats_2006_08',\n",
       " 'Dayuse_100thm',\n",
       " 'No_ramps',\n",
       " 'CaMax_ISDA2011',\n",
       " 'ISDA2011_Rank',\n",
       " 'Elevation_ft',\n",
       " 'Motors',\n",
       " 'Fishing',\n",
       " 'Marinas',\n",
       " 'Cold',\n",
       " 'Warm',\n",
       " 'Reports',\n",
       " 'USERS',\n",
       " 'MT_Stream_Name',\n",
       " 'Length_Miles',\n",
       " 'Drainage',\n",
       " 'Region',\n",
       " 'Boat',\n",
       " 'Total_Pressure',\n",
       " 'TotPressure_Error',\n",
       " 'Total_Trips',\n",
       " 'Resident_Pressure',\n",
       " 'Res_Pressure_error',\n",
       " 'Res_Trips',\n",
       " 'Nonresident_Pressure',\n",
       " 'Nonres_Presssure_Error',\n",
       " 'NonRes_Trips',\n",
       " 'State_Rank',\n",
       " 'Regional_Rank']"
      ]
     },
     "execution_count": 4,
     "metadata": {},
     "output_type": "execute_result"
    }
   ],
   "source": [
    "list(zmusselstmp.columns.values)"
   ]
  },
  {
   "cell_type": "code",
   "execution_count": 5,
   "metadata": {},
   "outputs": [],
   "source": [
    "zmussels = pd.read_csv('../Datafiles/mussels/Boatramps_CRB.csv', encoding = 'latin-1', usecols = ['Water_Name', 'Water_Body', 'Drainage', 'ST_Provinc', 'CRB', 'No_ramps', 'mean_ca_mg_2009', 'Roi_rank_2009', 'Roe_rank_2009', 'roe_2009', 'ramcharan09', 'Total_Pressure', 'roi_3_2009', 'Rank_sum_2009', 'Rank_sumAll_2009', 'No_boats_2006_08'] )                 "
   ]
  },
  {
   "cell_type": "code",
   "execution_count": 6,
   "metadata": {
    "scrolled": true
   },
   "outputs": [
    {
     "data": {
      "text/plain": [
       "['Water_Name',\n",
       " 'Water_Body',\n",
       " 'ST_Provinc',\n",
       " 'CRB',\n",
       " 'mean_ca_mg_2009',\n",
       " 'roe_2009',\n",
       " 'ramcharan09',\n",
       " 'Roe_rank_2009',\n",
       " 'roi_3_2009',\n",
       " 'Roi_rank_2009',\n",
       " 'Rank_sumAll_2009',\n",
       " 'Rank_sum_2009',\n",
       " 'No_boats_2006_08',\n",
       " 'No_ramps',\n",
       " 'Drainage',\n",
       " 'Total_Pressure']"
      ]
     },
     "execution_count": 6,
     "metadata": {},
     "output_type": "execute_result"
    }
   ],
   "source": [
    "list(zmussels.columns.values)"
   ]
  },
  {
   "cell_type": "code",
   "execution_count": 7,
   "metadata": {},
   "outputs": [],
   "source": [
    "zmussels.rename(columns={\n",
    "    'Water_Name':'water_name',\n",
    "    'Water_Body':'water_body',\n",
    "    'ST_Provinc':'state_province',\n",
    "    'Rank_sumAll_2009':'rank_sumall_2009',\n",
    "    'Rank_sum_2009':'rank_sum_2009',\n",
    "    'Roe_rank_2009':'roe_rank_2009',\n",
    "    'Roi_rank_2009':'roi_rank_2009',\n",
    "    'No_ramps':'num_ramps',\n",
    "    'No_boats_2006_08':'num_trnmboats_2006_08',\n",
    "    'Drainage':'drainage',\n",
    "    'Total_Pressure':'total_pressure',\n",
    "    'CRB':'crb'\n",
    "    }, inplace=True)"
   ]
  },
  {
   "cell_type": "code",
   "execution_count": 8,
   "metadata": {},
   "outputs": [],
   "source": [
    "zmussels.mean_ca_mg_2009 = zmussels.mean_ca_mg_2009.replace('.','NaN')"
   ]
  },
  {
   "cell_type": "code",
   "execution_count": 9,
   "metadata": {},
   "outputs": [],
   "source": [
    "zmussels.mean_ca_mg_2009 = zmussels.mean_ca_mg_2009.astype('float')"
   ]
  },
  {
   "cell_type": "code",
   "execution_count": 10,
   "metadata": {},
   "outputs": [],
   "source": [
    "zmussels.roi_rank_2009 = zmussels.roi_rank_2009.replace('.','NaN')"
   ]
  },
  {
   "cell_type": "code",
   "execution_count": 11,
   "metadata": {},
   "outputs": [],
   "source": [
    "zmussels.roi_rank_2009 = zmussels.roi_rank_2009.astype('float')"
   ]
  },
  {
   "cell_type": "code",
   "execution_count": 12,
   "metadata": {},
   "outputs": [],
   "source": [
    "zmussels.roe_rank_2009 = zmussels.roe_rank_2009.replace('.','NaN')"
   ]
  },
  {
   "cell_type": "code",
   "execution_count": 13,
   "metadata": {},
   "outputs": [],
   "source": [
    "zmussels.roe_rank_2009 = zmussels.roe_rank_2009.astype('float')"
   ]
  },
  {
   "cell_type": "code",
   "execution_count": 14,
   "metadata": {},
   "outputs": [],
   "source": [
    "zmussels.rank_sum_2009 = zmussels.rank_sum_2009.replace('.','NaN')"
   ]
  },
  {
   "cell_type": "code",
   "execution_count": 15,
   "metadata": {},
   "outputs": [],
   "source": [
    "zmussels.rank_sum_2009 = zmussels.rank_sum_2009.astype('float')"
   ]
  },
  {
   "cell_type": "markdown",
   "metadata": {},
   "source": [
    "Choosing to replace '.' with zero ramps (as opposed to not known)"
   ]
  },
  {
   "cell_type": "code",
   "execution_count": 16,
   "metadata": {},
   "outputs": [],
   "source": [
    "zmussels.num_ramps = zmussels.num_ramps.replace('.','0')"
   ]
  },
  {
   "cell_type": "code",
   "execution_count": 17,
   "metadata": {},
   "outputs": [],
   "source": [
    "zmussels.num_ramps = zmussels.num_ramps.astype('int32')"
   ]
  },
  {
   "cell_type": "code",
   "execution_count": 18,
   "metadata": {},
   "outputs": [],
   "source": [
    "zmussels.num_trnmboats_2006_08 = zmussels.num_trnmboats_2006_08.replace('.','0')"
   ]
  },
  {
   "cell_type": "code",
   "execution_count": 19,
   "metadata": {},
   "outputs": [],
   "source": [
    "zmussels.num_trnmboats_2006_08 = zmussels.num_trnmboats_2006_08.astype('int32')"
   ]
  },
  {
   "cell_type": "code",
   "execution_count": 20,
   "metadata": {},
   "outputs": [
    {
     "data": {
      "text/plain": [
       "water_name                object\n",
       "water_body                object\n",
       "state_province            object\n",
       "crb                        int64\n",
       "mean_ca_mg_2009          float64\n",
       "roe_2009                  object\n",
       "ramcharan09               object\n",
       "roe_rank_2009            float64\n",
       "roi_3_2009                object\n",
       "roi_rank_2009            float64\n",
       "rank_sumall_2009          object\n",
       "rank_sum_2009            float64\n",
       "num_trnmboats_2006_08      int32\n",
       "num_ramps                  int32\n",
       "drainage                  object\n",
       "total_pressure            object\n",
       "dtype: object"
      ]
     },
     "execution_count": 20,
     "metadata": {},
     "output_type": "execute_result"
    }
   ],
   "source": [
    "zmussels.dtypes"
   ]
  },
  {
   "cell_type": "code",
   "execution_count": 21,
   "metadata": {
    "scrolled": true
   },
   "outputs": [],
   "source": [
    "zmussels = zmussels.loc[(~zmussels.state_province.isin(['BC', 'NV', 'WY']))&(zmussels.mean_ca_mg_2009.notnull())]"
   ]
  },
  {
   "cell_type": "code",
   "execution_count": 22,
   "metadata": {},
   "outputs": [],
   "source": [
    "zmusselsor = zmussels.loc[(zmussels.state_province=='OR')]"
   ]
  },
  {
   "cell_type": "code",
   "execution_count": 23,
   "metadata": {},
   "outputs": [],
   "source": [
    "#Make dataframe containing just the states of WA, ID. They are the only states providing data about number of boat ramps.\n",
    "zmwaid = zmussels.loc[(zmussels['state_province'].isin(['WA','ID']))]"
   ]
  },
  {
   "cell_type": "code",
   "execution_count": 24,
   "metadata": {},
   "outputs": [],
   "source": [
    "#Make dataframe containing just the state of ID. ID is the only state providing data about number of boats coming in for tournaments.\n",
    "zmusselsid = zmussels.loc[(zmussels['state_province']=='ID')]"
   ]
  },
  {
   "cell_type": "markdown",
   "metadata": {},
   "source": [
    "### Choose one variable and plot that variable four different ways."
   ]
  },
  {
   "cell_type": "code",
   "execution_count": 25,
   "metadata": {
    "scrolled": true
   },
   "outputs": [
    {
     "data": {
      "text/plain": [
       "Text(0.5,1,'Frequency Distribution of mean level of Calcium (mg/L) in Bodies of Water in Oregon')"
      ]
     },
     "execution_count": 25,
     "metadata": {},
     "output_type": "execute_result"
    },
    {
     "data": {
      "image/png": "[encoded data removed]",
      "text/plain": [
       "<Figure size 432x288 with 1 Axes>"
      ]
     },
     "metadata": {},
     "output_type": "display_data"
    }
   ],
   "source": [
    "#Dissolved calcium relates to the risk of zebra mussels becoming established in a water body\n",
    "plt.subplot(1, 2, 1)\n",
    "plt.ylim(0,110)\n",
    "sns.distplot(zmusselsor.mean_ca_mg_2009, kde=False)\n",
    "plt.xlabel('mean Ca (mg/L)')\n",
    "plt.ylabel('Frequency')\n",
    "plt.title('Frequency Distribution of mean level of Calcium (mg/L) in Bodies of Water in Oregon')\n"
   ]
  },
  {
   "cell_type": "code",
   "execution_count": 26,
   "metadata": {},
   "outputs": [
    {
     "data": {
      "text/plain": [
       "Text(0.5,1,'Frequency Distribution of mean level of Calcium (mg/L) in Bodies of Water in Oregon')"
      ]
     },
     "execution_count": 26,
     "metadata": {},
     "output_type": "execute_result"
    },
    {
     "data": {
      "image/png": "[encoded data removed]",
      "text/plain": [
       "<Figure size 432x288 with 1 Axes>"
      ]
     },
     "metadata": {},
     "output_type": "display_data"
    }
   ],
   "source": [
    "#density, rug, no hist\n",
    "sns.distplot(zmusselsor.mean_ca_mg_2009, hist=False, rug=True)\n",
    "plt.xlabel('mean Ca (mg/L)')\n",
    "plt.ylabel('Frequency')\n",
    "plt.title('Frequency Distribution of mean level of Calcium (mg/L) in Bodies of Water in Oregon')"
   ]
  },
  {
   "cell_type": "code",
   "execution_count": 27,
   "metadata": {},
   "outputs": [
    {
     "data": {
      "image/png": "[encoded data removed]",
      "text/plain": [
       "<Figure size 432x288 with 1 Axes>"
      ]
     },
     "metadata": {},
     "output_type": "display_data"
    }
   ],
   "source": [
    "sns.violinplot(x=\"state_province\", y=\"mean_ca_mg_2009\", data=zmussels, split = True, \n",
    "               inner=\"stick\", palette=\"Set3\")\n",
    "plt.xticks(rotation = 90);"
   ]
  },
  {
   "cell_type": "markdown",
   "metadata": {},
   "source": [
    "### Choose two continuous variables, and plot them three different ways."
   ]
  },
  {
   "cell_type": "markdown",
   "metadata": {},
   "source": [
    "scatterplot, heat map"
   ]
  },
  {
   "cell_type": "markdown",
   "metadata": {},
   "source": [
    "### Choose one continuous variable and one categorical variable, and plot them six different ways. Add box and whisker"
   ]
  },
  {
   "cell_type": "code",
   "execution_count": 28,
   "metadata": {},
   "outputs": [
    {
     "data": {
      "image/png": "[encoded data removed]",
      "text/plain": [
       "<Figure size 432x288 with 1 Axes>"
      ]
     },
     "metadata": {},
     "output_type": "display_data"
    }
   ],
   "source": [
    "#Risk of establishment and mean dissolved calcium\n",
    "sns.violinplot(x=\"roe_rank_2009\", y=\"mean_ca_mg_2009\", hue=\"state_province\", data=zmwaid, split = True, \n",
    "               inner=\"stick\", palette=\"Set3\")\n",
    "plt.xticks(rotation = 90);"
   ]
  },
  {
   "cell_type": "code",
   "execution_count": 29,
   "metadata": {
    "scrolled": true
   },
   "outputs": [
    {
     "data": {
      "image/png": "[encoded data removed]",
      "text/plain": [
       "<Figure size 432x288 with 1 Axes>"
      ]
     },
     "metadata": {},
     "output_type": "display_data"
    }
   ],
   "source": [
    "#The states of WA and ID provide data about the number of boat ramps\n",
    "sns.stripplot(x=\"roi_3_2009\", y=\"num_ramps\", hue=\"state_province\", data=zmwaid, jitter = True)\n",
    "plt.xticks(rotation=90);"
   ]
  },
  {
   "cell_type": "code",
   "execution_count": 30,
   "metadata": {},
   "outputs": [
    {
     "data": {
      "text/html": [
       "<div>\n",
       "<style scoped>\n",
       "    .dataframe tbody tr th:only-of-type {\n",
       "        vertical-align: middle;\n",
       "    }\n",
       "\n",
       "    .dataframe tbody tr th {\n",
       "        vertical-align: top;\n",
       "    }\n",
       "\n",
       "    .dataframe thead th {\n",
       "        text-align: right;\n",
       "    }\n",
       "</style>\n",
       "<table border=\"1\" class=\"dataframe\">\n",
       "  <thead>\n",
       "    <tr style=\"text-align: right;\">\n",
       "      <th></th>\n",
       "      <th>crb</th>\n",
       "      <th>mean_ca_mg_2009</th>\n",
       "      <th>roe_rank_2009</th>\n",
       "      <th>roi_rank_2009</th>\n",
       "      <th>rank_sum_2009</th>\n",
       "      <th>num_trnmboats_2006_08</th>\n",
       "      <th>num_ramps</th>\n",
       "    </tr>\n",
       "  </thead>\n",
       "  <tbody>\n",
       "    <tr>\n",
       "      <th>crb</th>\n",
       "      <td>NaN</td>\n",
       "      <td>NaN</td>\n",
       "      <td>NaN</td>\n",
       "      <td>NaN</td>\n",
       "      <td>NaN</td>\n",
       "      <td>NaN</td>\n",
       "      <td>NaN</td>\n",
       "    </tr>\n",
       "    <tr>\n",
       "      <th>mean_ca_mg_2009</th>\n",
       "      <td>NaN</td>\n",
       "      <td>1.000000</td>\n",
       "      <td>0.702670</td>\n",
       "      <td>0.054283</td>\n",
       "      <td>0.657716</td>\n",
       "      <td>0.021318</td>\n",
       "      <td>-0.037956</td>\n",
       "    </tr>\n",
       "    <tr>\n",
       "      <th>roe_rank_2009</th>\n",
       "      <td>NaN</td>\n",
       "      <td>0.702670</td>\n",
       "      <td>1.000000</td>\n",
       "      <td>0.142549</td>\n",
       "      <td>0.765541</td>\n",
       "      <td>0.003485</td>\n",
       "      <td>0.002383</td>\n",
       "    </tr>\n",
       "    <tr>\n",
       "      <th>roi_rank_2009</th>\n",
       "      <td>NaN</td>\n",
       "      <td>0.054283</td>\n",
       "      <td>0.142549</td>\n",
       "      <td>1.000000</td>\n",
       "      <td>0.796274</td>\n",
       "      <td>0.378594</td>\n",
       "      <td>0.185943</td>\n",
       "    </tr>\n",
       "    <tr>\n",
       "      <th>rank_sum_2009</th>\n",
       "      <td>NaN</td>\n",
       "      <td>0.657716</td>\n",
       "      <td>0.765541</td>\n",
       "      <td>0.796274</td>\n",
       "      <td>1.000000</td>\n",
       "      <td>0.188009</td>\n",
       "      <td>0.152591</td>\n",
       "    </tr>\n",
       "    <tr>\n",
       "      <th>num_trnmboats_2006_08</th>\n",
       "      <td>NaN</td>\n",
       "      <td>0.021318</td>\n",
       "      <td>0.003485</td>\n",
       "      <td>0.378594</td>\n",
       "      <td>0.188009</td>\n",
       "      <td>1.000000</td>\n",
       "      <td>0.054069</td>\n",
       "    </tr>\n",
       "    <tr>\n",
       "      <th>num_ramps</th>\n",
       "      <td>NaN</td>\n",
       "      <td>-0.037956</td>\n",
       "      <td>0.002383</td>\n",
       "      <td>0.185943</td>\n",
       "      <td>0.152591</td>\n",
       "      <td>0.054069</td>\n",
       "      <td>1.000000</td>\n",
       "    </tr>\n",
       "  </tbody>\n",
       "</table>\n",
       "</div>"
      ],
      "text/plain": [
       "                       crb  mean_ca_mg_2009  roe_rank_2009  roi_rank_2009  \\\n",
       "crb                    NaN              NaN            NaN            NaN   \n",
       "mean_ca_mg_2009        NaN         1.000000       0.702670       0.054283   \n",
       "roe_rank_2009          NaN         0.702670       1.000000       0.142549   \n",
       "roi_rank_2009          NaN         0.054283       0.142549       1.000000   \n",
       "rank_sum_2009          NaN         0.657716       0.765541       0.796274   \n",
       "num_trnmboats_2006_08  NaN         0.021318       0.003485       0.378594   \n",
       "num_ramps              NaN        -0.037956       0.002383       0.185943   \n",
       "\n",
       "                       rank_sum_2009  num_trnmboats_2006_08  num_ramps  \n",
       "crb                              NaN                    NaN        NaN  \n",
       "mean_ca_mg_2009             0.657716               0.021318  -0.037956  \n",
       "roe_rank_2009               0.765541               0.003485   0.002383  \n",
       "roi_rank_2009               0.796274               0.378594   0.185943  \n",
       "rank_sum_2009               1.000000               0.188009   0.152591  \n",
       "num_trnmboats_2006_08       0.188009               1.000000   0.054069  \n",
       "num_ramps                   0.152591               0.054069   1.000000  "
      ]
     },
     "execution_count": 30,
     "metadata": {},
     "output_type": "execute_result"
    }
   ],
   "source": [
    "zmwaid.corr()"
   ]
  },
  {
   "cell_type": "code",
   "execution_count": 31,
   "metadata": {},
   "outputs": [
    {
     "data": {
      "image/png": "[encoded data removed]",
      "text/plain": [
       "<Figure size 432x432 with 3 Axes>"
      ]
     },
     "metadata": {},
     "output_type": "display_data"
    }
   ],
   "source": [
    "sns.jointplot(x=\"roi_rank_2009\", y=\"num_ramps\", data=zmwaid);"
   ]
  },
  {
   "cell_type": "code",
   "execution_count": 32,
   "metadata": {},
   "outputs": [
    {
     "data": {
      "text/html": [
       "<div>\n",
       "<style scoped>\n",
       "    .dataframe tbody tr th:only-of-type {\n",
       "        vertical-align: middle;\n",
       "    }\n",
       "\n",
       "    .dataframe tbody tr th {\n",
       "        vertical-align: top;\n",
       "    }\n",
       "\n",
       "    .dataframe thead th {\n",
       "        text-align: right;\n",
       "    }\n",
       "</style>\n",
       "<table border=\"1\" class=\"dataframe\">\n",
       "  <thead>\n",
       "    <tr style=\"text-align: right;\">\n",
       "      <th></th>\n",
       "      <th>crb</th>\n",
       "      <th>mean_ca_mg_2009</th>\n",
       "      <th>roe_rank_2009</th>\n",
       "      <th>roi_rank_2009</th>\n",
       "      <th>rank_sum_2009</th>\n",
       "      <th>num_trnmboats_2006_08</th>\n",
       "      <th>num_ramps</th>\n",
       "    </tr>\n",
       "  </thead>\n",
       "  <tbody>\n",
       "    <tr>\n",
       "      <th>crb</th>\n",
       "      <td>NaN</td>\n",
       "      <td>NaN</td>\n",
       "      <td>NaN</td>\n",
       "      <td>NaN</td>\n",
       "      <td>NaN</td>\n",
       "      <td>NaN</td>\n",
       "      <td>NaN</td>\n",
       "    </tr>\n",
       "    <tr>\n",
       "      <th>mean_ca_mg_2009</th>\n",
       "      <td>NaN</td>\n",
       "      <td>1.000000</td>\n",
       "      <td>0.937818</td>\n",
       "      <td>0.053365</td>\n",
       "      <td>0.696832</td>\n",
       "      <td>0.036676</td>\n",
       "      <td>-0.117420</td>\n",
       "    </tr>\n",
       "    <tr>\n",
       "      <th>roe_rank_2009</th>\n",
       "      <td>NaN</td>\n",
       "      <td>0.937818</td>\n",
       "      <td>1.000000</td>\n",
       "      <td>-0.019419</td>\n",
       "      <td>0.750322</td>\n",
       "      <td>0.003052</td>\n",
       "      <td>-0.151087</td>\n",
       "    </tr>\n",
       "    <tr>\n",
       "      <th>roi_rank_2009</th>\n",
       "      <td>NaN</td>\n",
       "      <td>0.053365</td>\n",
       "      <td>-0.019419</td>\n",
       "      <td>1.000000</td>\n",
       "      <td>0.687159</td>\n",
       "      <td>0.720626</td>\n",
       "      <td>0.473969</td>\n",
       "    </tr>\n",
       "    <tr>\n",
       "      <th>rank_sum_2009</th>\n",
       "      <td>NaN</td>\n",
       "      <td>0.696832</td>\n",
       "      <td>0.750322</td>\n",
       "      <td>0.687159</td>\n",
       "      <td>1.000000</td>\n",
       "      <td>0.487129</td>\n",
       "      <td>-0.162324</td>\n",
       "    </tr>\n",
       "    <tr>\n",
       "      <th>num_trnmboats_2006_08</th>\n",
       "      <td>NaN</td>\n",
       "      <td>0.036676</td>\n",
       "      <td>0.003052</td>\n",
       "      <td>0.720626</td>\n",
       "      <td>0.487129</td>\n",
       "      <td>1.000000</td>\n",
       "      <td>0.327993</td>\n",
       "    </tr>\n",
       "    <tr>\n",
       "      <th>num_ramps</th>\n",
       "      <td>NaN</td>\n",
       "      <td>-0.117420</td>\n",
       "      <td>-0.151087</td>\n",
       "      <td>0.473969</td>\n",
       "      <td>-0.162324</td>\n",
       "      <td>0.327993</td>\n",
       "      <td>1.000000</td>\n",
       "    </tr>\n",
       "  </tbody>\n",
       "</table>\n",
       "</div>"
      ],
      "text/plain": [
       "                       crb  mean_ca_mg_2009  roe_rank_2009  roi_rank_2009  \\\n",
       "crb                    NaN              NaN            NaN            NaN   \n",
       "mean_ca_mg_2009        NaN         1.000000       0.937818       0.053365   \n",
       "roe_rank_2009          NaN         0.937818       1.000000      -0.019419   \n",
       "roi_rank_2009          NaN         0.053365      -0.019419       1.000000   \n",
       "rank_sum_2009          NaN         0.696832       0.750322       0.687159   \n",
       "num_trnmboats_2006_08  NaN         0.036676       0.003052       0.720626   \n",
       "num_ramps              NaN        -0.117420      -0.151087       0.473969   \n",
       "\n",
       "                       rank_sum_2009  num_trnmboats_2006_08  num_ramps  \n",
       "crb                              NaN                    NaN        NaN  \n",
       "mean_ca_mg_2009             0.696832               0.036676  -0.117420  \n",
       "roe_rank_2009               0.750322               0.003052  -0.151087  \n",
       "roi_rank_2009               0.687159               0.720626   0.473969  \n",
       "rank_sum_2009               1.000000               0.487129  -0.162324  \n",
       "num_trnmboats_2006_08       0.487129               1.000000   0.327993  \n",
       "num_ramps                  -0.162324               0.327993   1.000000  "
      ]
     },
     "execution_count": 32,
     "metadata": {},
     "output_type": "execute_result"
    }
   ],
   "source": [
    "zmusselsid.corr()"
   ]
  },
  {
   "cell_type": "code",
   "execution_count": 33,
   "metadata": {},
   "outputs": [
    {
     "data": {
      "image/png": "[encoded data removed]",
      "text/plain": [
       "<Figure size 432x432 with 3 Axes>"
      ]
     },
     "metadata": {},
     "output_type": "display_data"
    }
   ],
   "source": [
    "#Look at risk of introduction of zebra mussels and number of boats in fishing tournaments in 3 year prior (Idaho only\n",
    "sns.jointplot(x=\"roi_rank_2009\", y=\"num_trnmboats_2006_08\", data=zmusselsid);"
   ]
  },
  {
   "cell_type": "code",
   "execution_count": null,
   "metadata": {},
   "outputs": [],
   "source": []
  }
 ],
 "metadata": {
  "kernelspec": {
   "display_name": "Python 3",
   "language": "python",
   "name": "python3"
  },
  "language_info": {
   "codemirror_mode": {
    "name": "ipython",
    "version": 3
   },
   "file_extension": ".py",
   "mimetype": "text/x-python",
   "name": "python",
   "nbconvert_exporter": "python",
   "pygments_lexer": "ipython3",
   "version": "3.6.5"
  }
 },
 "nbformat": 4,
 "nbformat_minor": 2
}
